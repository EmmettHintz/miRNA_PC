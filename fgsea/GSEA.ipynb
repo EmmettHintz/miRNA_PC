{
 "cells": [
  {
   "cell_type": "code",
   "execution_count": 32,
   "metadata": {},
   "outputs": [],
   "source": [
    "import pandas as pd\n",
    "import gseapy as gp\n",
    "import matplotlib.pyplot as plt\n",
    "import os"
   ]
  },
  {
   "cell_type": "code",
   "execution_count": 33,
   "metadata": {},
   "outputs": [],
   "source": [
    "def map_mirnas_to_genes(mirnas, mir_tarbase):\n",
    "    target_genes = set()\n",
    "    for mirna in mirnas:\n",
    "        targets = mir_tarbase[mir_tarbase['miRNA'] == mirna]['Target Gene']\n",
    "        target_genes.update(targets)\n",
    "    return list(target_genes)"
   ]
  },
  {
   "cell_type": "code",
   "execution_count": 34,
   "metadata": {},
   "outputs": [],
   "source": [
    "def create_pathways_from_mir_tarbase(mir_tarbase):\n",
    "    pathways = {}\n",
    "    for index, row in mir_tarbase.iterrows():\n",
    "        gene = row['Target Gene']\n",
    "        mirna = row['miRNA'].upper()\n",
    "        if gene not in pathways:\n",
    "            pathways[gene] = []\n",
    "        pathways[gene].append(mirna)\n",
    "    return pathways\n"
   ]
  },
  {
   "cell_type": "code",
   "execution_count": 35,
   "metadata": {},
   "outputs": [],
   "source": [
    "def perform_gsea(data, pathways, output_dir):\n",
    "    # Create the output directory if it doesn't exist\n",
    "    os.makedirs(output_dir, exist_ok=True)\n",
    "\n",
    "    ranked_data = data.sort_values(by='Importance', ascending=False)\n",
    "    ranked_data['Feature'] = ranked_data['Feature'].str.upper()\n",
    "    ranked_data.to_csv('feature_importance.rnk', sep='\\t', index=False, header=False)\n",
    "\n",
    "    with open('mirna_pathways.gmt', 'w') as f:\n",
    "        for gene, mirnas in pathways.items():\n",
    "            f.write(f\"{gene}\\tna\\t\" + \"\\t\".join(mirnas) + \"\\n\")\n",
    "\n",
    "    pre_res = gp.prerank(rnk='feature_importance.rnk',\n",
    "                         gene_sets='mirna_pathways.gmt',\n",
    "                         outdir=output_dir,\n",
    "                         permutation_num=100,\n",
    "                         min_size=5,\n",
    "                         max_size=2000,\n",
    "                         seed=42)\n",
    "\n",
    "    for term in pre_res.res2d.index[:10]:\n",
    "        gp.plot.gseaplot(rank_metric=pre_res.ranking, term=term, **pre_res.results[term], ofname=f'{output_dir}/gseaplot_{term}.png')\n",
    "\n",
    "    return pre_res"
   ]
  },
  {
   "cell_type": "code",
   "execution_count": 36,
   "metadata": {},
   "outputs": [],
   "source": [
    "def perform_enrichr(data, mir_tarbase, output_dir):\n",
    "    mirnas = data['Feature'].str.upper().tolist()\n",
    "    gene_list = map_mirnas_to_genes(mirnas, mir_tarbase)\n",
    "    print(\"Gene list for Enrichr (first 10 genes):\")\n",
    "    print(gene_list[:10])\n",
    "    \n",
    "    try:\n",
    "        enrichr_res = gp.enrichr(\n",
    "            gene_list=gene_list,\n",
    "            gene_sets=[\n",
    "                'KEGG_2021_Human',\n",
    "                'GO_Biological_Process_2021',\n",
    "                'GO_Molecular_Function_2021',\n",
    "                'GO_Cellular_Component_2021',\n",
    "                'Reactome_2022',\n",
    "                'WikiPathways_2021_Human'\n",
    "            ],\n",
    "            outdir=output_dir,\n",
    "            organism='human',\n",
    "            cutoff=0.05\n",
    "        )\n",
    "        \n",
    "        print(\"Enrichr results (first 10 rows):\")\n",
    "        print(enrichr_res.res2d.head(10))\n",
    "\n",
    "    except Exception as e:\n",
    "        print(f\"Error performing Enrichr: {e}\")\n",
    "        if 'Warning: No enrich terms when cutoff' in str(e):\n",
    "            print(\"Try lowering the cutoff value or verify the gene list and gene sets.\")\n",
    "        \n",
    "    return enrichr_res"
   ]
  },
  {
   "cell_type": "code",
   "execution_count": 38,
   "metadata": {},
   "outputs": [
    {
     "name": "stdout",
     "output_type": "stream",
     "text": [
      "Sample pathways (first 5 genes):\n",
      "HIF1A: ['HSA-MIR-20A-5P', 'HSA-MIR-20A-5P', 'HSA-MIR-20A-5P', 'HSA-MIR-519C-3P', 'HSA-MIR-20B-5P', 'HSA-MIR-20B-5P', 'HSA-MIR-20B-5P', 'HSA-MIR-20B-5P', 'HSA-MIR-107', 'HSA-MIR-18A-5P', 'HSA-MIR-18A-5P', 'HSA-MIR-18A-5P', 'HSA-MIR-18A-5P', 'HSA-MIR-18A-5P', 'HSA-MIR-17-5P', 'HSA-MIR-17-5P', 'HSA-MIR-17-5P', 'HSA-MIR-424-5P', 'HSA-MIR-199A-5P', 'HSA-MIR-199A-5P', 'HSA-MIR-199A-5P', 'HSA-MIR-199A-5P', 'HSA-MIR-199A-5P', 'HSA-MIR-199A-5P', 'HSA-MIR-138-5P', 'HSA-MIR-138-5P', 'HSA-MIR-199B-5P', 'HSA-MIR-33A-5P', 'HSA-MIR-33A-5P', 'HSA-MIR-106B-3P', 'HSA-LET-7B-5P', 'HSA-MIR-210-3P', 'HSA-MIR-3121-3P', 'HSA-MIR-3668', 'HSA-MIR-6815-3P', 'HSA-MIR-589-3P', 'HSA-MIR-889-3P', 'HSA-MIR-935', 'HSA-MIR-1910-3P', 'HSA-MIR-3074-3P', 'HSA-MIR-5094', 'HSA-MIR-6511A-5P', 'HSA-MIR-6755-5P', 'HSA-MIR-6806-5P', 'HSA-MIR-93-5P', 'HSA-MIR-93-5P', 'HSA-MIR-93-5P', 'HSA-MIR-106A-5P', 'HSA-MIR-106B-5P', 'HSA-MIR-106B-5P', 'HSA-MIR-519D-3P', 'HSA-MIR-4282', 'HSA-MIR-8055', 'HSA-MIR-153-5P', 'HSA-MIR-153-5P', 'HSA-MIR-153-5P', 'HSA-MIR-18B-5P', 'HSA-MIR-18B-5P', 'HSA-MIR-18B-5P', 'HSA-MIR-3662', 'HSA-MIR-3662', 'HSA-MIR-4735-3P', 'HSA-MIR-4735-3P', 'HSA-MIR-576-3P', 'HSA-MIR-151A-3P', 'HSA-MIR-5681B', 'HSA-MIR-155-5P', 'HSA-MIR-5692A', 'HSA-MIR-5692A', 'HSA-MIR-22-3P', 'HSA-MIR-21-5P', 'HSA-MIR-5089-3P', 'HSA-MIR-5089-3P', 'HSA-MIR-4662A-5P', 'HSA-MIR-4662A-5P', 'HSA-MIR-1322', 'HSA-MIR-1322', 'HSA-MIR-509-5P', 'HSA-MIR-509-3-5P', 'HSA-MIR-4418', 'HSA-MIR-6807-3P', 'HSA-MIR-217', 'HSA-MIR-4799-5P', 'HSA-MIR-4463', 'HSA-MIR-4499', 'HSA-MIR-329-5P', 'HSA-MIR-4748', 'HSA-MIR-4464', 'HSA-MIR-449C-5P', 'HSA-MIR-34B-5P', 'HSA-MIR-2682-5P', 'HSA-MIR-940', 'HSA-MIR-6893-5P', 'HSA-MIR-6808-5P', 'HSA-MIR-106A-3P', 'HSA-MIR-299-5P', 'HSA-MIR-4470', 'HSA-MIR-4487', 'HSA-MIR-558', 'HSA-MIR-3160-3P', 'HSA-MIR-3128', 'HSA-MIR-625-3P', 'HSA-MIR-548AH-5P', 'HSA-MIR-3609', 'HSA-MIR-494-3P', 'HSA-MIR-142-5P', 'HSA-MIR-27A-3P', 'HSA-MIR-433-3P', 'HSA-MIR-429', 'HSA-MIR-338-3P', 'HSA-MIR-186-5P', 'HSA-MIR-138-1-3P', 'HSA-MIR-145-5P', 'HSA-MIR-200C-5P', 'HSA-MIR-497-3P', 'HSA-MIR-20A-5P', 'HSA-MIR-20A-5P', 'HSA-MIR-20A-5P', 'HSA-MIR-20A-5P', 'HSA-MIR-519C-3P', 'HSA-MIR-519C-3P', 'HSA-MIR-20B-5P', 'HSA-MIR-20B-5P', 'HSA-MIR-20B-5P', 'HSA-MIR-20B-5P', 'HSA-MIR-107', 'HSA-MIR-107', 'HSA-MIR-18A-5P', 'HSA-MIR-18A-5P', 'HSA-MIR-18A-5P', 'HSA-MIR-18A-5P', 'HSA-MIR-18A-5P', 'HSA-MIR-18A-5P', 'HSA-MIR-18A-5P', 'HSA-MIR-17-5P', 'HSA-MIR-17-5P', 'HSA-MIR-17-5P', 'HSA-MIR-17-5P', 'HSA-MIR-424-5P', 'HSA-MIR-199A-5P', 'HSA-MIR-199A-5P', 'HSA-MIR-199A-5P', 'HSA-MIR-199A-5P', 'HSA-MIR-199A-5P', 'HSA-MIR-199A-5P', 'HSA-MIR-138-5P', 'HSA-MIR-138-5P', 'HSA-MIR-138-5P', 'HSA-MIR-199B-5P', 'HSA-MIR-33A-5P', 'HSA-MIR-106B-3P', 'HSA-LET-7B-5P', 'HSA-MIR-210-3P', 'HSA-MIR-210-3P', 'HSA-MIR-210-3P', 'HSA-MIR-3121-3P', 'HSA-MIR-3668', 'HSA-MIR-6815-3P', 'HSA-MIR-589-3P', 'HSA-MIR-889-3P', 'HSA-MIR-935', 'HSA-MIR-1910-3P', 'HSA-MIR-3074-3P', 'HSA-MIR-5094', 'HSA-MIR-6511A-5P', 'HSA-MIR-6755-5P', 'HSA-MIR-6806-5P', 'HSA-MIR-93-5P', 'HSA-MIR-93-5P', 'HSA-MIR-106A-5P', 'HSA-MIR-106B-5P', 'HSA-MIR-106B-5P', 'HSA-MIR-519D-3P', 'HSA-MIR-4282', 'HSA-MIR-8055', 'HSA-MIR-153-5P', 'HSA-MIR-153-5P', 'HSA-MIR-153-5P', 'HSA-MIR-18B-5P', 'HSA-MIR-18B-5P', 'HSA-MIR-3662', 'HSA-MIR-3662', 'HSA-MIR-3662', 'HSA-MIR-3662', 'HSA-MIR-4735-3P', 'HSA-MIR-4735-3P', 'HSA-MIR-576-3P', 'HSA-MIR-151A-3P', 'HSA-MIR-5681B', 'HSA-MIR-155-5P', 'HSA-MIR-155-5P', 'HSA-MIR-5692A', 'HSA-MIR-5692A', 'HSA-MIR-22-3P', 'HSA-MIR-21-5P', 'HSA-MIR-5089-3P', 'HSA-MIR-5089-3P', 'HSA-MIR-4662A-5P', 'HSA-MIR-4662A-5P', 'HSA-MIR-1322', 'HSA-MIR-1322', 'HSA-MIR-509-5P', 'HSA-MIR-509-3-5P', 'HSA-MIR-4418', 'HSA-MIR-6807-3P', 'HSA-MIR-217', 'HSA-MIR-4799-5P', 'HSA-MIR-4463', 'HSA-MIR-4499', 'HSA-MIR-329-5P', 'HSA-MIR-4748', 'HSA-MIR-4464', 'HSA-MIR-449C-5P', 'HSA-MIR-34B-5P', 'HSA-MIR-2682-5P', 'HSA-MIR-940', 'HSA-MIR-6893-5P', 'HSA-MIR-6808-5P', 'HSA-MIR-106A-3P', 'HSA-MIR-299-5P', 'HSA-MIR-4470', 'HSA-MIR-4487', 'HSA-MIR-558', 'HSA-MIR-3160-3P', 'HSA-MIR-3128', 'HSA-MIR-625-3P', 'HSA-MIR-548AH-5P', 'HSA-MIR-3609', 'HSA-MIR-494-3P']\n",
      "CXCR4: ['HSA-MIR-146A-5P', 'HSA-MIR-146A-5P', 'HSA-MIR-146A-5P', 'HSA-MIR-224-5P', 'HSA-MIR-150-5P', 'HSA-MIR-26B-5P', 'HSA-MIR-139-5P', 'HSA-MIR-139-5P', 'HSA-MIR-126-3P', 'HSA-MIR-126-3P', 'HSA-MIR-126-3P', 'HSA-MIR-9-5P', 'HSA-MIR-9-5P', 'HSA-MIR-9-5P', 'HSA-MIR-133B', 'HSA-MIR-494-3P', 'HSA-MIR-622', 'HSA-MIR-622', 'HSA-MIR-9-3P', 'HSA-MIR-204-5P', 'HSA-MIR-663A', 'HSA-MIR-146A-3P', 'HSA-MIR-494-5P', 'HSA-MIR-335-5P', 'HSA-MIR-146A-5P', 'HSA-MIR-146A-5P', 'HSA-MIR-146A-5P', 'HSA-MIR-224-5P', 'HSA-MIR-150-5P', 'HSA-MIR-26B-5P', 'HSA-MIR-139-5P', 'HSA-MIR-139-5P', 'HSA-MIR-126-3P', 'HSA-MIR-126-3P', 'HSA-MIR-126-3P', 'HSA-MIR-9-5P', 'HSA-MIR-9-5P', 'HSA-MIR-9-5P', 'HSA-MIR-9-5P', 'HSA-MIR-133B', 'HSA-MIR-494-3P']\n",
      "CYP7A1: ['HSA-MIR-122-5P', 'HSA-MIR-422A', 'HSA-MIR-335-5P', 'HSA-MIR-92A-3P', 'HSA-MIR-122-5P', 'HSA-MIR-422A', 'HSA-MIR-335-5P', 'HSA-MIR-92A-3P']\n",
      "STAT5A: ['HSA-MIR-222-3P', 'HSA-MIR-222-3P', 'HSA-MIR-124-3P', 'HSA-MIR-223-3P', 'HSA-MIR-221-3P', 'HSA-MIR-5589-3P', 'HSA-MIR-5589-3P', 'HSA-MIR-5589-3P', 'HSA-MIR-1197', 'HSA-MIR-1197', 'HSA-MIR-1197', 'HSA-MIR-8485', 'HSA-MIR-8485', 'HSA-MIR-8485', 'HSA-MIR-4801', 'HSA-MIR-4801', 'HSA-MIR-4801', 'HSA-MIR-4731-3P', 'HSA-MIR-4731-3P', 'HSA-MIR-4731-3P', 'HSA-MIR-8080', 'HSA-MIR-8080', 'HSA-MIR-8080', 'HSA-MIR-6894-3P', 'HSA-MIR-6894-3P', 'HSA-MIR-527', 'HSA-MIR-518A-5P', 'HSA-MIR-4763-5P', 'HSA-MIR-4763-5P', 'HSA-MIR-6809-3P', 'HSA-MIR-6833-3P', 'HSA-MIR-4768-5P', 'HSA-MIR-6818-3P', 'HSA-MIR-6888-3P', 'HSA-MIR-4753-3P', 'HSA-MIR-6873-3P', 'HSA-MIR-593-3P', 'HSA-MIR-6895-3P', 'HSA-MIR-7114-3P', 'HSA-MIR-1180-5P', 'HSA-MIR-3120-5P', 'HSA-MIR-130B-5P', 'HSA-MIR-6817-3P', 'HSA-MIR-7110-3P', 'HSA-MIR-4639-3P', 'HSA-MIR-603', 'HSA-MIR-4457', 'HSA-MIR-4457', 'HSA-MIR-141-3P', 'HSA-MIR-296-3P', 'HSA-MIR-222-3P', 'HSA-MIR-222-3P', 'HSA-MIR-124-3P', 'HSA-MIR-223-3P', 'HSA-MIR-221-3P', 'HSA-MIR-5589-3P', 'HSA-MIR-5589-3P', 'HSA-MIR-5589-3P', 'HSA-MIR-1197', 'HSA-MIR-1197', 'HSA-MIR-1197', 'HSA-MIR-8485', 'HSA-MIR-8485', 'HSA-MIR-8485', 'HSA-MIR-4801', 'HSA-MIR-4801', 'HSA-MIR-4801', 'HSA-MIR-4731-3P', 'HSA-MIR-4731-3P', 'HSA-MIR-4731-3P', 'HSA-MIR-8080', 'HSA-MIR-8080', 'HSA-MIR-8080', 'HSA-MIR-6894-3P', 'HSA-MIR-6894-3P', 'HSA-MIR-527', 'HSA-MIR-518A-5P', 'HSA-MIR-4763-5P', 'HSA-MIR-4763-5P', 'HSA-MIR-6809-3P', 'HSA-MIR-6833-3P', 'HSA-MIR-4768-5P', 'HSA-MIR-6818-3P', 'HSA-MIR-6888-3P', 'HSA-MIR-4753-3P', 'HSA-MIR-6873-3P', 'HSA-MIR-593-3P', 'HSA-MIR-6895-3P', 'HSA-MIR-7114-3P', 'HSA-MIR-1180-5P', 'HSA-MIR-3120-5P', 'HSA-MIR-130B-5P', 'HSA-MIR-6817-3P', 'HSA-MIR-7110-3P', 'HSA-MIR-4639-3P', 'HSA-MIR-603', 'HSA-MIR-4457', 'HSA-MIR-4457']\n",
      "RASGRP1: ['HSA-MIR-21-5P', 'HSA-MIR-21-5P', 'HSA-MIR-21-5P', 'HSA-MIR-335-5P', 'HSA-MIR-125B-5P', 'HSA-MIR-4652-3P', 'HSA-MIR-4743-3P', 'HSA-MIR-3180-5P', 'HSA-MIR-525-5P', 'HSA-MIR-520A-5P', 'HSA-MIR-488-5P', 'HSA-MIR-599', 'HSA-MIR-3161', 'HSA-MIR-4679', 'HSA-MIR-4677-3P', 'HSA-MIR-29A-3P', 'HSA-MIR-4517', 'HSA-MIR-4524B-3P', 'HSA-MIR-4645-3P', 'HSA-MIR-5583-3P', 'HSA-MIR-21-5P', 'HSA-MIR-21-5P', 'HSA-MIR-21-5P', 'HSA-MIR-21-5P', 'HSA-MIR-335-5P', 'HSA-MIR-125B-5P', 'HSA-MIR-4652-3P', 'HSA-MIR-4743-3P', 'HSA-MIR-3180-5P', 'HSA-MIR-525-5P', 'HSA-MIR-520A-5P', 'HSA-MIR-488-5P', 'HSA-MIR-599', 'HSA-MIR-3161', 'HSA-MIR-4679', 'HSA-MIR-4677-3P']\n"
     ]
    }
   ],
   "source": [
    "\n",
    "# Define file paths\n",
    "s1_s2_path = '../GSEA/miRNA/50_s1_s2.csv'\n",
    "s2_s3_path = '../GSEA/miRNA/50_s2_s3.csv'\n",
    "s3_s4_path = '../GSEA/miRNA/50_s3_s4.csv'\n",
    "mti_data_path = './miRTarBase MTI.xlsx'  # Update with the correct path\n",
    "\n",
    "# Load miRTarBase data\n",
    "mir_tarbase = pd.read_excel(mti_data_path)  # Ensure this path is correct\n",
    "\n",
    "# Filter to include only human miRNAs and target genes\n",
    "mir_tarbase = mir_tarbase[mir_tarbase['Species (miRNA)'] == 'Homo sapiens']\n",
    "\n",
    "# Create pathways\n",
    "pathways = create_pathways_from_mir_tarbase(mir_tarbase)\n",
    "\n",
    "# Print a sample of the pathways\n",
    "print(\"Sample pathways (first 5 genes):\")\n",
    "for gene, mirnas in list(pathways.items())[:5]:\n",
    "    print(f\"{gene}: {mirnas}\")\n",
    "\n",
    "# Load the CSV files\n",
    "datasets = {\n",
    "    's1_s2': pd.read_csv(s1_s2_path),\n",
    "    's2_s3': pd.read_csv(s2_s3_path),\n",
    "    's3_s4': pd.read_csv(s3_s4_path)\n",
    "}"
   ]
  },
  {
   "cell_type": "code",
   "execution_count": null,
   "metadata": {},
   "outputs": [
    {
     "name": "stdout",
     "output_type": "stream",
     "text": [
      "Performing GSEA for s1_s2...\n",
      "Error plotting term 0: 0\n",
      "Error plotting term 1: 1\n",
      "Performing Enrichr for s1_s2...\n",
      "Gene list for Enrichr (first 10 genes):\n",
      "[]\n"
     ]
    },
    {
     "name": "stderr",
     "output_type": "stream",
     "text": [
      "2024-06-19 14:23:21,775 [WARNING] Input library not found: WikiPathways_2021_Human. Skip\n"
     ]
    },
    {
     "name": "stdout",
     "output_type": "stream",
     "text": [
      "Error performing Enrichr: Error sending gene list, try again later\n"
     ]
    },
    {
     "ename": "UnboundLocalError",
     "evalue": "local variable 'enrichr_res' referenced before assignment",
     "output_type": "error",
     "traceback": [
      "\u001b[0;31m---------------------------------------------------------------------------\u001b[0m",
      "\u001b[0;31mUnboundLocalError\u001b[0m                         Traceback (most recent call last)",
      "Cell \u001b[0;32mIn[9], line 6\u001b[0m\n\u001b[1;32m      3\u001b[0m perform_gsea(data, pathways, \u001b[38;5;124mf\u001b[39m\u001b[38;5;124m'\u001b[39m\u001b[38;5;124mGSEA_results/\u001b[39m\u001b[38;5;132;01m{\u001b[39;00mname\u001b[38;5;132;01m}\u001b[39;00m\u001b[38;5;124m'\u001b[39m)\n\u001b[1;32m      5\u001b[0m \u001b[38;5;28mprint\u001b[39m(\u001b[38;5;124mf\u001b[39m\u001b[38;5;124m\"\u001b[39m\u001b[38;5;124mPerforming Enrichr for \u001b[39m\u001b[38;5;132;01m{\u001b[39;00mname\u001b[38;5;132;01m}\u001b[39;00m\u001b[38;5;124m...\u001b[39m\u001b[38;5;124m\"\u001b[39m)\n\u001b[0;32m----> 6\u001b[0m \u001b[43mperform_enrichr\u001b[49m\u001b[43m(\u001b[49m\u001b[43mdata\u001b[49m\u001b[43m,\u001b[49m\u001b[43m \u001b[49m\u001b[43mmir_tarbase\u001b[49m\u001b[43m,\u001b[49m\u001b[43m \u001b[49m\u001b[38;5;124;43mf\u001b[39;49m\u001b[38;5;124;43m'\u001b[39;49m\u001b[38;5;124;43mEnrichr_results/\u001b[39;49m\u001b[38;5;132;43;01m{\u001b[39;49;00m\u001b[43mname\u001b[49m\u001b[38;5;132;43;01m}\u001b[39;49;00m\u001b[38;5;124;43m'\u001b[39;49m\u001b[43m)\u001b[49m\n",
      "Cell \u001b[0;32mIn[5], line 34\u001b[0m, in \u001b[0;36mperform_enrichr\u001b[0;34m(data, mir_tarbase, output_dir)\u001b[0m\n\u001b[1;32m     31\u001b[0m     \u001b[38;5;28;01mif\u001b[39;00m \u001b[38;5;124m'\u001b[39m\u001b[38;5;124mWarning: No enrich terms when cutoff\u001b[39m\u001b[38;5;124m'\u001b[39m \u001b[38;5;129;01min\u001b[39;00m \u001b[38;5;28mstr\u001b[39m(e):\n\u001b[1;32m     32\u001b[0m         \u001b[38;5;28mprint\u001b[39m(\u001b[38;5;124m\"\u001b[39m\u001b[38;5;124mTry lowering the cutoff value or verify the gene list and gene sets.\u001b[39m\u001b[38;5;124m\"\u001b[39m)\n\u001b[0;32m---> 34\u001b[0m \u001b[38;5;28;01mreturn\u001b[39;00m \u001b[43menrichr_res\u001b[49m\n",
      "\u001b[0;31mUnboundLocalError\u001b[0m: local variable 'enrichr_res' referenced before assignment"
     ]
    }
   ],
   "source": [
    "for name, data in datasets.items():\n",
    "    print(f\"Performing GSEA for {name}...\")\n",
    "    perform_gsea(data, pathways, f'GSEA_results/{name}')\n",
    "\n",
    "    print(f\"Performing Enrichr for {name}...\")\n",
    "    perform_enrichr(data, mir_tarbase, f'Enrichr_results/{name}')"
   ]
  }
 ],
 "metadata": {
  "kernelspec": {
   "display_name": "myenv",
   "language": "python",
   "name": "python3"
  },
  "language_info": {
   "codemirror_mode": {
    "name": "ipython",
    "version": 3
   },
   "file_extension": ".py",
   "mimetype": "text/x-python",
   "name": "python",
   "nbconvert_exporter": "python",
   "pygments_lexer": "ipython3",
   "version": "3.10.8"
  }
 },
 "nbformat": 4,
 "nbformat_minor": 2
}
