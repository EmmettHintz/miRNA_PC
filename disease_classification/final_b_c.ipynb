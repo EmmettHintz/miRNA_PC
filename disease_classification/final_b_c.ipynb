{
 "cells": [
  {
   "cell_type": "code",
   "execution_count": 107,
   "metadata": {},
   "outputs": [],
   "source": [
    "import pandas as pd\n",
    "import numpy as np\n",
    "import optuna\n",
    "import matplotlib.pyplot as plt\n",
    "import networkx as nx\n",
    "import itertools\n",
    "from sklearn.linear_model import LassoCV\n",
    "from sklearn.feature_selection import SelectKBest, f_classif, SelectFromModel\n",
    "from sklearn.model_selection import train_test_split, StratifiedKFold, cross_val_score\n",
    "from sklearn.metrics import confusion_matrix, accuracy_score, roc_auc_score, roc_curve\n",
    "from sklearn.ensemble import RandomForestClassifier\n",
    "from xgboost import XGBClassifier\n",
    "from sklearn.pipeline import Pipeline\n",
    "from sklearn.svm import SVC\n",
    "from sklearn.preprocessing import StandardScaler\n",
    "from imblearn.under_sampling import RandomUnderSampler\n",
    "from imblearn.over_sampling import RandomOverSampler\n",
    "import os\n",
    "import joblib"
   ]
  },
  {
   "cell_type": "code",
   "execution_count": 108,
   "metadata": {},
   "outputs": [
    {
     "name": "stdout",
     "output_type": "stream",
     "text": [
      "(230, 2570)\n"
     ]
    }
   ],
   "source": [
    "benign_samples = pd.read_csv('../data/benign/benign_prostate_samples.csv')\n",
    "print(benign_samples.shape)"
   ]
  },
  {
   "cell_type": "code",
   "execution_count": 109,
   "metadata": {},
   "outputs": [],
   "source": [
    "benign_samples.columns = benign_samples.columns.str.strip()"
   ]
  },
  {
   "cell_type": "code",
   "execution_count": 110,
   "metadata": {},
   "outputs": [
    {
     "name": "stdout",
     "output_type": "stream",
     "text": [
      "0      Stage: B\n",
      "1      Stage: B\n",
      "2      Stage: B\n",
      "3      Stage: B\n",
      "4      Stage: B\n",
      "         ...   \n",
      "225    Stage: B\n",
      "226    Stage: B\n",
      "227    Stage: B\n",
      "228    Stage: B\n",
      "229    Stage: B\n",
      "Name: Stage, Length: 230, dtype: object\n"
     ]
    }
   ],
   "source": [
    "benign_samples['Stage'] = benign_samples['Stage'].str.replace('Stage: NA', 'Stage: B')\n",
    "\n",
    "# Verify the replacements\n",
    "print(benign_samples['Stage'])"
   ]
  },
  {
   "cell_type": "code",
   "execution_count": 111,
   "metadata": {},
   "outputs": [
    {
     "data": {
      "text/plain": [
       "(1027, 2570)"
      ]
     },
     "execution_count": 111,
     "metadata": {},
     "output_type": "execute_result"
    }
   ],
   "source": [
    "cancer_samples = pd.read_csv('../data/cancer/prostate_cancer_samples.csv')\n",
    "cancer_samples.shape"
   ]
  },
  {
   "cell_type": "code",
   "execution_count": 112,
   "metadata": {},
   "outputs": [],
   "source": [
    "combined_dataset = pd.concat([benign_samples, cancer_samples], ignore_index=True)"
   ]
  },
  {
   "cell_type": "code",
   "execution_count": 113,
   "metadata": {},
   "outputs": [
    {
     "name": "stdout",
     "output_type": "stream",
     "text": [
      "Unique values in Stage column: ['Stage: B' 'Stage: 3' 'Stage: 2' 'Stage: NA' 'Stage: 4' 'Stage: 1']\n",
      "Class distribution in ID_REF column:\n",
      "ID_REF\n",
      "1    1027\n",
      "0     230\n",
      "Name: count, dtype: int64\n"
     ]
    }
   ],
   "source": [
    "# Verify and clean the Stage column\n",
    "print(\"Unique values in Stage column:\", combined_dataset['Stage'].unique())\n",
    "combined_dataset['Stage'] = combined_dataset['Stage'].str.strip()\n",
    "combined_dataset['ID_REF'] = np.where(combined_dataset['Stage'] == 'Stage: B', 0, 1)\n",
    "combined_dataset['ID_REF'] = np.where(combined_dataset['Stage'] != 'Stage: B', 1, combined_dataset['ID_REF'])\n",
    "\n",
    "# Print class distribution to ensure both classes are present\n",
    "print(\"Class distribution in ID_REF column:\")\n",
    "print(combined_dataset['ID_REF'].value_counts())\n"
   ]
  },
  {
   "cell_type": "code",
   "execution_count": 114,
   "metadata": {},
   "outputs": [],
   "source": [
    "def process_data(data, under_sample_factor=None, over_sample_factor=None):\n",
    "    columns_to_drop = ['Sample_ID', 'Sex', 'Age', 'Stage', 'Disease']\n",
    "    data = data.drop(columns=columns_to_drop, axis=1)\n",
    "    \n",
    "    # Ensure ID_REF is handled separately\n",
    "    id_ref = data[\"ID_REF\"]\n",
    "    data = data.drop([\"ID_REF\"], axis=1)\n",
    "    \n",
    "    # Convert all remaining columns to numeric, coercing errors to NaN\n",
    "    data = data.apply(pd.to_numeric, errors='coerce')\n",
    "    \n",
    "    # Handle NaN values, e.g., fill with the mean of each column\n",
    "    data = data.fillna(data.mean())\n",
    "    \n",
    "    # Combine ID_REF back to the DataFrame\n",
    "    data[\"ID_REF\"] = id_ref\n",
    "\n",
    "    # Convert to numpy arrays\n",
    "    x = np.array(data.drop([\"ID_REF\"], axis=1)).astype('float')\n",
    "    y = np.array(data[\"ID_REF\"]).astype('int')\n",
    "    feature_names = data.columns[:-1]\n",
    "\n",
    "    if under_sample_factor is not None and isinstance(under_sample_factor, float) and 0 < under_sample_factor <= 1:\n",
    "        under_sampler = RandomUnderSampler(sampling_strategy=under_sample_factor)\n",
    "        x, y = under_sampler.fit_resample(x, y)\n",
    "\n",
    "    if over_sample_factor is not None and isinstance(over_sample_factor, float) and 0 < over_sample_factor <= 1:\n",
    "        over_sampler = RandomOverSampler(sampling_strategy=over_sample_factor)\n",
    "        x, y = over_sampler.fit_resample(x, y)\n",
    "\n",
    "    x_train, x_test, y_train, y_test = train_test_split(x, y, test_size=0.2, random_state=0, stratify=y)\n",
    "\n",
    "    scaler = StandardScaler()\n",
    "    x_train = scaler.fit_transform(x_train)\n",
    "    x_test = scaler.transform(x_test)\n",
    "\n",
    "    return x_train, x_test, y_train, y_test, feature_names"
   ]
  },
  {
   "cell_type": "code",
   "execution_count": 115,
   "metadata": {},
   "outputs": [
    {
     "name": "stderr",
     "output_type": "stream",
     "text": [
      "/var/folders/c_/rs13jmts3nbf9xfm917mh9p80000gn/T/ipykernel_75651/2988405077.py:16: PerformanceWarning: DataFrame is highly fragmented.  This is usually the result of calling `frame.insert` many times, which has poor performance.  Consider joining all columns at once using pd.concat(axis=1) instead. To get a de-fragmented frame, use `newframe = frame.copy()`\n",
      "  data[\"ID_REF\"] = id_ref\n"
     ]
    }
   ],
   "source": [
    "# Define parameters\n",
    "feature_selection_num = 50\n",
    "feature_importance_num = 10\n",
    "\n",
    "num_benign_samples = combined_dataset['ID_REF'].value_counts()[0]\n",
    "num_cancer_samples = combined_dataset['ID_REF'].value_counts()[1]\n",
    "under_sample_factor = num_benign_samples / num_cancer_samples\n",
    "\n",
    "\n",
    "# Process data\n",
    "x_train, x_test, y_train, y_test, feature_names = process_data(combined_dataset, under_sample_factor=under_sample_factor, over_sample_factor=None)"
   ]
  },
  {
   "cell_type": "code",
   "execution_count": 116,
   "metadata": {},
   "outputs": [],
   "source": [
    "def svm_objective(trial):\n",
    "    k = feature_selection_num\n",
    "    \n",
    "    C = trial.suggest_float('C', 1e-3, 1e3, log=True)\n",
    "    kernel = 'linear'  # Use only linear kernel for feature extraction\n",
    "    \n",
    "    # Relaxed LassoCV with a wider range of smaller alphas\n",
    "    lasso = SelectFromModel(LassoCV(alphas=np.logspace(-6, -1, 50), cv=5, max_iter=10000, random_state=0))\n",
    "    \n",
    "    pipe = Pipeline([\n",
    "        ('skb', SelectKBest(f_classif, k=k)),\n",
    "        ('lasso', lasso),\n",
    "        ('estimator', SVC(C=C, kernel=kernel, random_state=0))\n",
    "    ])\n",
    "    \n",
    "    cv = StratifiedKFold(n_splits=5)\n",
    "    try:\n",
    "        scores = cross_val_score(pipe, x_train, y_train, cv=cv, scoring='accuracy')\n",
    "        return scores.mean()\n",
    "    except ValueError as e:\n",
    "        print(f\"ValueError: {e}\")\n",
    "        print(\"Selected features by SelectKBest:\", skb.get_support(indices=True))\n",
    "        if hasattr(lasso.estimator_, 'coef_'):\n",
    "            print(\"Lasso coefficients:\", lasso.estimator_.coef_)\n",
    "        return np.nan"
   ]
  },
  {
   "cell_type": "code",
   "execution_count": 117,
   "metadata": {},
   "outputs": [],
   "source": [
    "def rf_objective(trial):\n",
    "    k = feature_selection_num\n",
    "    \n",
    "    n_estimators = trial.suggest_int('n_estimators', 100, 1000)\n",
    "    max_depth = trial.suggest_int('max_depth', 2, 32)\n",
    "    max_features = trial.suggest_categorical('max_features', ['sqrt', 'log2'])\n",
    "    criterion = trial.suggest_categorical('criterion', ['gini', 'entropy'])\n",
    "    \n",
    "    lasso = SelectFromModel(LassoCV(alphas=np.logspace(-6, -1, 50), cv=5, max_iter=10000, random_state=0))\n",
    "    \n",
    "    pipe = Pipeline([\n",
    "        ('skb', SelectKBest(f_classif, k=k)),\n",
    "        ('lasso', lasso),\n",
    "        ('estimator', RandomForestClassifier(n_estimators=n_estimators, max_depth=max_depth, max_features=max_features, criterion=criterion, random_state=0))\n",
    "    ])\n",
    "    \n",
    "    cv = StratifiedKFold(n_splits=5)\n",
    "    scores = cross_val_score(pipe, x_train, y_train, cv=cv, scoring='accuracy')\n",
    "    return scores.mean()"
   ]
  },
  {
   "cell_type": "code",
   "execution_count": 118,
   "metadata": {},
   "outputs": [],
   "source": [
    "def xgboost_objective(trial):\n",
    "    k = feature_selection_num\n",
    "    \n",
    "    learning_rate = trial.suggest_float('learning_rate', 1e-3, 1.0, log=True)\n",
    "    max_depth = trial.suggest_int('max_depth', 2, 10)\n",
    "    n_estimators = trial.suggest_int('n_estimators', 100, 1000)\n",
    "    \n",
    "    lasso = SelectFromModel(LassoCV(alphas=np.logspace(-6, -1, 50), cv=5, max_iter=10000, random_state=0))\n",
    "    \n",
    "    pipe = Pipeline([\n",
    "        ('skb', SelectKBest(f_classif, k=k)),\n",
    "        ('lasso', lasso),\n",
    "        ('estimator', XGBClassifier(learning_rate=learning_rate, max_depth=max_depth, n_estimators=n_estimators, random_state=0, use_label_encoder=False, eval_metric='logloss'))\n",
    "    ])\n",
    "    \n",
    "    cv = StratifiedKFold(n_splits=5)\n",
    "    scores = cross_val_score(pipe, x_train, y_train, cv=cv, scoring='accuracy')\n",
    "    return scores.mean()"
   ]
  },
  {
   "cell_type": "code",
   "execution_count": 119,
   "metadata": {},
   "outputs": [],
   "source": [
    "# Function to save study\n",
    "def save_study(study, filename):\n",
    "    joblib.dump(study, filename)\n",
    "\n",
    "# Function to load study\n",
    "def load_study(filename):\n",
    "    return joblib.load(filename)"
   ]
  },
  {
   "cell_type": "code",
   "execution_count": 120,
   "metadata": {},
   "outputs": [],
   "source": [
    "# Optimize hyperparameters using Optuna\n",
    "svm_study_filename = '50_svm_study_b_c.pkl'\n",
    "rf_study_filename = '50_rf_study_b_c.pkl'\n",
    "xgboost_study_filename = '50_xgboost_study_b_c.pkl'"
   ]
  },
  {
   "cell_type": "code",
   "execution_count": 121,
   "metadata": {},
   "outputs": [],
   "source": [
    "# Optimize hyperparameters using Optuna with early stopping\n",
    "def optimize_with_early_stopping(objective, study_filename, n_trials=50, patience=10):\n",
    "    if os.path.exists(study_filename):\n",
    "        study = load_study(study_filename)\n",
    "        return study\n",
    "    else:\n",
    "        study = optuna.create_study(direction='maximize')\n",
    "    \n",
    "    best_value = -np.inf\n",
    "    trials_without_improvement = 0\n",
    "    \n",
    "    for trial in range(n_trials):\n",
    "        study.optimize(objective, n_trials=1)\n",
    "        \n",
    "        current_best_value = study.best_value\n",
    "        if current_best_value > best_value:\n",
    "            best_value = current_best_value\n",
    "            trials_without_improvement = 0\n",
    "        else:\n",
    "            trials_without_improvement += 1\n",
    "        \n",
    "        if trials_without_improvement >= patience:\n",
    "            print(f\"Early stopping at trial {trial + 1}\")\n",
    "            break\n",
    "        \n",
    "        save_study(study, study_filename)\n",
    "    \n",
    "    return study"
   ]
  },
  {
   "cell_type": "markdown",
   "metadata": {},
   "source": [
    "### Find Hyperparmeters if not trained already"
   ]
  },
  {
   "cell_type": "code",
   "execution_count": 122,
   "metadata": {},
   "outputs": [],
   "source": [
    "svm_study = optimize_with_early_stopping(svm_objective, svm_study_filename, n_trials=50, patience=10)"
   ]
  },
  {
   "cell_type": "code",
   "execution_count": 123,
   "metadata": {},
   "outputs": [],
   "source": [
    "rf_study = optimize_with_early_stopping(rf_objective, rf_study_filename, n_trials=100, patience=10)"
   ]
  },
  {
   "cell_type": "code",
   "execution_count": 124,
   "metadata": {},
   "outputs": [],
   "source": [
    "xgboost_study = optimize_with_early_stopping(xgboost_objective, xgboost_study_filename, n_trials=100, patience=10)"
   ]
  },
  {
   "cell_type": "markdown",
   "metadata": {},
   "source": [
    "### Print the best trial for each study\n",
    "\n",
    "For SVM, RF, and XGBoost"
   ]
  },
  {
   "cell_type": "code",
   "execution_count": 125,
   "metadata": {},
   "outputs": [
    {
     "name": "stdout",
     "output_type": "stream",
     "text": [
      "Best SVM trial:\n",
      "  Value:  1.0\n",
      "  Params: \n",
      "    C: 4.210989146339468\n"
     ]
    }
   ],
   "source": [
    "print(\"Best SVM trial:\")\n",
    "svm_trial = svm_study.best_trial\n",
    "print(\"  Value: \", svm_trial.value)\n",
    "print(\"  Params: \")\n",
    "for key, value in svm_trial.params.items():\n",
    "    print(f\"    {key}: {value}\")"
   ]
  },
  {
   "cell_type": "code",
   "execution_count": 126,
   "metadata": {},
   "outputs": [
    {
     "name": "stdout",
     "output_type": "stream",
     "text": [
      "Best Random Forest trial:\n",
      "  Value:  1.0\n",
      "  Params: \n",
      "    n_estimators: 711\n",
      "    max_depth: 7\n",
      "    max_features: log2\n",
      "    criterion: entropy\n"
     ]
    }
   ],
   "source": [
    "print(\"Best Random Forest trial:\")\n",
    "rf_trial = rf_study.best_trial\n",
    "print(\"  Value: \", rf_trial.value)\n",
    "print(\"  Params: \")\n",
    "for key, value in rf_trial.params.items():\n",
    "    print(f\"    {key}: {value}\")"
   ]
  },
  {
   "cell_type": "code",
   "execution_count": 127,
   "metadata": {},
   "outputs": [
    {
     "name": "stdout",
     "output_type": "stream",
     "text": [
      "Best XGBoost trial:\n",
      "  Value:  1.0\n",
      "  Params: \n",
      "    learning_rate: 0.02733122367800954\n",
      "    max_depth: 5\n",
      "    n_estimators: 890\n"
     ]
    }
   ],
   "source": [
    "print(\"Best XGBoost trial:\")\n",
    "xgboost_trial = xgboost_study.best_trial\n",
    "print(\"  Value: \", xgboost_trial.value)\n",
    "print(\"  Params: \")\n",
    "for key, value in xgboost_trial.params.items():\n",
    "    print(f\"    {key}: {value}\")"
   ]
  },
  {
   "cell_type": "markdown",
   "metadata": {},
   "source": [
    "## Train and evaluate the models with the best hyperparameters"
   ]
  },
  {
   "cell_type": "code",
   "execution_count": 128,
   "metadata": {},
   "outputs": [],
   "source": [
    "# Train and evaluate the models with the best hyperparameters\n",
    "def train_and_evaluate(pipe, x_train, y_train, x_test, y_test):\n",
    "    pipe.fit(x_train, y_train)\n",
    "    y_pred = pipe.predict(x_test)\n",
    "    print(f'Testing accuracy {accuracy_score(y_test, y_pred)}')\n",
    "    print(f'Confusion matrix: \\n{confusion_matrix(y_test, y_pred)}')"
   ]
  },
  {
   "cell_type": "markdown",
   "metadata": {},
   "source": [
    "### SVM"
   ]
  },
  {
   "cell_type": "code",
   "execution_count": 129,
   "metadata": {},
   "outputs": [
    {
     "name": "stdout",
     "output_type": "stream",
     "text": [
      "Testing accuracy 1.0\n",
      "Confusion matrix: \n",
      "[[ 46   0]\n",
      " [  0 206]]\n"
     ]
    }
   ],
   "source": [
    "best_svm_params = svm_trial.params\n",
    "svm_pipe = Pipeline([\n",
    "    ('skb', SelectKBest(f_classif, k=feature_selection_num)),\n",
    "    ('lasso', SelectFromModel(LassoCV(alphas=np.logspace(-6, -1, 50), cv=5, max_iter=10000, random_state=0))),\n",
    "    ('estimator', SVC(C=best_svm_params['C'], kernel='linear', random_state=0))  # Ensure linear kernel\n",
    "])\n",
    "train_and_evaluate(svm_pipe, x_train, y_train, x_test, y_test)"
   ]
  },
  {
   "cell_type": "code",
   "execution_count": 130,
   "metadata": {},
   "outputs": [],
   "source": [
    "# svm_accuracies = []\n",
    "\n",
    "# # Loop through the number of features from 1 to 150\n",
    "# for k in range(1, 121):\n",
    "#     best_svm_params = svm_trial.params\n",
    "#     svm_pipe = Pipeline([\n",
    "#         ('skb', SelectKBest(f_classif, k=k)),\n",
    "#         ('lasso', SelectFromModel(LassoCV(cv=5, random_state=0))),\n",
    "#         ('estimator', SVC(C=best_svm_params['C'], kernel=best_svm_params['kernel'], random_state=0))\n",
    "#     ])\n",
    "    \n",
    "#     # Train and evaluate the pipeline\n",
    "#     svm_pipe.fit(x_train, y_train)\n",
    "#     y_pred = svm_pipe.predict(x_test)\n",
    "#     accuracy = accuracy_score(y_test, y_pred)\n",
    "#     svm_accuracies.append(accuracy)\n",
    "#     print(f'Number of features: {k}, Accuracy: {accuracy}')\n",
    "\n",
    "# # Plot the number of features vs accuracy\n",
    "# plt.figure(figsize=(10, 6))\n",
    "# plt.plot(range(1, 121), svm_accuracies, marker='o')\n",
    "# plt.title('Accuracy vs Number of Features (SVM)')\n",
    "# plt.xlabel('Number of Features')\n",
    "# plt.ylabel('Accuracy')\n",
    "# plt.grid(True)\n",
    "# plt.show()"
   ]
  },
  {
   "cell_type": "markdown",
   "metadata": {},
   "source": [
    "### Random Forest"
   ]
  },
  {
   "cell_type": "code",
   "execution_count": 131,
   "metadata": {},
   "outputs": [
    {
     "name": "stdout",
     "output_type": "stream",
     "text": [
      "Testing accuracy 1.0\n",
      "Confusion matrix: \n",
      "[[ 46   0]\n",
      " [  0 206]]\n"
     ]
    }
   ],
   "source": [
    "best_rf_params = rf_trial.params\n",
    "rf_pipe = Pipeline([\n",
    "    ('skb', SelectKBest(f_classif, k=feature_selection_num)),\n",
    "    ('lasso', SelectFromModel(LassoCV(alphas=np.logspace(-6, -1, 50), cv=5, max_iter=10000, random_state=0))),\n",
    "    ('estimator', RandomForestClassifier(n_estimators=best_rf_params['n_estimators'],\n",
    "                                         max_depth=best_rf_params['max_depth'],\n",
    "                                         max_features=best_rf_params['max_features'],\n",
    "                                         criterion=best_rf_params['criterion'],\n",
    "                                         random_state=0))\n",
    "])\n",
    "train_and_evaluate(rf_pipe, x_train, y_train, x_test, y_test)"
   ]
  },
  {
   "cell_type": "code",
   "execution_count": 132,
   "metadata": {},
   "outputs": [],
   "source": [
    "# rf_accuracies = []\n",
    "\n",
    "# # Loop through the number of features from 1 to 200\n",
    "# for k in range(1, 121):\n",
    "#     best_rf_params = rf_trial.params\n",
    "#     rf_pipe = Pipeline([\n",
    "#         ('skb', SelectKBest(f_classif, k=k)),\n",
    "#         ('lasso', SelectFromModel(LassoCV(cv=5, random_state=0))),\n",
    "#         ('estimator', RandomForestClassifier(n_estimators=best_rf_params['n_estimators'],\n",
    "#                                              max_depth=best_rf_params['max_depth'],\n",
    "#                                              max_features=best_rf_params['max_features'],\n",
    "#                                              criterion=best_rf_params['criterion'],\n",
    "#                                              random_state=0))\n",
    "#     ])\n",
    "    \n",
    "#     # Train and evaluate the pipeline\n",
    "#     rf_pipe.fit(x_train, y_train)\n",
    "#     y_pred = rf_pipe.predict(x_test)\n",
    "#     rf_accuracy = accuracy_score(y_test, y_pred)\n",
    "#     rf_accuracies.append(rf_accuracy)\n",
    "#     print(f'Number of features: {k}, Accuracy: {rf_accuracy}')\n",
    "\n",
    "# # Plot the number of features vs rf_accuracy\n",
    "# plt.figure(figsize=(10, 6))\n",
    "# plt.plot(range(1, 121), rf_accuracies, marker='o')\n",
    "# plt.title('Accuracy vs Number of Features')\n",
    "# plt.xlabel('Number of Features')\n",
    "# plt.ylabel('Accuracy')\n",
    "# plt.grid(True)\n",
    "# plt.show()"
   ]
  },
  {
   "cell_type": "markdown",
   "metadata": {},
   "source": [
    "### XGBoost"
   ]
  },
  {
   "cell_type": "code",
   "execution_count": 133,
   "metadata": {},
   "outputs": [
    {
     "name": "stdout",
     "output_type": "stream",
     "text": [
      "Testing accuracy 1.0\n",
      "Confusion matrix: \n",
      "[[ 46   0]\n",
      " [  0 206]]\n"
     ]
    }
   ],
   "source": [
    "best_xgboost_params = xgboost_trial.params\n",
    "xgboost_pipe = Pipeline([\n",
    "    ('skb', SelectKBest(f_classif, k=feature_selection_num)),\n",
    "    ('lasso', SelectFromModel(LassoCV(cv=5, random_state=0))),\n",
    "    ('estimator', XGBClassifier(learning_rate=best_xgboost_params['learning_rate'],\n",
    "                                max_depth=best_xgboost_params['max_depth'],\n",
    "                                n_estimators=best_xgboost_params['n_estimators'],\n",
    "                                random_state=0,\n",
    "                                use_label_encoder=False,\n",
    "                                eval_metric='logloss'))\n",
    "])\n",
    "train_and_evaluate(xgboost_pipe, x_train, y_train, x_test, y_test)"
   ]
  },
  {
   "cell_type": "code",
   "execution_count": 134,
   "metadata": {},
   "outputs": [],
   "source": [
    "# xgboost_accuracies = []\n",
    "\n",
    "# # Loop through the number of features from 1 to 150\n",
    "# for k in range(1, 121):\n",
    "#     best_xgboost_params = xgboost_trial.params\n",
    "#     xgboost_pipe = Pipeline([\n",
    "#         ('skb', SelectKBest(f_classif, k=k)),\n",
    "#         ('lasso', SelectFromModel(LassoCV(cv=5, random_state=0))),\n",
    "#         ('estimator', XGBClassifier(learning_rate=best_xgboost_params['learning_rate'],\n",
    "#                                     max_depth=best_xgboost_params['max_depth'],\n",
    "#                                     n_estimators=best_xgboost_params['n_estimators'],\n",
    "#                                     random_state=0,\n",
    "#                                     use_label_encoder=False,\n",
    "#                                     eval_metric='logloss'))\n",
    "#     ])\n",
    "\n",
    "#     # Train and evaluate the pipeline\n",
    "#     xgboost_pipe.fit(x_train, y_train)\n",
    "#     y_pred = xgboost_pipe.predict(x_test)\n",
    "#     xgboost_accuracy = accuracy_score(y_test, y_pred)\n",
    "#     xgboost_accuracies.append(xgboost_accuracy)\n",
    "#     print(f'Number of features: {k}, Accuracy: {xgboost_accuracy}') \n",
    "\n",
    "# # Plot the number of features vs xgboost_accuracy\n",
    "# plt.figure(figsize=(10, 6))\n",
    "# plt.plot(range(1, 121), xgboost_accuracies, marker='o')\n",
    "# plt.title('Accuracy vs Number of Features (XGBoost)')\n",
    "# plt.xlabel('Number of Features')\n",
    "# plt.ylabel('Accuracy')\n",
    "# plt.grid(True)\n",
    "# plt.show()"
   ]
  },
  {
   "cell_type": "code",
   "execution_count": 135,
   "metadata": {},
   "outputs": [],
   "source": [
    "def get_top_features(pipe, feature_names, top_feature_num):\n",
    "    if isinstance(pipe.named_steps['estimator'], SVC):\n",
    "        if pipe.named_steps['estimator'].kernel != 'linear':\n",
    "            raise ValueError(\"Feature importance is not available for non-linear SVM kernels.\")\n",
    "        feature_scores = pipe.named_steps['estimator'].coef_[0]\n",
    "    elif isinstance(pipe.named_steps['estimator'], XGBClassifier):\n",
    "        feature_scores = pipe.named_steps['estimator'].feature_importances_\n",
    "    else:\n",
    "        raise ValueError(\"Unsupported estimator type for feature extraction.\")\n",
    "    \n",
    "    # Get selected features from SelectKBest\n",
    "    skb_support = pipe.named_steps['skb'].get_support(indices=True)\n",
    "    print(\"Selected features from SelectKBest:\", skb_support)\n",
    "    \n",
    "    # Transform the features using SelectKBest\n",
    "    skb_features = pipe.named_steps['skb'].transform(x_train)\n",
    "    \n",
    "    # Get selected features from LassoCV\n",
    "    lasso = LassoCV(alphas=np.logspace(-6, -1, 50), cv=5, max_iter=10000, random_state=0)\n",
    "    lasso.fit(skb_features, y_train)\n",
    "    lasso_support = np.where(lasso.coef_ != 0)[0]\n",
    "    print(\"Selected features from LassoCV:\", lasso_support)\n",
    "    \n",
    "    if len(lasso_support) == 0:\n",
    "        print(\"No features selected after LassoCV.\")\n",
    "        return []\n",
    "    \n",
    "    # Ensure indices match feature_scores\n",
    "    top_indices = np.argsort(np.abs(lasso.coef_[lasso_support]))[::-1][:top_feature_num]\n",
    "    top_features = [(feature_names[skb_support[i]], lasso.coef_[lasso_support[i]]) for i in top_indices]\n",
    "    \n",
    "    return top_features"
   ]
  },
  {
   "cell_type": "code",
   "execution_count": 136,
   "metadata": {},
   "outputs": [
    {
     "name": "stdout",
     "output_type": "stream",
     "text": [
      "Selected features from SelectKBest: [  40   69  108  110  220  221  231  248  262  290  331  332  532  571\n",
      "  608  639  654  778  792  869  881  943  989  990 1006 1056 1090 1095\n",
      " 1151 1189 1263 1269 1283 1385 1576 1667 1726 1746 1813 1925 1935 2027\n",
      " 2087 2095 2190 2241 2273 2302 2381 2467]\n",
      "Selected features from LassoCV: [ 0  1  2  3  4  5  6  7  8 10 11 12 13 14 16 18 19 20 21 23 24 25 26 27\n",
      " 28 29 30 31 32 33 34 35 36 37 38 39 40 41 43 44 45 46 47 48 49]\n",
      "Top SVM features: [('hsa-miR-5100', 0.21691006133527996), ('hsa-miR-320c', -0.061520555139645626), ('hsa-miR-342-5p', -0.03529717328467705), ('hsa-miR-6805-3p', -0.03370388656782883), ('hsa-miR-944', -0.03228520740317811), ('hsa-miR-4443', -0.030344076323483002), ('hsa-miR-6819-5p', -0.02391214078214423), ('hsa-miR-4440', -0.021650335048281975), ('hsa-miR-3652', 0.021123218460333236), ('hsa-miR-17-3p', 0.02016492615923579)]\n",
      "Selected features from SelectKBest: [  40   69  108  110  220  221  231  248  262  290  331  332  532  571\n",
      "  608  639  654  778  792  869  881  943  989  990 1006 1056 1090 1095\n",
      " 1151 1189 1263 1269 1283 1385 1576 1667 1726 1746 1813 1925 1935 2027\n",
      " 2087 2095 2190 2241 2273 2302 2381 2467]\n",
      "Selected features from LassoCV: [ 0  1  2  3  4  5  6  7  8 10 11 12 13 14 16 18 19 20 21 23 24 25 26 27\n",
      " 28 29 30 31 32 33 34 35 36 37 38 39 40 41 43 44 45 46 47 48 49]\n",
      "Top XGBoost features: [('hsa-miR-5100', 0.21691006133527996), ('hsa-miR-320c', -0.061520555139645626), ('hsa-miR-342-5p', -0.03529717328467705), ('hsa-miR-6805-3p', -0.03370388656782883), ('hsa-miR-944', -0.03228520740317811), ('hsa-miR-4443', -0.030344076323483002), ('hsa-miR-6819-5p', -0.02391214078214423), ('hsa-miR-4440', -0.021650335048281975), ('hsa-miR-3652', 0.021123218460333236), ('hsa-miR-17-3p', 0.02016492615923579)]\n"
     ]
    }
   ],
   "source": [
    "try:\n",
    "    svm_top_features = get_top_features(svm_pipe, feature_names, feature_importance_num)\n",
    "    print(\"Top SVM features:\", svm_top_features)\n",
    "except ValueError as e:\n",
    "    print(\"SVM feature extraction error:\", e)\n",
    "\n",
    "xgboost_top_features = get_top_features(xgboost_pipe, feature_names, feature_importance_num)\n",
    "print(\"Top XGBoost features:\", xgboost_top_features)"
   ]
  },
  {
   "cell_type": "code",
   "execution_count": 137,
   "metadata": {},
   "outputs": [],
   "source": [
    "def normalize_importance(importance_scores):\n",
    "    max_score = max(importance_scores, key=lambda x: abs(x[1]))[1]\n",
    "    min_score = min(importance_scores, key=lambda x: abs(x[1]))[1]\n",
    "    normalized_scores = [(feature, (score - min_score) / (max_score - min_score)) for feature, score in importance_scores]\n",
    "    return normalized_scores"
   ]
  },
  {
   "cell_type": "code",
   "execution_count": 138,
   "metadata": {},
   "outputs": [
    {
     "name": "stdout",
     "output_type": "stream",
     "text": [
      "Compiled normalized top features: [('SVM_hsa-miR-5100', 1.0), ('SVM_hsa-miR-320c', -0.41518424954086236), ('SVM_hsa-miR-342-5p', -0.28189819989341186), ('SVM_hsa-miR-6805-3p', -0.27379997314222654), ('SVM_hsa-miR-944', -0.2665892273040572), ('SVM_hsa-miR-4443', -0.25672300581930124), ('SVM_hsa-miR-6819-5p', -0.22403129257524268), ('SVM_hsa-miR-4440', -0.2125351723187574), ('SVM_hsa-miR-3652', 0.0048707293333580095), ('SVM_hsa-miR-17-3p', 0.0), ('XGB_hsa-miR-5100', 1.0), ('XGB_hsa-miR-320c', -0.41518424954086236), ('XGB_hsa-miR-342-5p', -0.28189819989341186), ('XGB_hsa-miR-6805-3p', -0.27379997314222654), ('XGB_hsa-miR-944', -0.2665892273040572), ('XGB_hsa-miR-4443', -0.25672300581930124), ('XGB_hsa-miR-6819-5p', -0.22403129257524268), ('XGB_hsa-miR-4440', -0.2125351723187574), ('XGB_hsa-miR-3652', 0.0048707293333580095), ('XGB_hsa-miR-17-3p', 0.0)]\n"
     ]
    }
   ],
   "source": [
    "# Normalize the top features for SVM and XGBoost\n",
    "normalized_svm_features = normalize_importance(svm_top_features)\n",
    "normalized_xgboost_features = normalize_importance(xgboost_top_features)\n",
    "\n",
    "# Compile normalized top features\n",
    "def compile_normalized_top_features(normalized_svm_features, normalized_xgboost_features):\n",
    "    top_features = []\n",
    "    for feature, score in normalized_svm_features:\n",
    "        top_features.append((f'SVM_{feature}', score))\n",
    "    for feature, score in normalized_xgboost_features:\n",
    "        top_features.append((f'XGB_{feature}', score))\n",
    "    return top_features\n",
    "\n",
    "normalized_top_features = compile_normalized_top_features(normalized_svm_features, normalized_xgboost_features)\n",
    "print(\"Compiled normalized top features:\", normalized_top_features)"
   ]
  },
  {
   "cell_type": "code",
   "execution_count": 139,
   "metadata": {},
   "outputs": [
    {
     "name": "stdout",
     "output_type": "stream",
     "text": [
      "Compiled normalized top features saved to '../GSEA/miRNA/s1_s2_miRNA.csv'\n"
     ]
    }
   ],
   "source": [
    "normalized_top_features_df = pd.DataFrame(normalized_top_features, columns=['Feature', 'Normalized Importance'])\n",
    "normalized_top_features_df.to_csv('../GSEA/miRNA/s1_s2_miRNA.csv', index=False)\n",
    "print(\"Compiled normalized top features saved to '../GSEA/miRNA/s1_s2_miRNA.csv'\")"
   ]
  },
  {
   "cell_type": "code",
   "execution_count": 140,
   "metadata": {},
   "outputs": [],
   "source": [
    "def get_all_selected_features(pipe, feature_names, classifier_name):\n",
    "    if isinstance(pipe.named_steps['estimator'], SVC):\n",
    "        if pipe.named_steps['estimator'].kernel != 'linear':\n",
    "            raise ValueError(\"Feature importance is not available for non-linear SVM kernels.\")\n",
    "        feature_scores = pipe.named_steps['estimator'].coef_[0]\n",
    "    elif isinstance(pipe.named_steps['estimator'], XGBClassifier):\n",
    "        feature_scores = pipe.named_steps['estimator'].feature_importances_\n",
    "    else:\n",
    "        raise ValueError(\"Unsupported estimator type for feature extraction.\")\n",
    "    \n",
    "    # Get selected features from SelectKBest\n",
    "    skb_support = pipe.named_steps['skb'].get_support(indices=True)\n",
    "    print(\"Selected features from SelectKBest:\", skb_support)\n",
    "    \n",
    "    # Transform the features using SelectKBest\n",
    "    skb_features = pipe.named_steps['skb'].transform(x_train)\n",
    "    \n",
    "    # Get selected features from LassoCV\n",
    "    lasso = LassoCV(alphas=np.logspace(-6, -1, 50), cv=5, max_iter=10000, random_state=0)\n",
    "    lasso.fit(skb_features, y_train)\n",
    "    lasso_support = np.where(lasso.coef_ != 0)[0]\n",
    "    print(\"Selected features from LassoCV:\", lasso_support)\n",
    "    \n",
    "    # Map the selected LassoCV features back to the original feature names\n",
    "    lasso_support_mapped = skb_support[lasso_support]\n",
    "    \n",
    "    # Ensure the index does not go out of bounds\n",
    "    all_features = [(feature_names[i], feature_scores[j], classifier_name) for j, i in enumerate(lasso_support_mapped) if j < len(feature_scores)]\n",
    "    \n",
    "    return all_features"
   ]
  },
  {
   "cell_type": "code",
   "execution_count": 141,
   "metadata": {},
   "outputs": [
    {
     "name": "stdout",
     "output_type": "stream",
     "text": [
      "Selected features from SelectKBest: [  40   69  108  110  220  221  231  248  262  290  331  332  532  571\n",
      "  608  639  654  778  792  869  881  943  989  990 1006 1056 1090 1095\n",
      " 1151 1189 1263 1269 1283 1385 1576 1667 1726 1746 1813 1925 1935 2027\n",
      " 2087 2095 2190 2241 2273 2302 2381 2467]\n",
      "Selected features from LassoCV: [ 0  1  2  3  4  5  6  7  8 10 11 12 13 14 16 18 19 20 21 23 24 25 26 27\n",
      " 28 29 30 31 32 33 34 35 36 37 38 39 40 41 43 44 45 46 47 48 49]\n",
      "All SVM features: [('hsa-miR-4483', 0.008676561057459009, 'SVM'), ('hsa-miR-6805-3p', -0.13114795070845991, 'SVM'), ('hsa-miR-342-5p', -0.0037671009049214605, 'SVM'), ('hsa-miR-3652', 0.04487280038792643, 'SVM'), ('hsa-miR-5572', 0.0028222652271496225, 'SVM'), ('hsa-miR-5100', 0.2964420187517742, 'SVM'), ('hsa-miR-504-3p', 0.0329278035180595, 'SVM'), ('hsa-miR-17-3p', 0.1515080172829713, 'SVM'), ('hsa-miR-320d', 0.015550552528532317, 'SVM'), ('hsa-miR-1290', 0.17714983784010074, 'SVM'), ('hsa-miR-1202', -0.03486644630591985, 'SVM'), ('hsa-miR-4769-5p', -0.001941432731745309, 'SVM'), ('hsa-miR-185-3p', 0.0008221534097684858, 'SVM'), ('hsa-miR-4754', 0.06336579395843893, 'SVM'), ('hsa-miR-941', -0.02471510489899918, 'SVM'), ('hsa-miR-6741-5p', 0.03341763389516059, 'SVM'), ('hsa-miR-6780a-5p', 0.07018770887153197, 'SVM'), ('hsa-miR-7110-5p', 0.07721334283530591, 'SVM'), ('hsa-miR-4440', 0.04443133520328074, 'SVM'), ('hsa-miR-320b', -0.025284995712885387, 'SVM'), ('hsa-miR-4443', 0.015894022655603468, 'SVM'), ('hsa-miR-516a-5p', -0.12783049910180252, 'SVM'), ('hsa-miR-4456', -0.3088334817976616, 'SVM'), ('hsa-miR-495-5p', 0.09007500005851851, 'SVM'), ('hsa-miR-1224-5p', -0.19788025291765968, 'SVM'), ('hsa-miR-6776-5p', -0.020385177111412193, 'SVM'), ('hsa-miR-4489', -0.06453975698559213, 'SVM'), ('hsa-miR-6743-3p', 0.00822003941841077, 'SVM'), ('hsa-miR-31-3p', 0.05300706142780136, 'SVM'), ('hsa-miR-1470', -0.08207528102421238, 'SVM'), ('hsa-miR-5698', 0.02091269874512625, 'SVM'), ('hsa-miR-6819-5p', -0.00277678753380199, 'SVM'), ('hsa-miR-4685-3p', 0.1557758532203497, 'SVM'), ('hsa-miR-6730-5p', 0.02145556100663151, 'SVM'), ('hsa-miR-4472', 0.05299358553055181, 'SVM'), ('hsa-miR-646', -0.12571410744852915, 'SVM'), ('hsa-miR-944', -0.04676919758862972, 'SVM'), ('hsa-miR-3181', -0.04451985610472875, 'SVM'), ('hsa-miR-940', -0.03353122444688574, 'SVM'), ('hsa-miR-4313', -0.07085714823668084, 'SVM'), ('hsa-miR-6877-5p', 0.06270499989541858, 'SVM'), ('hsa-miR-1227-3p', -0.05622953298940886, 'SVM'), ('hsa-miR-6076', 0.09149729220049674, 'SVM'), ('hsa-miR-1185-2-3p', 0.22041535984346292, 'SVM'), ('hsa-miR-6793-5p', 0.0387245863238796, 'SVM')]\n",
      "Selected features from SelectKBest: [  40   69  108  110  220  221  231  248  262  290  331  332  532  571\n",
      "  608  639  654  778  792  869  881  943  989  990 1006 1056 1090 1095\n",
      " 1151 1189 1263 1269 1283 1385 1576 1667 1726 1746 1813 1925 1935 2027\n",
      " 2087 2095 2190 2241 2273 2302 2381 2467]\n",
      "Selected features from LassoCV: [ 0  1  2  3  4  5  6  7  8 10 11 12 13 14 16 18 19 20 21 23 24 25 26 27\n",
      " 28 29 30 31 32 33 34 35 36 37 38 39 40 41 43 44 45 46 47 48 49]\n",
      "All XGBoost features: [('hsa-miR-4483', 0.0, 'XGBoost'), ('hsa-miR-6805-3p', 0.009866325, 'XGBoost'), ('hsa-miR-342-5p', 0.0, 'XGBoost'), ('hsa-miR-3652', 0.0013414619, 'XGBoost'), ('hsa-miR-5572', 0.0, 'XGBoost'), ('hsa-miR-5100', 0.8538587, 'XGBoost'), ('hsa-miR-504-3p', 0.0038247635, 'XGBoost'), ('hsa-miR-17-3p', 0.0, 'XGBoost'), ('hsa-miR-320d', 0.0066411747, 'XGBoost'), ('hsa-miR-1290', 0.0065341936, 'XGBoost'), ('hsa-miR-1202', 0.0, 'XGBoost'), ('hsa-miR-4769-5p', 0.0, 'XGBoost'), ('hsa-miR-185-3p', 0.0008560734, 'XGBoost'), ('hsa-miR-4754', 0.0017493977, 'XGBoost'), ('hsa-miR-941', 0.00039738408, 'XGBoost'), ('hsa-miR-6741-5p', 0.0, 'XGBoost'), ('hsa-miR-6780a-5p', 0.002158219, 'XGBoost'), ('hsa-miR-7110-5p', 0.0, 'XGBoost'), ('hsa-miR-4440', 0.00449419, 'XGBoost'), ('hsa-miR-320b', 0.0, 'XGBoost'), ('hsa-miR-4443', 0.00090974045, 'XGBoost'), ('hsa-miR-516a-5p', 0.00033638714, 'XGBoost'), ('hsa-miR-4456', 0.034892507, 'XGBoost'), ('hsa-miR-495-5p', 0.00057905185, 'XGBoost'), ('hsa-miR-1224-5p', 0.01261966, 'XGBoost'), ('hsa-miR-6776-5p', 0.0014482548, 'XGBoost'), ('hsa-miR-4489', 0.0, 'XGBoost'), ('hsa-miR-6743-3p', 0.0011018604, 'XGBoost'), ('hsa-miR-31-3p', 0.0, 'XGBoost'), ('hsa-miR-1470', 0.00083734514, 'XGBoost'), ('hsa-miR-5698', 0.0020293335, 'XGBoost'), ('hsa-miR-6819-5p', 0.0, 'XGBoost'), ('hsa-miR-4685-3p', 0.0017471031, 'XGBoost'), ('hsa-miR-6730-5p', 0.0, 'XGBoost'), ('hsa-miR-4472', 0.0015099528, 'XGBoost'), ('hsa-miR-646', 0.02151342, 'XGBoost'), ('hsa-miR-944', 0.0070071905, 'XGBoost'), ('hsa-miR-3181', 0.00040220842, 'XGBoost'), ('hsa-miR-940', 0.008299816, 'XGBoost'), ('hsa-miR-4313', 0.003356901, 'XGBoost'), ('hsa-miR-6877-5p', 0.0, 'XGBoost'), ('hsa-miR-1227-3p', 0.0, 'XGBoost'), ('hsa-miR-6076', 0.006298404, 'XGBoost'), ('hsa-miR-1185-2-3p', 0.0, 'XGBoost'), ('hsa-miR-6793-5p', 0.0033889161, 'XGBoost')]\n",
      "All selected features saved to '../GSEA/miRNA/50_b_c.csv'\n"
     ]
    }
   ],
   "source": [
    "# Extract all selected features from SVM and XGBoost\n",
    "all_svm_features = get_all_selected_features(svm_pipe, feature_names, 'SVM')\n",
    "print(\"All SVM features:\", all_svm_features)\n",
    "\n",
    "all_xgboost_features = get_all_selected_features(xgboost_pipe, feature_names, 'XGBoost')\n",
    "print(\"All XGBoost features:\", all_xgboost_features)\n",
    "\n",
    "# Combine the features and save to CSV\n",
    "all_features_df = pd.DataFrame(all_svm_features + all_xgboost_features, columns=['Feature', 'Importance', 'Classifier'])\n",
    "all_features_df.to_csv('../GSEA/miRNA/50_b_c.csv', index=False)\n",
    "print(\"All selected features saved to '../GSEA/miRNA/50_b_c.csv'\")"
   ]
  }
 ],
 "metadata": {
  "kernelspec": {
   "display_name": "myenv",
   "language": "python",
   "name": "python3"
  },
  "language_info": {
   "codemirror_mode": {
    "name": "ipython",
    "version": 3
   },
   "file_extension": ".py",
   "mimetype": "text/x-python",
   "name": "python",
   "nbconvert_exporter": "python",
   "pygments_lexer": "ipython3",
   "version": "3.10.8"
  }
 },
 "nbformat": 4,
 "nbformat_minor": 2
}
