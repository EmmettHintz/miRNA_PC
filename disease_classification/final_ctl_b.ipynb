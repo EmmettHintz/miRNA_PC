{
 "cells": [
  {
   "cell_type": "code",
   "execution_count": 1,
   "metadata": {},
   "outputs": [],
   "source": [
    "import pandas as pd\n",
    "import numpy as np\n",
    "import optuna\n",
    "import matplotlib.pyplot as plt\n",
    "import networkx as nx\n",
    "import itertools\n",
    "from sklearn.linear_model import LassoCV\n",
    "from sklearn.feature_selection import SelectKBest, f_classif, SelectFromModel\n",
    "from sklearn.model_selection import train_test_split, StratifiedKFold, cross_val_score\n",
    "from sklearn.metrics import confusion_matrix, accuracy_score, roc_auc_score, roc_curve\n",
    "from sklearn.ensemble import RandomForestClassifier\n",
    "from xgboost import XGBClassifier\n",
    "from sklearn.pipeline import Pipeline\n",
    "from sklearn.svm import SVC\n",
    "from sklearn.preprocessing import StandardScaler\n",
    "from imblearn.under_sampling import RandomUnderSampler\n",
    "from imblearn.over_sampling import RandomOverSampler\n",
    "import os\n",
    "import joblib"
   ]
  },
  {
   "cell_type": "code",
   "execution_count": 2,
   "metadata": {},
   "outputs": [
    {
     "data": {
      "text/plain": [
       "(5643, 2570)"
      ]
     },
     "execution_count": 2,
     "metadata": {},
     "output_type": "execute_result"
    }
   ],
   "source": [
    "ctl_samples = pd.read_csv('../data/control/control_samples.csv')\n",
    "ctl_samples.shape"
   ]
  },
  {
   "cell_type": "code",
   "execution_count": 3,
   "metadata": {},
   "outputs": [
    {
     "name": "stdout",
     "output_type": "stream",
     "text": [
      "(230, 2570)\n"
     ]
    }
   ],
   "source": [
    "benign_samples = pd.read_csv('../data/benign/benign_prostate_samples.csv')\n",
    "print(benign_samples.shape)"
   ]
  },
  {
   "cell_type": "code",
   "execution_count": 4,
   "metadata": {},
   "outputs": [],
   "source": [
    "benign_samples.columns = benign_samples.columns.str.strip()"
   ]
  },
  {
   "cell_type": "code",
   "execution_count": 5,
   "metadata": {},
   "outputs": [
    {
     "name": "stdout",
     "output_type": "stream",
     "text": [
      "0      Stage: B\n",
      "1      Stage: B\n",
      "2      Stage: B\n",
      "3      Stage: B\n",
      "4      Stage: B\n",
      "         ...   \n",
      "225    Stage: B\n",
      "226    Stage: B\n",
      "227    Stage: B\n",
      "228    Stage: B\n",
      "229    Stage: B\n",
      "Name: Stage, Length: 230, dtype: object\n"
     ]
    }
   ],
   "source": [
    "benign_samples['Stage'] = benign_samples['Stage'].str.replace('Stage: NA', 'Stage: B')\n",
    "\n",
    "# Verify the replacements\n",
    "print(benign_samples['Stage'])"
   ]
  },
  {
   "cell_type": "code",
   "execution_count": 6,
   "metadata": {},
   "outputs": [],
   "source": [
    "combined_dataset = pd.concat([benign_samples, ctl_samples], ignore_index=True)"
   ]
  },
  {
   "cell_type": "code",
   "execution_count": 7,
   "metadata": {},
   "outputs": [
    {
     "name": "stdout",
     "output_type": "stream",
     "text": [
      "Unique values in Stage column: ['Stage: B' 'Stage: NA']\n",
      "Class distribution in ID_REF column:\n",
      "ID_REF\n",
      "1    5643\n",
      "0     230\n",
      "Name: count, dtype: int64\n"
     ]
    }
   ],
   "source": [
    "# Verify and clean the Stage column\n",
    "print(\"Unique values in Stage column:\", combined_dataset['Stage'].unique())\n",
    "combined_dataset['Stage'] = combined_dataset['Stage'].str.strip()\n",
    "combined_dataset['ID_REF'] = np.where(combined_dataset['Stage'] == 'Stage: B', 0, 1)\n",
    "combined_dataset['ID_REF'] = np.where(combined_dataset['Stage'] != 'Stage: B', 1, combined_dataset['ID_REF'])\n",
    "\n",
    "# Print class distribution to ensure both classes are present\n",
    "print(\"Class distribution in ID_REF column:\")\n",
    "print(combined_dataset['ID_REF'].value_counts())\n"
   ]
  },
  {
   "cell_type": "code",
   "execution_count": 8,
   "metadata": {},
   "outputs": [],
   "source": [
    "def process_data(data, under_sample_factor=None, over_sample_factor=None):\n",
    "    columns_to_drop = ['Sample_ID', 'Sex', 'Age', 'Stage', 'Disease']\n",
    "    data = data.drop(columns=columns_to_drop, axis=1)\n",
    "    \n",
    "    # Ensure ID_REF is handled separately\n",
    "    id_ref = data[\"ID_REF\"]\n",
    "    data = data.drop([\"ID_REF\"], axis=1)\n",
    "    \n",
    "    # Convert all remaining columns to numeric, coercing errors to NaN\n",
    "    data = data.apply(pd.to_numeric, errors='coerce')\n",
    "    \n",
    "    # Handle NaN values, e.g., fill with the mean of each column\n",
    "    data = data.fillna(data.mean())\n",
    "    \n",
    "    # Combine ID_REF back to the DataFrame\n",
    "    data[\"ID_REF\"] = id_ref\n",
    "\n",
    "    # Convert to numpy arrays\n",
    "    x = np.array(data.drop([\"ID_REF\"], axis=1)).astype('float')\n",
    "    y = np.array(data[\"ID_REF\"]).astype('int')\n",
    "    feature_names = data.columns[:-1]\n",
    "\n",
    "    if under_sample_factor is not None and isinstance(under_sample_factor, float) and 0 < under_sample_factor <= 1:\n",
    "        under_sampler = RandomUnderSampler(sampling_strategy=under_sample_factor)\n",
    "        x, y = under_sampler.fit_resample(x, y)\n",
    "\n",
    "    if over_sample_factor is not None and isinstance(over_sample_factor, float) and 0 < over_sample_factor <= 1:\n",
    "        over_sampler = RandomOverSampler(sampling_strategy=over_sample_factor)\n",
    "        x, y = over_sampler.fit_resample(x, y)\n",
    "\n",
    "    x_train, x_test, y_train, y_test = train_test_split(x, y, test_size=0.2, random_state=0, stratify=y)\n",
    "\n",
    "    scaler = StandardScaler()\n",
    "    x_train = scaler.fit_transform(x_train)\n",
    "    x_test = scaler.transform(x_test)\n",
    "\n",
    "    return x_train, x_test, y_train, y_test, feature_names"
   ]
  },
  {
   "cell_type": "code",
   "execution_count": 9,
   "metadata": {},
   "outputs": [
    {
     "name": "stderr",
     "output_type": "stream",
     "text": [
      "/var/folders/c_/rs13jmts3nbf9xfm917mh9p80000gn/T/ipykernel_79897/2988405077.py:16: PerformanceWarning: DataFrame is highly fragmented.  This is usually the result of calling `frame.insert` many times, which has poor performance.  Consider joining all columns at once using pd.concat(axis=1) instead. To get a de-fragmented frame, use `newframe = frame.copy()`\n",
      "  data[\"ID_REF\"] = id_ref\n"
     ]
    }
   ],
   "source": [
    "# Define parameters\n",
    "feature_selection_num = 50\n",
    "feature_importance_num = 10\n",
    "\n",
    "num_benign_samples = combined_dataset['ID_REF'].value_counts()[0]  # Number of benign samples\n",
    "num_control_samples = combined_dataset['ID_REF'].value_counts()[1]  # Number of control samples\n",
    "under_sample_factor = num_benign_samples / num_control_samples  # Factor to balance the classes\n",
    "\n",
    "# Process the data with under-sampling\n",
    "x_train, x_test, y_train, y_test, feature_names = process_data(combined_dataset, under_sample_factor=under_sample_factor, over_sample_factor=None)"
   ]
  },
  {
   "cell_type": "code",
   "execution_count": 10,
   "metadata": {},
   "outputs": [],
   "source": [
    "def svm_objective(trial):\n",
    "    k = feature_selection_num\n",
    "    \n",
    "    C = trial.suggest_float('C', 1e-3, 1e3, log=True)\n",
    "    kernel = 'linear'  # Use only linear kernel for feature extraction\n",
    "    \n",
    "    # Relaxed LassoCV with a wider range of smaller alphas\n",
    "    lasso = SelectFromModel(LassoCV(alphas=np.logspace(-6, -1, 50), cv=5, max_iter=10000, random_state=0))\n",
    "    \n",
    "    pipe = Pipeline([\n",
    "        ('skb', SelectKBest(f_classif, k=k)),\n",
    "        ('lasso', lasso),\n",
    "        ('estimator', SVC(C=C, kernel=kernel, random_state=0))\n",
    "    ])\n",
    "    \n",
    "    cv = StratifiedKFold(n_splits=5)\n",
    "    try:\n",
    "        scores = cross_val_score(pipe, x_train, y_train, cv=cv, scoring='accuracy')\n",
    "        return scores.mean()\n",
    "    except ValueError as e:\n",
    "        print(f\"ValueError: {e}\")\n",
    "        print(\"Selected features by SelectKBest:\", skb.get_support(indices=True))\n",
    "        if hasattr(lasso.estimator_, 'coef_'):\n",
    "            print(\"Lasso coefficients:\", lasso.estimator_.coef_)\n",
    "        return np.nan"
   ]
  },
  {
   "cell_type": "code",
   "execution_count": 11,
   "metadata": {},
   "outputs": [],
   "source": [
    "def rf_objective(trial):\n",
    "    k = feature_selection_num\n",
    "    \n",
    "    n_estimators = trial.suggest_int('n_estimators', 100, 1000)\n",
    "    max_depth = trial.suggest_int('max_depth', 2, 32)\n",
    "    max_features = trial.suggest_categorical('max_features', ['sqrt', 'log2'])\n",
    "    criterion = trial.suggest_categorical('criterion', ['gini', 'entropy'])\n",
    "    \n",
    "    lasso = SelectFromModel(LassoCV(alphas=np.logspace(-6, -1, 50), cv=5, max_iter=10000, random_state=0))\n",
    "    \n",
    "    pipe = Pipeline([\n",
    "        ('skb', SelectKBest(f_classif, k=k)),\n",
    "        ('lasso', lasso),\n",
    "        ('estimator', RandomForestClassifier(n_estimators=n_estimators, max_depth=max_depth, max_features=max_features, criterion=criterion, random_state=0))\n",
    "    ])\n",
    "    \n",
    "    cv = StratifiedKFold(n_splits=5)\n",
    "    scores = cross_val_score(pipe, x_train, y_train, cv=cv, scoring='accuracy')\n",
    "    return scores.mean()"
   ]
  },
  {
   "cell_type": "code",
   "execution_count": 12,
   "metadata": {},
   "outputs": [],
   "source": [
    "def xgboost_objective(trial):\n",
    "    k = feature_selection_num\n",
    "    \n",
    "    learning_rate = trial.suggest_float('learning_rate', 1e-3, 1.0, log=True)\n",
    "    max_depth = trial.suggest_int('max_depth', 2, 10)\n",
    "    n_estimators = trial.suggest_int('n_estimators', 100, 1000)\n",
    "    \n",
    "    lasso = SelectFromModel(LassoCV(alphas=np.logspace(-6, -1, 50), cv=5, max_iter=10000, random_state=0))\n",
    "    \n",
    "    pipe = Pipeline([\n",
    "        ('skb', SelectKBest(f_classif, k=k)),\n",
    "        ('lasso', lasso),\n",
    "        ('estimator', XGBClassifier(learning_rate=learning_rate, max_depth=max_depth, n_estimators=n_estimators, random_state=0, use_label_encoder=False, eval_metric='logloss'))\n",
    "    ])\n",
    "    \n",
    "    cv = StratifiedKFold(n_splits=5)\n",
    "    scores = cross_val_score(pipe, x_train, y_train, cv=cv, scoring='accuracy')\n",
    "    return scores.mean()"
   ]
  },
  {
   "cell_type": "code",
   "execution_count": 13,
   "metadata": {},
   "outputs": [],
   "source": [
    "# Function to save study\n",
    "def save_study(study, filename):\n",
    "    joblib.dump(study, filename)\n",
    "\n",
    "# Function to load study\n",
    "def load_study(filename):\n",
    "    return joblib.load(filename)"
   ]
  },
  {
   "cell_type": "code",
   "execution_count": 14,
   "metadata": {},
   "outputs": [],
   "source": [
    "# Optimize hyperparameters using Optuna\n",
    "svm_study_filename = '50_svm_study_ctl_b.pkl'\n",
    "rf_study_filename = '50_rf_study_ctl_b.pkl'\n",
    "xgboost_study_filename = '50_xgboost_study_ctl_b.pkl'"
   ]
  },
  {
   "cell_type": "code",
   "execution_count": 15,
   "metadata": {},
   "outputs": [],
   "source": [
    "# Optimize hyperparameters using Optuna with early stopping\n",
    "def optimize_with_early_stopping(objective, study_filename, n_trials=50, patience=10):\n",
    "    if os.path.exists(study_filename):\n",
    "        study = load_study(study_filename)\n",
    "        return study\n",
    "    else:\n",
    "        study = optuna.create_study(direction='maximize')\n",
    "    \n",
    "    best_value = -np.inf\n",
    "    trials_without_improvement = 0\n",
    "    \n",
    "    for trial in range(n_trials):\n",
    "        study.optimize(objective, n_trials=1)\n",
    "        \n",
    "        current_best_value = study.best_value\n",
    "        if current_best_value > best_value:\n",
    "            best_value = current_best_value\n",
    "            trials_without_improvement = 0\n",
    "        else:\n",
    "            trials_without_improvement += 1\n",
    "        \n",
    "        if trials_without_improvement >= patience:\n",
    "            print(f\"Early stopping at trial {trial + 1}\")\n",
    "            break\n",
    "        \n",
    "        save_study(study, study_filename)\n",
    "    \n",
    "    return study"
   ]
  },
  {
   "cell_type": "markdown",
   "metadata": {},
   "source": [
    "### Find Hyperparmeters if not trained already"
   ]
  },
  {
   "cell_type": "code",
   "execution_count": 16,
   "metadata": {},
   "outputs": [],
   "source": [
    "svm_study = optimize_with_early_stopping(svm_objective, svm_study_filename, n_trials=50, patience=10)"
   ]
  },
  {
   "cell_type": "code",
   "execution_count": 17,
   "metadata": {},
   "outputs": [],
   "source": [
    "rf_study = optimize_with_early_stopping(rf_objective, rf_study_filename, n_trials=100, patience=10)"
   ]
  },
  {
   "cell_type": "code",
   "execution_count": 18,
   "metadata": {},
   "outputs": [],
   "source": [
    "xgboost_study = optimize_with_early_stopping(xgboost_objective, xgboost_study_filename, n_trials=100, patience=10)"
   ]
  },
  {
   "cell_type": "markdown",
   "metadata": {},
   "source": [
    "### Print the best trial for each study\n",
    "\n",
    "For SVM, RF, and XGBoost"
   ]
  },
  {
   "cell_type": "code",
   "execution_count": 19,
   "metadata": {},
   "outputs": [
    {
     "name": "stdout",
     "output_type": "stream",
     "text": [
      "Best SVM trial:\n",
      "  Value:  1.0\n",
      "  Params: \n",
      "    C: 344.6665628638547\n"
     ]
    }
   ],
   "source": [
    "print(\"Best SVM trial:\")\n",
    "svm_trial = svm_study.best_trial\n",
    "print(\"  Value: \", svm_trial.value)\n",
    "print(\"  Params: \")\n",
    "for key, value in svm_trial.params.items():\n",
    "    print(f\"    {key}: {value}\")"
   ]
  },
  {
   "cell_type": "code",
   "execution_count": 20,
   "metadata": {},
   "outputs": [
    {
     "name": "stdout",
     "output_type": "stream",
     "text": [
      "Best Random Forest trial:\n",
      "  Value:  1.0\n",
      "  Params: \n",
      "    n_estimators: 878\n",
      "    max_depth: 10\n",
      "    max_features: sqrt\n",
      "    criterion: entropy\n"
     ]
    }
   ],
   "source": [
    "print(\"Best Random Forest trial:\")\n",
    "rf_trial = rf_study.best_trial\n",
    "print(\"  Value: \", rf_trial.value)\n",
    "print(\"  Params: \")\n",
    "for key, value in rf_trial.params.items():\n",
    "    print(f\"    {key}: {value}\")"
   ]
  },
  {
   "cell_type": "code",
   "execution_count": 21,
   "metadata": {},
   "outputs": [
    {
     "name": "stdout",
     "output_type": "stream",
     "text": [
      "Best XGBoost trial:\n",
      "  Value:  0.9995744680851064\n",
      "  Params: \n",
      "    learning_rate: 0.1322125129866414\n",
      "    max_depth: 6\n",
      "    n_estimators: 200\n"
     ]
    }
   ],
   "source": [
    "print(\"Best XGBoost trial:\")\n",
    "xgboost_trial = xgboost_study.best_trial\n",
    "print(\"  Value: \", xgboost_trial.value)\n",
    "print(\"  Params: \")\n",
    "for key, value in xgboost_trial.params.items():\n",
    "    print(f\"    {key}: {value}\")"
   ]
  },
  {
   "cell_type": "markdown",
   "metadata": {},
   "source": [
    "## Train and evaluate the models with the best hyperparameters"
   ]
  },
  {
   "cell_type": "code",
   "execution_count": 22,
   "metadata": {},
   "outputs": [],
   "source": [
    "# Train and evaluate the models with the best hyperparameters\n",
    "def train_and_evaluate(pipe, x_train, y_train, x_test, y_test):\n",
    "    pipe.fit(x_train, y_train)\n",
    "    y_pred = pipe.predict(x_test)\n",
    "    print(f'Testing accuracy {accuracy_score(y_test, y_pred)}')\n",
    "    print(f'Confusion matrix: \\n{confusion_matrix(y_test, y_pred)}')"
   ]
  },
  {
   "cell_type": "markdown",
   "metadata": {},
   "source": [
    "### SVM"
   ]
  },
  {
   "cell_type": "code",
   "execution_count": 23,
   "metadata": {},
   "outputs": [
    {
     "name": "stdout",
     "output_type": "stream",
     "text": [
      "Testing accuracy 1.0\n",
      "Confusion matrix: \n",
      "[[  46    0]\n",
      " [   0 1129]]\n"
     ]
    }
   ],
   "source": [
    "best_svm_params = svm_trial.params\n",
    "svm_pipe = Pipeline([\n",
    "    ('skb', SelectKBest(f_classif, k=feature_selection_num)),\n",
    "    ('lasso', SelectFromModel(LassoCV(alphas=np.logspace(-6, -1, 50), cv=5, max_iter=10000, random_state=0))),\n",
    "    ('estimator', SVC(C=best_svm_params['C'], kernel='linear', random_state=0))  # Ensure linear kernel\n",
    "])\n",
    "train_and_evaluate(svm_pipe, x_train, y_train, x_test, y_test)"
   ]
  },
  {
   "cell_type": "code",
   "execution_count": 24,
   "metadata": {},
   "outputs": [],
   "source": [
    "# svm_accuracies = []\n",
    "\n",
    "# # Loop through the number of features from 1 to 150\n",
    "# for k in range(1, 121):\n",
    "#     best_svm_params = svm_trial.params\n",
    "#     svm_pipe = Pipeline([\n",
    "#         ('skb', SelectKBest(f_classif, k=k)),\n",
    "#         ('lasso', SelectFromModel(LassoCV(cv=5, random_state=0))),\n",
    "#         ('estimator', SVC(C=best_svm_params['C'], kernel=best_svm_params['kernel'], random_state=0))\n",
    "#     ])\n",
    "    \n",
    "#     # Train and evaluate the pipeline\n",
    "#     svm_pipe.fit(x_train, y_train)\n",
    "#     y_pred = svm_pipe.predict(x_test)\n",
    "#     accuracy = accuracy_score(y_test, y_pred)\n",
    "#     svm_accuracies.append(accuracy)\n",
    "#     print(f'Number of features: {k}, Accuracy: {accuracy}')\n",
    "\n",
    "# # Plot the number of features vs accuracy\n",
    "# plt.figure(figsize=(10, 6))\n",
    "# plt.plot(range(1, 121), svm_accuracies, marker='o')\n",
    "# plt.title('Accuracy vs Number of Features (SVM)')\n",
    "# plt.xlabel('Number of Features')\n",
    "# plt.ylabel('Accuracy')\n",
    "# plt.grid(True)\n",
    "# plt.show()"
   ]
  },
  {
   "cell_type": "markdown",
   "metadata": {},
   "source": [
    "### Random Forest"
   ]
  },
  {
   "cell_type": "code",
   "execution_count": 25,
   "metadata": {},
   "outputs": [
    {
     "name": "stdout",
     "output_type": "stream",
     "text": [
      "Testing accuracy 1.0\n",
      "Confusion matrix: \n",
      "[[  46    0]\n",
      " [   0 1129]]\n"
     ]
    }
   ],
   "source": [
    "best_rf_params = rf_trial.params\n",
    "rf_pipe = Pipeline([\n",
    "    ('skb', SelectKBest(f_classif, k=feature_selection_num)),\n",
    "    ('lasso', SelectFromModel(LassoCV(alphas=np.logspace(-6, -1, 50), cv=5, max_iter=10000, random_state=0))),\n",
    "    ('estimator', RandomForestClassifier(n_estimators=best_rf_params['n_estimators'],\n",
    "                                         max_depth=best_rf_params['max_depth'],\n",
    "                                         max_features=best_rf_params['max_features'],\n",
    "                                         criterion=best_rf_params['criterion'],\n",
    "                                         random_state=0))\n",
    "])\n",
    "train_and_evaluate(rf_pipe, x_train, y_train, x_test, y_test)"
   ]
  },
  {
   "cell_type": "code",
   "execution_count": 26,
   "metadata": {},
   "outputs": [],
   "source": [
    "# rf_accuracies = []\n",
    "\n",
    "# # Loop through the number of features from 1 to 200\n",
    "# for k in range(1, 121):\n",
    "#     best_rf_params = rf_trial.params\n",
    "#     rf_pipe = Pipeline([\n",
    "#         ('skb', SelectKBest(f_classif, k=k)),\n",
    "#         ('lasso', SelectFromModel(LassoCV(cv=5, random_state=0))),\n",
    "#         ('estimator', RandomForestClassifier(n_estimators=best_rf_params['n_estimators'],\n",
    "#                                              max_depth=best_rf_params['max_depth'],\n",
    "#                                              max_features=best_rf_params['max_features'],\n",
    "#                                              criterion=best_rf_params['criterion'],\n",
    "#                                              random_state=0))\n",
    "#     ])\n",
    "    \n",
    "#     # Train and evaluate the pipeline\n",
    "#     rf_pipe.fit(x_train, y_train)\n",
    "#     y_pred = rf_pipe.predict(x_test)\n",
    "#     rf_accuracy = accuracy_score(y_test, y_pred)\n",
    "#     rf_accuracies.append(rf_accuracy)\n",
    "#     print(f'Number of features: {k}, Accuracy: {rf_accuracy}')\n",
    "\n",
    "# # Plot the number of features vs rf_accuracy\n",
    "# plt.figure(figsize=(10, 6))\n",
    "# plt.plot(range(1, 121), rf_accuracies, marker='o')\n",
    "# plt.title('Accuracy vs Number of Features')\n",
    "# plt.xlabel('Number of Features')\n",
    "# plt.ylabel('Accuracy')\n",
    "# plt.grid(True)\n",
    "# plt.show()"
   ]
  },
  {
   "cell_type": "markdown",
   "metadata": {},
   "source": [
    "### XGBoost"
   ]
  },
  {
   "cell_type": "code",
   "execution_count": 27,
   "metadata": {},
   "outputs": [
    {
     "name": "stdout",
     "output_type": "stream",
     "text": [
      "Testing accuracy 0.9991489361702127\n",
      "Confusion matrix: \n",
      "[[  46    0]\n",
      " [   1 1128]]\n"
     ]
    }
   ],
   "source": [
    "best_xgboost_params = xgboost_trial.params\n",
    "xgboost_pipe = Pipeline([\n",
    "    ('skb', SelectKBest(f_classif, k=feature_selection_num)),\n",
    "    ('lasso', SelectFromModel(LassoCV(cv=5, random_state=0))),\n",
    "    ('estimator', XGBClassifier(learning_rate=best_xgboost_params['learning_rate'],\n",
    "                                max_depth=best_xgboost_params['max_depth'],\n",
    "                                n_estimators=best_xgboost_params['n_estimators'],\n",
    "                                random_state=0,\n",
    "                                use_label_encoder=False,\n",
    "                                eval_metric='logloss'))\n",
    "])\n",
    "train_and_evaluate(xgboost_pipe, x_train, y_train, x_test, y_test)"
   ]
  },
  {
   "cell_type": "code",
   "execution_count": 28,
   "metadata": {},
   "outputs": [],
   "source": [
    "# xgboost_accuracies = []\n",
    "\n",
    "# # Loop through the number of features from 1 to 150\n",
    "# for k in range(1, 121):\n",
    "#     best_xgboost_params = xgboost_trial.params\n",
    "#     xgboost_pipe = Pipeline([\n",
    "#         ('skb', SelectKBest(f_classif, k=k)),\n",
    "#         ('lasso', SelectFromModel(LassoCV(cv=5, random_state=0))),\n",
    "#         ('estimator', XGBClassifier(learning_rate=best_xgboost_params['learning_rate'],\n",
    "#                                     max_depth=best_xgboost_params['max_depth'],\n",
    "#                                     n_estimators=best_xgboost_params['n_estimators'],\n",
    "#                                     random_state=0,\n",
    "#                                     use_label_encoder=False,\n",
    "#                                     eval_metric='logloss'))\n",
    "#     ])\n",
    "\n",
    "#     # Train and evaluate the pipeline\n",
    "#     xgboost_pipe.fit(x_train, y_train)\n",
    "#     y_pred = xgboost_pipe.predict(x_test)\n",
    "#     xgboost_accuracy = accuracy_score(y_test, y_pred)\n",
    "#     xgboost_accuracies.append(xgboost_accuracy)\n",
    "#     print(f'Number of features: {k}, Accuracy: {xgboost_accuracy}') \n",
    "\n",
    "# # Plot the number of features vs xgboost_accuracy\n",
    "# plt.figure(figsize=(10, 6))\n",
    "# plt.plot(range(1, 121), xgboost_accuracies, marker='o')\n",
    "# plt.title('Accuracy vs Number of Features (XGBoost)')\n",
    "# plt.xlabel('Number of Features')\n",
    "# plt.ylabel('Accuracy')\n",
    "# plt.grid(True)\n",
    "# plt.show()"
   ]
  },
  {
   "cell_type": "code",
   "execution_count": 29,
   "metadata": {},
   "outputs": [],
   "source": [
    "def get_top_features(pipe, feature_names, top_feature_num):\n",
    "    if isinstance(pipe.named_steps['estimator'], SVC):\n",
    "        if pipe.named_steps['estimator'].kernel != 'linear':\n",
    "            raise ValueError(\"Feature importance is not available for non-linear SVM kernels.\")\n",
    "        feature_scores = pipe.named_steps['estimator'].coef_[0]\n",
    "    elif isinstance(pipe.named_steps['estimator'], XGBClassifier):\n",
    "        feature_scores = pipe.named_steps['estimator'].feature_importances_\n",
    "    else:\n",
    "        raise ValueError(\"Unsupported estimator type for feature extraction.\")\n",
    "    \n",
    "    # Get selected features from SelectKBest\n",
    "    skb_support = pipe.named_steps['skb'].get_support(indices=True)\n",
    "    print(\"Selected features from SelectKBest:\", skb_support)\n",
    "    \n",
    "    # Transform the features using SelectKBest\n",
    "    skb_features = pipe.named_steps['skb'].transform(x_train)\n",
    "    \n",
    "    # Get selected features from LassoCV\n",
    "    lasso = LassoCV(alphas=np.logspace(-6, -1, 50), cv=5, max_iter=10000, random_state=0)\n",
    "    lasso.fit(skb_features, y_train)\n",
    "    lasso_support = np.where(lasso.coef_ != 0)[0]\n",
    "    print(\"Selected features from LassoCV:\", lasso_support)\n",
    "    \n",
    "    if len(lasso_support) == 0:\n",
    "        print(\"No features selected after LassoCV.\")\n",
    "        return []\n",
    "    \n",
    "    # Ensure indices match feature_scores\n",
    "    top_indices = np.argsort(np.abs(lasso.coef_[lasso_support]))[::-1][:top_feature_num]\n",
    "    top_features = [(feature_names[skb_support[i]], lasso.coef_[lasso_support[i]]) for i in top_indices]\n",
    "    \n",
    "    return top_features"
   ]
  },
  {
   "cell_type": "code",
   "execution_count": 30,
   "metadata": {},
   "outputs": [
    {
     "name": "stdout",
     "output_type": "stream",
     "text": [
      "Selected features from SelectKBest: [  76  220  236  253  388  423  463  697  785  821  832  881  931 1010\n",
      " 1044 1109 1148 1174 1187 1214 1254 1273 1361 1386 1483 1493 1511 1560\n",
      " 1616 1724 1781 1812 1816 1825 1917 1972 2037 2058 2066 2123 2131 2134\n",
      " 2214 2243 2285 2294 2309 2386 2460 2560]\n",
      "Selected features from LassoCV: [ 0  1  2  3  4  5  7  9 10 11 12 13 14 15 16 17 18 19 20 21 23 24 26 27\n",
      " 28 29 30 31 32 34 35 36 37 38 39 40 41 42 43 44 45 46 47 48 49]\n",
      "Top SVM features: [('hsa-miR-1228-5p', -0.054294368026511795), ('hsa-miR-6746-5p', 0.038554851521004525), ('hsa-miR-4648', 0.02324380517798393), ('hsa-miR-4787-3p', -0.02260971005205403), ('hsa-miR-7110-5p', 0.021798235429348875), ('hsa-miR-4481', -0.017749760804733814), ('hsa-miR-575', -0.01744360341555977), ('hsa-miR-6825-5p', 0.017252723882564724), ('hsa-miR-1238-5p', 0.016854028050018215), ('hsa-miR-128-1-5p', -0.016326292835655638)]\n",
      "Selected features from SelectKBest: [  76  220  236  253  388  423  463  697  785  821  832  881  931 1010\n",
      " 1044 1109 1148 1174 1187 1214 1254 1273 1361 1386 1483 1493 1511 1560\n",
      " 1616 1724 1781 1812 1816 1825 1917 1972 2037 2058 2066 2123 2131 2134\n",
      " 2214 2243 2285 2294 2309 2386 2460 2560]\n",
      "Selected features from LassoCV: [ 0  1  2  3  4  5  7  9 10 11 12 13 14 15 16 17 18 19 20 21 23 24 26 27\n",
      " 28 29 30 31 32 34 35 36 37 38 39 40 41 42 43 44 45 46 47 48 49]\n",
      "Top XGBoost features: [('hsa-miR-1228-5p', -0.054294368026511795), ('hsa-miR-6746-5p', 0.038554851521004525), ('hsa-miR-4648', 0.02324380517798393), ('hsa-miR-4787-3p', -0.02260971005205403), ('hsa-miR-7110-5p', 0.021798235429348875), ('hsa-miR-4481', -0.017749760804733814), ('hsa-miR-575', -0.01744360341555977), ('hsa-miR-6825-5p', 0.017252723882564724), ('hsa-miR-1238-5p', 0.016854028050018215), ('hsa-miR-128-1-5p', -0.016326292835655638)]\n"
     ]
    }
   ],
   "source": [
    "try:\n",
    "    svm_top_features = get_top_features(svm_pipe, feature_names, feature_importance_num)\n",
    "    print(\"Top SVM features:\", svm_top_features)\n",
    "except ValueError as e:\n",
    "    print(\"SVM feature extraction error:\", e)\n",
    "\n",
    "xgboost_top_features = get_top_features(xgboost_pipe, feature_names, feature_importance_num)\n",
    "print(\"Top XGBoost features:\", xgboost_top_features)"
   ]
  },
  {
   "cell_type": "code",
   "execution_count": 31,
   "metadata": {},
   "outputs": [],
   "source": [
    "def normalize_importance(importance_scores):\n",
    "    max_score = max(importance_scores, key=lambda x: abs(x[1]))[1]\n",
    "    min_score = min(importance_scores, key=lambda x: abs(x[1]))[1]\n",
    "    normalized_scores = [(feature, (score - min_score) / (max_score - min_score)) for feature, score in importance_scores]\n",
    "    return normalized_scores"
   ]
  },
  {
   "cell_type": "code",
   "execution_count": 32,
   "metadata": {},
   "outputs": [
    {
     "name": "stdout",
     "output_type": "stream",
     "text": [
      "Compiled normalized top features: [('SVM_hsa-miR-1228-5p', 1.0), ('SVM_hsa-miR-6746-5p', -1.445455006101473), ('SVM_hsa-miR-4648', -1.0421939435889347), ('SVM_hsa-miR-4787-3p', 0.16549211896608407), ('SVM_hsa-miR-7110-5p', -1.0041206480276366), ('SVM_hsa-miR-4481', 0.03749118073335964), ('SVM_hsa-miR-575', 0.029427632933396983), ('SVM_hsa-miR-6825-5p', -0.8844013437454209), ('SVM_hsa-miR-1238-5p', -0.8739005261363543), ('SVM_hsa-miR-128-1-5p', -0.0), ('XGB_hsa-miR-1228-5p', 1.0), ('XGB_hsa-miR-6746-5p', -1.445455006101473), ('XGB_hsa-miR-4648', -1.0421939435889347), ('XGB_hsa-miR-4787-3p', 0.16549211896608407), ('XGB_hsa-miR-7110-5p', -1.0041206480276366), ('XGB_hsa-miR-4481', 0.03749118073335964), ('XGB_hsa-miR-575', 0.029427632933396983), ('XGB_hsa-miR-6825-5p', -0.8844013437454209), ('XGB_hsa-miR-1238-5p', -0.8739005261363543), ('XGB_hsa-miR-128-1-5p', -0.0)]\n"
     ]
    }
   ],
   "source": [
    "# Normalize the top features for SVM and XGBoost\n",
    "normalized_svm_features = normalize_importance(svm_top_features)\n",
    "normalized_xgboost_features = normalize_importance(xgboost_top_features)\n",
    "\n",
    "# Compile normalized top features\n",
    "def compile_normalized_top_features(normalized_svm_features, normalized_xgboost_features):\n",
    "    top_features = []\n",
    "    for feature, score in normalized_svm_features:\n",
    "        top_features.append((f'SVM_{feature}', score))\n",
    "    for feature, score in normalized_xgboost_features:\n",
    "        top_features.append((f'XGB_{feature}', score))\n",
    "    return top_features\n",
    "\n",
    "normalized_top_features = compile_normalized_top_features(normalized_svm_features, normalized_xgboost_features)\n",
    "print(\"Compiled normalized top features:\", normalized_top_features)"
   ]
  },
  {
   "cell_type": "code",
   "execution_count": 33,
   "metadata": {},
   "outputs": [
    {
     "name": "stdout",
     "output_type": "stream",
     "text": [
      "Compiled normalized top features saved to '../GSEA/miRNA/ctl_b_miRNA.csv'\n"
     ]
    }
   ],
   "source": [
    "normalized_top_features_df = pd.DataFrame(normalized_top_features, columns=['Feature', 'Normalized Importance'])\n",
    "normalized_top_features_df.to_csv('../GSEA/miRNA/ctl_b_miRNA.csv', index=False)\n",
    "print(\"Compiled normalized top features saved to '../GSEA/miRNA/ctl_b_miRNA.csv'\")"
   ]
  },
  {
   "cell_type": "code",
   "execution_count": 34,
   "metadata": {},
   "outputs": [],
   "source": [
    "def get_all_selected_features(pipe, feature_names, classifier_name):\n",
    "    if isinstance(pipe.named_steps['estimator'], SVC):\n",
    "        if pipe.named_steps['estimator'].kernel != 'linear':\n",
    "            raise ValueError(\"Feature importance is not available for non-linear SVM kernels.\")\n",
    "        feature_scores = pipe.named_steps['estimator'].coef_[0]\n",
    "    elif isinstance(pipe.named_steps['estimator'], XGBClassifier):\n",
    "        feature_scores = pipe.named_steps['estimator'].feature_importances_\n",
    "    else:\n",
    "        raise ValueError(\"Unsupported estimator type for feature extraction.\")\n",
    "    \n",
    "    # Get selected features from SelectKBest\n",
    "    skb_support = pipe.named_steps['skb'].get_support(indices=True)\n",
    "    print(\"Selected features from SelectKBest:\", skb_support)\n",
    "    \n",
    "    # Transform the features using SelectKBest\n",
    "    skb_features = pipe.named_steps['skb'].transform(x_train)\n",
    "    \n",
    "    # Get selected features from LassoCV\n",
    "    lasso = LassoCV(alphas=np.logspace(-6, -1, 50), cv=5, max_iter=10000, random_state=0)\n",
    "    lasso.fit(skb_features, y_train)\n",
    "    lasso_support = np.where(lasso.coef_ != 0)[0]\n",
    "    print(\"Selected features from LassoCV:\", lasso_support)\n",
    "    \n",
    "    # Map the selected LassoCV features back to the original feature names\n",
    "    lasso_support_mapped = skb_support[lasso_support]\n",
    "    \n",
    "    # Ensure the index does not go out of bounds\n",
    "    all_features = [(feature_names[i], feature_scores[j], classifier_name) for j, i in enumerate(lasso_support_mapped) if j < len(feature_scores)]\n",
    "    \n",
    "    return all_features"
   ]
  },
  {
   "cell_type": "code",
   "execution_count": 35,
   "metadata": {},
   "outputs": [
    {
     "name": "stdout",
     "output_type": "stream",
     "text": [
      "Selected features from SelectKBest: [  76  220  236  253  388  423  463  697  785  821  832  881  931 1010\n",
      " 1044 1109 1148 1174 1187 1214 1254 1273 1361 1386 1483 1493 1511 1560\n",
      " 1616 1724 1781 1812 1816 1825 1917 1972 2037 2058 2066 2123 2131 2134\n",
      " 2214 2243 2285 2294 2309 2386 2460 2560]\n",
      "Selected features from LassoCV: [ 0  1  2  3  4  5  7  9 10 11 12 13 14 15 16 17 18 19 20 21 23 24 26 27\n",
      " 28 29 30 31 32 34 35 36 37 38 39 40 41 42 43 44 45 46 47 48 49]\n",
      "All SVM features: [('hsa-miR-8073', 0.01350064272336606, 'SVM'), ('hsa-miR-5572', 0.04141198032968228, 'SVM'), ('hsa-miR-8069', 0.042355735458337825, 'SVM'), ('hsa-miR-125a-3p', 0.062132915263653284, 'SVM'), ('hsa-miR-6802-5p', 0.02228906447924412, 'SVM'), ('hsa-miR-1307-3p', -0.06452654463179713, 'SVM'), ('hsa-miR-6131', -0.0653706584040078, 'SVM'), ('hsa-miR-663a', -0.008377103938872546, 'SVM'), ('hsa-miR-1228-5p', 0.050415836497133056, 'SVM'), ('hsa-miR-7110-5p', 0.017895253337397166, 'SVM'), ('hsa-miR-4532', -0.04937200020869707, 'SVM'), ('hsa-miR-4787-5p', 0.016889668116138967, 'SVM'), ('hsa-miR-575', 0.03467500878972467, 'SVM'), ('hsa-miR-6746-5p', -0.02073421984533455, 'SVM'), ('hsa-miR-4258', -0.0050864821012827814, 'SVM'), ('hsa-miR-4730', 0.07790653755136295, 'SVM'), ('hsa-miR-6784-5p', -0.000391328143828313, 'SVM'), ('hsa-miR-92b-5p', 0.017139021261426968, 'SVM'), ('hsa-miR-4687-5p', -0.006272221126716354, 'SVM'), ('hsa-miR-1238-5p', -0.006662390558458225, 'SVM'), ('hsa-miR-1469', -0.015298194411505308, 'SVM'), ('hsa-miR-4675', 0.005157787931109932, 'SVM'), ('hsa-miR-6805-5p', 0.013758926941592975, 'SVM'), ('hsa-miR-3184-5p', 0.054827398552546196, 'SVM'), ('hsa-miR-1203', 0.03337815055103302, 'SVM'), ('hsa-miR-4706', 0.002105609659364595, 'SVM'), ('hsa-miR-92a-2-5p', 0.07810676228743851, 'SVM'), ('hsa-miR-3940-5p', 0.008550338376960735, 'SVM'), ('hsa-miR-128-1-5p', 0.009529429511645758, 'SVM'), ('hsa-miR-6857-5p', 0.009618851817219555, 'SVM'), ('hsa-miR-4481', 0.03620730809630794, 'SVM'), ('hsa-miR-3180', 0.014896798980009783, 'SVM'), ('hsa-miR-1233-5p', -0.03700615077151867, 'SVM'), ('hsa-miR-4648', 0.055711248649415304, 'SVM'), ('hsa-miR-4276', -0.009798267479032492, 'SVM'), ('hsa-miR-4734', -0.0591420578734062, 'SVM'), ('hsa-miR-4787-3p', -0.020430071569153874, 'SVM'), ('hsa-miR-4783-3p', -0.07223619730387097, 'SVM'), ('hsa-miR-6869-5p', 0.05543455556733634, 'SVM'), ('hsa-miR-1343-3p', -0.020041123698809567, 'SVM'), ('hsa-miR-4419b', -0.02968621225870812, 'SVM'), ('hsa-miR-6787-5p', -0.05970591883136186, 'SVM'), ('hsa-miR-4732-5p', -0.05671792630427294, 'SVM'), ('hsa-miR-6088', -0.04488950332022572, 'SVM'), ('hsa-miR-6880-3p', -0.01896666298503685, 'SVM')]\n",
      "Selected features from SelectKBest: [  76  220  236  253  388  423  463  697  785  821  832  881  931 1010\n",
      " 1044 1109 1148 1174 1187 1214 1254 1273 1361 1386 1483 1493 1511 1560\n",
      " 1616 1724 1781 1812 1816 1825 1917 1972 2037 2058 2066 2123 2131 2134\n",
      " 2214 2243 2285 2294 2309 2386 2460 2560]\n",
      "Selected features from LassoCV: [ 0  1  2  3  4  5  7  9 10 11 12 13 14 15 16 17 18 19 20 21 23 24 26 27\n",
      " 28 29 30 31 32 34 35 36 37 38 39 40 41 42 43 44 45 46 47 48 49]\n",
      "All XGBoost features: [('hsa-miR-8073', 0.0, 'XGBoost'), ('hsa-miR-5572', 0.0, 'XGBoost'), ('hsa-miR-8069', 0.0, 'XGBoost'), ('hsa-miR-125a-3p', 0.002925875, 'XGBoost'), ('hsa-miR-6802-5p', 0.0, 'XGBoost'), ('hsa-miR-1307-3p', 0.14564724, 'XGBoost'), ('hsa-miR-6131', 0.0047164373, 'XGBoost'), ('hsa-miR-663a', 0.004639391, 'XGBoost'), ('hsa-miR-1228-5p', 0.00502314, 'XGBoost'), ('hsa-miR-7110-5p', 0.0015669145, 'XGBoost'), ('hsa-miR-4532', 0.0, 'XGBoost'), ('hsa-miR-4787-5p', 0.0, 'XGBoost'), ('hsa-miR-575', 0.0, 'XGBoost'), ('hsa-miR-6746-5p', 0.0, 'XGBoost'), ('hsa-miR-4258', 0.0040902384, 'XGBoost'), ('hsa-miR-4730', 0.016643709, 'XGBoost'), ('hsa-miR-6784-5p', 0.0, 'XGBoost'), ('hsa-miR-92b-5p', 0.00023692715, 'XGBoost'), ('hsa-miR-4687-5p', 0.0, 'XGBoost'), ('hsa-miR-1238-5p', 0.0030821497, 'XGBoost'), ('hsa-miR-1469', 0.009753598, 'XGBoost'), ('hsa-miR-4675', 0.0, 'XGBoost'), ('hsa-miR-6805-5p', 0.0, 'XGBoost'), ('hsa-miR-3184-5p', 0.56672186, 'XGBoost'), ('hsa-miR-1203', 0.0001370933, 'XGBoost'), ('hsa-miR-4706', 0.0, 'XGBoost'), ('hsa-miR-92a-2-5p', 0.0, 'XGBoost'), ('hsa-miR-3940-5p', 0.0, 'XGBoost'), ('hsa-miR-128-1-5p', 0.00246506, 'XGBoost'), ('hsa-miR-6857-5p', 0.0, 'XGBoost'), ('hsa-miR-4481', 0.0, 'XGBoost'), ('hsa-miR-3180', 0.0, 'XGBoost'), ('hsa-miR-1233-5p', 0.014170138, 'XGBoost'), ('hsa-miR-4648', 0.006499642, 'XGBoost'), ('hsa-miR-4276', 0.0, 'XGBoost'), ('hsa-miR-4734', 0.0029256125, 'XGBoost'), ('hsa-miR-4787-3p', 0.0030060117, 'XGBoost'), ('hsa-miR-4783-3p', 0.03599759, 'XGBoost'), ('hsa-miR-6869-5p', 0.00026570636, 'XGBoost'), ('hsa-miR-1343-3p', 0.0, 'XGBoost'), ('hsa-miR-4419b', 0.0113035645, 'XGBoost'), ('hsa-miR-6787-5p', 0.029943585, 'XGBoost'), ('hsa-miR-4732-5p', 0.10244534, 'XGBoost'), ('hsa-miR-6088', 0.02579331, 'XGBoost'), ('hsa-miR-6880-3p', 0.0, 'XGBoost')]\n",
      "All selected features saved to '../GSEA/miRNA/50_ctl_b.csv'\n"
     ]
    }
   ],
   "source": [
    "# Extract all selected features from SVM and XGBoost\n",
    "all_svm_features = get_all_selected_features(svm_pipe, feature_names, 'SVM')\n",
    "print(\"All SVM features:\", all_svm_features)\n",
    "\n",
    "all_xgboost_features = get_all_selected_features(xgboost_pipe, feature_names, 'XGBoost')\n",
    "print(\"All XGBoost features:\", all_xgboost_features)\n",
    "\n",
    "# Combine the features and save to CSV\n",
    "all_features_df = pd.DataFrame(all_svm_features + all_xgboost_features, columns=['Feature', 'Importance', 'Classifier'])\n",
    "all_features_df.to_csv('../GSEA/miRNA/50_ctl_b.csv', index=False)\n",
    "print(\"All selected features saved to '../GSEA/miRNA/50_ctl_b.csv'\")"
   ]
  }
 ],
 "metadata": {
  "kernelspec": {
   "display_name": "myenv",
   "language": "python",
   "name": "python3"
  },
  "language_info": {
   "codemirror_mode": {
    "name": "ipython",
    "version": 3
   },
   "file_extension": ".py",
   "mimetype": "text/x-python",
   "name": "python",
   "nbconvert_exporter": "python",
   "pygments_lexer": "ipython3",
   "version": "3.10.8"
  }
 },
 "nbformat": 4,
 "nbformat_minor": 2
}
