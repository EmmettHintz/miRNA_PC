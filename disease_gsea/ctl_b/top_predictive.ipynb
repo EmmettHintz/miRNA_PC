{
 "cells": [
  {
   "cell_type": "code",
   "execution_count": 13,
   "metadata": {},
   "outputs": [],
   "source": [
    "import pandas as pd"
   ]
  },
  {
   "cell_type": "code",
   "execution_count": 14,
   "metadata": {},
   "outputs": [
    {
     "name": "stdout",
     "output_type": "stream",
     "text": [
      "ctl_cancer shape: (90, 3)\n"
     ]
    }
   ],
   "source": [
    "# features_ctl_benign = pd.read_csv('../GSEA/miRNA/50_ctl_b.csv')\n",
    "features_ctl_benign = pd.read_csv('./50_ctl_b.csv')\n",
    "# features_benign_cancer = pd.read_csv('../GSEA/miRNA/50_b_c.csv')\n",
    "\n",
    "# print(f'ctl_benign shape: {features_ctl_benign.shape}')\n",
    "print(f'ctl_cancer shape: {features_ctl_benign.shape}')\n",
    "# print(f'benign_cancer shape: {features_benign_cancer.shape}')"
   ]
  },
  {
   "cell_type": "code",
   "execution_count": 15,
   "metadata": {},
   "outputs": [
    {
     "name": "stdout",
     "output_type": "stream",
     "text": [
      "(90, 3)\n",
      "176\n"
     ]
    }
   ],
   "source": [
    "combined_features = pd.concat([features_ctl_benign])\n",
    "print(combined_features.shape)\n",
    "print(90+86)"
   ]
  },
  {
   "cell_type": "code",
   "execution_count": 16,
   "metadata": {},
   "outputs": [
    {
     "data": {
      "text/html": [
       "<div>\n",
       "<style scoped>\n",
       "    .dataframe tbody tr th:only-of-type {\n",
       "        vertical-align: middle;\n",
       "    }\n",
       "\n",
       "    .dataframe tbody tr th {\n",
       "        vertical-align: top;\n",
       "    }\n",
       "\n",
       "    .dataframe thead th {\n",
       "        text-align: right;\n",
       "    }\n",
       "</style>\n",
       "<table border=\"1\" class=\"dataframe\">\n",
       "  <thead>\n",
       "    <tr style=\"text-align: right;\">\n",
       "      <th></th>\n",
       "      <th>Feature</th>\n",
       "      <th>Importance</th>\n",
       "      <th>Classifier</th>\n",
       "    </tr>\n",
       "  </thead>\n",
       "  <tbody>\n",
       "    <tr>\n",
       "      <th>0</th>\n",
       "      <td>hsa-miR-8073</td>\n",
       "      <td>0.013501</td>\n",
       "      <td>SVM</td>\n",
       "    </tr>\n",
       "    <tr>\n",
       "      <th>1</th>\n",
       "      <td>hsa-miR-5572</td>\n",
       "      <td>0.041412</td>\n",
       "      <td>SVM</td>\n",
       "    </tr>\n",
       "    <tr>\n",
       "      <th>2</th>\n",
       "      <td>hsa-miR-8069</td>\n",
       "      <td>0.042356</td>\n",
       "      <td>SVM</td>\n",
       "    </tr>\n",
       "    <tr>\n",
       "      <th>3</th>\n",
       "      <td>hsa-miR-125a-3p</td>\n",
       "      <td>0.062133</td>\n",
       "      <td>SVM</td>\n",
       "    </tr>\n",
       "    <tr>\n",
       "      <th>4</th>\n",
       "      <td>hsa-miR-6802-5p</td>\n",
       "      <td>0.022289</td>\n",
       "      <td>SVM</td>\n",
       "    </tr>\n",
       "  </tbody>\n",
       "</table>\n",
       "</div>"
      ],
      "text/plain": [
       "           Feature  Importance Classifier\n",
       "0     hsa-miR-8073    0.013501        SVM\n",
       "1     hsa-miR-5572    0.041412        SVM\n",
       "2     hsa-miR-8069    0.042356        SVM\n",
       "3  hsa-miR-125a-3p    0.062133        SVM\n",
       "4  hsa-miR-6802-5p    0.022289        SVM"
      ]
     },
     "execution_count": 16,
     "metadata": {},
     "output_type": "execute_result"
    }
   ],
   "source": [
    "combined_features.head()"
   ]
  },
  {
   "cell_type": "code",
   "execution_count": 17,
   "metadata": {},
   "outputs": [
    {
     "data": {
      "text/plain": [
       "(90, 3)"
      ]
     },
     "execution_count": 17,
     "metadata": {},
     "output_type": "execute_result"
    }
   ],
   "source": [
    "# remove duplicates\n",
    "combined_features = combined_features.drop_duplicates()\n",
    "combined_features.shape"
   ]
  },
  {
   "cell_type": "code",
   "execution_count": 18,
   "metadata": {},
   "outputs": [
    {
     "data": {
      "text/html": [
       "<div>\n",
       "<style scoped>\n",
       "    .dataframe tbody tr th:only-of-type {\n",
       "        vertical-align: middle;\n",
       "    }\n",
       "\n",
       "    .dataframe tbody tr th {\n",
       "        vertical-align: top;\n",
       "    }\n",
       "\n",
       "    .dataframe thead th {\n",
       "        text-align: right;\n",
       "    }\n",
       "</style>\n",
       "<table border=\"1\" class=\"dataframe\">\n",
       "  <thead>\n",
       "    <tr style=\"text-align: right;\">\n",
       "      <th></th>\n",
       "      <th>Feature</th>\n",
       "      <th>Importance</th>\n",
       "      <th>Classifier</th>\n",
       "    </tr>\n",
       "  </thead>\n",
       "  <tbody>\n",
       "    <tr>\n",
       "      <th>68</th>\n",
       "      <td>hsa-miR-3184-5p</td>\n",
       "      <td>0.566722</td>\n",
       "      <td>XGBoost</td>\n",
       "    </tr>\n",
       "    <tr>\n",
       "      <th>50</th>\n",
       "      <td>hsa-miR-1307-3p</td>\n",
       "      <td>0.145647</td>\n",
       "      <td>XGBoost</td>\n",
       "    </tr>\n",
       "    <tr>\n",
       "      <th>87</th>\n",
       "      <td>hsa-miR-4732-5p</td>\n",
       "      <td>0.102445</td>\n",
       "      <td>XGBoost</td>\n",
       "    </tr>\n",
       "    <tr>\n",
       "      <th>26</th>\n",
       "      <td>hsa-miR-92a-2-5p</td>\n",
       "      <td>0.078107</td>\n",
       "      <td>SVM</td>\n",
       "    </tr>\n",
       "    <tr>\n",
       "      <th>15</th>\n",
       "      <td>hsa-miR-4730</td>\n",
       "      <td>0.077907</td>\n",
       "      <td>SVM</td>\n",
       "    </tr>\n",
       "  </tbody>\n",
       "</table>\n",
       "</div>"
      ],
      "text/plain": [
       "             Feature  Importance Classifier\n",
       "68   hsa-miR-3184-5p    0.566722    XGBoost\n",
       "50   hsa-miR-1307-3p    0.145647    XGBoost\n",
       "87   hsa-miR-4732-5p    0.102445    XGBoost\n",
       "26  hsa-miR-92a-2-5p    0.078107        SVM\n",
       "15      hsa-miR-4730    0.077907        SVM"
      ]
     },
     "execution_count": 18,
     "metadata": {},
     "output_type": "execute_result"
    }
   ],
   "source": [
    "# order the features by importance\n",
    "combined_features.sort_values(by='Importance', ascending=False, inplace=True)\n",
    "combined_features.head()"
   ]
  },
  {
   "cell_type": "code",
   "execution_count": 19,
   "metadata": {},
   "outputs": [
    {
     "name": "stdout",
     "output_type": "stream",
     "text": [
      "hsa-miR-3184-5p\n",
      "hsa-miR-1307-3p\n",
      "hsa-miR-4732-5p\n",
      "hsa-miR-92a-2-5p\n",
      "hsa-miR-4730\n",
      "hsa-miR-125a-3p\n",
      "hsa-miR-4648\n",
      "hsa-miR-6869-5p\n",
      "hsa-miR-3184-5p\n",
      "hsa-miR-1228-5p\n",
      "hsa-miR-8069\n",
      "hsa-miR-5572\n",
      "hsa-miR-4481\n",
      "hsa-miR-4783-3p\n",
      "hsa-miR-575\n",
      "hsa-miR-1203\n",
      "hsa-miR-6787-5p\n",
      "hsa-miR-6088\n",
      "hsa-miR-6802-5p\n",
      "hsa-miR-7110-5p\n",
      "hsa-miR-92b-5p\n",
      "hsa-miR-4787-5p\n",
      "hsa-miR-4730\n",
      "hsa-miR-3180\n",
      "hsa-miR-1233-5p\n",
      "hsa-miR-6805-5p\n",
      "hsa-miR-8073\n",
      "hsa-miR-4419b\n",
      "hsa-miR-1469\n",
      "hsa-miR-6857-5p\n",
      "hsa-miR-128-1-5p\n",
      "hsa-miR-3940-5p\n",
      "hsa-miR-4648\n",
      "hsa-miR-4675\n",
      "hsa-miR-1228-5p\n",
      "hsa-miR-6131\n",
      "hsa-miR-663a\n",
      "hsa-miR-4258\n",
      "hsa-miR-1238-5p\n",
      "hsa-miR-4787-3p\n",
      "hsa-miR-125a-3p\n",
      "hsa-miR-4734\n",
      "hsa-miR-128-1-5p\n",
      "hsa-miR-4706\n",
      "hsa-miR-7110-5p\n",
      "hsa-miR-6869-5p\n",
      "hsa-miR-92b-5p\n",
      "hsa-miR-1203\n",
      "hsa-miR-4675\n",
      "hsa-miR-6805-5p\n",
      "hsa-miR-3180\n",
      "hsa-miR-1343-3p\n",
      "hsa-miR-4276\n",
      "hsa-miR-6857-5p\n",
      "hsa-miR-4706\n",
      "hsa-miR-92a-2-5p\n",
      "hsa-miR-4687-5p\n",
      "hsa-miR-3940-5p\n",
      "hsa-miR-6784-5p\n",
      "hsa-miR-4481\n",
      "hsa-miR-8073\n",
      "hsa-miR-6746-5p\n",
      "hsa-miR-8069\n",
      "hsa-miR-575\n",
      "hsa-miR-5572\n",
      "hsa-miR-6880-3p\n",
      "hsa-miR-6802-5p\n",
      "hsa-miR-4532\n",
      "hsa-miR-4787-5p\n",
      "hsa-miR-6784-5p\n",
      "hsa-miR-4258\n",
      "hsa-miR-4687-5p\n",
      "hsa-miR-1238-5p\n",
      "hsa-miR-663a\n",
      "hsa-miR-4276\n",
      "hsa-miR-1469\n",
      "hsa-miR-6880-3p\n",
      "hsa-miR-1343-3p\n",
      "hsa-miR-4787-3p\n",
      "hsa-miR-6746-5p\n",
      "hsa-miR-4419b\n",
      "hsa-miR-1233-5p\n",
      "hsa-miR-6088\n",
      "hsa-miR-4532\n",
      "hsa-miR-4732-5p\n",
      "hsa-miR-4734\n",
      "hsa-miR-6787-5p\n",
      "hsa-miR-1307-3p\n",
      "hsa-miR-6131\n",
      "hsa-miR-4783-3p\n"
     ]
    }
   ],
   "source": [
    "# print all features on new line for easy copy-paste\n",
    "print('\\n'.join(combined_features['Feature'].values))"
   ]
  },
  {
   "cell_type": "code",
   "execution_count": 20,
   "metadata": {},
   "outputs": [],
   "source": [
    "# save this to CSV\n",
    "combined_features.to_csv('miRNA_disease_ranked.csv', index=False)"
   ]
  }
 ],
 "metadata": {
  "kernelspec": {
   "display_name": "myenv",
   "language": "python",
   "name": "python3"
  },
  "language_info": {
   "codemirror_mode": {
    "name": "ipython",
    "version": 3
   },
   "file_extension": ".py",
   "mimetype": "text/x-python",
   "name": "python",
   "nbconvert_exporter": "python",
   "pygments_lexer": "ipython3",
   "version": "3.10.8"
  }
 },
 "nbformat": 4,
 "nbformat_minor": 2
}
