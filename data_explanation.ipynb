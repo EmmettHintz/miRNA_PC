{
 "cells": [
  {
   "cell_type": "code",
   "execution_count": 15,
   "metadata": {},
   "outputs": [],
   "source": [
    "import pandas as pd\n",
    "import numpy as np\n",
    "import matplotlib.pyplot as plt\n",
    "import seaborn as sns"
   ]
  },
  {
   "cell_type": "code",
   "execution_count": 16,
   "metadata": {},
   "outputs": [
    {
     "data": {
      "text/html": [
       "<div>\n",
       "<style scoped>\n",
       "    .dataframe tbody tr th:only-of-type {\n",
       "        vertical-align: middle;\n",
       "    }\n",
       "\n",
       "    .dataframe tbody tr th {\n",
       "        vertical-align: top;\n",
       "    }\n",
       "\n",
       "    .dataframe thead th {\n",
       "        text-align: right;\n",
       "    }\n",
       "</style>\n",
       "<table border=\"1\" class=\"dataframe\">\n",
       "  <thead>\n",
       "    <tr style=\"text-align: right;\">\n",
       "      <th></th>\n",
       "      <th>BC0010</th>\n",
       "      <th>BC0011</th>\n",
       "      <th>BC0016</th>\n",
       "      <th>BC0025</th>\n",
       "      <th>BC0033</th>\n",
       "      <th>BC0035</th>\n",
       "      <th>BC0041</th>\n",
       "      <th>BC0051</th>\n",
       "      <th>BC0059</th>\n",
       "      <th>BC0062</th>\n",
       "      <th>...</th>\n",
       "      <th>XB0991</th>\n",
       "      <th>XB0992</th>\n",
       "      <th>XB0993</th>\n",
       "      <th>XB0994</th>\n",
       "      <th>XB0995</th>\n",
       "      <th>XB0996</th>\n",
       "      <th>XB0997</th>\n",
       "      <th>XB0998</th>\n",
       "      <th>XB0999</th>\n",
       "      <th>XB1000</th>\n",
       "    </tr>\n",
       "    <tr>\n",
       "      <th>ID_REF</th>\n",
       "      <th></th>\n",
       "      <th></th>\n",
       "      <th></th>\n",
       "      <th></th>\n",
       "      <th></th>\n",
       "      <th></th>\n",
       "      <th></th>\n",
       "      <th></th>\n",
       "      <th></th>\n",
       "      <th></th>\n",
       "      <th></th>\n",
       "      <th></th>\n",
       "      <th></th>\n",
       "      <th></th>\n",
       "      <th></th>\n",
       "      <th></th>\n",
       "      <th></th>\n",
       "      <th></th>\n",
       "      <th></th>\n",
       "      <th></th>\n",
       "      <th></th>\n",
       "    </tr>\n",
       "  </thead>\n",
       "  <tbody>\n",
       "    <tr>\n",
       "      <th>hsa-miR-28-3p</th>\n",
       "      <td>-1.177703</td>\n",
       "      <td>-1.556806</td>\n",
       "      <td>-1.321168</td>\n",
       "      <td>-2.176251</td>\n",
       "      <td>-2.079343</td>\n",
       "      <td>-1.427147</td>\n",
       "      <td>-1.12793</td>\n",
       "      <td>-1.209849</td>\n",
       "      <td>-1.635071</td>\n",
       "      <td>-1.453203</td>\n",
       "      <td>...</td>\n",
       "      <td>1.228786</td>\n",
       "      <td>1.888988</td>\n",
       "      <td>-4.264696</td>\n",
       "      <td>2.396736</td>\n",
       "      <td>3.075239</td>\n",
       "      <td>3.867679</td>\n",
       "      <td>5.311947</td>\n",
       "      <td>2.229432</td>\n",
       "      <td>2.249489</td>\n",
       "      <td>3.507044</td>\n",
       "    </tr>\n",
       "    <tr>\n",
       "      <th>hsa-miR-27a-5p</th>\n",
       "      <td>-1.177703</td>\n",
       "      <td>-1.556806</td>\n",
       "      <td>-1.321168</td>\n",
       "      <td>-2.176251</td>\n",
       "      <td>-2.079343</td>\n",
       "      <td>-1.427147</td>\n",
       "      <td>-1.12793</td>\n",
       "      <td>-1.209849</td>\n",
       "      <td>-1.635071</td>\n",
       "      <td>-1.453203</td>\n",
       "      <td>...</td>\n",
       "      <td>-4.744703</td>\n",
       "      <td>-0.100562</td>\n",
       "      <td>-4.264696</td>\n",
       "      <td>-4.211073</td>\n",
       "      <td>-3.602450</td>\n",
       "      <td>3.501322</td>\n",
       "      <td>4.073188</td>\n",
       "      <td>2.674183</td>\n",
       "      <td>-0.639963</td>\n",
       "      <td>1.620584</td>\n",
       "    </tr>\n",
       "    <tr>\n",
       "      <th>hsa-miR-518b</th>\n",
       "      <td>-1.177703</td>\n",
       "      <td>-1.556806</td>\n",
       "      <td>-1.321168</td>\n",
       "      <td>-2.176251</td>\n",
       "      <td>-2.079343</td>\n",
       "      <td>-1.427147</td>\n",
       "      <td>-1.12793</td>\n",
       "      <td>-1.209849</td>\n",
       "      <td>-1.635071</td>\n",
       "      <td>-1.453203</td>\n",
       "      <td>...</td>\n",
       "      <td>2.263887</td>\n",
       "      <td>2.327348</td>\n",
       "      <td>-4.264696</td>\n",
       "      <td>1.783504</td>\n",
       "      <td>2.327912</td>\n",
       "      <td>2.837191</td>\n",
       "      <td>4.101201</td>\n",
       "      <td>3.867016</td>\n",
       "      <td>0.423182</td>\n",
       "      <td>4.379823</td>\n",
       "    </tr>\n",
       "    <tr>\n",
       "      <th>hsa-miR-520b</th>\n",
       "      <td>-1.177703</td>\n",
       "      <td>-1.556806</td>\n",
       "      <td>-1.321168</td>\n",
       "      <td>-2.176251</td>\n",
       "      <td>-2.079343</td>\n",
       "      <td>-1.427147</td>\n",
       "      <td>-1.12793</td>\n",
       "      <td>-1.209849</td>\n",
       "      <td>-1.635071</td>\n",
       "      <td>-1.453203</td>\n",
       "      <td>...</td>\n",
       "      <td>-0.362651</td>\n",
       "      <td>-0.587942</td>\n",
       "      <td>-4.264696</td>\n",
       "      <td>4.054835</td>\n",
       "      <td>2.256789</td>\n",
       "      <td>0.665455</td>\n",
       "      <td>2.118686</td>\n",
       "      <td>3.424473</td>\n",
       "      <td>1.028599</td>\n",
       "      <td>4.495673</td>\n",
       "    </tr>\n",
       "    <tr>\n",
       "      <th>hsa-miR-498</th>\n",
       "      <td>2.839246</td>\n",
       "      <td>4.716967</td>\n",
       "      <td>4.327931</td>\n",
       "      <td>4.970866</td>\n",
       "      <td>1.726077</td>\n",
       "      <td>3.668141</td>\n",
       "      <td>3.95854</td>\n",
       "      <td>-1.209849</td>\n",
       "      <td>-1.635071</td>\n",
       "      <td>-1.453203</td>\n",
       "      <td>...</td>\n",
       "      <td>5.851184</td>\n",
       "      <td>5.913080</td>\n",
       "      <td>5.665214</td>\n",
       "      <td>5.637739</td>\n",
       "      <td>5.564177</td>\n",
       "      <td>4.803604</td>\n",
       "      <td>5.698477</td>\n",
       "      <td>5.689167</td>\n",
       "      <td>5.844544</td>\n",
       "      <td>5.990411</td>\n",
       "    </tr>\n",
       "  </tbody>\n",
       "</table>\n",
       "<p>5 rows × 16190 columns</p>\n",
       "</div>"
      ],
      "text/plain": [
       "                  BC0010    BC0011    BC0016    BC0025    BC0033    BC0035  \\\n",
       "ID_REF                                                                       \n",
       "hsa-miR-28-3p  -1.177703 -1.556806 -1.321168 -2.176251 -2.079343 -1.427147   \n",
       "hsa-miR-27a-5p -1.177703 -1.556806 -1.321168 -2.176251 -2.079343 -1.427147   \n",
       "hsa-miR-518b   -1.177703 -1.556806 -1.321168 -2.176251 -2.079343 -1.427147   \n",
       "hsa-miR-520b   -1.177703 -1.556806 -1.321168 -2.176251 -2.079343 -1.427147   \n",
       "hsa-miR-498     2.839246  4.716967  4.327931  4.970866  1.726077  3.668141   \n",
       "\n",
       "                 BC0041    BC0051    BC0059    BC0062  ...    XB0991  \\\n",
       "ID_REF                                                 ...             \n",
       "hsa-miR-28-3p  -1.12793 -1.209849 -1.635071 -1.453203  ...  1.228786   \n",
       "hsa-miR-27a-5p -1.12793 -1.209849 -1.635071 -1.453203  ... -4.744703   \n",
       "hsa-miR-518b   -1.12793 -1.209849 -1.635071 -1.453203  ...  2.263887   \n",
       "hsa-miR-520b   -1.12793 -1.209849 -1.635071 -1.453203  ... -0.362651   \n",
       "hsa-miR-498     3.95854 -1.209849 -1.635071 -1.453203  ...  5.851184   \n",
       "\n",
       "                  XB0992    XB0993    XB0994    XB0995    XB0996    XB0997  \\\n",
       "ID_REF                                                                       \n",
       "hsa-miR-28-3p   1.888988 -4.264696  2.396736  3.075239  3.867679  5.311947   \n",
       "hsa-miR-27a-5p -0.100562 -4.264696 -4.211073 -3.602450  3.501322  4.073188   \n",
       "hsa-miR-518b    2.327348 -4.264696  1.783504  2.327912  2.837191  4.101201   \n",
       "hsa-miR-520b   -0.587942 -4.264696  4.054835  2.256789  0.665455  2.118686   \n",
       "hsa-miR-498     5.913080  5.665214  5.637739  5.564177  4.803604  5.698477   \n",
       "\n",
       "                  XB0998    XB0999    XB1000  \n",
       "ID_REF                                        \n",
       "hsa-miR-28-3p   2.229432  2.249489  3.507044  \n",
       "hsa-miR-27a-5p  2.674183 -0.639963  1.620584  \n",
       "hsa-miR-518b    3.867016  0.423182  4.379823  \n",
       "hsa-miR-520b    3.424473  1.028599  4.495673  \n",
       "hsa-miR-498     5.689167  5.844544  5.990411  \n",
       "\n",
       "[5 rows x 16190 columns]"
      ]
     },
     "execution_count": 16,
     "metadata": {},
     "output_type": "execute_result"
    }
   ],
   "source": [
    "df = pd.read_csv('data/GSE211692.txt', sep='\\t', index_col=0)\n",
    "df.head()"
   ]
  },
  {
   "cell_type": "code",
   "execution_count": 17,
   "metadata": {},
   "outputs": [
    {
     "data": {
      "text/plain": [
       "Index(['BC0010', 'BC0011', 'BC0016', 'BC0025', 'BC0033', 'BC0035', 'BC0041',\n",
       "       'BC0051', 'BC0059', 'BC0062',\n",
       "       ...\n",
       "       'XB0991', 'XB0992', 'XB0993', 'XB0994', 'XB0995', 'XB0996', 'XB0997',\n",
       "       'XB0998', 'XB0999', 'XB1000'],\n",
       "      dtype='object', length=16190)"
      ]
     },
     "execution_count": 17,
     "metadata": {},
     "output_type": "execute_result"
    }
   ],
   "source": [
    "df.columns"
   ]
  },
  {
   "cell_type": "code",
   "execution_count": 18,
   "metadata": {},
   "outputs": [
    {
     "data": {
      "text/plain": [
       "(2565, 16190)"
      ]
     },
     "execution_count": 18,
     "metadata": {},
     "output_type": "execute_result"
    }
   ],
   "source": [
    "df.shape"
   ]
  },
  {
   "cell_type": "code",
   "execution_count": 19,
   "metadata": {},
   "outputs": [
    {
     "name": "stdout",
     "output_type": "stream",
     "text": [
      "Index(['BC0010', 'BC0011', 'BC0016', 'BC0025', 'BC0033', 'BC0035', 'BC0041',\n",
      "       'BC0051', 'BC0059', 'BC0062',\n",
      "       ...\n",
      "       'XB0991', 'XB0992', 'XB0993', 'XB0994', 'XB0995', 'XB0996', 'XB0997',\n",
      "       'XB0998', 'XB0999', 'XB1000'],\n",
      "      dtype='object', length=16190)\n"
     ]
    }
   ],
   "source": [
    "print(df.columns)"
   ]
  },
  {
   "cell_type": "code",
   "execution_count": 20,
   "metadata": {},
   "outputs": [
    {
     "name": "stdout",
     "output_type": "stream",
     "text": [
      "Index(['BC', 'BL', 'BT', 'CC', 'CHC', 'EC', 'GC', 'GL', 'HC', 'LK', 'M', 'NB',\n",
      "       'OV', 'PC', 'PR', 'SA', 'XA', 'XB'],\n",
      "      dtype='object')\n"
     ]
    }
   ],
   "source": [
    "# If the sample names are in the columns and the prefix before the number is the disaea name, can we, ex. [BC...] = Breast Cancer\n",
    "# Can we pull out all unique prefixes in the column heading\n",
    "\n",
    "\n",
    "# Extract the prefix from the column names\n",
    "unique_samples = df.columns.str.extract(r'([A-Z]+)', expand=False)\n",
    "\n",
    "# Print unique prefixes\n",
    "print(unique_samples.unique())"
   ]
  }
 ],
 "metadata": {
  "kernelspec": {
   "display_name": "myenv",
   "language": "python",
   "name": "python3"
  },
  "language_info": {
   "codemirror_mode": {
    "name": "ipython",
    "version": 3
   },
   "file_extension": ".py",
   "mimetype": "text/x-python",
   "name": "python",
   "nbconvert_exporter": "python",
   "pygments_lexer": "ipython3",
   "version": "3.10.8"
  }
 },
 "nbformat": 4,
 "nbformat_minor": 2
}
