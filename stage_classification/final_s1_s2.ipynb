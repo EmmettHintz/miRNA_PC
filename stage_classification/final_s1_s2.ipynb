{
 "cells": [
  {
   "cell_type": "code",
   "execution_count": 66,
   "metadata": {},
   "outputs": [],
   "source": [
    "import pandas as pd\n",
    "import numpy as np\n",
    "import optuna\n",
    "import matplotlib.pyplot as plt\n",
    "import networkx as nx\n",
    "import itertools\n",
    "from sklearn.linear_model import LassoCV\n",
    "from sklearn.feature_selection import SelectKBest, f_classif, SelectFromModel\n",
    "from sklearn.model_selection import train_test_split, StratifiedKFold, cross_val_score\n",
    "from sklearn.metrics import confusion_matrix, accuracy_score, roc_auc_score, roc_curve\n",
    "from sklearn.ensemble import RandomForestClassifier\n",
    "from xgboost import XGBClassifier\n",
    "from sklearn.pipeline import Pipeline\n",
    "from sklearn.svm import SVC\n",
    "from sklearn.preprocessing import StandardScaler\n",
    "from imblearn.under_sampling import RandomUnderSampler\n",
    "from imblearn.over_sampling import RandomOverSampler\n",
    "import os\n",
    "import joblib"
   ]
  },
  {
   "cell_type": "code",
   "execution_count": 67,
   "metadata": {},
   "outputs": [
    {
     "data": {
      "text/plain": [
       "(173, 2570)"
      ]
     },
     "execution_count": 67,
     "metadata": {},
     "output_type": "execute_result"
    }
   ],
   "source": [
    "stage_1_samples = pd.read_csv('../data/cancer/stage_1_prostate_cancer_samples.csv')\n",
    "stage_1_samples.shape"
   ]
  },
  {
   "cell_type": "code",
   "execution_count": 68,
   "metadata": {},
   "outputs": [
    {
     "data": {
      "text/plain": [
       "(395, 2570)"
      ]
     },
     "execution_count": 68,
     "metadata": {},
     "output_type": "execute_result"
    }
   ],
   "source": [
    "stage_2_samples = pd.read_csv('../data/cancer/stage_2_prostate_cancer_samples.csv')\n",
    "stage_2_samples.shape"
   ]
  },
  {
   "cell_type": "code",
   "execution_count": 69,
   "metadata": {},
   "outputs": [],
   "source": [
    "combined_dataset = pd.concat([stage_1_samples, stage_2_samples], ignore_index=True)"
   ]
  },
  {
   "cell_type": "code",
   "execution_count": 70,
   "metadata": {},
   "outputs": [
    {
     "name": "stdout",
     "output_type": "stream",
     "text": [
      "Unique values in Stage column: ['Stage: 1' 'Stage: 2']\n",
      "Class distribution in ID_REF column:\n",
      "ID_REF\n",
      "1    395\n",
      "0    173\n",
      "Name: count, dtype: int64\n"
     ]
    }
   ],
   "source": [
    "# Verify and clean the Stage column\n",
    "print(\"Unique values in Stage column:\", combined_dataset['Stage'].unique())\n",
    "combined_dataset['Stage'] = combined_dataset['Stage'].str.strip()\n",
    "combined_dataset['ID_REF'] = np.where(combined_dataset['Stage'] == 'Stage: 1', 0, 1)\n",
    "combined_dataset['ID_REF'] = np.where(combined_dataset['Stage'] == 'Stage: 2', 1, combined_dataset['ID_REF'])\n",
    "\n",
    "# Print class distribution to ensure both classes are present\n",
    "print(\"Class distribution in ID_REF column:\")\n",
    "print(combined_dataset['ID_REF'].value_counts())\n"
   ]
  },
  {
   "cell_type": "code",
   "execution_count": 71,
   "metadata": {},
   "outputs": [],
   "source": [
    "# Define process_data function\n",
    "def process_data(data, under_sample_factor=None, over_sample_factor=None):\n",
    "    columns_to_drop = ['Sample_ID', 'Sex', 'Age', 'Stage', 'Disease']\n",
    "    data = data.drop(columns=columns_to_drop, axis=1)\n",
    "    \n",
    "    x = np.array(data.drop([\"ID_REF\"], axis=1)).astype('float')\n",
    "    y = np.array(data[\"ID_REF\"]).astype('int')\n",
    "    feature_names = data.columns[1:]\n",
    "\n",
    "    if under_sample_factor is not None and isinstance(under_sample_factor, float) and 0 < under_sample_factor <= 1:\n",
    "        under_sampler = RandomUnderSampler(sampling_strategy=under_sample_factor)\n",
    "        x, y = under_sampler.fit_resample(x, y)\n",
    "\n",
    "    if over_sample_factor is not None and isinstance(over_sample_factor, float) and 0 < over_sample_factor <= 1:\n",
    "        over_sampler = RandomOverSampler(sampling_strategy=over_sample_factor)\n",
    "        x, y = over_sampler.fit_resample(x, y)\n",
    "\n",
    "    x_train, x_test, y_train, y_test = train_test_split(x, y, test_size=0.2, random_state=0, stratify=y)\n",
    "\n",
    "    scaler = StandardScaler()\n",
    "    x_train = scaler.fit_transform(x_train)\n",
    "    x_test = scaler.transform(x_test)\n",
    "\n",
    "    return x_train, x_test, y_train, y_test, feature_names"
   ]
  },
  {
   "cell_type": "code",
   "execution_count": 72,
   "metadata": {},
   "outputs": [],
   "source": [
    "# Define parameters\n",
    "feature_selection_num = 50\n",
    "feature_importance_num = 10\n",
    "\n",
    "# Process data\n",
    "x_train, x_test, y_train, y_test, feature_names = process_data(combined_dataset)"
   ]
  },
  {
   "cell_type": "code",
   "execution_count": 73,
   "metadata": {},
   "outputs": [],
   "source": [
    "def svm_objective(trial):\n",
    "    k = feature_selection_num\n",
    "    \n",
    "    C = trial.suggest_float('C', 1e-3, 1e3, log=True)\n",
    "    kernel = 'linear'  # Use only linear kernel for feature extraction\n",
    "    \n",
    "    # Relaxed LassoCV with a wider range of smaller alphas\n",
    "    lasso = SelectFromModel(LassoCV(alphas=np.logspace(-6, -1, 50), cv=5, max_iter=10000, random_state=0))\n",
    "    \n",
    "    pipe = Pipeline([\n",
    "        ('skb', SelectKBest(f_classif, k=k)),\n",
    "        ('lasso', lasso),\n",
    "        ('estimator', SVC(C=C, kernel=kernel, random_state=0))\n",
    "    ])\n",
    "    \n",
    "    cv = StratifiedKFold(n_splits=5)\n",
    "    try:\n",
    "        scores = cross_val_score(pipe, x_train, y_train, cv=cv, scoring='accuracy')\n",
    "        return scores.mean()\n",
    "    except ValueError as e:\n",
    "        print(f\"ValueError: {e}\")\n",
    "        print(\"Selected features by SelectKBest:\", skb.get_support(indices=True))\n",
    "        if hasattr(lasso.estimator_, 'coef_'):\n",
    "            print(\"Lasso coefficients:\", lasso.estimator_.coef_)\n",
    "        return np.nan"
   ]
  },
  {
   "cell_type": "code",
   "execution_count": 74,
   "metadata": {},
   "outputs": [],
   "source": [
    "def rf_objective(trial):\n",
    "    k = feature_selection_num\n",
    "    \n",
    "    n_estimators = trial.suggest_int('n_estimators', 100, 1000)\n",
    "    max_depth = trial.suggest_int('max_depth', 2, 32)\n",
    "    max_features = trial.suggest_categorical('max_features', ['sqrt', 'log2'])\n",
    "    criterion = trial.suggest_categorical('criterion', ['gini', 'entropy'])\n",
    "    \n",
    "    lasso = SelectFromModel(LassoCV(alphas=np.logspace(-6, -1, 50), cv=5, max_iter=10000, random_state=0))\n",
    "    \n",
    "    pipe = Pipeline([\n",
    "        ('skb', SelectKBest(f_classif, k=k)),\n",
    "        ('lasso', lasso),\n",
    "        ('estimator', RandomForestClassifier(n_estimators=n_estimators, max_depth=max_depth, max_features=max_features, criterion=criterion, random_state=0))\n",
    "    ])\n",
    "    \n",
    "    cv = StratifiedKFold(n_splits=5)\n",
    "    scores = cross_val_score(pipe, x_train, y_train, cv=cv, scoring='accuracy')\n",
    "    return scores.mean()"
   ]
  },
  {
   "cell_type": "code",
   "execution_count": 75,
   "metadata": {},
   "outputs": [],
   "source": [
    "def xgboost_objective(trial):\n",
    "    k = feature_selection_num\n",
    "    \n",
    "    learning_rate = trial.suggest_float('learning_rate', 1e-3, 1.0, log=True)\n",
    "    max_depth = trial.suggest_int('max_depth', 2, 10)\n",
    "    n_estimators = trial.suggest_int('n_estimators', 100, 1000)\n",
    "    \n",
    "    lasso = SelectFromModel(LassoCV(alphas=np.logspace(-6, -1, 50), cv=5, max_iter=10000, random_state=0))\n",
    "    \n",
    "    pipe = Pipeline([\n",
    "        ('skb', SelectKBest(f_classif, k=k)),\n",
    "        ('lasso', lasso),\n",
    "        ('estimator', XGBClassifier(learning_rate=learning_rate, max_depth=max_depth, n_estimators=n_estimators, random_state=0, use_label_encoder=False, eval_metric='logloss'))\n",
    "    ])\n",
    "    \n",
    "    cv = StratifiedKFold(n_splits=5)\n",
    "    scores = cross_val_score(pipe, x_train, y_train, cv=cv, scoring='accuracy')\n",
    "    return scores.mean()"
   ]
  },
  {
   "cell_type": "code",
   "execution_count": 76,
   "metadata": {},
   "outputs": [],
   "source": [
    "# Function to save study\n",
    "def save_study(study, filename):\n",
    "    joblib.dump(study, filename)\n",
    "\n",
    "# Function to load study\n",
    "def load_study(filename):\n",
    "    return joblib.load(filename)"
   ]
  },
  {
   "cell_type": "code",
   "execution_count": 77,
   "metadata": {},
   "outputs": [],
   "source": [
    "# Optimize hyperparameters using Optuna\n",
    "svm_study_filename = '50_svm_study_s1_s2.pkl'\n",
    "rf_study_filename = '50_rf_study_s1_s2.pkl'\n",
    "xgboost_study_filename = '50_xgboost_study_s1_s2.pkl'"
   ]
  },
  {
   "cell_type": "code",
   "execution_count": 78,
   "metadata": {},
   "outputs": [],
   "source": [
    "# Optimize hyperparameters using Optuna with early stopping\n",
    "def optimize_with_early_stopping(objective, study_filename, n_trials=50, patience=10):\n",
    "    if os.path.exists(study_filename):\n",
    "        study = load_study(study_filename)\n",
    "        return study\n",
    "    else:\n",
    "        study = optuna.create_study(direction='maximize')\n",
    "    \n",
    "    best_value = -np.inf\n",
    "    trials_without_improvement = 0\n",
    "    \n",
    "    for trial in range(n_trials):\n",
    "        study.optimize(objective, n_trials=1)\n",
    "        \n",
    "        current_best_value = study.best_value\n",
    "        if current_best_value > best_value:\n",
    "            best_value = current_best_value\n",
    "            trials_without_improvement = 0\n",
    "        else:\n",
    "            trials_without_improvement += 1\n",
    "        \n",
    "        if trials_without_improvement >= patience:\n",
    "            print(f\"Early stopping at trial {trial + 1}\")\n",
    "            break\n",
    "        \n",
    "        save_study(study, study_filename)\n",
    "    \n",
    "    return study"
   ]
  },
  {
   "cell_type": "markdown",
   "metadata": {},
   "source": [
    "### Find Hyperparmeters if not trained already"
   ]
  },
  {
   "cell_type": "code",
   "execution_count": 79,
   "metadata": {},
   "outputs": [],
   "source": [
    "svm_study = optimize_with_early_stopping(svm_objective, svm_study_filename, n_trials=50, patience=10)"
   ]
  },
  {
   "cell_type": "code",
   "execution_count": 80,
   "metadata": {},
   "outputs": [],
   "source": [
    "rf_study = optimize_with_early_stopping(rf_objective, rf_study_filename, n_trials=100, patience=10)"
   ]
  },
  {
   "cell_type": "code",
   "execution_count": 81,
   "metadata": {},
   "outputs": [],
   "source": [
    "xgboost_study = optimize_with_early_stopping(xgboost_objective, xgboost_study_filename, n_trials=100, patience=10)"
   ]
  },
  {
   "cell_type": "markdown",
   "metadata": {},
   "source": [
    "### Print the best trial for each study\n",
    "\n",
    "For SVM, RF, and XGBoost"
   ]
  },
  {
   "cell_type": "code",
   "execution_count": 82,
   "metadata": {},
   "outputs": [
    {
     "name": "stdout",
     "output_type": "stream",
     "text": [
      "Best SVM trial:\n",
      "  Value:  0.7555311355311355\n",
      "  Params: \n",
      "    C: 1.7585802577075025\n"
     ]
    }
   ],
   "source": [
    "print(\"Best SVM trial:\")\n",
    "svm_trial = svm_study.best_trial\n",
    "print(\"  Value: \", svm_trial.value)\n",
    "print(\"  Params: \")\n",
    "for key, value in svm_trial.params.items():\n",
    "    print(f\"    {key}: {value}\")"
   ]
  },
  {
   "cell_type": "code",
   "execution_count": 83,
   "metadata": {},
   "outputs": [
    {
     "name": "stdout",
     "output_type": "stream",
     "text": [
      "Best Random Forest trial:\n",
      "  Value:  0.7687179487179487\n",
      "  Params: \n",
      "    n_estimators: 479\n",
      "    max_depth: 5\n",
      "    max_features: log2\n",
      "    criterion: gini\n"
     ]
    }
   ],
   "source": [
    "print(\"Best Random Forest trial:\")\n",
    "rf_trial = rf_study.best_trial\n",
    "print(\"  Value: \", rf_trial.value)\n",
    "print(\"  Params: \")\n",
    "for key, value in rf_trial.params.items():\n",
    "    print(f\"    {key}: {value}\")"
   ]
  },
  {
   "cell_type": "code",
   "execution_count": 84,
   "metadata": {},
   "outputs": [
    {
     "name": "stdout",
     "output_type": "stream",
     "text": [
      "Best XGBoost trial:\n",
      "  Value:  0.7511599511599512\n",
      "  Params: \n",
      "    learning_rate: 0.00718102280171912\n",
      "    max_depth: 4\n",
      "    n_estimators: 710\n"
     ]
    }
   ],
   "source": [
    "print(\"Best XGBoost trial:\")\n",
    "xgboost_trial = xgboost_study.best_trial\n",
    "print(\"  Value: \", xgboost_trial.value)\n",
    "print(\"  Params: \")\n",
    "for key, value in xgboost_trial.params.items():\n",
    "    print(f\"    {key}: {value}\")"
   ]
  },
  {
   "cell_type": "markdown",
   "metadata": {},
   "source": [
    "## Train and evaluate the models with the best hyperparameters"
   ]
  },
  {
   "cell_type": "code",
   "execution_count": 85,
   "metadata": {},
   "outputs": [],
   "source": [
    "# Train and evaluate the models with the best hyperparameters\n",
    "def train_and_evaluate(pipe, x_train, y_train, x_test, y_test):\n",
    "    pipe.fit(x_train, y_train)\n",
    "    y_pred = pipe.predict(x_test)\n",
    "    print(f'Testing accuracy {accuracy_score(y_test, y_pred)}')\n",
    "    print(f'Confusion matrix: \\n{confusion_matrix(y_test, y_pred)}')"
   ]
  },
  {
   "cell_type": "markdown",
   "metadata": {},
   "source": [
    "### SVM"
   ]
  },
  {
   "cell_type": "code",
   "execution_count": 86,
   "metadata": {},
   "outputs": [
    {
     "name": "stdout",
     "output_type": "stream",
     "text": [
      "Testing accuracy 0.7719298245614035\n",
      "Confusion matrix: \n",
      "[[21 14]\n",
      " [12 67]]\n"
     ]
    }
   ],
   "source": [
    "best_svm_params = svm_trial.params\n",
    "svm_pipe = Pipeline([\n",
    "    ('skb', SelectKBest(f_classif, k=feature_selection_num)),\n",
    "    ('lasso', SelectFromModel(LassoCV(alphas=np.logspace(-6, -1, 50), cv=5, max_iter=10000, random_state=0))),\n",
    "    ('estimator', SVC(C=best_svm_params['C'], kernel='linear', random_state=0))  # Ensure linear kernel\n",
    "])\n",
    "train_and_evaluate(svm_pipe, x_train, y_train, x_test, y_test)"
   ]
  },
  {
   "cell_type": "code",
   "execution_count": 87,
   "metadata": {},
   "outputs": [],
   "source": [
    "# svm_accuracies = []\n",
    "\n",
    "# # Loop through the number of features from 1 to 150\n",
    "# for k in range(1, 121):\n",
    "#     best_svm_params = svm_trial.params\n",
    "#     svm_pipe = Pipeline([\n",
    "#         ('skb', SelectKBest(f_classif, k=k)),\n",
    "#         ('lasso', SelectFromModel(LassoCV(cv=5, random_state=0))),\n",
    "#         ('estimator', SVC(C=best_svm_params['C'], kernel=best_svm_params['kernel'], random_state=0))\n",
    "#     ])\n",
    "    \n",
    "#     # Train and evaluate the pipeline\n",
    "#     svm_pipe.fit(x_train, y_train)\n",
    "#     y_pred = svm_pipe.predict(x_test)\n",
    "#     accuracy = accuracy_score(y_test, y_pred)\n",
    "#     svm_accuracies.append(accuracy)\n",
    "#     print(f'Number of features: {k}, Accuracy: {accuracy}')\n",
    "\n",
    "# # Plot the number of features vs accuracy\n",
    "# plt.figure(figsize=(10, 6))\n",
    "# plt.plot(range(1, 121), svm_accuracies, marker='o')\n",
    "# plt.title('Accuracy vs Number of Features (SVM)')\n",
    "# plt.xlabel('Number of Features')\n",
    "# plt.ylabel('Accuracy')\n",
    "# plt.grid(True)\n",
    "# plt.show()"
   ]
  },
  {
   "cell_type": "markdown",
   "metadata": {},
   "source": [
    "### Random Forest"
   ]
  },
  {
   "cell_type": "code",
   "execution_count": 88,
   "metadata": {},
   "outputs": [
    {
     "name": "stdout",
     "output_type": "stream",
     "text": [
      "Testing accuracy 0.7807017543859649\n",
      "Confusion matrix: \n",
      "[[18 17]\n",
      " [ 8 71]]\n"
     ]
    }
   ],
   "source": [
    "best_rf_params = rf_trial.params\n",
    "rf_pipe = Pipeline([\n",
    "    ('skb', SelectKBest(f_classif, k=feature_selection_num)),\n",
    "    ('lasso', SelectFromModel(LassoCV(alphas=np.logspace(-6, -1, 50), cv=5, max_iter=10000, random_state=0))),\n",
    "    ('estimator', RandomForestClassifier(n_estimators=best_rf_params['n_estimators'],\n",
    "                                         max_depth=best_rf_params['max_depth'],\n",
    "                                         max_features=best_rf_params['max_features'],\n",
    "                                         criterion=best_rf_params['criterion'],\n",
    "                                         random_state=0))\n",
    "])\n",
    "train_and_evaluate(rf_pipe, x_train, y_train, x_test, y_test)"
   ]
  },
  {
   "cell_type": "code",
   "execution_count": 89,
   "metadata": {},
   "outputs": [],
   "source": [
    "# rf_accuracies = []\n",
    "\n",
    "# # Loop through the number of features from 1 to 200\n",
    "# for k in range(1, 121):\n",
    "#     best_rf_params = rf_trial.params\n",
    "#     rf_pipe = Pipeline([\n",
    "#         ('skb', SelectKBest(f_classif, k=k)),\n",
    "#         ('lasso', SelectFromModel(LassoCV(cv=5, random_state=0))),\n",
    "#         ('estimator', RandomForestClassifier(n_estimators=best_rf_params['n_estimators'],\n",
    "#                                              max_depth=best_rf_params['max_depth'],\n",
    "#                                              max_features=best_rf_params['max_features'],\n",
    "#                                              criterion=best_rf_params['criterion'],\n",
    "#                                              random_state=0))\n",
    "#     ])\n",
    "    \n",
    "#     # Train and evaluate the pipeline\n",
    "#     rf_pipe.fit(x_train, y_train)\n",
    "#     y_pred = rf_pipe.predict(x_test)\n",
    "#     rf_accuracy = accuracy_score(y_test, y_pred)\n",
    "#     rf_accuracies.append(rf_accuracy)\n",
    "#     print(f'Number of features: {k}, Accuracy: {rf_accuracy}')\n",
    "\n",
    "# # Plot the number of features vs rf_accuracy\n",
    "# plt.figure(figsize=(10, 6))\n",
    "# plt.plot(range(1, 121), rf_accuracies, marker='o')\n",
    "# plt.title('Accuracy vs Number of Features')\n",
    "# plt.xlabel('Number of Features')\n",
    "# plt.ylabel('Accuracy')\n",
    "# plt.grid(True)\n",
    "# plt.show()"
   ]
  },
  {
   "cell_type": "markdown",
   "metadata": {},
   "source": [
    "### XGBoost"
   ]
  },
  {
   "cell_type": "code",
   "execution_count": 90,
   "metadata": {},
   "outputs": [
    {
     "name": "stdout",
     "output_type": "stream",
     "text": [
      "Testing accuracy 0.8245614035087719\n",
      "Confusion matrix: \n",
      "[[22 13]\n",
      " [ 7 72]]\n"
     ]
    }
   ],
   "source": [
    "best_xgboost_params = xgboost_trial.params\n",
    "xgboost_pipe = Pipeline([\n",
    "    ('skb', SelectKBest(f_classif, k=feature_selection_num)),\n",
    "    ('lasso', SelectFromModel(LassoCV(cv=5, random_state=0))),\n",
    "    ('estimator', XGBClassifier(learning_rate=best_xgboost_params['learning_rate'],\n",
    "                                max_depth=best_xgboost_params['max_depth'],\n",
    "                                n_estimators=best_xgboost_params['n_estimators'],\n",
    "                                random_state=0,\n",
    "                                use_label_encoder=False,\n",
    "                                eval_metric='logloss'))\n",
    "])\n",
    "train_and_evaluate(xgboost_pipe, x_train, y_train, x_test, y_test)"
   ]
  },
  {
   "cell_type": "code",
   "execution_count": 91,
   "metadata": {},
   "outputs": [],
   "source": [
    "# xgboost_accuracies = []\n",
    "\n",
    "# # Loop through the number of features from 1 to 150\n",
    "# for k in range(1, 121):\n",
    "#     best_xgboost_params = xgboost_trial.params\n",
    "#     xgboost_pipe = Pipeline([\n",
    "#         ('skb', SelectKBest(f_classif, k=k)),\n",
    "#         ('lasso', SelectFromModel(LassoCV(cv=5, random_state=0))),\n",
    "#         ('estimator', XGBClassifier(learning_rate=best_xgboost_params['learning_rate'],\n",
    "#                                     max_depth=best_xgboost_params['max_depth'],\n",
    "#                                     n_estimators=best_xgboost_params['n_estimators'],\n",
    "#                                     random_state=0,\n",
    "#                                     use_label_encoder=False,\n",
    "#                                     eval_metric='logloss'))\n",
    "#     ])\n",
    "\n",
    "#     # Train and evaluate the pipeline\n",
    "#     xgboost_pipe.fit(x_train, y_train)\n",
    "#     y_pred = xgboost_pipe.predict(x_test)\n",
    "#     xgboost_accuracy = accuracy_score(y_test, y_pred)\n",
    "#     xgboost_accuracies.append(xgboost_accuracy)\n",
    "#     print(f'Number of features: {k}, Accuracy: {xgboost_accuracy}') \n",
    "\n",
    "# # Plot the number of features vs xgboost_accuracy\n",
    "# plt.figure(figsize=(10, 6))\n",
    "# plt.plot(range(1, 121), xgboost_accuracies, marker='o')\n",
    "# plt.title('Accuracy vs Number of Features (XGBoost)')\n",
    "# plt.xlabel('Number of Features')\n",
    "# plt.ylabel('Accuracy')\n",
    "# plt.grid(True)\n",
    "# plt.show()"
   ]
  },
  {
   "cell_type": "code",
   "execution_count": 92,
   "metadata": {},
   "outputs": [],
   "source": [
    "def get_top_features(pipe, feature_names, top_feature_num):\n",
    "    if isinstance(pipe.named_steps['estimator'], SVC):\n",
    "        if pipe.named_steps['estimator'].kernel != 'linear':\n",
    "            raise ValueError(\"Feature importance is not available for non-linear SVM kernels.\")\n",
    "        feature_scores = pipe.named_steps['estimator'].coef_[0]\n",
    "    elif isinstance(pipe.named_steps['estimator'], XGBClassifier):\n",
    "        feature_scores = pipe.named_steps['estimator'].feature_importances_\n",
    "    else:\n",
    "        raise ValueError(\"Unsupported estimator type for feature extraction.\")\n",
    "    \n",
    "    # Get selected features from SelectKBest\n",
    "    skb_support = pipe.named_steps['skb'].get_support(indices=True)\n",
    "    print(\"Selected features from SelectKBest:\", skb_support)\n",
    "    \n",
    "    # Transform the features using SelectKBest\n",
    "    skb_features = pipe.named_steps['skb'].transform(x_train)\n",
    "    \n",
    "    # Get selected features from LassoCV\n",
    "    lasso = LassoCV(alphas=np.logspace(-6, -1, 50), cv=5, max_iter=10000, random_state=0)\n",
    "    lasso.fit(skb_features, y_train)\n",
    "    lasso_support = np.where(lasso.coef_ != 0)[0]\n",
    "    print(\"Selected features from LassoCV:\", lasso_support)\n",
    "    \n",
    "    if len(lasso_support) == 0:\n",
    "        print(\"No features selected after LassoCV.\")\n",
    "        return []\n",
    "    \n",
    "    # Ensure indices match feature_scores\n",
    "    top_indices = np.argsort(np.abs(lasso.coef_[lasso_support]))[::-1][:top_feature_num]\n",
    "    top_features = [(feature_names[skb_support[i]], lasso.coef_[lasso_support[i]]) for i in top_indices]\n",
    "    \n",
    "    return top_features"
   ]
  },
  {
   "cell_type": "code",
   "execution_count": 93,
   "metadata": {},
   "outputs": [
    {
     "name": "stdout",
     "output_type": "stream",
     "text": [
      "Selected features from SelectKBest: [  21  139  236  311  344  473  502  585  714  769  775  793  801  837\n",
      "  926  934 1017 1018 1091 1097 1113 1169 1174 1201 1214 1356 1357 1428\n",
      " 1462 1493 1574 1671 1709 1754 1803 1812 1993 2058 2134 2151 2207 2227\n",
      " 2239 2286 2313 2368 2373 2397 2401 2481]\n",
      "Selected features from LassoCV: [ 1  3  5  7  8 12 15 23 28 29 35 37 38 45 46]\n",
      "Top SVM features: [('hsa-miR-3130-3p', -0.10128044965420477), ('hsa-miR-374c-5p', -0.09116424103759374), ('hsa-miR-4741', -0.07632383774103431), ('hsa-miR-7846-3p', 0.05681130357420392), ('hsa-miR-6869-3p', 0.04149567655143907), ('hsa-miR-1227-5p', -0.03235803663682935), ('hsa-miR-4462', -0.016948402232840942), ('hsa-miR-4262', -0.016710975744924025), ('hsa-miR-5739', -0.01429874144345987), ('hsa-miR-548h-5p', -0.014137686178226947)]\n",
      "Selected features from SelectKBest: [  21  139  236  311  344  473  502  585  714  769  775  793  801  837\n",
      "  926  934 1017 1018 1091 1097 1113 1169 1174 1201 1214 1356 1357 1428\n",
      " 1462 1493 1574 1671 1709 1754 1803 1812 1993 2058 2134 2151 2207 2227\n",
      " 2239 2286 2313 2368 2373 2397 2401 2481]\n",
      "Selected features from LassoCV: [ 1  3  5  7  8 12 15 23 28 29 35 37 38 45 46]\n",
      "Top XGBoost features: [('hsa-miR-3130-3p', -0.10128044965420477), ('hsa-miR-374c-5p', -0.09116424103759374), ('hsa-miR-4741', -0.07632383774103431), ('hsa-miR-7846-3p', 0.05681130357420392), ('hsa-miR-6869-3p', 0.04149567655143907), ('hsa-miR-1227-5p', -0.03235803663682935), ('hsa-miR-4462', -0.016948402232840942), ('hsa-miR-4262', -0.016710975744924025), ('hsa-miR-5739', -0.01429874144345987), ('hsa-miR-548h-5p', -0.014137686178226947)]\n"
     ]
    }
   ],
   "source": [
    "try:\n",
    "    svm_top_features = get_top_features(svm_pipe, feature_names, feature_importance_num)\n",
    "    print(\"Top SVM features:\", svm_top_features)\n",
    "except ValueError as e:\n",
    "    print(\"SVM feature extraction error:\", e)\n",
    "\n",
    "xgboost_top_features = get_top_features(xgboost_pipe, feature_names, feature_importance_num)\n",
    "print(\"Top XGBoost features:\", xgboost_top_features)"
   ]
  },
  {
   "cell_type": "code",
   "execution_count": 94,
   "metadata": {},
   "outputs": [],
   "source": [
    "def normalize_importance(importance_scores):\n",
    "    max_score = max(importance_scores, key=lambda x: abs(x[1]))[1]\n",
    "    min_score = min(importance_scores, key=lambda x: abs(x[1]))[1]\n",
    "    normalized_scores = [(feature, (score - min_score) / (max_score - min_score)) for feature, score in importance_scores]\n",
    "    return normalized_scores"
   ]
  },
  {
   "cell_type": "code",
   "execution_count": 95,
   "metadata": {},
   "outputs": [
    {
     "name": "stdout",
     "output_type": "stream",
     "text": [
      "Compiled normalized top features: [('SVM_hsa-miR-3130-3p', 1.0), ('SVM_hsa-miR-374c-5p', 0.8839122353584792), ('SVM_hsa-miR-4741', 0.7136123423484256), ('SVM_hsa-miR-7846-3p', -0.814169609987053), ('SVM_hsa-miR-6869-3p', -0.6384163240933042), ('SVM_hsa-miR-1227-5p', 0.2090862136088341), ('SVM_hsa-miR-4462', 0.03225415332839209), ('SVM_hsa-miR-4262', 0.02952958414506148), ('SVM_hsa-miR-5739', 0.0018481771613465057), ('SVM_hsa-miR-548h-5p', -0.0), ('XGB_hsa-miR-3130-3p', 1.0), ('XGB_hsa-miR-374c-5p', 0.8839122353584792), ('XGB_hsa-miR-4741', 0.7136123423484256), ('XGB_hsa-miR-7846-3p', -0.814169609987053), ('XGB_hsa-miR-6869-3p', -0.6384163240933042), ('XGB_hsa-miR-1227-5p', 0.2090862136088341), ('XGB_hsa-miR-4462', 0.03225415332839209), ('XGB_hsa-miR-4262', 0.02952958414506148), ('XGB_hsa-miR-5739', 0.0018481771613465057), ('XGB_hsa-miR-548h-5p', -0.0)]\n"
     ]
    }
   ],
   "source": [
    "# Normalize the top features for SVM and XGBoost\n",
    "normalized_svm_features = normalize_importance(svm_top_features)\n",
    "normalized_xgboost_features = normalize_importance(xgboost_top_features)\n",
    "\n",
    "# Compile normalized top features\n",
    "def compile_normalized_top_features(normalized_svm_features, normalized_xgboost_features):\n",
    "    top_features = []\n",
    "    for feature, score in normalized_svm_features:\n",
    "        top_features.append((f'SVM_{feature}', score))\n",
    "    for feature, score in normalized_xgboost_features:\n",
    "        top_features.append((f'XGB_{feature}', score))\n",
    "    return top_features\n",
    "\n",
    "normalized_top_features = compile_normalized_top_features(normalized_svm_features, normalized_xgboost_features)\n",
    "print(\"Compiled normalized top features:\", normalized_top_features)"
   ]
  },
  {
   "cell_type": "code",
   "execution_count": 96,
   "metadata": {},
   "outputs": [
    {
     "name": "stdout",
     "output_type": "stream",
     "text": [
      "Compiled normalized top features saved to '../GSEA/miRNA/s1_s2_miRNA.csv'\n"
     ]
    }
   ],
   "source": [
    "normalized_top_features_df = pd.DataFrame(normalized_top_features, columns=['Feature', 'Normalized Importance'])\n",
    "normalized_top_features_df.to_csv('../GSEA/miRNA/s1_s2_miRNA.csv', index=False)\n",
    "print(\"Compiled normalized top features saved to '../GSEA/miRNA/s1_s2_miRNA.csv'\")"
   ]
  },
  {
   "cell_type": "code",
   "execution_count": 97,
   "metadata": {},
   "outputs": [],
   "source": [
    "def get_all_selected_features(pipe, feature_names, classifier_name):\n",
    "    if isinstance(pipe.named_steps['estimator'], SVC):\n",
    "        if pipe.named_steps['estimator'].kernel != 'linear':\n",
    "            raise ValueError(\"Feature importance is not available for non-linear SVM kernels.\")\n",
    "        feature_scores = pipe.named_steps['estimator'].coef_[0]\n",
    "    elif isinstance(pipe.named_steps['estimator'], XGBClassifier):\n",
    "        feature_scores = pipe.named_steps['estimator'].feature_importances_\n",
    "    else:\n",
    "        raise ValueError(\"Unsupported estimator type for feature extraction.\")\n",
    "    \n",
    "    # Get selected features from SelectKBest\n",
    "    skb_support = pipe.named_steps['skb'].get_support(indices=True)\n",
    "    print(\"Selected features from SelectKBest:\", skb_support)\n",
    "    \n",
    "    # Transform the features using SelectKBest\n",
    "    skb_features = pipe.named_steps['skb'].transform(x_train)\n",
    "    \n",
    "    # Get selected features from LassoCV\n",
    "    lasso = LassoCV(alphas=np.logspace(-6, -1, 50), cv=5, max_iter=10000, random_state=0)\n",
    "    lasso.fit(skb_features, y_train)\n",
    "    lasso_support = np.where(lasso.coef_ != 0)[0]\n",
    "    print(\"Selected features from LassoCV:\", lasso_support)\n",
    "    \n",
    "    # Map the selected LassoCV features back to the original feature names\n",
    "    lasso_support_mapped = skb_support[lasso_support]\n",
    "    \n",
    "    # Ensure the index does not go out of bounds\n",
    "    all_features = [(feature_names[i], feature_scores[j], classifier_name) for j, i in enumerate(lasso_support_mapped) if j < len(feature_scores)]\n",
    "    \n",
    "    return all_features"
   ]
  },
  {
   "cell_type": "code",
   "execution_count": 98,
   "metadata": {},
   "outputs": [
    {
     "name": "stdout",
     "output_type": "stream",
     "text": [
      "Selected features from SelectKBest: [  21  139  236  311  344  473  502  585  714  769  775  793  801  837\n",
      "  926  934 1017 1018 1091 1097 1113 1169 1174 1201 1214 1356 1357 1428\n",
      " 1462 1493 1574 1671 1709 1754 1803 1812 1993 2058 2134 2151 2207 2227\n",
      " 2239 2286 2313 2368 2373 2397 2401 2481]\n",
      "Selected features from LassoCV: [ 1  3  5  7  8 12 15 23 28 29 35 37 38 45 46]\n",
      "All SVM features: [('hsa-miR-4462', -0.5575183510513464, 'SVM'), ('hsa-miR-6769b-5p', -0.10455330325326252, 'SVM'), ('hsa-miR-6857-3p', 0.3022077448103279, 'SVM'), ('hsa-miR-548h-5p', -0.17484325943952828, 'SVM'), ('hsa-miR-7846-3p', -0.2818289864600645, 'SVM'), ('hsa-miR-6869-3p', 0.23651908800211735, 'SVM'), ('hsa-miR-937-5p', -0.322315577130461, 'SVM'), ('hsa-miR-6895-3p', -0.16056819495146546, 'SVM'), ('hsa-miR-3178', 0.3701092940338268, 'SVM'), ('hsa-miR-4439', -0.42718334522260926, 'SVM'), ('hsa-miR-4472', -0.12497461240484163, 'SVM'), ('hsa-miR-139-3p', 0.09188093513103467, 'SVM'), ('hsa-miR-4647', 0.24449992250521957, 'SVM'), ('hsa-miR-4749-5p', -0.7362421903417851, 'SVM'), ('hsa-miR-3155b', -0.24094048192238646, 'SVM')]\n",
      "Selected features from SelectKBest: [  21  139  236  311  344  473  502  585  714  769  775  793  801  837\n",
      "  926  934 1017 1018 1091 1097 1113 1169 1174 1201 1214 1356 1357 1428\n",
      " 1462 1493 1574 1671 1709 1754 1803 1812 1993 2058 2134 2151 2207 2227\n",
      " 2239 2286 2313 2368 2373 2397 2401 2481]\n",
      "Selected features from LassoCV: [ 1  3  5  7  8 12 15 23 28 29 35 37 38 45 46]\n",
      "All XGBoost features: [('hsa-miR-4462', 0.08702463, 'XGBoost'), ('hsa-miR-6769b-5p', 0.059531335, 'XGBoost'), ('hsa-miR-6857-3p', 0.041047066, 'XGBoost'), ('hsa-miR-548h-5p', 0.051358666, 'XGBoost'), ('hsa-miR-7846-3p', 0.048643637, 'XGBoost'), ('hsa-miR-6869-3p', 0.036105875, 'XGBoost'), ('hsa-miR-937-5p', 0.05723699, 'XGBoost'), ('hsa-miR-6895-3p', 0.051406465, 'XGBoost'), ('hsa-miR-3178', 0.067517556, 'XGBoost'), ('hsa-miR-4439', 0.0690044, 'XGBoost'), ('hsa-miR-4472', 0.068068035, 'XGBoost'), ('hsa-miR-139-3p', 0.053666648, 'XGBoost'), ('hsa-miR-4647', 0.06911953, 'XGBoost'), ('hsa-miR-4749-5p', 0.24026915, 'XGBoost')]\n",
      "All selected features saved to '../GSEA/miRNA/50_s1_s2.csv'\n"
     ]
    }
   ],
   "source": [
    "# Extract all selected features from SVM and XGBoost\n",
    "all_svm_features = get_all_selected_features(svm_pipe, feature_names, 'SVM')\n",
    "print(\"All SVM features:\", all_svm_features)\n",
    "\n",
    "all_xgboost_features = get_all_selected_features(xgboost_pipe, feature_names, 'XGBoost')\n",
    "print(\"All XGBoost features:\", all_xgboost_features)\n",
    "\n",
    "# Combine the features and save to CSV\n",
    "all_features_df = pd.DataFrame(all_svm_features + all_xgboost_features, columns=['Feature', 'Importance', 'Classifier'])\n",
    "all_features_df.to_csv('../GSEA/miRNA/50_s1_s2.csv', index=False)\n",
    "print(\"All selected features saved to '../GSEA/miRNA/50_s1_s2.csv'\")"
   ]
  }
 ],
 "metadata": {
  "kernelspec": {
   "display_name": "myenv",
   "language": "python",
   "name": "python3"
  },
  "language_info": {
   "codemirror_mode": {
    "name": "ipython",
    "version": 3
   },
   "file_extension": ".py",
   "mimetype": "text/x-python",
   "name": "python",
   "nbconvert_exporter": "python",
   "pygments_lexer": "ipython3",
   "version": "3.10.8"
  }
 },
 "nbformat": 4,
 "nbformat_minor": 2
}
