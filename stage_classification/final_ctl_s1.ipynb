{
 "cells": [
  {
   "cell_type": "code",
   "execution_count": 70,
   "metadata": {},
   "outputs": [],
   "source": [
    "import pandas as pd\n",
    "import numpy as np\n",
    "import optuna\n",
    "import matplotlib.pyplot as plt\n",
    "import networkx as nx\n",
    "import itertools\n",
    "from sklearn.linear_model import LassoCV\n",
    "from sklearn.feature_selection import SelectKBest, f_classif, SelectFromModel\n",
    "from sklearn.model_selection import train_test_split, StratifiedKFold, cross_val_score\n",
    "from sklearn.metrics import confusion_matrix, accuracy_score, roc_auc_score, roc_curve\n",
    "from sklearn.ensemble import RandomForestClassifier\n",
    "from xgboost import XGBClassifier\n",
    "from sklearn.pipeline import Pipeline\n",
    "from sklearn.svm import SVC\n",
    "from sklearn.preprocessing import StandardScaler\n",
    "from imblearn.under_sampling import RandomUnderSampler\n",
    "from imblearn.over_sampling import RandomOverSampler\n",
    "import os\n",
    "import joblib"
   ]
  },
  {
   "cell_type": "code",
   "execution_count": 71,
   "metadata": {},
   "outputs": [
    {
     "name": "stdout",
     "output_type": "stream",
     "text": [
      "(5643, 2570)\n"
     ]
    }
   ],
   "source": [
    "ctl_samples = pd.read_csv('../data/control/control_samples.csv')\n",
    "print(ctl_samples.shape)"
   ]
  },
  {
   "cell_type": "code",
   "execution_count": 72,
   "metadata": {},
   "outputs": [],
   "source": [
    "ctl_samples.columns = ctl_samples.columns.str.strip()"
   ]
  },
  {
   "cell_type": "code",
   "execution_count": 73,
   "metadata": {},
   "outputs": [
    {
     "name": "stdout",
     "output_type": "stream",
     "text": [
      "0       Stage: CTL\n",
      "1       Stage: CTL\n",
      "2       Stage: CTL\n",
      "3       Stage: CTL\n",
      "4       Stage: CTL\n",
      "           ...    \n",
      "5638    Stage: CTL\n",
      "5639    Stage: CTL\n",
      "5640    Stage: CTL\n",
      "5641    Stage: CTL\n",
      "5642    Stage: CTL\n",
      "Name: Stage, Length: 5643, dtype: object\n"
     ]
    }
   ],
   "source": [
    "ctl_samples['Stage'] = ctl_samples['Stage'].str.replace('Stage: NA', 'Stage: CTL')\n",
    "\n",
    "# Verify the replacements\n",
    "print(ctl_samples['Stage'])"
   ]
  },
  {
   "cell_type": "code",
   "execution_count": 74,
   "metadata": {},
   "outputs": [
    {
     "data": {
      "text/plain": [
       "(173, 2570)"
      ]
     },
     "execution_count": 74,
     "metadata": {},
     "output_type": "execute_result"
    }
   ],
   "source": [
    "stage_1_samples = pd.read_csv('../data/cancer/stage_1_prostate_cancer_samples.csv')\n",
    "stage_1_samples.shape"
   ]
  },
  {
   "cell_type": "code",
   "execution_count": 75,
   "metadata": {},
   "outputs": [],
   "source": [
    "combined_dataset = pd.concat([ctl_samples, stage_1_samples], ignore_index=True)"
   ]
  },
  {
   "cell_type": "code",
   "execution_count": 76,
   "metadata": {},
   "outputs": [
    {
     "name": "stdout",
     "output_type": "stream",
     "text": [
      "Unique values in Stage column: ['Stage: CTL' 'Stage: 1']\n",
      "Class distribution in ID_REF column:\n",
      "ID_REF\n",
      "0    5643\n",
      "1     173\n",
      "Name: count, dtype: int64\n"
     ]
    }
   ],
   "source": [
    "# Verify and clean the Stage column\n",
    "print(\"Unique values in Stage column:\", combined_dataset['Stage'].unique())\n",
    "combined_dataset['Stage'] = combined_dataset['Stage'].str.strip()\n",
    "combined_dataset['ID_REF'] = np.where(combined_dataset['Stage'] == 'Stage: CTL', 0, 1)\n",
    "combined_dataset['ID_REF'] = np.where(combined_dataset['Stage'] == 'Stage: 1', 1, combined_dataset['ID_REF'])\n",
    "\n",
    "# Print class distribution to ensure both classes are present\n",
    "print(\"Class distribution in ID_REF column:\")\n",
    "print(combined_dataset['ID_REF'].value_counts())\n"
   ]
  },
  {
   "cell_type": "code",
   "execution_count": 77,
   "metadata": {},
   "outputs": [],
   "source": [
    "def process_data(data, under_sample_factor=None, over_sample_factor=None):\n",
    "    columns_to_drop = ['Sample_ID', 'Sex', 'Age', 'Stage', 'Disease']\n",
    "    data = data.drop(columns=columns_to_drop, axis=1)\n",
    "    \n",
    "    # Ensure ID_REF is handled separately\n",
    "    id_ref = data[\"ID_REF\"]\n",
    "    data = data.drop([\"ID_REF\"], axis=1)\n",
    "    \n",
    "    # Convert all remaining columns to numeric, coercing errors to NaN\n",
    "    data = data.apply(pd.to_numeric, errors='coerce')\n",
    "    \n",
    "    # Handle NaN values, e.g., fill with the mean of each column\n",
    "    data = data.fillna(data.mean())\n",
    "    \n",
    "    # Combine ID_REF back to the DataFrame\n",
    "    data[\"ID_REF\"] = id_ref\n",
    "\n",
    "    # Convert to numpy arrays\n",
    "    x = np.array(data.drop([\"ID_REF\"], axis=1)).astype('float')\n",
    "    y = np.array(data[\"ID_REF\"]).astype('int')\n",
    "    feature_names = data.columns[:-1]\n",
    "\n",
    "    if under_sample_factor is not None and isinstance(under_sample_factor, float) and 0 < under_sample_factor <= 1:\n",
    "        under_sampler = RandomUnderSampler(sampling_strategy=under_sample_factor)\n",
    "        x, y = under_sampler.fit_resample(x, y)\n",
    "\n",
    "    if over_sample_factor is not None and isinstance(over_sample_factor, float) and 0 < over_sample_factor <= 1:\n",
    "        over_sampler = RandomOverSampler(sampling_strategy=over_sample_factor)\n",
    "        x, y = over_sampler.fit_resample(x, y)\n",
    "\n",
    "    x_train, x_test, y_train, y_test = train_test_split(x, y, test_size=0.2, random_state=0, stratify=y)\n",
    "\n",
    "    scaler = StandardScaler()\n",
    "    x_train = scaler.fit_transform(x_train)\n",
    "    x_test = scaler.transform(x_test)\n",
    "\n",
    "    return x_train, x_test, y_train, y_test, feature_names"
   ]
  },
  {
   "cell_type": "code",
   "execution_count": 78,
   "metadata": {},
   "outputs": [
    {
     "name": "stderr",
     "output_type": "stream",
     "text": [
      "/var/folders/c_/rs13jmts3nbf9xfm917mh9p80000gn/T/ipykernel_90795/2988405077.py:16: PerformanceWarning: DataFrame is highly fragmented.  This is usually the result of calling `frame.insert` many times, which has poor performance.  Consider joining all columns at once using pd.concat(axis=1) instead. To get a de-fragmented frame, use `newframe = frame.copy()`\n",
      "  data[\"ID_REF\"] = id_ref\n"
     ]
    }
   ],
   "source": [
    "# Define parameters\n",
    "feature_selection_num = 50\n",
    "feature_importance_num = 10\n",
    "\n",
    "num_cancer_samples = combined_dataset['ID_REF'].value_counts()[0]  # Number of benign samples\n",
    "nums_s1_samples = combined_dataset['ID_REF'].value_counts()[1]  # Number of control samples\n",
    "under_sample_factor = nums_s1_samples / num_cancer_samples   # Factor to balance the classes\n",
    "\n",
    "# Process data\n",
    "x_train, x_test, y_train, y_test, feature_names = process_data(combined_dataset, under_sample_factor=under_sample_factor)"
   ]
  },
  {
   "cell_type": "code",
   "execution_count": 79,
   "metadata": {},
   "outputs": [],
   "source": [
    "def svm_objective(trial):\n",
    "    k = feature_selection_num\n",
    "    \n",
    "    C = trial.suggest_float('C', 1e-3, 1e3, log=True)\n",
    "    kernel = 'linear'  # Use only linear kernel for feature extraction\n",
    "    \n",
    "    # Relaxed LassoCV with a wider range of smaller alphas\n",
    "    lasso = SelectFromModel(LassoCV(alphas=np.logspace(-6, -1, 50), cv=5, max_iter=10000, random_state=0))\n",
    "    \n",
    "    pipe = Pipeline([\n",
    "        ('skb', SelectKBest(f_classif, k=k)),\n",
    "        ('lasso', lasso),\n",
    "        ('estimator', SVC(C=C, kernel=kernel, random_state=0))\n",
    "    ])\n",
    "    \n",
    "    cv = StratifiedKFold(n_splits=5)\n",
    "    try:\n",
    "        scores = cross_val_score(pipe, x_train, y_train, cv=cv, scoring='accuracy')\n",
    "        return scores.mean()\n",
    "    except ValueError as e:\n",
    "        print(f\"ValueError: {e}\")\n",
    "        print(\"Selected features by SelectKBest:\", skb.get_support(indices=True))\n",
    "        if hasattr(lasso.estimator_, 'coef_'):\n",
    "            print(\"Lasso coefficients:\", lasso.estimator_.coef_)\n",
    "        return np.nan"
   ]
  },
  {
   "cell_type": "code",
   "execution_count": 80,
   "metadata": {},
   "outputs": [],
   "source": [
    "def rf_objective(trial):\n",
    "    k = feature_selection_num\n",
    "    \n",
    "    n_estimators = trial.suggest_int('n_estimators', 100, 1000)\n",
    "    max_depth = trial.suggest_int('max_depth', 2, 32)\n",
    "    max_features = trial.suggest_categorical('max_features', ['sqrt', 'log2'])\n",
    "    criterion = trial.suggest_categorical('criterion', ['gini', 'entropy'])\n",
    "    \n",
    "    lasso = SelectFromModel(LassoCV(alphas=np.logspace(-6, -1, 50), cv=5, max_iter=10000, random_state=0))\n",
    "    \n",
    "    pipe = Pipeline([\n",
    "        ('skb', SelectKBest(f_classif, k=k)),\n",
    "        ('lasso', lasso),\n",
    "        ('estimator', RandomForestClassifier(n_estimators=n_estimators, max_depth=max_depth, max_features=max_features, criterion=criterion, random_state=0))\n",
    "    ])\n",
    "    \n",
    "    cv = StratifiedKFold(n_splits=5)\n",
    "    scores = cross_val_score(pipe, x_train, y_train, cv=cv, scoring='accuracy')\n",
    "    return scores.mean()"
   ]
  },
  {
   "cell_type": "code",
   "execution_count": 81,
   "metadata": {},
   "outputs": [],
   "source": [
    "def xgboost_objective(trial):\n",
    "    k = feature_selection_num\n",
    "    \n",
    "    learning_rate = trial.suggest_float('learning_rate', 1e-3, 1.0, log=True)\n",
    "    max_depth = trial.suggest_int('max_depth', 2, 10)\n",
    "    n_estimators = trial.suggest_int('n_estimators', 100, 1000)\n",
    "    \n",
    "    lasso = SelectFromModel(LassoCV(alphas=np.logspace(-6, -1, 50), cv=5, max_iter=10000, random_state=0))\n",
    "    \n",
    "    pipe = Pipeline([\n",
    "        ('skb', SelectKBest(f_classif, k=k)),\n",
    "        ('lasso', lasso),\n",
    "        ('estimator', XGBClassifier(learning_rate=learning_rate, max_depth=max_depth, n_estimators=n_estimators, random_state=0, use_label_encoder=False, eval_metric='logloss'))\n",
    "    ])\n",
    "    \n",
    "    cv = StratifiedKFold(n_splits=5)\n",
    "    scores = cross_val_score(pipe, x_train, y_train, cv=cv, scoring='accuracy')\n",
    "    return scores.mean()"
   ]
  },
  {
   "cell_type": "code",
   "execution_count": 82,
   "metadata": {},
   "outputs": [],
   "source": [
    "# Function to save study\n",
    "def save_study(study, filename):\n",
    "    joblib.dump(study, filename)\n",
    "\n",
    "# Function to load study\n",
    "def load_study(filename):\n",
    "    return joblib.load(filename)"
   ]
  },
  {
   "cell_type": "code",
   "execution_count": 83,
   "metadata": {},
   "outputs": [],
   "source": [
    "# Optimize hyperparameters using Optuna\n",
    "svm_study_filename = '50_svm_study_ctl_s1.pkl'\n",
    "rf_study_filename = '50_rf_study_ctl_s1.pkl'\n",
    "xgboost_study_filename = '50_xgboost_study_ctl_s1.pkl'"
   ]
  },
  {
   "cell_type": "code",
   "execution_count": 84,
   "metadata": {},
   "outputs": [],
   "source": [
    "# Optimize hyperparameters using Optuna with early stopping\n",
    "def optimize_with_early_stopping(objective, study_filename, n_trials=50, patience=10):\n",
    "    if os.path.exists(study_filename):\n",
    "        study = load_study(study_filename)\n",
    "        return study\n",
    "    else:\n",
    "        study = optuna.create_study(direction='maximize')\n",
    "    \n",
    "    best_value = -np.inf\n",
    "    trials_without_improvement = 0\n",
    "    \n",
    "    for trial in range(n_trials):\n",
    "        study.optimize(objective, n_trials=1)\n",
    "        \n",
    "        current_best_value = study.best_value\n",
    "        if current_best_value > best_value:\n",
    "            best_value = current_best_value\n",
    "            trials_without_improvement = 0\n",
    "        else:\n",
    "            trials_without_improvement += 1\n",
    "        \n",
    "        if trials_without_improvement >= patience:\n",
    "            print(f\"Early stopping at trial {trial + 1}\")\n",
    "            break\n",
    "        \n",
    "        save_study(study, study_filename)\n",
    "    \n",
    "    return study"
   ]
  },
  {
   "cell_type": "markdown",
   "metadata": {},
   "source": [
    "### Find Hyperparmeters if not trained already"
   ]
  },
  {
   "cell_type": "code",
   "execution_count": 85,
   "metadata": {},
   "outputs": [],
   "source": [
    "svm_study = optimize_with_early_stopping(svm_objective, svm_study_filename, n_trials=50, patience=10)"
   ]
  },
  {
   "cell_type": "code",
   "execution_count": 86,
   "metadata": {},
   "outputs": [],
   "source": [
    "rf_study = optimize_with_early_stopping(rf_objective, rf_study_filename, n_trials=100, patience=10)"
   ]
  },
  {
   "cell_type": "code",
   "execution_count": 87,
   "metadata": {},
   "outputs": [],
   "source": [
    "xgboost_study = optimize_with_early_stopping(xgboost_objective, xgboost_study_filename, n_trials=100, patience=10)"
   ]
  },
  {
   "cell_type": "markdown",
   "metadata": {},
   "source": [
    "### Print the best trial for each study\n",
    "\n",
    "For SVM, RF, and XGBoost"
   ]
  },
  {
   "cell_type": "code",
   "execution_count": 88,
   "metadata": {},
   "outputs": [
    {
     "name": "stdout",
     "output_type": "stream",
     "text": [
      "Best SVM trial:\n",
      "  Value:  1.0\n",
      "  Params: \n",
      "    C: 0.007258814352317485\n"
     ]
    }
   ],
   "source": [
    "print(\"Best SVM trial:\")\n",
    "svm_trial = svm_study.best_trial\n",
    "print(\"  Value: \", svm_trial.value)\n",
    "print(\"  Params: \")\n",
    "for key, value in svm_trial.params.items():\n",
    "    print(f\"    {key}: {value}\")"
   ]
  },
  {
   "cell_type": "code",
   "execution_count": 89,
   "metadata": {},
   "outputs": [
    {
     "name": "stdout",
     "output_type": "stream",
     "text": [
      "Best Random Forest trial:\n",
      "  Value:  1.0\n",
      "  Params: \n",
      "    n_estimators: 817\n",
      "    max_depth: 12\n",
      "    max_features: sqrt\n",
      "    criterion: entropy\n"
     ]
    }
   ],
   "source": [
    "print(\"Best Random Forest trial:\")\n",
    "rf_trial = rf_study.best_trial\n",
    "print(\"  Value: \", rf_trial.value)\n",
    "print(\"  Params: \")\n",
    "for key, value in rf_trial.params.items():\n",
    "    print(f\"    {key}: {value}\")"
   ]
  },
  {
   "cell_type": "code",
   "execution_count": 90,
   "metadata": {},
   "outputs": [
    {
     "name": "stdout",
     "output_type": "stream",
     "text": [
      "Best XGBoost trial:\n",
      "  Value:  0.9993553006941317\n",
      "  Params: \n",
      "    learning_rate: 0.02821526414495463\n",
      "    max_depth: 5\n",
      "    n_estimators: 347\n"
     ]
    }
   ],
   "source": [
    "print(\"Best XGBoost trial:\")\n",
    "xgboost_trial = xgboost_study.best_trial\n",
    "print(\"  Value: \", xgboost_trial.value)\n",
    "print(\"  Params: \")\n",
    "for key, value in xgboost_trial.params.items():\n",
    "    print(f\"    {key}: {value}\")"
   ]
  },
  {
   "cell_type": "markdown",
   "metadata": {},
   "source": [
    "## Train and evaluate the models with the best hyperparameters"
   ]
  },
  {
   "cell_type": "code",
   "execution_count": 91,
   "metadata": {},
   "outputs": [],
   "source": [
    "# Train and evaluate the models with the best hyperparameters\n",
    "def train_and_evaluate(pipe, x_train, y_train, x_test, y_test):\n",
    "    pipe.fit(x_train, y_train)\n",
    "    y_pred = pipe.predict(x_test)\n",
    "    print(f'Testing accuracy {accuracy_score(y_test, y_pred)}')\n",
    "    print(f'Confusion matrix: \\n{confusion_matrix(y_test, y_pred)}')"
   ]
  },
  {
   "cell_type": "markdown",
   "metadata": {},
   "source": [
    "### SVM"
   ]
  },
  {
   "cell_type": "code",
   "execution_count": 92,
   "metadata": {},
   "outputs": [
    {
     "name": "stdout",
     "output_type": "stream",
     "text": [
      "Testing accuracy 1.0\n",
      "Confusion matrix: \n",
      "[[1129    0]\n",
      " [   0   35]]\n"
     ]
    }
   ],
   "source": [
    "best_svm_params = svm_trial.params\n",
    "svm_pipe = Pipeline([\n",
    "    ('skb', SelectKBest(f_classif, k=feature_selection_num)),\n",
    "    ('lasso', SelectFromModel(LassoCV(alphas=np.logspace(-6, -1, 50), cv=5, max_iter=10000, random_state=0))),\n",
    "    ('estimator', SVC(C=best_svm_params['C'], kernel='linear', random_state=0))  # Ensure linear kernel\n",
    "])\n",
    "train_and_evaluate(svm_pipe, x_train, y_train, x_test, y_test)"
   ]
  },
  {
   "cell_type": "code",
   "execution_count": 93,
   "metadata": {},
   "outputs": [],
   "source": [
    "# svm_accuracies = []\n",
    "\n",
    "# # Loop through the number of features from 1 to 150\n",
    "# for k in range(1, 121):\n",
    "#     best_svm_params = svm_trial.params\n",
    "#     svm_pipe = Pipeline([\n",
    "#         ('skb', SelectKBest(f_classif, k=k)),\n",
    "#         ('lasso', SelectFromModel(LassoCV(cv=5, random_state=0))),\n",
    "#         ('estimator', SVC(C=best_svm_params['C'], kernel=best_svm_params['kernel'], random_state=0))\n",
    "#     ])\n",
    "    \n",
    "#     # Train and evaluate the pipeline\n",
    "#     svm_pipe.fit(x_train, y_train)\n",
    "#     y_pred = svm_pipe.predict(x_test)\n",
    "#     accuracy = accuracy_score(y_test, y_pred)\n",
    "#     svm_accuracies.append(accuracy)\n",
    "#     print(f'Number of features: {k}, Accuracy: {accuracy}')\n",
    "\n",
    "# # Plot the number of features vs accuracy\n",
    "# plt.figure(figsize=(10, 6))\n",
    "# plt.plot(range(1, 121), svm_accuracies, marker='o')\n",
    "# plt.title('Accuracy vs Number of Features (SVM)')\n",
    "# plt.xlabel('Number of Features')\n",
    "# plt.ylabel('Accuracy')\n",
    "# plt.grid(True)\n",
    "# plt.show()"
   ]
  },
  {
   "cell_type": "markdown",
   "metadata": {},
   "source": [
    "### Random Forest"
   ]
  },
  {
   "cell_type": "code",
   "execution_count": 94,
   "metadata": {},
   "outputs": [
    {
     "name": "stdout",
     "output_type": "stream",
     "text": [
      "Testing accuracy 1.0\n",
      "Confusion matrix: \n",
      "[[1129    0]\n",
      " [   0   35]]\n"
     ]
    }
   ],
   "source": [
    "best_rf_params = rf_trial.params\n",
    "rf_pipe = Pipeline([\n",
    "    ('skb', SelectKBest(f_classif, k=feature_selection_num)),\n",
    "    ('lasso', SelectFromModel(LassoCV(alphas=np.logspace(-6, -1, 50), cv=5, max_iter=10000, random_state=0))),\n",
    "    ('estimator', RandomForestClassifier(n_estimators=best_rf_params['n_estimators'],\n",
    "                                         max_depth=best_rf_params['max_depth'],\n",
    "                                         max_features=best_rf_params['max_features'],\n",
    "                                         criterion=best_rf_params['criterion'],\n",
    "                                         random_state=0))\n",
    "])\n",
    "train_and_evaluate(rf_pipe, x_train, y_train, x_test, y_test)"
   ]
  },
  {
   "cell_type": "code",
   "execution_count": 95,
   "metadata": {},
   "outputs": [],
   "source": [
    "# rf_accuracies = []\n",
    "\n",
    "# # Loop through the number of features from 1 to 200\n",
    "# for k in range(1, 121):\n",
    "#     best_rf_params = rf_trial.params\n",
    "#     rf_pipe = Pipeline([\n",
    "#         ('skb', SelectKBest(f_classif, k=k)),\n",
    "#         ('lasso', SelectFromModel(LassoCV(cv=5, random_state=0))),\n",
    "#         ('estimator', RandomForestClassifier(n_estimators=best_rf_params['n_estimators'],\n",
    "#                                              max_depth=best_rf_params['max_depth'],\n",
    "#                                              max_features=best_rf_params['max_features'],\n",
    "#                                              criterion=best_rf_params['criterion'],\n",
    "#                                              random_state=0))\n",
    "#     ])\n",
    "    \n",
    "#     # Train and evaluate the pipeline\n",
    "#     rf_pipe.fit(x_train, y_train)\n",
    "#     y_pred = rf_pipe.predict(x_test)\n",
    "#     rf_accuracy = accuracy_score(y_test, y_pred)\n",
    "#     rf_accuracies.append(rf_accuracy)\n",
    "#     print(f'Number of features: {k}, Accuracy: {rf_accuracy}')\n",
    "\n",
    "# # Plot the number of features vs rf_accuracy\n",
    "# plt.figure(figsize=(10, 6))\n",
    "# plt.plot(range(1, 121), rf_accuracies, marker='o')\n",
    "# plt.title('Accuracy vs Number of Features')\n",
    "# plt.xlabel('Number of Features')\n",
    "# plt.ylabel('Accuracy')\n",
    "# plt.grid(True)\n",
    "# plt.show()"
   ]
  },
  {
   "cell_type": "markdown",
   "metadata": {},
   "source": [
    "### XGBoost"
   ]
  },
  {
   "cell_type": "code",
   "execution_count": 96,
   "metadata": {},
   "outputs": [
    {
     "name": "stdout",
     "output_type": "stream",
     "text": [
      "Testing accuracy 1.0\n",
      "Confusion matrix: \n",
      "[[1129    0]\n",
      " [   0   35]]\n"
     ]
    }
   ],
   "source": [
    "best_xgboost_params = xgboost_trial.params\n",
    "xgboost_pipe = Pipeline([\n",
    "    ('skb', SelectKBest(f_classif, k=feature_selection_num)),\n",
    "    ('lasso', SelectFromModel(LassoCV(cv=5, random_state=0))),\n",
    "    ('estimator', XGBClassifier(learning_rate=best_xgboost_params['learning_rate'],\n",
    "                                max_depth=best_xgboost_params['max_depth'],\n",
    "                                n_estimators=best_xgboost_params['n_estimators'],\n",
    "                                random_state=0,\n",
    "                                use_label_encoder=False,\n",
    "                                eval_metric='logloss'))\n",
    "])\n",
    "train_and_evaluate(xgboost_pipe, x_train, y_train, x_test, y_test)"
   ]
  },
  {
   "cell_type": "code",
   "execution_count": 97,
   "metadata": {},
   "outputs": [],
   "source": [
    "# xgboost_accuracies = []\n",
    "\n",
    "# # Loop through the number of features from 1 to 150\n",
    "# for k in range(1, 121):\n",
    "#     best_xgboost_params = xgboost_trial.params\n",
    "#     xgboost_pipe = Pipeline([\n",
    "#         ('skb', SelectKBest(f_classif, k=k)),\n",
    "#         ('lasso', SelectFromModel(LassoCV(cv=5, random_state=0))),\n",
    "#         ('estimator', XGBClassifier(learning_rate=best_xgboost_params['learning_rate'],\n",
    "#                                     max_depth=best_xgboost_params['max_depth'],\n",
    "#                                     n_estimators=best_xgboost_params['n_estimators'],\n",
    "#                                     random_state=0,\n",
    "#                                     use_label_encoder=False,\n",
    "#                                     eval_metric='logloss'))\n",
    "#     ])\n",
    "\n",
    "#     # Train and evaluate the pipeline\n",
    "#     xgboost_pipe.fit(x_train, y_train)\n",
    "#     y_pred = xgboost_pipe.predict(x_test)\n",
    "#     xgboost_accuracy = accuracy_score(y_test, y_pred)\n",
    "#     xgboost_accuracies.append(xgboost_accuracy)\n",
    "#     print(f'Number of features: {k}, Accuracy: {xgboost_accuracy}') \n",
    "\n",
    "# # Plot the number of features vs xgboost_accuracy\n",
    "# plt.figure(figsize=(10, 6))\n",
    "# plt.plot(range(1, 121), xgboost_accuracies, marker='o')\n",
    "# plt.title('Accuracy vs Number of Features (XGBoost)')\n",
    "# plt.xlabel('Number of Features')\n",
    "# plt.ylabel('Accuracy')\n",
    "# plt.grid(True)\n",
    "# plt.show()"
   ]
  },
  {
   "cell_type": "code",
   "execution_count": 98,
   "metadata": {},
   "outputs": [],
   "source": [
    "def get_top_features(pipe, feature_names, top_feature_num):\n",
    "    if isinstance(pipe.named_steps['estimator'], SVC):\n",
    "        if pipe.named_steps['estimator'].kernel != 'linear':\n",
    "            raise ValueError(\"Feature importance is not available for non-linear SVM kernels.\")\n",
    "        feature_scores = pipe.named_steps['estimator'].coef_[0]\n",
    "    elif isinstance(pipe.named_steps['estimator'], XGBClassifier):\n",
    "        feature_scores = pipe.named_steps['estimator'].feature_importances_\n",
    "    else:\n",
    "        raise ValueError(\"Unsupported estimator type for feature extraction.\")\n",
    "    \n",
    "    # Get selected features from SelectKBest\n",
    "    skb_support = pipe.named_steps['skb'].get_support(indices=True)\n",
    "    print(\"Selected features from SelectKBest:\", skb_support)\n",
    "    \n",
    "    # Transform the features using SelectKBest\n",
    "    skb_features = pipe.named_steps['skb'].transform(x_train)\n",
    "    \n",
    "    # Get selected features from LassoCV\n",
    "    lasso = LassoCV(alphas=np.logspace(-6, -1, 50), cv=5, max_iter=10000, random_state=0)\n",
    "    lasso.fit(skb_features, y_train)\n",
    "    lasso_support = np.where(lasso.coef_ != 0)[0]\n",
    "    print(\"Selected features from LassoCV:\", lasso_support)\n",
    "    \n",
    "    if len(lasso_support) == 0:\n",
    "        print(\"No features selected after LassoCV.\")\n",
    "        return []\n",
    "    \n",
    "    # Ensure indices match feature_scores\n",
    "    top_indices = np.argsort(np.abs(lasso.coef_[lasso_support]))[::-1][:top_feature_num]\n",
    "    top_features = [(feature_names[skb_support[i]], lasso.coef_[lasso_support[i]]) for i in top_indices]\n",
    "    \n",
    "    return top_features"
   ]
  },
  {
   "cell_type": "code",
   "execution_count": 99,
   "metadata": {},
   "outputs": [
    {
     "name": "stdout",
     "output_type": "stream",
     "text": [
      "Selected features from SelectKBest: [  76  153  253  388  423  463  549  590  697  726  785  821  832  837\n",
      "  931  947  975 1018 1044 1109 1171 1174 1187 1214 1254 1273 1325 1386\n",
      " 1483 1493 1511 1560 1616 1724 1754 1781 1812 1816 1917 2058 2066 2123\n",
      " 2131 2214 2285 2294 2309 2386 2460 2473]\n",
      "Selected features from LassoCV: [ 1  2  3  4  5  6  8  9 11 12 13 14 15 16 17 18 19 20 21 22 23 24 25 26\n",
      " 27 28 29 30 31 32 33 34 35 36 37 38 39 40 41 42 43 44 45 46 47 49]\n",
      "Top SVM features: [('hsa-miR-663a', 0.04961953974962089), ('hsa-miR-575', -0.042422532153755466), ('hsa-miR-1307-3p', -0.02658624756998055), ('hsa-miR-4648', 0.018860659108368826), ('hsa-miR-1238-5p', -0.016412056647548294), ('hsa-miR-6784-5p', 0.015732145116452975), ('hsa-miR-4532', 0.014245896324867039), ('hsa-miR-6766-5p', 0.012809398792379403), ('hsa-miR-3940-5p', 0.012630895132458141), ('hsa-miR-1233-5p', 0.012084574922877683)]\n",
      "Selected features from SelectKBest: [  76  153  253  388  423  463  549  590  697  726  785  821  832  837\n",
      "  931  947  975 1018 1044 1109 1171 1174 1187 1214 1254 1273 1325 1386\n",
      " 1483 1493 1511 1560 1616 1724 1754 1781 1812 1816 1917 2058 2066 2123\n",
      " 2131 2214 2285 2294 2309 2386 2460 2473]\n",
      "Selected features from LassoCV: [ 1  2  3  4  5  6  8  9 11 12 13 14 15 16 17 18 19 20 21 22 23 24 25 26\n",
      " 27 28 29 30 31 32 33 34 35 36 37 38 39 40 41 42 43 44 45 46 47 49]\n",
      "Top XGBoost features: [('hsa-miR-663a', 0.04961953974962089), ('hsa-miR-575', -0.042422532153755466), ('hsa-miR-1307-3p', -0.02658624756998055), ('hsa-miR-4648', 0.018860659108368826), ('hsa-miR-1238-5p', -0.016412056647548294), ('hsa-miR-6784-5p', 0.015732145116452975), ('hsa-miR-4532', 0.014245896324867039), ('hsa-miR-6766-5p', 0.012809398792379403), ('hsa-miR-3940-5p', 0.012630895132458141), ('hsa-miR-1233-5p', 0.012084574922877683)]\n"
     ]
    }
   ],
   "source": [
    "try:\n",
    "    svm_top_features = get_top_features(svm_pipe, feature_names, feature_importance_num)\n",
    "    print(\"Top SVM features:\", svm_top_features)\n",
    "except ValueError as e:\n",
    "    print(\"SVM feature extraction error:\", e)\n",
    "\n",
    "xgboost_top_features = get_top_features(xgboost_pipe, feature_names, feature_importance_num)\n",
    "print(\"Top XGBoost features:\", xgboost_top_features)"
   ]
  },
  {
   "cell_type": "code",
   "execution_count": 100,
   "metadata": {},
   "outputs": [],
   "source": [
    "def normalize_importance(importance_scores):\n",
    "    max_score = max(importance_scores, key=lambda x: abs(x[1]))[1]\n",
    "    min_score = min(importance_scores, key=lambda x: abs(x[1]))[1]\n",
    "    normalized_scores = [(feature, (score - min_score) / (max_score - min_score)) for feature, score in importance_scores]\n",
    "    return normalized_scores"
   ]
  },
  {
   "cell_type": "code",
   "execution_count": 101,
   "metadata": {},
   "outputs": [
    {
     "name": "stdout",
     "output_type": "stream",
     "text": [
      "Compiled normalized top features: [('SVM_hsa-miR-663a', 1.0), ('SVM_hsa-miR-575', -1.4521688598412512), ('SVM_hsa-miR-1307-3p', -1.030261322246018), ('SVM_hsa-miR-4648', 0.1805272555008035), ('SVM_hsa-miR-1238-5p', -0.759202298495894), ('SVM_hsa-miR-6784-5p', 0.09717793024216298), ('SVM_hsa-miR-4532', 0.057581548616489994), ('SVM_hsa-miR-6766-5p', 0.019310631376568972), ('SVM_hsa-miR-3940-5p', 0.014554967937287418), ('SVM_hsa-miR-1233-5p', 0.0), ('XGB_hsa-miR-663a', 1.0), ('XGB_hsa-miR-575', -1.4521688598412512), ('XGB_hsa-miR-1307-3p', -1.030261322246018), ('XGB_hsa-miR-4648', 0.1805272555008035), ('XGB_hsa-miR-1238-5p', -0.759202298495894), ('XGB_hsa-miR-6784-5p', 0.09717793024216298), ('XGB_hsa-miR-4532', 0.057581548616489994), ('XGB_hsa-miR-6766-5p', 0.019310631376568972), ('XGB_hsa-miR-3940-5p', 0.014554967937287418), ('XGB_hsa-miR-1233-5p', 0.0)]\n"
     ]
    }
   ],
   "source": [
    "# Normalize the top features for SVM and XGBoost\n",
    "normalized_svm_features = normalize_importance(svm_top_features)\n",
    "normalized_xgboost_features = normalize_importance(xgboost_top_features)\n",
    "\n",
    "# Compile normalized top features\n",
    "def compile_normalized_top_features(normalized_svm_features, normalized_xgboost_features):\n",
    "    top_features = []\n",
    "    for feature, score in normalized_svm_features:\n",
    "        top_features.append((f'SVM_{feature}', score))\n",
    "    for feature, score in normalized_xgboost_features:\n",
    "        top_features.append((f'XGB_{feature}', score))\n",
    "    return top_features\n",
    "\n",
    "normalized_top_features = compile_normalized_top_features(normalized_svm_features, normalized_xgboost_features)\n",
    "print(\"Compiled normalized top features:\", normalized_top_features)"
   ]
  },
  {
   "cell_type": "code",
   "execution_count": 102,
   "metadata": {},
   "outputs": [
    {
     "name": "stdout",
     "output_type": "stream",
     "text": [
      "Compiled normalized top features saved to '../GSEA/miRNA/ctl_s1_miRNA.csv'\n"
     ]
    }
   ],
   "source": [
    "normalized_top_features_df = pd.DataFrame(normalized_top_features, columns=['Feature', 'Normalized Importance'])\n",
    "normalized_top_features_df.to_csv('../GSEA/miRNA/ctl_s1_miRNA.csv', index=False)\n",
    "print(\"Compiled normalized top features saved to '../GSEA/miRNA/ctl_s1_miRNA.csv'\")"
   ]
  },
  {
   "cell_type": "code",
   "execution_count": 103,
   "metadata": {},
   "outputs": [],
   "source": [
    "def get_all_selected_features(pipe, feature_names, classifier_name):\n",
    "    if isinstance(pipe.named_steps['estimator'], SVC):\n",
    "        if pipe.named_steps['estimator'].kernel != 'linear':\n",
    "            raise ValueError(\"Feature importance is not available for non-linear SVM kernels.\")\n",
    "        feature_scores = pipe.named_steps['estimator'].coef_[0]\n",
    "    elif isinstance(pipe.named_steps['estimator'], XGBClassifier):\n",
    "        feature_scores = pipe.named_steps['estimator'].feature_importances_\n",
    "    else:\n",
    "        raise ValueError(\"Unsupported estimator type for feature extraction.\")\n",
    "    \n",
    "    # Get selected features from SelectKBest\n",
    "    skb_support = pipe.named_steps['skb'].get_support(indices=True)\n",
    "    print(\"Selected features from SelectKBest:\", skb_support)\n",
    "    \n",
    "    # Transform the features using SelectKBest\n",
    "    skb_features = pipe.named_steps['skb'].transform(x_train)\n",
    "    \n",
    "    # Get selected features from LassoCV\n",
    "    lasso = LassoCV(alphas=np.logspace(-6, -1, 50), cv=5, max_iter=10000, random_state=0)\n",
    "    lasso.fit(skb_features, y_train)\n",
    "    lasso_support = np.where(lasso.coef_ != 0)[0]\n",
    "    print(\"Selected features from LassoCV:\", lasso_support)\n",
    "    \n",
    "    # Map the selected LassoCV features back to the original feature names\n",
    "    lasso_support_mapped = skb_support[lasso_support]\n",
    "    \n",
    "    # Ensure the index does not go out of bounds\n",
    "    all_features = [(feature_names[i], feature_scores[j], classifier_name) for j, i in enumerate(lasso_support_mapped) if j < len(feature_scores)]\n",
    "    \n",
    "    return all_features"
   ]
  },
  {
   "cell_type": "code",
   "execution_count": 104,
   "metadata": {},
   "outputs": [
    {
     "name": "stdout",
     "output_type": "stream",
     "text": [
      "Selected features from SelectKBest: [  76  153  253  388  423  463  549  590  697  726  785  821  832  837\n",
      "  931  947  975 1018 1044 1109 1171 1174 1187 1214 1254 1273 1325 1386\n",
      " 1483 1493 1511 1560 1616 1724 1754 1781 1812 1816 1917 2058 2066 2123\n",
      " 2131 2214 2285 2294 2309 2386 2460 2473]\n",
      "Selected features from LassoCV: [ 1  2  3  4  5  6  8  9 11 12 13 14 15 16 17 18 19 20 21 22 23 24 25 26\n",
      " 27 28 29 30 31 32 33 34 35 36 37 38 39 40 41 42 43 44 45 46 47 49]\n",
      "All SVM features: [('hsa-miR-6861-5p', -0.005853920704073571, 'SVM'), ('hsa-miR-125a-3p', -0.04220099933497185, 'SVM'), ('hsa-miR-6802-5p', 0.014625588852243123, 'SVM'), ('hsa-miR-1307-3p', 0.07160232375360744, 'SVM'), ('hsa-miR-6729-5p', -0.01375530078427667, 'SVM'), ('hsa-miR-6800-5p', -0.02875557497686902, 'SVM'), ('hsa-miR-6131', 0.06544729645276495, 'SVM'), ('hsa-miR-320a', 0.021577123580300457, 'SVM'), ('hsa-miR-663a', 0.035664889394430695, 'SVM'), ('hsa-miR-1228-5p', -0.04118202496919175, 'SVM'), ('hsa-miR-642b-3p', -0.009830559066435944, 'SVM'), ('hsa-miR-4532', 0.03517085549607881, 'SVM'), ('hsa-miR-6756-5p', 0.002836360821691316, 'SVM'), ('hsa-miR-887-3p', -0.02798476164674274, 'SVM'), ('hsa-miR-6090', 0.061280397404042314, 'SVM'), ('hsa-miR-575', -0.03623994571028785, 'SVM'), ('hsa-miR-6746-5p', 0.01993740608601757, 'SVM'), ('hsa-miR-4690-5p', 0.022497311447097657, 'SVM'), ('hsa-miR-4730', -0.08240375555917093, 'SVM'), ('hsa-miR-6784-5p', -0.0168883539411433, 'SVM'), ('hsa-miR-92b-5p', 0.007871159096660085, 'SVM'), ('hsa-miR-4687-5p', -0.03438757219497242, 'SVM'), ('hsa-miR-1238-5p', 0.028582490032167954, 'SVM'), ('hsa-miR-5195-3p', -0.003347870646878157, 'SVM'), ('hsa-miR-1469', 0.04146108464080485, 'SVM'), ('hsa-miR-4675', 0.000580793341502362, 'SVM'), ('hsa-miR-4758-5p', 0.019498327760777468, 'SVM'), ('hsa-miR-6805-5p', -0.03821618613402381, 'SVM'), ('hsa-miR-3184-5p', -0.04048340742394852, 'SVM'), ('hsa-miR-1203', -0.045938821176861204, 'SVM'), ('hsa-miR-4706', -0.008083374548978998, 'SVM'), ('hsa-miR-197-5p', 0.04510616965624278, 'SVM'), ('hsa-miR-92a-2-5p', -0.022223338053484698, 'SVM'), ('hsa-miR-3940-5p', -0.033975053174300635, 'SVM'), ('hsa-miR-128-1-5p', -0.021481392475590194, 'SVM'), ('hsa-miR-6857-5p', 0.0023796668981425945, 'SVM'), ('hsa-miR-1233-5p', 0.060474040136246965, 'SVM'), ('hsa-miR-4648', -0.0618316189653773, 'SVM'), ('hsa-miR-4276', -0.008709244583182162, 'SVM'), ('hsa-miR-4734', 0.04061754582558079, 'SVM'), ('hsa-miR-4783-3p', 0.0569363251955482, 'SVM'), ('hsa-miR-1343-3p', 0.024258014050064787, 'SVM'), ('hsa-miR-4419b', 0.023003798992017977, 'SVM'), ('hsa-miR-6787-5p', 0.05034011754806236, 'SVM'), ('hsa-miR-4732-5p', 0.05636829801739744, 'SVM'), ('hsa-miR-6769a-5p', -0.0007389999993265592, 'SVM')]\n",
      "Selected features from SelectKBest: [  76  153  253  388  423  463  549  590  697  726  785  821  832  837\n",
      "  931  947  975 1018 1044 1109 1171 1174 1187 1214 1254 1273 1325 1386\n",
      " 1483 1493 1511 1560 1616 1724 1754 1781 1812 1816 1917 2058 2066 2123\n",
      " 2131 2214 2285 2294 2309 2386 2460 2473]\n",
      "Selected features from LassoCV: [ 1  2  3  4  5  6  8  9 11 12 13 14 15 16 17 18 19 20 21 22 23 24 25 26\n",
      " 27 28 29 30 31 32 33 34 35 36 37 38 39 40 41 42 43 44 45 46 47 49]\n",
      "All XGBoost features: [('hsa-miR-6861-5p', 0.0, 'XGBoost'), ('hsa-miR-125a-3p', 0.0050316746, 'XGBoost'), ('hsa-miR-6802-5p', 0.0, 'XGBoost'), ('hsa-miR-1307-3p', 0.185408, 'XGBoost'), ('hsa-miR-6729-5p', 0.0002190657, 'XGBoost'), ('hsa-miR-6800-5p', 0.0034556468, 'XGBoost'), ('hsa-miR-6131', 0.00041339343, 'XGBoost'), ('hsa-miR-320a', 0.0029646305, 'XGBoost'), ('hsa-miR-663a', 0.0074615804, 'XGBoost'), ('hsa-miR-1228-5p', 0.01828186, 'XGBoost'), ('hsa-miR-642b-3p', 0.002327419, 'XGBoost'), ('hsa-miR-4532', 0.0037367733, 'XGBoost'), ('hsa-miR-6756-5p', 0.0, 'XGBoost'), ('hsa-miR-887-3p', 0.0, 'XGBoost'), ('hsa-miR-6090', 0.0, 'XGBoost'), ('hsa-miR-575', 0.006015502, 'XGBoost'), ('hsa-miR-6746-5p', 7.722582e-05, 'XGBoost'), ('hsa-miR-4690-5p', 0.006427944, 'XGBoost'), ('hsa-miR-4730', 0.0046152333, 'XGBoost'), ('hsa-miR-6784-5p', 0.013954996, 'XGBoost'), ('hsa-miR-92b-5p', 0.0, 'XGBoost'), ('hsa-miR-4687-5p', 0.0, 'XGBoost'), ('hsa-miR-1238-5p', 0.0047160145, 'XGBoost'), ('hsa-miR-5195-3p', 0.0, 'XGBoost'), ('hsa-miR-1469', 0.013564196, 'XGBoost'), ('hsa-miR-4675', 0.0, 'XGBoost'), ('hsa-miR-4758-5p', 0.00613364, 'XGBoost'), ('hsa-miR-6805-5p', 0.0011892958, 'XGBoost'), ('hsa-miR-3184-5p', 0.13412811, 'XGBoost'), ('hsa-miR-1203', 0.022808278, 'XGBoost'), ('hsa-miR-4706', 0.005167215, 'XGBoost'), ('hsa-miR-197-5p', 0.003555446, 'XGBoost'), ('hsa-miR-92a-2-5p', 0.0001131965, 'XGBoost'), ('hsa-miR-3940-5p', 0.011215298, 'XGBoost'), ('hsa-miR-128-1-5p', 0.00013499845, 'XGBoost'), ('hsa-miR-6857-5p', 0.0, 'XGBoost'), ('hsa-miR-1233-5p', 0.043845784, 'XGBoost'), ('hsa-miR-4648', 0.0024927855, 'XGBoost'), ('hsa-miR-4276', 0.0, 'XGBoost'), ('hsa-miR-4734', 0.0003993291, 'XGBoost'), ('hsa-miR-4783-3p', 0.4775194, 'XGBoost'), ('hsa-miR-1343-3p', 0.0, 'XGBoost'), ('hsa-miR-4419b', 0.0042897305, 'XGBoost'), ('hsa-miR-6787-5p', 0.0044268095, 'XGBoost'), ('hsa-miR-4732-5p', 0.0039094915, 'XGBoost'), ('hsa-miR-6769a-5p', 0.0, 'XGBoost')]\n",
      "All selected features saved to '../GSEA/miRNA/50_ctl_s1.csv'\n"
     ]
    }
   ],
   "source": [
    "# Extract all selected features from SVM and XGBoost\n",
    "all_svm_features = get_all_selected_features(svm_pipe, feature_names, 'SVM')\n",
    "print(\"All SVM features:\", all_svm_features)\n",
    "\n",
    "all_xgboost_features = get_all_selected_features(xgboost_pipe, feature_names, 'XGBoost')\n",
    "print(\"All XGBoost features:\", all_xgboost_features)\n",
    "\n",
    "# Combine the features and save to CSV\n",
    "all_features_df = pd.DataFrame(all_svm_features + all_xgboost_features, columns=['Feature', 'Importance', 'Classifier'])\n",
    "all_features_df.to_csv('../GSEA/miRNA/50_ctl_s1.csv', index=False)\n",
    "print(\"All selected features saved to '../GSEA/miRNA/50_ctl_s1.csv'\")"
   ]
  }
 ],
 "metadata": {
  "kernelspec": {
   "display_name": "myenv",
   "language": "python",
   "name": "python3"
  },
  "language_info": {
   "codemirror_mode": {
    "name": "ipython",
    "version": 3
   },
   "file_extension": ".py",
   "mimetype": "text/x-python",
   "name": "python",
   "nbconvert_exporter": "python",
   "pygments_lexer": "ipython3",
   "version": "3.10.8"
  }
 },
 "nbformat": 4,
 "nbformat_minor": 2
}
