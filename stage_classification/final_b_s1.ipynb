{
 "cells": [
  {
   "cell_type": "code",
   "execution_count": 80,
   "metadata": {},
   "outputs": [],
   "source": [
    "import pandas as pd\n",
    "import numpy as np\n",
    "import optuna\n",
    "import matplotlib.pyplot as plt\n",
    "import networkx as nx\n",
    "import itertools\n",
    "from sklearn.linear_model import LassoCV\n",
    "from sklearn.feature_selection import SelectKBest, f_classif, SelectFromModel\n",
    "from sklearn.model_selection import train_test_split, StratifiedKFold, cross_val_score\n",
    "from sklearn.metrics import confusion_matrix, accuracy_score, roc_auc_score, roc_curve\n",
    "from sklearn.ensemble import RandomForestClassifier\n",
    "from xgboost import XGBClassifier\n",
    "from sklearn.pipeline import Pipeline\n",
    "from sklearn.svm import SVC\n",
    "from sklearn.preprocessing import StandardScaler\n",
    "from imblearn.under_sampling import RandomUnderSampler\n",
    "from imblearn.over_sampling import RandomOverSampler\n",
    "import os\n",
    "import joblib"
   ]
  },
  {
   "cell_type": "code",
   "execution_count": 81,
   "metadata": {},
   "outputs": [
    {
     "name": "stdout",
     "output_type": "stream",
     "text": [
      "(230, 2570)\n"
     ]
    }
   ],
   "source": [
    "benign_samples = pd.read_csv('../data/benign/benign_prostate_samples.csv')\n",
    "print(benign_samples.shape)"
   ]
  },
  {
   "cell_type": "code",
   "execution_count": 82,
   "metadata": {},
   "outputs": [],
   "source": [
    "benign_samples.columns = benign_samples.columns.str.strip()"
   ]
  },
  {
   "cell_type": "code",
   "execution_count": 83,
   "metadata": {},
   "outputs": [
    {
     "name": "stdout",
     "output_type": "stream",
     "text": [
      "0      Stage: B\n",
      "1      Stage: B\n",
      "2      Stage: B\n",
      "3      Stage: B\n",
      "4      Stage: B\n",
      "         ...   \n",
      "225    Stage: B\n",
      "226    Stage: B\n",
      "227    Stage: B\n",
      "228    Stage: B\n",
      "229    Stage: B\n",
      "Name: Stage, Length: 230, dtype: object\n"
     ]
    }
   ],
   "source": [
    "benign_samples['Stage'] = benign_samples['Stage'].str.replace('Stage: NA', 'Stage: B')\n",
    "\n",
    "# Verify the replacements\n",
    "print(benign_samples['Stage'])"
   ]
  },
  {
   "cell_type": "code",
   "execution_count": 84,
   "metadata": {},
   "outputs": [
    {
     "data": {
      "text/plain": [
       "(173, 2570)"
      ]
     },
     "execution_count": 84,
     "metadata": {},
     "output_type": "execute_result"
    }
   ],
   "source": [
    "stage_1_samples = pd.read_csv('../data/cancer/stage_1_prostate_cancer_samples.csv')\n",
    "stage_1_samples.shape"
   ]
  },
  {
   "cell_type": "code",
   "execution_count": 85,
   "metadata": {},
   "outputs": [],
   "source": [
    "combined_dataset = pd.concat([benign_samples, stage_1_samples], ignore_index=True)"
   ]
  },
  {
   "cell_type": "code",
   "execution_count": 86,
   "metadata": {},
   "outputs": [
    {
     "name": "stdout",
     "output_type": "stream",
     "text": [
      "Unique values in Stage column: ['Stage: B' 'Stage: 1']\n",
      "Class distribution in ID_REF column:\n",
      "ID_REF\n",
      "0    230\n",
      "1    173\n",
      "Name: count, dtype: int64\n"
     ]
    }
   ],
   "source": [
    "# Verify and clean the Stage column\n",
    "print(\"Unique values in Stage column:\", combined_dataset['Stage'].unique())\n",
    "combined_dataset['Stage'] = combined_dataset['Stage'].str.strip()\n",
    "combined_dataset['ID_REF'] = np.where(combined_dataset['Stage'] == 'Stage: B', 0, 1)\n",
    "combined_dataset['ID_REF'] = np.where(combined_dataset['Stage'] == 'Stage: 1', 1, combined_dataset['ID_REF'])\n",
    "\n",
    "# Print class distribution to ensure both classes are present\n",
    "print(\"Class distribution in ID_REF column:\")\n",
    "print(combined_dataset['ID_REF'].value_counts())\n"
   ]
  },
  {
   "cell_type": "code",
   "execution_count": 87,
   "metadata": {},
   "outputs": [],
   "source": [
    "def process_data(data, under_sample_factor=None, over_sample_factor=None):\n",
    "    columns_to_drop = ['Sample_ID', 'Sex', 'Age', 'Stage', 'Disease']\n",
    "    data = data.drop(columns=columns_to_drop, axis=1)\n",
    "    \n",
    "    # Ensure ID_REF is handled separately\n",
    "    id_ref = data[\"ID_REF\"]\n",
    "    data = data.drop([\"ID_REF\"], axis=1)\n",
    "    \n",
    "    # Convert all remaining columns to numeric, coercing errors to NaN\n",
    "    data = data.apply(pd.to_numeric, errors='coerce')\n",
    "    \n",
    "    # Handle NaN values, e.g., fill with the mean of each column\n",
    "    data = data.fillna(data.mean())\n",
    "    \n",
    "    # Combine ID_REF back to the DataFrame\n",
    "    data[\"ID_REF\"] = id_ref\n",
    "\n",
    "    # Convert to numpy arrays\n",
    "    x = np.array(data.drop([\"ID_REF\"], axis=1)).astype('float')\n",
    "    y = np.array(data[\"ID_REF\"]).astype('int')\n",
    "    feature_names = data.columns[:-1]\n",
    "\n",
    "    if under_sample_factor is not None and isinstance(under_sample_factor, float) and 0 < under_sample_factor <= 1:\n",
    "        under_sampler = RandomUnderSampler(sampling_strategy=under_sample_factor)\n",
    "        x, y = under_sampler.fit_resample(x, y)\n",
    "\n",
    "    if over_sample_factor is not None and isinstance(over_sample_factor, float) and 0 < over_sample_factor <= 1:\n",
    "        over_sampler = RandomOverSampler(sampling_strategy=over_sample_factor)\n",
    "        x, y = over_sampler.fit_resample(x, y)\n",
    "\n",
    "    x_train, x_test, y_train, y_test = train_test_split(x, y, test_size=0.2, random_state=0, stratify=y)\n",
    "\n",
    "    scaler = StandardScaler()\n",
    "    x_train = scaler.fit_transform(x_train)\n",
    "    x_test = scaler.transform(x_test)\n",
    "\n",
    "    return x_train, x_test, y_train, y_test, feature_names"
   ]
  },
  {
   "cell_type": "code",
   "execution_count": 88,
   "metadata": {},
   "outputs": [
    {
     "name": "stderr",
     "output_type": "stream",
     "text": [
      "/var/folders/c_/rs13jmts3nbf9xfm917mh9p80000gn/T/ipykernel_73783/2988405077.py:16: PerformanceWarning: DataFrame is highly fragmented.  This is usually the result of calling `frame.insert` many times, which has poor performance.  Consider joining all columns at once using pd.concat(axis=1) instead. To get a de-fragmented frame, use `newframe = frame.copy()`\n",
      "  data[\"ID_REF\"] = id_ref\n"
     ]
    }
   ],
   "source": [
    "# Define parameters\n",
    "feature_selection_num = 50\n",
    "feature_importance_num = 10\n",
    "\n",
    "# Process data\n",
    "x_train, x_test, y_train, y_test, feature_names = process_data(combined_dataset)"
   ]
  },
  {
   "cell_type": "code",
   "execution_count": 89,
   "metadata": {},
   "outputs": [],
   "source": [
    "def svm_objective(trial):\n",
    "    k = feature_selection_num\n",
    "    \n",
    "    C = trial.suggest_float('C', 1e-3, 1e3, log=True)\n",
    "    kernel = 'linear'  # Use only linear kernel for feature extraction\n",
    "    \n",
    "    # Relaxed LassoCV with a wider range of smaller alphas\n",
    "    lasso = SelectFromModel(LassoCV(alphas=np.logspace(-6, -1, 50), cv=5, max_iter=10000, random_state=0))\n",
    "    \n",
    "    pipe = Pipeline([\n",
    "        ('skb', SelectKBest(f_classif, k=k)),\n",
    "        ('lasso', lasso),\n",
    "        ('estimator', SVC(C=C, kernel=kernel, random_state=0))\n",
    "    ])\n",
    "    \n",
    "    cv = StratifiedKFold(n_splits=5)\n",
    "    try:\n",
    "        scores = cross_val_score(pipe, x_train, y_train, cv=cv, scoring='accuracy')\n",
    "        return scores.mean()\n",
    "    except ValueError as e:\n",
    "        print(f\"ValueError: {e}\")\n",
    "        print(\"Selected features by SelectKBest:\", skb.get_support(indices=True))\n",
    "        if hasattr(lasso.estimator_, 'coef_'):\n",
    "            print(\"Lasso coefficients:\", lasso.estimator_.coef_)\n",
    "        return np.nan"
   ]
  },
  {
   "cell_type": "code",
   "execution_count": 90,
   "metadata": {},
   "outputs": [],
   "source": [
    "def rf_objective(trial):\n",
    "    k = feature_selection_num\n",
    "    \n",
    "    n_estimators = trial.suggest_int('n_estimators', 100, 1000)\n",
    "    max_depth = trial.suggest_int('max_depth', 2, 32)\n",
    "    max_features = trial.suggest_categorical('max_features', ['sqrt', 'log2'])\n",
    "    criterion = trial.suggest_categorical('criterion', ['gini', 'entropy'])\n",
    "    \n",
    "    lasso = SelectFromModel(LassoCV(alphas=np.logspace(-6, -1, 50), cv=5, max_iter=10000, random_state=0))\n",
    "    \n",
    "    pipe = Pipeline([\n",
    "        ('skb', SelectKBest(f_classif, k=k)),\n",
    "        ('lasso', lasso),\n",
    "        ('estimator', RandomForestClassifier(n_estimators=n_estimators, max_depth=max_depth, max_features=max_features, criterion=criterion, random_state=0))\n",
    "    ])\n",
    "    \n",
    "    cv = StratifiedKFold(n_splits=5)\n",
    "    scores = cross_val_score(pipe, x_train, y_train, cv=cv, scoring='accuracy')\n",
    "    return scores.mean()"
   ]
  },
  {
   "cell_type": "code",
   "execution_count": 91,
   "metadata": {},
   "outputs": [],
   "source": [
    "def xgboost_objective(trial):\n",
    "    k = feature_selection_num\n",
    "    \n",
    "    learning_rate = trial.suggest_float('learning_rate', 1e-3, 1.0, log=True)\n",
    "    max_depth = trial.suggest_int('max_depth', 2, 10)\n",
    "    n_estimators = trial.suggest_int('n_estimators', 100, 1000)\n",
    "    \n",
    "    lasso = SelectFromModel(LassoCV(alphas=np.logspace(-6, -1, 50), cv=5, max_iter=10000, random_state=0))\n",
    "    \n",
    "    pipe = Pipeline([\n",
    "        ('skb', SelectKBest(f_classif, k=k)),\n",
    "        ('lasso', lasso),\n",
    "        ('estimator', XGBClassifier(learning_rate=learning_rate, max_depth=max_depth, n_estimators=n_estimators, random_state=0, use_label_encoder=False, eval_metric='logloss'))\n",
    "    ])\n",
    "    \n",
    "    cv = StratifiedKFold(n_splits=5)\n",
    "    scores = cross_val_score(pipe, x_train, y_train, cv=cv, scoring='accuracy')\n",
    "    return scores.mean()"
   ]
  },
  {
   "cell_type": "code",
   "execution_count": 92,
   "metadata": {},
   "outputs": [],
   "source": [
    "# Function to save study\n",
    "def save_study(study, filename):\n",
    "    joblib.dump(study, filename)\n",
    "\n",
    "# Function to load study\n",
    "def load_study(filename):\n",
    "    return joblib.load(filename)"
   ]
  },
  {
   "cell_type": "code",
   "execution_count": 93,
   "metadata": {},
   "outputs": [],
   "source": [
    "# Optimize hyperparameters using Optuna\n",
    "svm_study_filename = '50_svm_study_b_s1.pkl'\n",
    "rf_study_filename = '50_rf_study_b_s1.pkl'\n",
    "xgboost_study_filename = '50_xgboost_study_b_s1.pkl'"
   ]
  },
  {
   "cell_type": "code",
   "execution_count": 94,
   "metadata": {},
   "outputs": [],
   "source": [
    "# Optimize hyperparameters using Optuna with early stopping\n",
    "def optimize_with_early_stopping(objective, study_filename, n_trials=50, patience=10):\n",
    "    if os.path.exists(study_filename):\n",
    "        study = load_study(study_filename)\n",
    "        return study\n",
    "    else:\n",
    "        study = optuna.create_study(direction='maximize')\n",
    "    \n",
    "    best_value = -np.inf\n",
    "    trials_without_improvement = 0\n",
    "    \n",
    "    for trial in range(n_trials):\n",
    "        study.optimize(objective, n_trials=1)\n",
    "        \n",
    "        current_best_value = study.best_value\n",
    "        if current_best_value > best_value:\n",
    "            best_value = current_best_value\n",
    "            trials_without_improvement = 0\n",
    "        else:\n",
    "            trials_without_improvement += 1\n",
    "        \n",
    "        if trials_without_improvement >= patience:\n",
    "            print(f\"Early stopping at trial {trial + 1}\")\n",
    "            break\n",
    "        \n",
    "        save_study(study, study_filename)\n",
    "    \n",
    "    return study"
   ]
  },
  {
   "cell_type": "markdown",
   "metadata": {},
   "source": [
    "### Find Hyperparmeters if not trained already"
   ]
  },
  {
   "cell_type": "code",
   "execution_count": 95,
   "metadata": {},
   "outputs": [
    {
     "name": "stderr",
     "output_type": "stream",
     "text": [
      "[I 2024-06-19 15:13:23,041] A new study created in memory with name: no-name-3d8768eb-5153-4257-890b-25091b3d1dc6\n",
      "[I 2024-06-19 15:13:24,584] Trial 0 finished with value: 1.0 and parameters: {'C': 0.003450066235204475}. Best is trial 0 with value: 1.0.\n",
      "[I 2024-06-19 15:13:26,519] Trial 1 finished with value: 1.0 and parameters: {'C': 0.030024738425880833}. Best is trial 0 with value: 1.0.\n",
      "[I 2024-06-19 15:13:28,381] Trial 2 finished with value: 1.0 and parameters: {'C': 0.02697599910238836}. Best is trial 0 with value: 1.0.\n",
      "[I 2024-06-19 15:13:29,967] Trial 3 finished with value: 1.0 and parameters: {'C': 0.002229532074061881}. Best is trial 0 with value: 1.0.\n",
      "[I 2024-06-19 15:13:31,863] Trial 4 finished with value: 1.0 and parameters: {'C': 0.004045743594431839}. Best is trial 0 with value: 1.0.\n",
      "[I 2024-06-19 15:13:33,630] Trial 5 finished with value: 1.0 and parameters: {'C': 1.3588500637391627}. Best is trial 0 with value: 1.0.\n",
      "[I 2024-06-19 15:13:35,478] Trial 6 finished with value: 1.0 and parameters: {'C': 0.024907232300866902}. Best is trial 0 with value: 1.0.\n",
      "[I 2024-06-19 15:13:37,311] Trial 7 finished with value: 1.0 and parameters: {'C': 225.3828181179142}. Best is trial 0 with value: 1.0.\n",
      "[I 2024-06-19 15:13:39,174] Trial 8 finished with value: 1.0 and parameters: {'C': 122.1616815265595}. Best is trial 0 with value: 1.0.\n",
      "[I 2024-06-19 15:13:41,000] Trial 9 finished with value: 1.0 and parameters: {'C': 0.03357099147506683}. Best is trial 0 with value: 1.0.\n",
      "[I 2024-06-19 15:13:42,731] Trial 10 finished with value: 1.0 and parameters: {'C': 2.8902163370225855}. Best is trial 0 with value: 1.0.\n"
     ]
    },
    {
     "name": "stdout",
     "output_type": "stream",
     "text": [
      "Early stopping at trial 11\n"
     ]
    }
   ],
   "source": [
    "svm_study = optimize_with_early_stopping(svm_objective, svm_study_filename, n_trials=50, patience=10)"
   ]
  },
  {
   "cell_type": "code",
   "execution_count": 96,
   "metadata": {},
   "outputs": [
    {
     "name": "stderr",
     "output_type": "stream",
     "text": [
      "[I 2024-06-19 15:13:42,742] A new study created in memory with name: no-name-6b082e6d-cfe2-4d03-8937-7def234be4ea\n",
      "[I 2024-06-19 15:13:47,060] Trial 0 finished with value: 1.0 and parameters: {'n_estimators': 975, 'max_depth': 7, 'max_features': 'log2', 'criterion': 'gini'}. Best is trial 0 with value: 1.0.\n",
      "[I 2024-06-19 15:13:51,321] Trial 1 finished with value: 1.0 and parameters: {'n_estimators': 946, 'max_depth': 27, 'max_features': 'sqrt', 'criterion': 'entropy'}. Best is trial 0 with value: 1.0.\n",
      "[I 2024-06-19 15:13:53,241] Trial 2 finished with value: 1.0 and parameters: {'n_estimators': 121, 'max_depth': 5, 'max_features': 'sqrt', 'criterion': 'gini'}. Best is trial 0 with value: 1.0.\n",
      "[I 2024-06-19 15:13:57,219] Trial 3 finished with value: 1.0 and parameters: {'n_estimators': 860, 'max_depth': 32, 'max_features': 'log2', 'criterion': 'gini'}. Best is trial 0 with value: 1.0.\n",
      "[I 2024-06-19 15:13:59,794] Trial 4 finished with value: 1.0 and parameters: {'n_estimators': 403, 'max_depth': 24, 'max_features': 'log2', 'criterion': 'gini'}. Best is trial 0 with value: 1.0.\n",
      "[I 2024-06-19 15:14:03,582] Trial 5 finished with value: 1.0 and parameters: {'n_estimators': 831, 'max_depth': 13, 'max_features': 'sqrt', 'criterion': 'gini'}. Best is trial 0 with value: 1.0.\n",
      "[I 2024-06-19 15:14:05,794] Trial 6 finished with value: 1.0 and parameters: {'n_estimators': 238, 'max_depth': 14, 'max_features': 'sqrt', 'criterion': 'entropy'}. Best is trial 0 with value: 1.0.\n",
      "[I 2024-06-19 15:14:09,521] Trial 7 finished with value: 1.0 and parameters: {'n_estimators': 797, 'max_depth': 21, 'max_features': 'sqrt', 'criterion': 'entropy'}. Best is trial 0 with value: 1.0.\n",
      "[I 2024-06-19 15:14:13,742] Trial 8 finished with value: 1.0 and parameters: {'n_estimators': 970, 'max_depth': 20, 'max_features': 'sqrt', 'criterion': 'gini'}. Best is trial 0 with value: 1.0.\n",
      "[I 2024-06-19 15:14:17,803] Trial 9 finished with value: 1.0 and parameters: {'n_estimators': 862, 'max_depth': 24, 'max_features': 'log2', 'criterion': 'gini'}. Best is trial 0 with value: 1.0.\n",
      "[I 2024-06-19 15:14:21,271] Trial 10 finished with value: 1.0 and parameters: {'n_estimators': 632, 'max_depth': 4, 'max_features': 'log2', 'criterion': 'entropy'}. Best is trial 0 with value: 1.0.\n"
     ]
    },
    {
     "name": "stdout",
     "output_type": "stream",
     "text": [
      "Early stopping at trial 11\n"
     ]
    }
   ],
   "source": [
    "rf_study = optimize_with_early_stopping(rf_objective, rf_study_filename, n_trials=100, patience=10)"
   ]
  },
  {
   "cell_type": "code",
   "execution_count": 97,
   "metadata": {},
   "outputs": [
    {
     "name": "stderr",
     "output_type": "stream",
     "text": [
      "[I 2024-06-19 15:14:21,279] A new study created in memory with name: no-name-90206921-226e-4a13-bda5-aec533ab7e7d\n",
      "[I 2024-06-19 15:14:23,466] Trial 0 finished with value: 0.996875 and parameters: {'learning_rate': 0.0015987480151282833, 'max_depth': 4, 'n_estimators': 216}. Best is trial 0 with value: 0.996875.\n",
      "[I 2024-06-19 15:14:25,724] Trial 1 finished with value: 0.996875 and parameters: {'learning_rate': 0.2938447125063232, 'max_depth': 2, 'n_estimators': 768}. Best is trial 0 with value: 0.996875.\n",
      "[I 2024-06-19 15:14:27,852] Trial 2 finished with value: 0.996875 and parameters: {'learning_rate': 0.8796183222025359, 'max_depth': 10, 'n_estimators': 204}. Best is trial 0 with value: 0.996875.\n",
      "[I 2024-06-19 15:14:30,255] Trial 3 finished with value: 0.996875 and parameters: {'learning_rate': 0.013693960046169268, 'max_depth': 2, 'n_estimators': 711}. Best is trial 0 with value: 0.996875.\n",
      "[I 2024-06-19 15:14:32,601] Trial 4 finished with value: 0.996875 and parameters: {'learning_rate': 0.015582609474887658, 'max_depth': 8, 'n_estimators': 681}. Best is trial 0 with value: 0.996875.\n",
      "[I 2024-06-19 15:14:35,259] Trial 5 finished with value: 0.996875 and parameters: {'learning_rate': 0.0014384457970309226, 'max_depth': 9, 'n_estimators': 762}. Best is trial 0 with value: 0.996875.\n",
      "[I 2024-06-19 15:14:37,870] Trial 6 finished with value: 0.996875 and parameters: {'learning_rate': 0.001469276090362766, 'max_depth': 10, 'n_estimators': 725}. Best is trial 0 with value: 0.996875.\n",
      "[I 2024-06-19 15:14:40,139] Trial 7 finished with value: 0.996875 and parameters: {'learning_rate': 0.19353865132188913, 'max_depth': 8, 'n_estimators': 409}. Best is trial 0 with value: 0.996875.\n",
      "[I 2024-06-19 15:14:42,815] Trial 8 finished with value: 0.996875 and parameters: {'learning_rate': 0.0026143269561805477, 'max_depth': 4, 'n_estimators': 739}. Best is trial 0 with value: 0.996875.\n",
      "[I 2024-06-19 15:14:45,139] Trial 9 finished with value: 0.996875 and parameters: {'learning_rate': 0.006102316232569642, 'max_depth': 2, 'n_estimators': 418}. Best is trial 0 with value: 0.996875.\n",
      "[I 2024-06-19 15:14:47,230] Trial 10 finished with value: 0.996875 and parameters: {'learning_rate': 0.08589498734558977, 'max_depth': 5, 'n_estimators': 102}. Best is trial 0 with value: 0.996875.\n"
     ]
    },
    {
     "name": "stdout",
     "output_type": "stream",
     "text": [
      "Early stopping at trial 11\n"
     ]
    }
   ],
   "source": [
    "xgboost_study = optimize_with_early_stopping(xgboost_objective, xgboost_study_filename, n_trials=100, patience=10)"
   ]
  },
  {
   "cell_type": "markdown",
   "metadata": {},
   "source": [
    "### Print the best trial for each study\n",
    "\n",
    "For SVM, RF, and XGBoost"
   ]
  },
  {
   "cell_type": "code",
   "execution_count": 98,
   "metadata": {},
   "outputs": [
    {
     "name": "stdout",
     "output_type": "stream",
     "text": [
      "Best SVM trial:\n",
      "  Value:  1.0\n",
      "  Params: \n",
      "    C: 0.003450066235204475\n"
     ]
    }
   ],
   "source": [
    "print(\"Best SVM trial:\")\n",
    "svm_trial = svm_study.best_trial\n",
    "print(\"  Value: \", svm_trial.value)\n",
    "print(\"  Params: \")\n",
    "for key, value in svm_trial.params.items():\n",
    "    print(f\"    {key}: {value}\")"
   ]
  },
  {
   "cell_type": "code",
   "execution_count": 99,
   "metadata": {},
   "outputs": [
    {
     "name": "stdout",
     "output_type": "stream",
     "text": [
      "Best Random Forest trial:\n",
      "  Value:  1.0\n",
      "  Params: \n",
      "    n_estimators: 975\n",
      "    max_depth: 7\n",
      "    max_features: log2\n",
      "    criterion: gini\n"
     ]
    }
   ],
   "source": [
    "print(\"Best Random Forest trial:\")\n",
    "rf_trial = rf_study.best_trial\n",
    "print(\"  Value: \", rf_trial.value)\n",
    "print(\"  Params: \")\n",
    "for key, value in rf_trial.params.items():\n",
    "    print(f\"    {key}: {value}\")"
   ]
  },
  {
   "cell_type": "code",
   "execution_count": 100,
   "metadata": {},
   "outputs": [
    {
     "name": "stdout",
     "output_type": "stream",
     "text": [
      "Best XGBoost trial:\n",
      "  Value:  0.996875\n",
      "  Params: \n",
      "    learning_rate: 0.0015987480151282833\n",
      "    max_depth: 4\n",
      "    n_estimators: 216\n"
     ]
    }
   ],
   "source": [
    "print(\"Best XGBoost trial:\")\n",
    "xgboost_trial = xgboost_study.best_trial\n",
    "print(\"  Value: \", xgboost_trial.value)\n",
    "print(\"  Params: \")\n",
    "for key, value in xgboost_trial.params.items():\n",
    "    print(f\"    {key}: {value}\")"
   ]
  },
  {
   "cell_type": "markdown",
   "metadata": {},
   "source": [
    "## Train and evaluate the models with the best hyperparameters"
   ]
  },
  {
   "cell_type": "code",
   "execution_count": 101,
   "metadata": {},
   "outputs": [],
   "source": [
    "# Train and evaluate the models with the best hyperparameters\n",
    "def train_and_evaluate(pipe, x_train, y_train, x_test, y_test):\n",
    "    pipe.fit(x_train, y_train)\n",
    "    y_pred = pipe.predict(x_test)\n",
    "    print(f'Testing accuracy {accuracy_score(y_test, y_pred)}')\n",
    "    print(f'Confusion matrix: \\n{confusion_matrix(y_test, y_pred)}')"
   ]
  },
  {
   "cell_type": "markdown",
   "metadata": {},
   "source": [
    "### SVM"
   ]
  },
  {
   "cell_type": "code",
   "execution_count": 102,
   "metadata": {},
   "outputs": [
    {
     "name": "stdout",
     "output_type": "stream",
     "text": [
      "Testing accuracy 1.0\n",
      "Confusion matrix: \n",
      "[[46  0]\n",
      " [ 0 35]]\n"
     ]
    }
   ],
   "source": [
    "best_svm_params = svm_trial.params\n",
    "svm_pipe = Pipeline([\n",
    "    ('skb', SelectKBest(f_classif, k=feature_selection_num)),\n",
    "    ('lasso', SelectFromModel(LassoCV(alphas=np.logspace(-6, -1, 50), cv=5, max_iter=10000, random_state=0))),\n",
    "    ('estimator', SVC(C=best_svm_params['C'], kernel='linear', random_state=0))  # Ensure linear kernel\n",
    "])\n",
    "train_and_evaluate(svm_pipe, x_train, y_train, x_test, y_test)"
   ]
  },
  {
   "cell_type": "code",
   "execution_count": 103,
   "metadata": {},
   "outputs": [],
   "source": [
    "# svm_accuracies = []\n",
    "\n",
    "# # Loop through the number of features from 1 to 150\n",
    "# for k in range(1, 121):\n",
    "#     best_svm_params = svm_trial.params\n",
    "#     svm_pipe = Pipeline([\n",
    "#         ('skb', SelectKBest(f_classif, k=k)),\n",
    "#         ('lasso', SelectFromModel(LassoCV(cv=5, random_state=0))),\n",
    "#         ('estimator', SVC(C=best_svm_params['C'], kernel=best_svm_params['kernel'], random_state=0))\n",
    "#     ])\n",
    "    \n",
    "#     # Train and evaluate the pipeline\n",
    "#     svm_pipe.fit(x_train, y_train)\n",
    "#     y_pred = svm_pipe.predict(x_test)\n",
    "#     accuracy = accuracy_score(y_test, y_pred)\n",
    "#     svm_accuracies.append(accuracy)\n",
    "#     print(f'Number of features: {k}, Accuracy: {accuracy}')\n",
    "\n",
    "# # Plot the number of features vs accuracy\n",
    "# plt.figure(figsize=(10, 6))\n",
    "# plt.plot(range(1, 121), svm_accuracies, marker='o')\n",
    "# plt.title('Accuracy vs Number of Features (SVM)')\n",
    "# plt.xlabel('Number of Features')\n",
    "# plt.ylabel('Accuracy')\n",
    "# plt.grid(True)\n",
    "# plt.show()"
   ]
  },
  {
   "cell_type": "markdown",
   "metadata": {},
   "source": [
    "### Random Forest"
   ]
  },
  {
   "cell_type": "code",
   "execution_count": 104,
   "metadata": {},
   "outputs": [
    {
     "name": "stdout",
     "output_type": "stream",
     "text": [
      "Testing accuracy 0.9876543209876543\n",
      "Confusion matrix: \n",
      "[[46  0]\n",
      " [ 1 34]]\n"
     ]
    }
   ],
   "source": [
    "best_rf_params = rf_trial.params\n",
    "rf_pipe = Pipeline([\n",
    "    ('skb', SelectKBest(f_classif, k=feature_selection_num)),\n",
    "    ('lasso', SelectFromModel(LassoCV(alphas=np.logspace(-6, -1, 50), cv=5, max_iter=10000, random_state=0))),\n",
    "    ('estimator', RandomForestClassifier(n_estimators=best_rf_params['n_estimators'],\n",
    "                                         max_depth=best_rf_params['max_depth'],\n",
    "                                         max_features=best_rf_params['max_features'],\n",
    "                                         criterion=best_rf_params['criterion'],\n",
    "                                         random_state=0))\n",
    "])\n",
    "train_and_evaluate(rf_pipe, x_train, y_train, x_test, y_test)"
   ]
  },
  {
   "cell_type": "code",
   "execution_count": 105,
   "metadata": {},
   "outputs": [],
   "source": [
    "# rf_accuracies = []\n",
    "\n",
    "# # Loop through the number of features from 1 to 200\n",
    "# for k in range(1, 121):\n",
    "#     best_rf_params = rf_trial.params\n",
    "#     rf_pipe = Pipeline([\n",
    "#         ('skb', SelectKBest(f_classif, k=k)),\n",
    "#         ('lasso', SelectFromModel(LassoCV(cv=5, random_state=0))),\n",
    "#         ('estimator', RandomForestClassifier(n_estimators=best_rf_params['n_estimators'],\n",
    "#                                              max_depth=best_rf_params['max_depth'],\n",
    "#                                              max_features=best_rf_params['max_features'],\n",
    "#                                              criterion=best_rf_params['criterion'],\n",
    "#                                              random_state=0))\n",
    "#     ])\n",
    "    \n",
    "#     # Train and evaluate the pipeline\n",
    "#     rf_pipe.fit(x_train, y_train)\n",
    "#     y_pred = rf_pipe.predict(x_test)\n",
    "#     rf_accuracy = accuracy_score(y_test, y_pred)\n",
    "#     rf_accuracies.append(rf_accuracy)\n",
    "#     print(f'Number of features: {k}, Accuracy: {rf_accuracy}')\n",
    "\n",
    "# # Plot the number of features vs rf_accuracy\n",
    "# plt.figure(figsize=(10, 6))\n",
    "# plt.plot(range(1, 121), rf_accuracies, marker='o')\n",
    "# plt.title('Accuracy vs Number of Features')\n",
    "# plt.xlabel('Number of Features')\n",
    "# plt.ylabel('Accuracy')\n",
    "# plt.grid(True)\n",
    "# plt.show()"
   ]
  },
  {
   "cell_type": "markdown",
   "metadata": {},
   "source": [
    "### XGBoost"
   ]
  },
  {
   "cell_type": "code",
   "execution_count": 106,
   "metadata": {},
   "outputs": [
    {
     "name": "stdout",
     "output_type": "stream",
     "text": [
      "Testing accuracy 0.9876543209876543\n",
      "Confusion matrix: \n",
      "[[46  0]\n",
      " [ 1 34]]\n"
     ]
    }
   ],
   "source": [
    "best_xgboost_params = xgboost_trial.params\n",
    "xgboost_pipe = Pipeline([\n",
    "    ('skb', SelectKBest(f_classif, k=feature_selection_num)),\n",
    "    ('lasso', SelectFromModel(LassoCV(cv=5, random_state=0))),\n",
    "    ('estimator', XGBClassifier(learning_rate=best_xgboost_params['learning_rate'],\n",
    "                                max_depth=best_xgboost_params['max_depth'],\n",
    "                                n_estimators=best_xgboost_params['n_estimators'],\n",
    "                                random_state=0,\n",
    "                                use_label_encoder=False,\n",
    "                                eval_metric='logloss'))\n",
    "])\n",
    "train_and_evaluate(xgboost_pipe, x_train, y_train, x_test, y_test)"
   ]
  },
  {
   "cell_type": "code",
   "execution_count": 107,
   "metadata": {},
   "outputs": [],
   "source": [
    "# xgboost_accuracies = []\n",
    "\n",
    "# # Loop through the number of features from 1 to 150\n",
    "# for k in range(1, 121):\n",
    "#     best_xgboost_params = xgboost_trial.params\n",
    "#     xgboost_pipe = Pipeline([\n",
    "#         ('skb', SelectKBest(f_classif, k=k)),\n",
    "#         ('lasso', SelectFromModel(LassoCV(cv=5, random_state=0))),\n",
    "#         ('estimator', XGBClassifier(learning_rate=best_xgboost_params['learning_rate'],\n",
    "#                                     max_depth=best_xgboost_params['max_depth'],\n",
    "#                                     n_estimators=best_xgboost_params['n_estimators'],\n",
    "#                                     random_state=0,\n",
    "#                                     use_label_encoder=False,\n",
    "#                                     eval_metric='logloss'))\n",
    "#     ])\n",
    "\n",
    "#     # Train and evaluate the pipeline\n",
    "#     xgboost_pipe.fit(x_train, y_train)\n",
    "#     y_pred = xgboost_pipe.predict(x_test)\n",
    "#     xgboost_accuracy = accuracy_score(y_test, y_pred)\n",
    "#     xgboost_accuracies.append(xgboost_accuracy)\n",
    "#     print(f'Number of features: {k}, Accuracy: {xgboost_accuracy}') \n",
    "\n",
    "# # Plot the number of features vs xgboost_accuracy\n",
    "# plt.figure(figsize=(10, 6))\n",
    "# plt.plot(range(1, 121), xgboost_accuracies, marker='o')\n",
    "# plt.title('Accuracy vs Number of Features (XGBoost)')\n",
    "# plt.xlabel('Number of Features')\n",
    "# plt.ylabel('Accuracy')\n",
    "# plt.grid(True)\n",
    "# plt.show()"
   ]
  },
  {
   "cell_type": "code",
   "execution_count": 108,
   "metadata": {},
   "outputs": [],
   "source": [
    "def get_top_features(pipe, feature_names, top_feature_num):\n",
    "    if isinstance(pipe.named_steps['estimator'], SVC):\n",
    "        if pipe.named_steps['estimator'].kernel != 'linear':\n",
    "            raise ValueError(\"Feature importance is not available for non-linear SVM kernels.\")\n",
    "        feature_scores = pipe.named_steps['estimator'].coef_[0]\n",
    "    elif isinstance(pipe.named_steps['estimator'], XGBClassifier):\n",
    "        feature_scores = pipe.named_steps['estimator'].feature_importances_\n",
    "    else:\n",
    "        raise ValueError(\"Unsupported estimator type for feature extraction.\")\n",
    "    \n",
    "    # Get selected features from SelectKBest\n",
    "    skb_support = pipe.named_steps['skb'].get_support(indices=True)\n",
    "    print(\"Selected features from SelectKBest:\", skb_support)\n",
    "    \n",
    "    # Transform the features using SelectKBest\n",
    "    skb_features = pipe.named_steps['skb'].transform(x_train)\n",
    "    \n",
    "    # Get selected features from LassoCV\n",
    "    lasso = LassoCV(alphas=np.logspace(-6, -1, 50), cv=5, max_iter=10000, random_state=0)\n",
    "    lasso.fit(skb_features, y_train)\n",
    "    lasso_support = np.where(lasso.coef_ != 0)[0]\n",
    "    print(\"Selected features from LassoCV:\", lasso_support)\n",
    "    \n",
    "    if len(lasso_support) == 0:\n",
    "        print(\"No features selected after LassoCV.\")\n",
    "        return []\n",
    "    \n",
    "    # Ensure indices match feature_scores\n",
    "    top_indices = np.argsort(np.abs(lasso.coef_[lasso_support]))[::-1][:top_feature_num]\n",
    "    top_features = [(feature_names[skb_support[i]], lasso.coef_[lasso_support[i]]) for i in top_indices]\n",
    "    \n",
    "    return top_features"
   ]
  },
  {
   "cell_type": "code",
   "execution_count": 109,
   "metadata": {},
   "outputs": [
    {
     "name": "stdout",
     "output_type": "stream",
     "text": [
      "Selected features from SelectKBest: [  69  139  159  221  231  248  262  290  331  332  344  531  639  654\n",
      "  671  778  792  802  869  990  992 1056 1090 1091 1095 1151 1283 1287\n",
      " 1301 1385 1576 1587 1667 1746 1925 1934 1935 1945 1988 1993 2027 2087\n",
      " 2095 2190 2241 2273 2302 2309 2381 2560]\n",
      "Selected features from LassoCV: [ 0  2  3  4  5  8 12 16 18 20 21 22 25 28 29 31 32 33 34 38 39 40 47 49]\n",
      "Top SVM features: [('hsa-miR-6836-3p', 0.2949321869366091), ('hsa-miR-4417', -0.06826909362398707), ('hsa-miR-6805-3p', -0.06135703180436593), ('hsa-miR-4456', -0.04703965335515834), ('hsa-miR-1185-1-3p', 0.021090670940266013), ('hsa-miR-1225-3p', 0.020981720538378615), ('hsa-miR-6839-5p', -0.01417069469956532), ('hsa-miR-3141', -0.013864032777814094), ('hsa-miR-504-3p', 0.012390546675234777), ('hsa-miR-4459', -0.01171079935147726)]\n",
      "Selected features from SelectKBest: [  69  139  159  221  231  248  262  290  331  332  344  531  639  654\n",
      "  671  778  792  802  869  990  992 1056 1090 1091 1095 1151 1283 1287\n",
      " 1301 1385 1576 1587 1667 1746 1925 1934 1935 1945 1988 1993 2027 2087\n",
      " 2095 2190 2241 2273 2302 2309 2381 2560]\n",
      "Selected features from LassoCV: [ 0  2  3  4  5  8 12 16 18 20 21 22 25 28 29 31 32 33 34 38 39 40 47 49]\n",
      "Top XGBoost features: [('hsa-miR-6836-3p', 0.2949321869366091), ('hsa-miR-4417', -0.06826909362398707), ('hsa-miR-6805-3p', -0.06135703180436593), ('hsa-miR-4456', -0.04703965335515834), ('hsa-miR-1185-1-3p', 0.021090670940266013), ('hsa-miR-1225-3p', 0.020981720538378615), ('hsa-miR-6839-5p', -0.01417069469956532), ('hsa-miR-3141', -0.013864032777814094), ('hsa-miR-504-3p', 0.012390546675234777), ('hsa-miR-4459', -0.01171079935147726)]\n"
     ]
    }
   ],
   "source": [
    "try:\n",
    "    svm_top_features = get_top_features(svm_pipe, feature_names, feature_importance_num)\n",
    "    print(\"Top SVM features:\", svm_top_features)\n",
    "except ValueError as e:\n",
    "    print(\"SVM feature extraction error:\", e)\n",
    "\n",
    "xgboost_top_features = get_top_features(xgboost_pipe, feature_names, feature_importance_num)\n",
    "print(\"Top XGBoost features:\", xgboost_top_features)"
   ]
  },
  {
   "cell_type": "code",
   "execution_count": 110,
   "metadata": {},
   "outputs": [],
   "source": [
    "def normalize_importance(importance_scores):\n",
    "    max_score = max(importance_scores, key=lambda x: abs(x[1]))[1]\n",
    "    min_score = min(importance_scores, key=lambda x: abs(x[1]))[1]\n",
    "    normalized_scores = [(feature, (score - min_score) / (max_score - min_score)) for feature, score in importance_scores]\n",
    "    return normalized_scores"
   ]
  },
  {
   "cell_type": "code",
   "execution_count": 111,
   "metadata": {},
   "outputs": [
    {
     "name": "stdout",
     "output_type": "stream",
     "text": [
      "Compiled normalized top features: [('SVM_hsa-miR-6836-3p', 1.0), ('SVM_hsa-miR-4417', -0.18444346292458216), ('SVM_hsa-miR-6805-3p', -0.1619023903134272), ('SVM_hsa-miR-4456', -0.11521168128231755), ('SVM_hsa-miR-1185-1-3p', 0.10696957621240616), ('SVM_hsa-miR-1225-3p', 0.1066142757269581), ('SVM_hsa-miR-6839-5p', -0.008022017323354091), ('SVM_hsa-miR-3141', -0.007021955572510323), ('SVM_hsa-miR-504-3p', 0.07859741492365063), ('SVM_hsa-miR-4459', 0.0), ('XGB_hsa-miR-6836-3p', 1.0), ('XGB_hsa-miR-4417', -0.18444346292458216), ('XGB_hsa-miR-6805-3p', -0.1619023903134272), ('XGB_hsa-miR-4456', -0.11521168128231755), ('XGB_hsa-miR-1185-1-3p', 0.10696957621240616), ('XGB_hsa-miR-1225-3p', 0.1066142757269581), ('XGB_hsa-miR-6839-5p', -0.008022017323354091), ('XGB_hsa-miR-3141', -0.007021955572510323), ('XGB_hsa-miR-504-3p', 0.07859741492365063), ('XGB_hsa-miR-4459', 0.0)]\n"
     ]
    }
   ],
   "source": [
    "# Normalize the top features for SVM and XGBoost\n",
    "normalized_svm_features = normalize_importance(svm_top_features)\n",
    "normalized_xgboost_features = normalize_importance(xgboost_top_features)\n",
    "\n",
    "# Compile normalized top features\n",
    "def compile_normalized_top_features(normalized_svm_features, normalized_xgboost_features):\n",
    "    top_features = []\n",
    "    for feature, score in normalized_svm_features:\n",
    "        top_features.append((f'SVM_{feature}', score))\n",
    "    for feature, score in normalized_xgboost_features:\n",
    "        top_features.append((f'XGB_{feature}', score))\n",
    "    return top_features\n",
    "\n",
    "normalized_top_features = compile_normalized_top_features(normalized_svm_features, normalized_xgboost_features)\n",
    "print(\"Compiled normalized top features:\", normalized_top_features)"
   ]
  },
  {
   "cell_type": "code",
   "execution_count": 112,
   "metadata": {},
   "outputs": [
    {
     "name": "stdout",
     "output_type": "stream",
     "text": [
      "Compiled normalized top features saved to '../GSEA/miRNA/s1_s2_miRNA.csv'\n"
     ]
    }
   ],
   "source": [
    "normalized_top_features_df = pd.DataFrame(normalized_top_features, columns=['Feature', 'Normalized Importance'])\n",
    "normalized_top_features_df.to_csv('../GSEA/miRNA/s1_s2_miRNA.csv', index=False)\n",
    "print(\"Compiled normalized top features saved to '../GSEA/miRNA/s1_s2_miRNA.csv'\")"
   ]
  },
  {
   "cell_type": "code",
   "execution_count": 114,
   "metadata": {},
   "outputs": [
    {
     "name": "stdout",
     "output_type": "stream",
     "text": [
      "Selected features from SelectKBest: [  69  139  159  221  231  248  262  290  331  332  344  531  639  654\n",
      "  671  778  792  802  869  990  992 1056 1090 1091 1095 1151 1283 1287\n",
      " 1301 1385 1576 1587 1667 1746 1925 1934 1935 1945 1988 1993 2027 2087\n",
      " 2095 2190 2241 2273 2302 2309 2381 2560]\n",
      "Selected features from LassoCV: [ 0  2  3  4  5  8 12 16 18 20 21 22 25 28 29 31 32 33 34 38 39 40 47 49]\n",
      "All SVM features: [('hsa-miR-6805-3p', -0.08555831121511477), ('hsa-miR-6836-3p', -0.04165675791029131), ('hsa-miR-5100', 0.24909653849298777), ('hsa-miR-504-3p', 0.05578176049200083), ('hsa-miR-17-3p', 0.14271696427948427), ('hsa-miR-1290', 0.14413002400904676), ('hsa-miR-6839-5p', 0.03419987195636753), ('hsa-miR-6741-5p', 0.09221891321873943), ('hsa-miR-6780a-5p', 0.032526412064578195), ('hsa-miR-1225-3p', -0.027921543236082296), ('hsa-miR-516a-5p', -0.05131814595537483), ('hsa-miR-4456', -0.20390865287052515), ('hsa-miR-1224-5p', -0.11168865122296627), ('hsa-miR-129-1-3p', -0.051358169808561074), ('hsa-miR-1470', -0.03023344907311227), ('hsa-miR-5189-3p', 0.0479838078785374), ('hsa-miR-6819-5p', 0.08102760414672527), ('hsa-miR-6730-5p', 0.08510225059194841), ('hsa-miR-646', -0.0507593774392391), ('hsa-miR-6798-3p', -0.0598413052192413), ('hsa-miR-6775-5p', 0.06234850616491277), ('hsa-miR-3181', -0.054013981974321765), ('hsa-miR-6787-5p', -0.10189863405817656), ('hsa-miR-6880-3p', -0.06921265886685679)]\n",
      "Selected features from SelectKBest: [  69  139  159  221  231  248  262  290  331  332  344  531  639  654\n",
      "  671  778  792  802  869  990  992 1056 1090 1091 1095 1151 1283 1287\n",
      " 1301 1385 1576 1587 1667 1746 1925 1934 1935 1945 1988 1993 2027 2087\n",
      " 2095 2190 2241 2273 2302 2309 2381 2560]\n",
      "Selected features from LassoCV: [ 0  2  3  4  5  8 12 16 18 20 21 22 25 28 29 31 32 33 34 38 39 40 47 49]\n",
      "All XGBoost features: [('hsa-miR-6805-3p', 0.0), ('hsa-miR-6836-3p', 0.0), ('hsa-miR-5100', 1.0), ('hsa-miR-504-3p', 0.0), ('hsa-miR-17-3p', 0.0), ('hsa-miR-1290', 0.0), ('hsa-miR-6839-5p', 0.0), ('hsa-miR-6741-5p', 0.0), ('hsa-miR-6780a-5p', 0.0), ('hsa-miR-1225-3p', 0.0), ('hsa-miR-516a-5p', 0.0), ('hsa-miR-4456', 0.0), ('hsa-miR-1224-5p', 0.0), ('hsa-miR-129-1-3p', 0.0), ('hsa-miR-1470', 0.0), ('hsa-miR-5189-3p', 0.0), ('hsa-miR-6819-5p', 0.0), ('hsa-miR-6730-5p', 0.0), ('hsa-miR-646', 0.0), ('hsa-miR-6798-3p', 0.0), ('hsa-miR-6775-5p', 0.0), ('hsa-miR-3181', 0.0), ('hsa-miR-6787-5p', 0.0), ('hsa-miR-6880-3p', 0.0)]\n",
      "All selected features saved to '../GSEA/miRNA/50_b_s1.csv'\n"
     ]
    }
   ],
   "source": [
    "def get_all_selected_features(pipe, feature_names):\n",
    "    if isinstance(pipe.named_steps['estimator'], SVC):\n",
    "        if pipe.named_steps['estimator'].kernel != 'linear':\n",
    "            raise ValueError(\"Feature importance is not available for non-linear SVM kernels.\")\n",
    "        feature_scores = pipe.named_steps['estimator'].coef_[0]\n",
    "    elif isinstance(pipe.named_steps['estimator'], XGBClassifier):\n",
    "        feature_scores = pipe.named_steps['estimator'].feature_importances_\n",
    "    else:\n",
    "        raise ValueError(\"Unsupported estimator type for feature extraction.\")\n",
    "    \n",
    "    # Get selected features from SelectKBest\n",
    "    skb_support = pipe.named_steps['skb'].get_support(indices=True)\n",
    "    print(\"Selected features from SelectKBest:\", skb_support)\n",
    "    \n",
    "    # Transform the features using SelectKBest\n",
    "    skb_features = pipe.named_steps['skb'].transform(x_train)\n",
    "    \n",
    "    # Get selected features from LassoCV\n",
    "    lasso = LassoCV(alphas=np.logspace(-6, -1, 50), cv=5, max_iter=10000, random_state=0)\n",
    "    lasso.fit(skb_features, y_train)\n",
    "    lasso_support = np.where(lasso.coef_ != 0)[0]\n",
    "    print(\"Selected features from LassoCV:\", lasso_support)\n",
    "    \n",
    "    # Map the selected LassoCV features back to the original feature names\n",
    "    lasso_support_mapped = skb_support[lasso_support]\n",
    "    \n",
    "    # Ensure the index does not go out of bounds\n",
    "    all_features = [(feature_names[i], feature_scores[j]) for j, i in enumerate(lasso_support_mapped) if j < len(feature_scores)]\n",
    "    \n",
    "    return all_features\n",
    "\n",
    "# Extract all selected features from SVM and XGBoost\n",
    "all_svm_features = get_all_selected_features(svm_pipe, feature_names)\n",
    "print(\"All SVM features:\", all_svm_features)\n",
    "\n",
    "all_xgboost_features = get_all_selected_features(xgboost_pipe, feature_names)\n",
    "print(\"All XGBoost features:\", all_xgboost_features)\n",
    "\n",
    "# Save all selected features to CSV\n",
    "all_features_df = pd.DataFrame(all_svm_features + all_xgboost_features, columns=['Feature', 'Importance'])\n",
    "all_features_df.to_csv('../GSEA/miRNA/50_b_s1.csv', index=False)\n",
    "print(\"All selected features saved to '../GSEA/miRNA/50_b_s1.csv'\")"
   ]
  }
 ],
 "metadata": {
  "kernelspec": {
   "display_name": "myenv",
   "language": "python",
   "name": "python3"
  },
  "language_info": {
   "codemirror_mode": {
    "name": "ipython",
    "version": 3
   },
   "file_extension": ".py",
   "mimetype": "text/x-python",
   "name": "python",
   "nbconvert_exporter": "python",
   "pygments_lexer": "ipython3",
   "version": "3.10.8"
  }
 },
 "nbformat": 4,
 "nbformat_minor": 2
}
