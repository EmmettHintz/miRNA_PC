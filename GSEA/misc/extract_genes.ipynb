{
 "cells": [
  {
   "cell_type": "code",
   "execution_count": 26,
   "metadata": {},
   "outputs": [],
   "source": [
    "import pandas as pd"
   ]
  },
  {
   "cell_type": "code",
   "execution_count": 27,
   "metadata": {},
   "outputs": [],
   "source": [
    "df = pd.read_csv('./gene_targets/s2_s3_genes.csv')"
   ]
  },
  {
   "cell_type": "code",
   "execution_count": 28,
   "metadata": {},
   "outputs": [
    {
     "data": {
      "text/plain": [
       "(434, 9)"
      ]
     },
     "execution_count": 28,
     "metadata": {},
     "output_type": "execute_result"
    }
   ],
   "source": [
    "df.shape"
   ]
  },
  {
   "cell_type": "code",
   "execution_count": 29,
   "metadata": {},
   "outputs": [
    {
     "data": {
      "text/html": [
       "<div>\n",
       "<style scoped>\n",
       "    .dataframe tbody tr th:only-of-type {\n",
       "        vertical-align: middle;\n",
       "    }\n",
       "\n",
       "    .dataframe tbody tr th {\n",
       "        vertical-align: top;\n",
       "    }\n",
       "\n",
       "    .dataframe thead th {\n",
       "        text-align: right;\n",
       "    }\n",
       "</style>\n",
       "<table border=\"1\" class=\"dataframe\">\n",
       "  <thead>\n",
       "    <tr style=\"text-align: right;\">\n",
       "      <th></th>\n",
       "      <th>Gene Symbol</th>\n",
       "      <th>p-value</th>\n",
       "      <th>FDR</th>\n",
       "      <th>Odd ratio</th>\n",
       "      <th>Number of interactions</th>\n",
       "      <th>microRNA 1</th>\n",
       "      <th>microRNA 2</th>\n",
       "      <th>microRNA 3</th>\n",
       "      <th>microRNA 4</th>\n",
       "    </tr>\n",
       "  </thead>\n",
       "  <tbody>\n",
       "    <tr>\n",
       "      <th>290</th>\n",
       "      <td>SLC28A2</td>\n",
       "      <td>0.000584</td>\n",
       "      <td>0.623</td>\n",
       "      <td>0.0577</td>\n",
       "      <td>3</td>\n",
       "      <td>hsa-miR-106a-3p</td>\n",
       "      <td>hsa-miR-122-3p</td>\n",
       "      <td>hsa-miR-4485-5p</td>\n",
       "      <td>NaN</td>\n",
       "    </tr>\n",
       "    <tr>\n",
       "      <th>304</th>\n",
       "      <td>SNAI1</td>\n",
       "      <td>0.001230</td>\n",
       "      <td>0.623</td>\n",
       "      <td>0.0737</td>\n",
       "      <td>3</td>\n",
       "      <td>hsa-miR-506-3p</td>\n",
       "      <td>hsa-miR-199a-5p</td>\n",
       "      <td>hsa-miR-203a-3p</td>\n",
       "      <td>NaN</td>\n",
       "    </tr>\n",
       "    <tr>\n",
       "      <th>200</th>\n",
       "      <td>NOTCH2NL</td>\n",
       "      <td>0.002200</td>\n",
       "      <td>0.623</td>\n",
       "      <td>0.0898</td>\n",
       "      <td>3</td>\n",
       "      <td>hsa-miR-452-5p</td>\n",
       "      <td>hsa-miR-3130-3p</td>\n",
       "      <td>hsa-miR-122-3p</td>\n",
       "      <td>NaN</td>\n",
       "    </tr>\n",
       "    <tr>\n",
       "      <th>334</th>\n",
       "      <td>TNF</td>\n",
       "      <td>0.003810</td>\n",
       "      <td>0.623</td>\n",
       "      <td>0.0481</td>\n",
       "      <td>2</td>\n",
       "      <td>hsa-miR-203a-3p</td>\n",
       "      <td>hsa-miR-452-5p</td>\n",
       "      <td>NaN</td>\n",
       "      <td>NaN</td>\n",
       "    </tr>\n",
       "    <tr>\n",
       "      <th>115</th>\n",
       "      <td>GPR82</td>\n",
       "      <td>0.003870</td>\n",
       "      <td>0.623</td>\n",
       "      <td>0.1090</td>\n",
       "      <td>3</td>\n",
       "      <td>hsa-miR-198</td>\n",
       "      <td>hsa-miR-106a-3p</td>\n",
       "      <td>hsa-miR-4485-5p</td>\n",
       "      <td>NaN</td>\n",
       "    </tr>\n",
       "    <tr>\n",
       "      <th>...</th>\n",
       "      <td>...</td>\n",
       "      <td>...</td>\n",
       "      <td>...</td>\n",
       "      <td>...</td>\n",
       "      <td>...</td>\n",
       "      <td>...</td>\n",
       "      <td>...</td>\n",
       "      <td>...</td>\n",
       "      <td>...</td>\n",
       "    </tr>\n",
       "    <tr>\n",
       "      <th>429</th>\n",
       "      <td>XIAP</td>\n",
       "      <td>0.682000</td>\n",
       "      <td>0.722</td>\n",
       "      <td>1.1400</td>\n",
       "      <td>2</td>\n",
       "      <td>hsa-miR-450a-1-3p</td>\n",
       "      <td>hsa-miR-106a-3p</td>\n",
       "      <td>NaN</td>\n",
       "      <td>NaN</td>\n",
       "    </tr>\n",
       "    <tr>\n",
       "      <th>430</th>\n",
       "      <td>SOD2</td>\n",
       "      <td>0.724000</td>\n",
       "      <td>0.750</td>\n",
       "      <td>1.2400</td>\n",
       "      <td>2</td>\n",
       "      <td>hsa-miR-203a-3p</td>\n",
       "      <td>hsa-miR-3130-3p</td>\n",
       "      <td>NaN</td>\n",
       "      <td>NaN</td>\n",
       "    </tr>\n",
       "    <tr>\n",
       "      <th>431</th>\n",
       "      <td>NFIC</td>\n",
       "      <td>0.742000</td>\n",
       "      <td>0.764</td>\n",
       "      <td>1.2800</td>\n",
       "      <td>2</td>\n",
       "      <td>hsa-miR-491-5p</td>\n",
       "      <td>hsa-miR-506-3p</td>\n",
       "      <td>NaN</td>\n",
       "      <td>NaN</td>\n",
       "    </tr>\n",
       "    <tr>\n",
       "      <th>432</th>\n",
       "      <td>NACC1</td>\n",
       "      <td>0.754000</td>\n",
       "      <td>0.772</td>\n",
       "      <td>1.3100</td>\n",
       "      <td>2</td>\n",
       "      <td>hsa-miR-16-2-3p</td>\n",
       "      <td>hsa-miR-491-5p</td>\n",
       "      <td>NaN</td>\n",
       "      <td>NaN</td>\n",
       "    </tr>\n",
       "    <tr>\n",
       "      <th>433</th>\n",
       "      <td>AGO2</td>\n",
       "      <td>0.803000</td>\n",
       "      <td>0.813</td>\n",
       "      <td>1.4400</td>\n",
       "      <td>2</td>\n",
       "      <td>hsa-miR-16-2-3p</td>\n",
       "      <td>hsa-miR-2277-3p</td>\n",
       "      <td>NaN</td>\n",
       "      <td>NaN</td>\n",
       "    </tr>\n",
       "  </tbody>\n",
       "</table>\n",
       "<p>434 rows × 9 columns</p>\n",
       "</div>"
      ],
      "text/plain": [
       "    Gene Symbol   p-value    FDR  Odd ratio  Number of interactions  \\\n",
       "290     SLC28A2  0.000584  0.623     0.0577                       3   \n",
       "304       SNAI1  0.001230  0.623     0.0737                       3   \n",
       "200    NOTCH2NL  0.002200  0.623     0.0898                       3   \n",
       "334         TNF  0.003810  0.623     0.0481                       2   \n",
       "115       GPR82  0.003870  0.623     0.1090                       3   \n",
       "..          ...       ...    ...        ...                     ...   \n",
       "429        XIAP  0.682000  0.722     1.1400                       2   \n",
       "430        SOD2  0.724000  0.750     1.2400                       2   \n",
       "431        NFIC  0.742000  0.764     1.2800                       2   \n",
       "432       NACC1  0.754000  0.772     1.3100                       2   \n",
       "433        AGO2  0.803000  0.813     1.4400                       2   \n",
       "\n",
       "            microRNA 1       microRNA 2       microRNA 3 microRNA 4  \n",
       "290    hsa-miR-106a-3p   hsa-miR-122-3p  hsa-miR-4485-5p        NaN  \n",
       "304     hsa-miR-506-3p  hsa-miR-199a-5p  hsa-miR-203a-3p        NaN  \n",
       "200     hsa-miR-452-5p  hsa-miR-3130-3p   hsa-miR-122-3p        NaN  \n",
       "334    hsa-miR-203a-3p   hsa-miR-452-5p              NaN        NaN  \n",
       "115        hsa-miR-198  hsa-miR-106a-3p  hsa-miR-4485-5p        NaN  \n",
       "..                 ...              ...              ...        ...  \n",
       "429  hsa-miR-450a-1-3p  hsa-miR-106a-3p              NaN        NaN  \n",
       "430    hsa-miR-203a-3p  hsa-miR-3130-3p              NaN        NaN  \n",
       "431     hsa-miR-491-5p   hsa-miR-506-3p              NaN        NaN  \n",
       "432    hsa-miR-16-2-3p   hsa-miR-491-5p              NaN        NaN  \n",
       "433    hsa-miR-16-2-3p  hsa-miR-2277-3p              NaN        NaN  \n",
       "\n",
       "[434 rows x 9 columns]"
      ]
     },
     "execution_count": 29,
     "metadata": {},
     "output_type": "execute_result"
    }
   ],
   "source": [
    "# Obtain the top 50 Gene Symbol sortedby p-value\n",
    "df.sort_values(by='p-value')"
   ]
  },
  {
   "cell_type": "code",
   "execution_count": 30,
   "metadata": {},
   "outputs": [
    {
     "data": {
      "text/plain": [
       "(69, 9)"
      ]
     },
     "execution_count": 30,
     "metadata": {},
     "output_type": "execute_result"
    }
   ],
   "source": [
    "# print number of genes with p-value < 0.05\n",
    "df[df['p-value'] < 0.05].shape"
   ]
  },
  {
   "cell_type": "code",
   "execution_count": 31,
   "metadata": {},
   "outputs": [
    {
     "name": "stdout",
     "output_type": "stream",
     "text": [
      "['SLC28A2' 'SNAI1' 'NOTCH2NL' 'TNF' 'GPR82' 'SOX9' 'REG3A' 'TCF4'\n",
      " 'SMARCC1' 'CABP4' 'GOSR1' 'SLC9A3' 'C6orf223' 'DNAH17' 'GREM1' 'PCYT2'\n",
      " 'TBK1' 'FLYWCH2' 'PI4K2B' 'PRNP' 'TMEM251' 'CDH1' 'CCDC39' 'TMEM70'\n",
      " 'SEPT4' 'SELENOS' 'RNF41' 'CDH2' 'CLASP1' 'CCBE1' 'SNAP25' 'ADCYAP1'\n",
      " 'C16orf45' 'EGLN1' 'SLC45A4' 'ADORA2B' 'SNRNP48' 'SMAD3' 'EI24' 'JUNB'\n",
      " 'GTPBP1' 'HOXD3' 'ZNF91' 'POU3F3' 'BMI1' 'GABRB1' 'RND2' 'SLC38A2' 'CTGF'\n",
      " 'DIRAS1' 'MMP2' 'ZBTB3' 'ING4' 'PLXNA3' 'PTAFR' 'NIPAL1' 'FTSJ3' 'SOX6'\n",
      " 'TMPPE' 'C6orf120' 'ZDHHC6' 'CKS1B' 'FZD2' 'ITPRIPL1' 'CXCL8' 'IGFBP5'\n",
      " 'RNF222' 'PCYOX1' 'ZNF788']\n"
     ]
    }
   ],
   "source": [
    "# Obtain the all Gene symbol with p-value < 0.05 sorted by p-value with index removed\n",
    "genes = df[df['p-value'] < 0.05].sort_values(by='p-value')['Gene Symbol'].values\n",
    "print(genes)"
   ]
  },
  {
   "cell_type": "code",
   "execution_count": 32,
   "metadata": {},
   "outputs": [
    {
     "name": "stdout",
     "output_type": "stream",
     "text": [
      "SLC28A2,SNAI1,NOTCH2NL,TNF,GPR82,SOX9,REG3A,TCF4,SMARCC1,CABP4,GOSR1,SLC9A3,C6orf223,DNAH17,GREM1,PCYT2,TBK1,FLYWCH2,PI4K2B,PRNP,TMEM251,CDH1,CCDC39,TMEM70,SEPT4,SELENOS,RNF41,CDH2,CLASP1,CCBE1,SNAP25,ADCYAP1,C16orf45,EGLN1,SLC45A4,ADORA2B,SNRNP48,SMAD3,EI24,JUNB,GTPBP1,HOXD3,ZNF91,POU3F3,BMI1,GABRB1,RND2,SLC38A2,CTGF,DIRAS1,MMP2,ZBTB3,ING4,PLXNA3,PTAFR,NIPAL1,FTSJ3,SOX6,TMPPE,C6orf120,ZDHHC6,CKS1B,FZD2,ITPRIPL1,CXCL8,IGFBP5,RNF222,PCYOX1,ZNF788\n"
     ]
    }
   ],
   "source": [
    "# print comma separated list of genes\n",
    "print(','.join(genes))"
   ]
  }
 ],
 "metadata": {
  "kernelspec": {
   "display_name": "myenv",
   "language": "python",
   "name": "python3"
  },
  "language_info": {
   "codemirror_mode": {
    "name": "ipython",
    "version": 3
   },
   "file_extension": ".py",
   "mimetype": "text/x-python",
   "name": "python",
   "nbconvert_exporter": "python",
   "pygments_lexer": "ipython3",
   "version": "3.10.8"
  }
 },
 "nbformat": 4,
 "nbformat_minor": 2
}
