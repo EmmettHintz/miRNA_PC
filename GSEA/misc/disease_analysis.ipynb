{
 "cells": [
  {
   "cell_type": "code",
   "execution_count": null,
   "metadata": {},
   "outputs": [],
   "source": [
    "import pandas as pd\n",
    "import matplotlib.pyplot as plt\n",
    "import seaborn as sns"
   ]
  },
  {
   "cell_type": "code",
   "execution_count": null,
   "metadata": {},
   "outputs": [],
   "source": [
    "s1_s2_diseases = pd.read_csv('./genecards/s1_s2_diseases.csv')\n",
    "s2_s3_diseases = pd.read_csv('./genecards/s2_s3_diseases.csv')\n",
    "s3_s4_diseases = pd.read_csv('./genecards/s3_s4_diseases.csv')"
   ]
  },
  {
   "cell_type": "code",
   "execution_count": null,
   "metadata": {},
   "outputs": [],
   "source": [
    "print(f's1_s2_diseases shape: {s1_s2_diseases.shape}')\n",
    "print(f's2_s3_diseases shape: {s2_s3_diseases.shape}')\n",
    "print(f's3_s4_diseases shape: {s3_s4_diseases.shape}')"
   ]
  },
  {
   "cell_type": "code",
   "execution_count": null,
   "metadata": {},
   "outputs": [],
   "source": [
    "print(f'f1_s2_diseases columns: {s1_s2_diseases.columns}')\n",
    "print(f'f2_s3_diseases columns: {s2_s3_diseases.columns}')\n",
    "print(f'f3_s4_diseases columns: {s3_s4_diseases.columns}')"
   ]
  },
  {
   "cell_type": "code",
   "execution_count": null,
   "metadata": {},
   "outputs": [],
   "source": [
    "# Set a threshold for significance\n",
    "threshold = 0.5\n",
    "\n",
    "# Identify common significant diseases\n",
    "common_diseases = set(s1_s2_diseases[s1_s2_diseases['Score'] >= threshold]['Name']).intersection(\n",
    "    set(s2_s3_diseases[s2_s3_diseases['Score'] >= threshold]['Name'])).intersection(\n",
    "    set(s3_s4_diseases[s3_s4_diseases['Score'] >= threshold]['Name']))"
   ]
  },
  {
   "cell_type": "code",
   "execution_count": null,
   "metadata": {},
   "outputs": [],
   "source": [
    "# Track changes in score and number of genes matched\n",
    "def track_changes(df, common_diseases, stage):\n",
    "    df_common = df[df['Name'].isin(common_diseases)].copy()\n",
    "    df_common.set_index('Name', inplace=True)\n",
    "    df_common.rename(columns={'Score': f'Score_{stage}', '# Matched Genes': f'Matched Genes_{stage}'}, inplace=True)\n",
    "    return df_common\n",
    "\n",
    "s1_s2_common = track_changes(s1_s2_diseases, common_diseases, 's1_s2')\n",
    "s2_s3_common = track_changes(s2_s3_diseases, common_diseases, 's2_s3')\n",
    "s3_s4_common = track_changes(s3_s4_diseases, common_diseases, 's3_s4')\n",
    "\n",
    "# Merge the data for comparison\n",
    "merged_common_scores = s1_s2_common[['Score_s1_s2']].merge(s2_s3_common[['Score_s2_s3']], left_index=True, right_index=True)\n",
    "merged_common_scores = merged_common_scores.merge(s3_s4_common[['Score_s3_s4']], left_index=True, right_index=True)\n",
    "\n",
    "merged_common_genes = s1_s2_common[['Matched Genes_s1_s2']].merge(s2_s3_common[['Matched Genes_s2_s3']], left_index=True, right_index=True)\n",
    "merged_common_genes = merged_common_genes.merge(s3_s4_common[['Matched Genes_s3_s4']], left_index=True, right_index=True)"
   ]
  },
  {
   "cell_type": "code",
   "execution_count": null,
   "metadata": {},
   "outputs": [],
   "source": [
    "# Create heatmaps for significant diseases\n",
    "plt.figure(figsize=(14, 7))\n",
    "sns.heatmap(merged_common_scores, annot=True, cmap=\"YlGnBu\", cbar_kws={'label': 'Score'})\n",
    "plt.title('Heatmap of Significant Disease Scores Over Time')\n",
    "plt.show()"
   ]
  },
  {
   "cell_type": "code",
   "execution_count": null,
   "metadata": {},
   "outputs": [],
   "source": [
    "plt.figure(figsize=(14, 7))\n",
    "sns.heatmap(merged_common_genes, annot=True, cmap=\"YlGnBu\", cbar_kws={'label': '# Matched Genes'})\n",
    "plt.title('Heatmap of Number of Matched Genes for Significant Diseases Over Time')\n",
    "plt.show()"
   ]
  },
  {
   "cell_type": "code",
   "execution_count": null,
   "metadata": {},
   "outputs": [],
   "source": [
    "# Identify new significant diseases\n",
    "def new_significant_diseases(current_df, previous_df, threshold):\n",
    "    new_diseases = set(current_df['Name']) - set(previous_df['Name'])\n",
    "    significant_new_diseases = current_df[(current_df['Name'].isin(new_diseases)) & (current_df['Score'] >= threshold)]\n",
    "    return significant_new_diseases\n",
    "\n",
    "new_significant_s2_s3 = new_significant_diseases(s2_s3_diseases, s1_s2_diseases, threshold)\n",
    "new_significant_s3_s4 = new_significant_diseases(s3_s4_diseases, s2_s3_diseases, threshold)\n",
    "\n",
    "# Filter for more significant diseases\n",
    "significant_threshold = 2.5\n",
    "new_significant_s2_s3 = new_significant_s2_s3[new_significant_s2_s3['Score'] >= significant_threshold]\n",
    "new_significant_s3_s4 = new_significant_s3_s4[new_significant_s3_s4['Score'] >= significant_threshold]\n",
    "\n",
    "# Visualize new significant diseases\n",
    "plt.figure(figsize=(10, 10))\n",
    "sns.barplot(data=new_significant_s2_s3, x='Score', y='Name', palette='viridis')\n",
    "plt.title('New Significant Diseases in s2_s3')\n",
    "plt.xlabel('Score')\n",
    "plt.ylabel('Disease Name')\n",
    "plt.show()"
   ]
  },
  {
   "cell_type": "code",
   "execution_count": null,
   "metadata": {},
   "outputs": [],
   "source": [
    "plt.figure(figsize=(10, 20))\n",
    "sns.barplot(data=new_significant_s3_s4, x='Score', y='Name', palette='viridis')\n",
    "plt.title('New Significant Diseases in s3_s4')\n",
    "plt.xlabel('Score')\n",
    "plt.ylabel('Disease Name')\n",
    "plt.show()"
   ]
  },
  {
   "cell_type": "code",
   "execution_count": null,
   "metadata": {},
   "outputs": [],
   "source": [
    "# Calculate the change in matched genes\n",
    "merged_common_genes['Change_s1_s2_to_s2_s3'] = merged_common_genes['Matched Genes_s2_s3'] - merged_common_genes['Matched Genes_s1_s2']\n",
    "merged_common_genes['Change_s2_s3_to_s3_s4'] = merged_common_genes['Matched Genes_s3_s4'] - merged_common_genes['Matched Genes_s2_s3']\n",
    "\n",
    "# Calculate the absolute changes and filter top significant changes\n",
    "merged_common_genes['Abs_Change_s1_s2_to_s2_s3'] = merged_common_genes['Change_s1_s2_to_s2_s3'].abs()\n",
    "merged_common_genes['Abs_Change_s2_s3_to_s3_s4'] = merged_common_genes['Change_s2_s3_to_s3_s4'].abs()\n",
    "\n",
    "# Select top diseases with the most significant changes\n",
    "top_diseases = merged_common_genes.nlargest(30, ['Abs_Change_s1_s2_to_s2_s3', 'Abs_Change_s2_s3_to_s3_s4'])\n",
    "\n",
    "# Plot the trends using line plots for top significant changes\n",
    "plt.figure(figsize=(14, 7))\n",
    "for disease in top_diseases.index:\n",
    "    plt.plot(['s1_s2', 's2_s3', 's3_s4'], top_diseases.loc[disease, ['Matched Genes_s1_s2', 'Matched Genes_s2_s3', 'Matched Genes_s3_s4']], label=disease)\n",
    "plt.xlabel('Stage Comparison')\n",
    "plt.ylabel('Number of Matched Genes')\n",
    "plt.title('Trend of Number of Matched Genes for Top Significant Diseases Over Time')\n",
    "plt.legend(bbox_to_anchor=(1.05, 1), loc='upper left')\n",
    "plt.show()"
   ]
  },
  {
   "cell_type": "code",
   "execution_count": null,
   "metadata": {},
   "outputs": [],
   "source": [
    "# Print the changes in text\n",
    "print(\"Trend of Number of Matched Genes for Top Significant Diseases Over Time:\")\n",
    "for disease in top_diseases.index:\n",
    "    disease_name = merged_common_genes.index[disease]  # Retrieve the actual disease name correctly\n",
    "    matched_genes_s1_s2 = merged_common_genes.loc[disease_name, 'Matched Genes_s1_s2'] if 'Matched Genes_s1_s2' in merged_common_genes.columns else None\n",
    "    matched_genes_s2_s3 = merged_common_genes.loc[disease_name, 'Matched Genes_s2_s3'] if 'Matched Genes_s2_s3' in merged_common_genes.columns else None\n",
    "    matched_genes_s3_s4 = merged_common_genes.loc[disease_name, 'Matched Genes_s3_s4'] if 'Matched Genes_s3_s4' in merged_common_genes.columns else None\n",
    "    \n",
    "    change_s1_s2_to_s2_s3 = matched_genes_s2_s3 - matched_genes_s1_s2 if pd.notnull(matched_genes_s1_s2) and pd.notnull(matched_genes_s2_s3) else 'N/A'\n",
    "    change_s2_s3_to_s3_s4 = matched_genes_s3_s4 - matched_genes_s2_s3 if pd.notnull(matched_genes_s2_s3) and pd.notnull(matched_genes_s3_s4) else 'N/A'\n",
    "    \n",
    "    print(f\"Disease: {disease_name}\")\n",
    "    print(f\"  Matched Genes in s1_s2: {matched_genes_s1_s2 if pd.notnull(matched_genes_s1_s2) else 'N/A'}\")\n",
    "    print(f\"  Matched Genes in s2_s3: {matched_genes_s2_s3 if pd.notnull(matched_genes_s2_s3) else 'N/A'}\")\n",
    "    print(f\"  Matched Genes in s3_s4: {matched_genes_s3_s4 if pd.notnull(matched_genes_s3_s4) else 'N/A'}\")\n",
    "    print(f\"  Change from s1_s2 to s2_s3: {change_s1_s2_to_s2_s3}\")\n",
    "    print(f\"  Change from s2_s3 to s3_s4: {change_s2_s3_to_s3_s4}\")\n"
   ]
  },
  {
   "cell_type": "code",
   "execution_count": null,
   "metadata": {},
   "outputs": [],
   "source": [
    "# Calculate the change in matched genes\n",
    "merged_common_genes['Change_s1_s2_to_s2_s3'] = merged_common_genes['Matched Genes_s2_s3'] - merged_common_genes['Matched Genes_s1_s2']\n",
    "merged_common_genes['Change_s2_s3_to_s3_s4'] = merged_common_genes['Matched Genes_s3_s4'] - merged_common_genes['Matched Genes_s2_s3']\n",
    "\n",
    "significant_changes = merged_common_genes[['Change_s1_s2_to_s2_s3', 'Change_s2_s3_to_s3_s4']].sort_values(by=['Change_s1_s2_to_s2_s3', 'Change_s2_s3_to_s3_s4'], ascending=False).head(10)\n",
    "\n",
    "# Bar plot for significant changes\n",
    "plt.figure(figsize=(10, 7))\n",
    "significant_changes.plot(kind='bar', stacked=True, cmap='viridis')\n",
    "plt.xlabel('Disease')\n",
    "plt.ylabel('Change in Number of Matched Genes')\n",
    "plt.title('Significant Changes in Number of Matched Genes for Top 10 Diseases')\n",
    "plt.legend(loc='upper left')\n",
    "plt.show()"
   ]
  },
  {
   "cell_type": "code",
   "execution_count": null,
   "metadata": {},
   "outputs": [],
   "source": [
    "# Identify new significant diseases\n",
    "def new_significant_diseases(current_df, previous_df, threshold):\n",
    "    new_diseases = set(current_df['Name']) - set(previous_df['Name'])\n",
    "    significant_new_diseases = current_df[(current_df['Name'].isin(new_diseases)) & (current_df['Score'] >= threshold)]\n",
    "    return significant_new_diseases\n",
    "\n",
    "new_significant_s2_s3 = new_significant_diseases(s2_s3_diseases, s1_s2_diseases, threshold)\n",
    "new_significant_s3_s4 = new_significant_diseases(s3_s4_diseases, s2_s3_diseases, threshold)\n",
    "\n",
    "# Filter for more significant diseases\n",
    "significant_threshold = 3.0\n",
    "new_significant_s2_s3 = new_significant_s2_s3[new_significant_s2_s3['Score'] >= significant_threshold]\n",
    "new_significant_s3_s4 = new_significant_s3_s4[new_significant_s3_s4['Score'] >= significant_threshold]\n",
    "\n",
    "# Prepare data for line plots\n",
    "def prepare_line_plot_data(new_significant_df, current_df, previous_df, stage_current, stage_previous):\n",
    "    diseases = new_significant_df['Name'].tolist()\n",
    "    previous_scores = previous_df[previous_df['Name'].isin(diseases)][['Name', 'Score']].rename(columns={'Score': f'Score_{stage_previous}'})\n",
    "    current_scores = current_df[current_df['Name'].isin(diseases)][['Name', 'Score']].rename(columns={'Score': f'Score_{stage_current}'})\n",
    "    merged_scores = previous_scores.merge(current_scores, on='Name', how='outer')\n",
    "    return merged_scores\n",
    "\n",
    "# Data for line plots\n",
    "line_data_s2_s3 = prepare_line_plot_data(new_significant_s2_s3, s2_s3_diseases, s1_s2_diseases, 's2_s3', 's1_s2')\n",
    "line_data_s3_s4 = prepare_line_plot_data(new_significant_s3_s4, s3_s4_diseases, s2_s3_diseases, 's3_s4', 's2_s3')\n",
    "\n",
    "# Plot the trends using line plots\n",
    "plt.figure(figsize=(14, 7))\n",
    "for _, row in line_data_s2_s3.iterrows():\n",
    "    plt.plot(['s1_s2', 's2_s3'], [row['Score_s1_s2'], row['Score_s2_s3']], marker='o', label=row['Name'])\n",
    "plt.xlabel('Stage Comparison')\n",
    "plt.ylabel('Score')\n",
    "plt.title('Trend of Scores for New Significant Diseases in s1_s2 vs s2_s3')\n",
    "plt.legend(bbox_to_anchor=(1.05, 1), loc='upper left', ncol=2)\n",
    "plt.show()"
   ]
  },
  {
   "cell_type": "code",
   "execution_count": null,
   "metadata": {},
   "outputs": [],
   "source": [
    "\n",
    "plt.figure(figsize=(14, 7))\n",
    "for _, row in line_data_s3_s4.iterrows():\n",
    "    plt.plot(['s2_s3', 's3_s4'], [row['Score_s2_s3'], row['Score_s3_s4']], marker='o', label=row['Name'])\n",
    "plt.xlabel('Stage Comparison')\n",
    "plt.ylabel('Score')\n",
    "plt.title('Trend of Scores for New Significant Diseases in s2_s3 vs s3_s4')\n",
    "plt.legend(bbox_to_anchor=(1.05, 1), loc='upper left', ncol=2)\n",
    "plt.show()"
   ]
  },
  {
   "cell_type": "code",
   "execution_count": null,
   "metadata": {},
   "outputs": [],
   "source": [
    "# Plot bar plots for significant new diseases\n",
    "plt.figure(figsize=(10, 10))\n",
    "sns.barplot(data=new_significant_s2_s3, x='Score', y='Name', palette='viridis')\n",
    "plt.title('New Significant Diseases in s2_s3')\n",
    "plt.xlabel('Score')\n",
    "plt.ylabel('Disease Name')\n",
    "plt.show()"
   ]
  },
  {
   "cell_type": "code",
   "execution_count": null,
   "metadata": {},
   "outputs": [],
   "source": [
    "plt.figure(figsize=(10, 20))\n",
    "sns.barplot(data=new_significant_s3_s4, x='Score', y='Name', palette='viridis')\n",
    "plt.title('New Significant Diseases in s3_s4')\n",
    "plt.xlabel('Score')\n",
    "plt.ylabel('Disease Name')\n",
    "plt.show()"
   ]
  }
 ],
 "metadata": {
  "kernelspec": {
   "display_name": "myenv",
   "language": "python",
   "name": "python3"
  },
  "language_info": {
   "codemirror_mode": {
    "name": "ipython",
    "version": 3
   },
   "file_extension": ".py",
   "mimetype": "text/x-python",
   "name": "python",
   "nbconvert_exporter": "python",
   "pygments_lexer": "ipython3",
   "version": "3.10.8"
  }
 },
 "nbformat": 4,
 "nbformat_minor": 2
}
