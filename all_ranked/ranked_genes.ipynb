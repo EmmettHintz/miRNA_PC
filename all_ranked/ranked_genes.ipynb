{
 "cells": [
  {
   "cell_type": "code",
   "execution_count": 8,
   "metadata": {},
   "outputs": [],
   "source": [
    "import pandas as pd"
   ]
  },
  {
   "cell_type": "code",
   "execution_count": 9,
   "metadata": {},
   "outputs": [
    {
     "name": "stderr",
     "output_type": "stream",
     "text": [
      "/var/folders/c_/rs13jmts3nbf9xfm917mh9p80000gn/T/ipykernel_57068/193109733.py:2: DtypeWarning: Columns (236,237,238,239,240,241,242,243,244,245,246,247,248,249,250,251,252,253,254,255,256,257,258,259,260,261,262,263,264,265,266,267,268,269,270,271,272,273,274,275,276,277,278,279,280,281,282,283,284,285,286,287,288,289,290,291,292,293,294,295,296,297,298,299,300,301,302,303,304,305,306,307,308,309,310,311,312,313,314,315,316,317,318,319,320,321,322,323,324,325,326,327,328,329,330,331,332,333,334,335,336,337,338,339,340,341,342,343,344,345,346,347,348,349,350,351,352,353,354,355) have mixed types. Specify dtype option on import or set low_memory=False.\n",
      "  gene_targets = pd.read_csv('./gene_targets.csv')\n"
     ]
    }
   ],
   "source": [
    "results_df = pd.read_csv('./deseq2_feature_ranking.csv')\n",
    "gene_targets = pd.read_csv('./gene_targets.csv')"
   ]
  },
  {
   "cell_type": "code",
   "execution_count": 10,
   "metadata": {},
   "outputs": [],
   "source": [
    "results_df['miRNA_rank'] = results_df['padj'].rank()\n",
    "miRNA_ranks = results_df['miRNA_rank'].to_dict()"
   ]
  },
  {
   "cell_type": "code",
   "execution_count": 11,
   "metadata": {},
   "outputs": [],
   "source": [
    "total_miRNA = len(results_df)"
   ]
  },
  {
   "cell_type": "code",
   "execution_count": 12,
   "metadata": {},
   "outputs": [],
   "source": [
    "def calculate_gene_score(row, miRNA_ranks, total_miRNA):\n",
    "    total_interactions = 0\n",
    "    score = 0\n",
    "    for miRNA in row.index[4:]:  # Assuming the miRNAs start from the 5th column\n",
    "        if pd.notna(row[miRNA]) and row[miRNA] in miRNA_ranks:\n",
    "            rank = miRNA_ranks[row[miRNA]]\n",
    "            score += (1 - (rank / total_miRNA))\n",
    "            total_interactions += 1\n",
    "    if total_interactions > 0:\n",
    "        return score / total_interactions\n",
    "    else:\n",
    "        return 0"
   ]
  },
  {
   "cell_type": "code",
   "execution_count": 14,
   "metadata": {},
   "outputs": [
    {
     "name": "stdout",
     "output_type": "stream",
     "text": [
      "      Gene Symbol  p-value  FDR  Odd ratio  Number of interactions  \\\n",
      "7627        MKNK2   0.0211  1.0      0.981                     195   \n",
      "2613         CNBP   0.2690  1.0      0.991                     195   \n",
      "13095    TMEM167A   0.5930  1.0      0.997                     120   \n",
      "11481      SH3TC2   0.0965  1.0      0.981                     120   \n",
      "4318       FAM83F   0.5930  1.0      0.997                     120   \n",
      "7348          MAZ   0.5930  1.0      0.997                     120   \n",
      "6590       KLHL21   0.5930  1.0      0.997                     120   \n",
      "14830      ZNF566   1.0000  1.0      1.050                     120   \n",
      "5789     HSD17B12   0.9920  1.0      1.030                     120   \n",
      "6572      KLHDC10   0.9190  1.0      1.010                     120   \n",
      "\n",
      "            microRNA 1       microRNA 2       microRNA 3       microRNA 4  \\\n",
      "7627   hsa-miR-125b-5p   hsa-miR-335-5p   hsa-miR-128-3p   hsa-miR-101-3p   \n",
      "2613    hsa-miR-877-3p   hsa-miR-186-5p   hsa-miR-26a-5p    hsa-let-7e-5p   \n",
      "13095  hsa-miR-548b-3p   hsa-miR-155-5p    hsa-let-7b-5p   hsa-miR-877-5p   \n",
      "11481   hsa-miR-335-5p     hsa-miR-1-3p  hsa-miR-6869-5p  hsa-miR-6858-5p   \n",
      "4318   hsa-miR-6510-3p  hsa-miR-6864-3p     hsa-miR-3672  hsa-miR-6888-3p   \n",
      "7348   hsa-miR-148b-3p   hsa-miR-124-3p   hsa-miR-122-5p  hsa-miR-1180-3p   \n",
      "6590   hsa-miR-130b-3p   hsa-miR-26b-5p   hsa-miR-19b-3p   hsa-miR-30b-3p   \n",
      "14830     hsa-miR-5186  hsa-miR-374a-5p  hsa-miR-374b-5p   hsa-miR-485-5p   \n",
      "5789    hsa-miR-155-5p   hsa-miR-874-3p   hsa-miR-191-5p   hsa-miR-381-3p   \n",
      "6572    hsa-miR-18a-3p    hsa-miR-25-3p    hsa-miR-32-5p   hsa-miR-92a-3p   \n",
      "\n",
      "            microRNA 5  ... microRNA 344 microRNA 345 microRNA 346  \\\n",
      "7627     hsa-miR-98-5p  ...          NaN          NaN          NaN   \n",
      "2613     hsa-let-7a-5p  ...          NaN          NaN          NaN   \n",
      "13095  hsa-miR-130b-5p  ...          NaN          NaN          NaN   \n",
      "11481     hsa-miR-4689  ...          NaN          NaN          NaN   \n",
      "4318   hsa-miR-196a-3p  ...          NaN          NaN          NaN   \n",
      "7348    hsa-miR-877-3p  ...          NaN          NaN          NaN   \n",
      "6590    hsa-miR-149-3p  ...          NaN          NaN          NaN   \n",
      "14830     hsa-miR-1321  ...          NaN          NaN          NaN   \n",
      "5789   hsa-miR-6811-5p  ...          NaN          NaN          NaN   \n",
      "6572   hsa-miR-190a-3p  ...          NaN          NaN          NaN   \n",
      "\n",
      "      microRNA 347 microRNA 348 microRNA 349 microRNA 350 microRNA 351  \\\n",
      "7627           NaN          NaN          NaN          NaN          NaN   \n",
      "2613           NaN          NaN          NaN          NaN          NaN   \n",
      "13095          NaN          NaN          NaN          NaN          NaN   \n",
      "11481          NaN          NaN          NaN          NaN          NaN   \n",
      "4318           NaN          NaN          NaN          NaN          NaN   \n",
      "7348           NaN          NaN          NaN          NaN          NaN   \n",
      "6590           NaN          NaN          NaN          NaN          NaN   \n",
      "14830          NaN          NaN          NaN          NaN          NaN   \n",
      "5789           NaN          NaN          NaN          NaN          NaN   \n",
      "6572           NaN          NaN          NaN          NaN          NaN   \n",
      "\n",
      "      gene_score gene_rank  \n",
      "7627    0.996296       1.5  \n",
      "2613    0.996296       1.5  \n",
      "13095   0.982846       9.5  \n",
      "11481   0.982846       9.5  \n",
      "4318    0.982846       9.5  \n",
      "7348    0.982846       9.5  \n",
      "6590    0.982846       9.5  \n",
      "14830   0.982846       9.5  \n",
      "5789    0.982846       9.5  \n",
      "6572    0.982846       9.5  \n",
      "\n",
      "[10 rows x 358 columns]\n",
      "ranked_genes columns: Index(['Gene Symbol', 'p-value', 'FDR', 'Odd ratio', 'Number of interactions',\n",
      "       'microRNA 1', 'microRNA 2', 'microRNA 3', 'microRNA 4', 'microRNA 5',\n",
      "       ...\n",
      "       'microRNA 344', 'microRNA 345', 'microRNA 346', 'microRNA 347',\n",
      "       'microRNA 348', 'microRNA 349', 'microRNA 350', 'microRNA 351',\n",
      "       'gene_score', 'gene_rank'],\n",
      "      dtype='object', length=358)\n"
     ]
    }
   ],
   "source": [
    "gene_targets['gene_score'] = gene_targets.apply(calculate_gene_score, axis=1, miRNA_ranks=miRNA_ranks, total_miRNA=total_miRNA)\n",
    "\n",
    "# Rank genes based on their scores\n",
    "gene_targets['gene_rank'] = gene_targets['gene_score'].rank(ascending=False)\n",
    "ranked_genes = gene_targets.sort_values(by='gene_rank')\n",
    "\n",
    "# Save ranked genes to a CSV file\n",
    "ranked_genes.to_csv('ranked_genes.csv', index=False)\n",
    "\n",
    "# Display top ranked genes\n",
    "print(ranked_genes.head(10))\n",
    "print(f'ranked_genes columns: {ranked_genes.columns}')"
   ]
  }
 ],
 "metadata": {
  "kernelspec": {
   "display_name": "myenv",
   "language": "python",
   "name": "python3"
  },
  "language_info": {
   "codemirror_mode": {
    "name": "ipython",
    "version": 3
   },
   "file_extension": ".py",
   "mimetype": "text/x-python",
   "name": "python",
   "nbconvert_exporter": "python",
   "pygments_lexer": "ipython3",
   "version": "3.10.8"
  }
 },
 "nbformat": 4,
 "nbformat_minor": 2
}
