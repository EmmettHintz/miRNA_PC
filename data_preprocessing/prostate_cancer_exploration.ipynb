{
 "cells": [
  {
   "cell_type": "code",
   "execution_count": null,
   "metadata": {},
   "outputs": [],
   "source": [
    "import pandas as pd"
   ]
  },
  {
   "cell_type": "code",
   "execution_count": null,
   "metadata": {},
   "outputs": [],
   "source": [
    "df = pd.read_csv('../data/source_data/GSE211692_processed.txt', sep='\\t')"
   ]
  },
  {
   "cell_type": "code",
   "execution_count": null,
   "metadata": {},
   "outputs": [],
   "source": [
    "pc = pd.read_csv('../data/cancer/prostate_cancer_samples.csv')\n",
    "print(f'pc.columns: {pc.columns}')\n",
    "\n",
    "# print unique values for 'Sex' column\n",
    "print(pc['Sex'].value_counts())\n",
    "print"
   ]
  },
  {
   "cell_type": "code",
   "execution_count": null,
   "metadata": {},
   "outputs": [],
   "source": [
    "# Rename unnamed: 0 to sample\n",
    "df = df.rename(columns={'Unnamed: 0': 'Sample_ID'})\n",
    "df.head()"
   ]
  },
  {
   "cell_type": "code",
   "execution_count": null,
   "metadata": {},
   "outputs": [],
   "source": [
    "# print unique disease in disease column\n",
    "print(df['Disease'].unique())"
   ]
  },
  {
   "cell_type": "code",
   "execution_count": null,
   "metadata": {},
   "outputs": [],
   "source": [
    "# Filter for samples related to benign disease in the prostate\n",
    "benign_prostate_samples = df[df['Disease'].str.contains('disease state: benign disease in the prostate')]\n",
    "\n",
    "# Filter for samples related to prostate cancer\n",
    "prostate_cancer_samples = df[df['Disease'].str.contains('disease state: prostate cancer')]\n",
    "\n",
    "# Filter for control samples (no cancer)\n",
    "control_samples = df[df['Disease'].str.contains('disease state: no cancer')]\n",
    "\n",
    "missing_stage_samples = prostate_cancer_samples[prostate_cancer_samples['Stage'].isna()]"
   ]
  },
  {
   "cell_type": "code",
   "execution_count": null,
   "metadata": {},
   "outputs": [],
   "source": [
    "print(f'Shape of Prostate Cancer Samples DataFrame: {prostate_cancer_samples.shape}')\n",
    "print(\"Prostate Cancer Samples DataFrame:\")\n",
    "print(prostate_cancer_samples)"
   ]
  },
  {
   "cell_type": "code",
   "execution_count": null,
   "metadata": {},
   "outputs": [],
   "source": [
    "print(f'Shape of Benign Prostate Samples DataFrame: {benign_prostate_samples.shape}')\n",
    "print(\"Benign Disease in Prostate Samples DataFrame:\")\n",
    "print(benign_prostate_samples)"
   ]
  },
  {
   "cell_type": "code",
   "execution_count": null,
   "metadata": {},
   "outputs": [],
   "source": [
    "print(\"Control Samples DataFrame:\")\n",
    "print(control_samples)"
   ]
  },
  {
   "cell_type": "code",
   "execution_count": null,
   "metadata": {},
   "outputs": [],
   "source": [
    "# Split prostate cancer samples by stage\n",
    "stage_1_samples = prostate_cancer_samples[prostate_cancer_samples['Stage'].str.contains('Stage: 1')]\n",
    "stage_2_samples = prostate_cancer_samples[prostate_cancer_samples['Stage'].str.contains('Stage: 2')]\n",
    "stage_3_samples = prostate_cancer_samples[prostate_cancer_samples['Stage'].str.contains('Stage: 3')]\n",
    "stage_4_samples = prostate_cancer_samples[prostate_cancer_samples['Stage'].str.contains('Stage: 4')]\n",
    "no_stage_samples = prostate_cancer_samples[prostate_cancer_samples['Stage'].str.contains('Stage: NA')]"
   ]
  },
  {
   "cell_type": "code",
   "execution_count": null,
   "metadata": {},
   "outputs": [],
   "source": [
    "print(f'Shape of Stage 1 Prostate Cancer Samples DataFrame: {stage_1_samples.shape}')\n",
    "print(\"Stage 1 Prostate Cancer Samples DataFrame:\")\n",
    "print(stage_1_samples)"
   ]
  },
  {
   "cell_type": "code",
   "execution_count": null,
   "metadata": {},
   "outputs": [],
   "source": [
    "print(f'Shape of Stage 2 Prostate Cancer Samples DataFrame: {stage_2_samples.shape}')\n",
    "print(\"Stage 2 Prostate Cancer Samples DataFrame:\")\n",
    "print(stage_2_samples)"
   ]
  },
  {
   "cell_type": "code",
   "execution_count": null,
   "metadata": {},
   "outputs": [],
   "source": [
    "print(f'Shape of Stage 3 Prostate Cancer Samples DataFrame: {stage_3_samples.shape}')\n",
    "print(\"Stage 3 Prostate Cancer Samples DataFrame:\")\n",
    "print(stage_3_samples)"
   ]
  },
  {
   "cell_type": "code",
   "execution_count": null,
   "metadata": {},
   "outputs": [],
   "source": [
    "print(f'Shape of Stage 4 Prostate Cancer Samples DataFrame: {stage_4_samples.shape}')\n",
    "print(\"Stage 4 Prostate Cancer Samples DataFrame:\")\n",
    "print(stage_4_samples)"
   ]
  },
  {
   "cell_type": "code",
   "execution_count": null,
   "metadata": {},
   "outputs": [],
   "source": [
    "print(f'Shape of Missing Stage Prostate Cancer Samples DataFrame: {no_stage_samples.shape}')\n",
    "print(\"Missing Stage Prostate Cancer Samples DataFrame:\")\n",
    "print(no_stage_samples)"
   ]
  },
  {
   "cell_type": "code",
   "execution_count": null,
   "metadata": {},
   "outputs": [],
   "source": [
    "# Export the dfs to csvs\n",
    "\n",
    "# Cancer samples\n",
    "prostate_cancer_samples.to_csv('../data/cancer/prostate_cancer_samples.csv', index=False)\n",
    "stage_1_samples.to_csv('../data/cancer/stage_1_prostate_cancer_samples.csv', index=False)\n",
    "stage_2_samples.to_csv('../data/cancer/stage_2_prostate_cancer_samples.csv', index=False)\n",
    "stage_3_samples.to_csv('../data/cancer/stage_3_prostate_cancer_samples.csv', index=False)\n",
    "stage_4_samples.to_csv('../data/cancer/stage_4_prostate_cancer_samples.csv', index=False)\n",
    "no_stage_samples.to_csv('../data/cancer/missing_stage_prostate_cancer_samples.csv', index=False)\n",
    "\n",
    "# Benign samples\n",
    "benign_prostate_samples.to_csv('../data/benign/benign_prostate_samples.csv', index=False)\n",
    "\n",
    "# Control samples\n",
    "control_samples.to_csv('../data/control/control_samples.csv', index=False)"
   ]
  }
 ],
 "metadata": {
  "kernelspec": {
   "display_name": "myenv",
   "language": "python",
   "name": "python3"
  },
  "language_info": {
   "codemirror_mode": {
    "name": "ipython",
    "version": 3
   },
   "file_extension": ".py",
   "mimetype": "text/x-python",
   "name": "python",
   "nbconvert_exporter": "python",
   "pygments_lexer": "ipython3",
   "version": "3.10.8"
  }
 },
 "nbformat": 4,
 "nbformat_minor": 2
}
