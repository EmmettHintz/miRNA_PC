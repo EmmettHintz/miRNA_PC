{
 "cells": [
  {
   "cell_type": "markdown",
   "metadata": {},
   "source": [
    "# Table 1\n",
    "### Top 20 miRNA in classification of Control v. Benign, Control vs Cancer, and Benign vs Cancer."
   ]
  },
  {
   "cell_type": "code",
   "execution_count": 2,
   "metadata": {},
   "outputs": [],
   "source": [
    "import pandas as pd\n",
    "import matplotlib.pyplot as plt\n",
    "import numpy as np\n",
    "import seaborn as sns"
   ]
  },
  {
   "cell_type": "code",
   "execution_count": 3,
   "metadata": {},
   "outputs": [],
   "source": [
    "s1_s2 = pd.read_csv('../GSEA/miRNA/s1_s2_miRNA.csv')\n",
    "s2_s3 = pd.read_csv('../GSEA/miRNA/s2_s3_miRNA.csv')\n",
    "s3_s4 = pd.read_csv('../GSEA/miRNA/s3_s4_miRNA.csv')"
   ]
  },
  {
   "cell_type": "code",
   "execution_count": 6,
   "metadata": {},
   "outputs": [
    {
     "data": {
      "text/plain": [
       "(            miRNA\n",
       " 0    hsa-miR-518b\n",
       " 1  hsa-miR-27a-5p\n",
       " 2     hsa-miR-498,\n",
       "             miRNA\n",
       " 0    hsa-miR-1208\n",
       " 1  hsa-miR-27a-5p\n",
       " 2  hsa-miR-122-3p,\n",
       "              miRNA\n",
       " 0  hsa-miR-106a-3p\n",
       " 1     hsa-miR-548l\n",
       " 2   hsa-miR-124-5p)"
      ]
     },
     "execution_count": 6,
     "metadata": {},
     "output_type": "execute_result"
    }
   ],
   "source": [
    "s1_s2.head(3), s2_s3.head(3), s3_s4.head(3)"
   ]
  },
  {
   "cell_type": "code",
   "execution_count": null,
   "metadata": {},
   "outputs": [],
   "source": []
  }
 ],
 "metadata": {
  "kernelspec": {
   "display_name": "myenv",
   "language": "python",
   "name": "python3"
  },
  "language_info": {
   "codemirror_mode": {
    "name": "ipython",
    "version": 3
   },
   "file_extension": ".py",
   "mimetype": "text/x-python",
   "name": "python",
   "nbconvert_exporter": "python",
   "pygments_lexer": "ipython3",
   "version": "3.10.8"
  }
 },
 "nbformat": 4,
 "nbformat_minor": 2
}
