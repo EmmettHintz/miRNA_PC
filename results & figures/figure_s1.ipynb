{
 "cells": [
  {
   "cell_type": "code",
   "execution_count": 153,
   "metadata": {},
   "outputs": [],
   "source": [
    "import pandas as pd"
   ]
  },
  {
   "cell_type": "code",
   "execution_count": 154,
   "metadata": {},
   "outputs": [],
   "source": [
    "ctl_s1 = pd.read_csv('./figure_s1_data/ctl_s1_genes.csv')\n",
    "s1_s2 = pd.read_csv('./figure_s1_data/s1_s2_genes.csv')\n",
    "s2_s3 = pd.read_csv('./figure_s1_data/s2_s3_genes.csv')\n",
    "s3_s4 = pd.read_csv('./figure_s1_data/s3_s4_genes.csv')"
   ]
  },
  {
   "cell_type": "code",
   "execution_count": 155,
   "metadata": {},
   "outputs": [
    {
     "name": "stdout",
     "output_type": "stream",
     "text": [
      "columns: Index(['Gene Symbol', 'p-value', 'FDR', 'Odd ratio', 'Number of interactions',\n",
      "       'microRNA 1', 'microRNA 2', 'microRNA 3', 'microRNA 4', 'microRNA 5',\n",
      "       'microRNA 6', 'microRNA 7', 'microRNA 8', 'microRNA 9', 'microRNA 10',\n",
      "       'microRNA 11'],\n",
      "      dtype='object')\n"
     ]
    }
   ],
   "source": [
    "print(f'columns: {ctl_s1.columns}')"
   ]
  },
  {
   "cell_type": "code",
   "execution_count": 156,
   "metadata": {},
   "outputs": [],
   "source": [
    "ctl_s1['Source'] = 'CTRL.S1'\n",
    "s1_s2['Source'] = 'S1.S2'\n",
    "s2_s3['Source'] = 'S2.S3'\n",
    "s3_s4['Source'] = 'S3.S4'"
   ]
  },
  {
   "cell_type": "code",
   "execution_count": 157,
   "metadata": {},
   "outputs": [],
   "source": [
    "merged_data = pd.concat([ctl_s1, s1_s2, s2_s3, s3_s4], ignore_index=True)\n",
    "merged_data.drop(columns=['p-value', 'FDR', 'Odd ratio'], inplace=True)"
   ]
  },
  {
   "cell_type": "code",
   "execution_count": 158,
   "metadata": {},
   "outputs": [],
   "source": [
    "# Concatenate miRNA columns into one\n",
    "miRNA_columns = [col for col in merged_data.columns if 'microRNA' in col]\n",
    "merged_data['Targeting miRNAs'] = merged_data[miRNA_columns].apply(lambda x: ', '.join(x.dropna().astype(str)), axis=1)\n",
    "\n",
    "# Drop the original microRNA columns\n",
    "merged_data.drop(columns=miRNA_columns, inplace=True)\n",
    "\n",
    "# Reorder the columns\n",
    "desired_order = ['Gene Symbol', 'Source', 'Number of interactions', 'Targeting miRNAs']\n",
    "merged_data = merged_data[desired_order]"
   ]
  },
  {
   "cell_type": "code",
   "execution_count": 159,
   "metadata": {},
   "outputs": [
    {
     "name": "stdout",
     "output_type": "stream",
     "text": [
      "Index(['Gene Symbol', 'Source', 'Number of interactions', 'Targeting miRNAs'], dtype='object')\n"
     ]
    }
   ],
   "source": [
    "print(merged_data.columns)"
   ]
  },
  {
   "cell_type": "code",
   "execution_count": 160,
   "metadata": {},
   "outputs": [
    {
     "name": "stdout",
     "output_type": "stream",
     "text": [
      "  Gene Symbol   Source  Number of interactions  \\\n",
      "0       NACC1  CTRL.S1                      11   \n",
      "1        NFIC  CTRL.S1                      10   \n",
      "2        CALR  CTRL.S1                       9   \n",
      "3      CDKN1A  CTRL.S1                       9   \n",
      "4      SETD1B  CTRL.S1                       9   \n",
      "\n",
      "                                    Targeting miRNAs  \n",
      "0  hsa-miR-6766-5p, hsa-miR-6756-5p, hsa-miR-6787...  \n",
      "1  hsa-miR-4690-5p, hsa-miR-6766-5p, hsa-miR-6756...  \n",
      "2  hsa-miR-320a, hsa-miR-1343-3p, hsa-miR-6766-5p...  \n",
      "3  hsa-miR-6802-5p, hsa-miR-663a, hsa-miR-1233-5p...  \n",
      "4  hsa-miR-3940-5p, hsa-miR-4758-5p, hsa-miR-1238...  \n",
      "shape of merged_data: (2960, 4)\n"
     ]
    }
   ],
   "source": [
    "print(merged_data.head())\n",
    "print(f'shape of merged_data: {merged_data.shape}')"
   ]
  },
  {
   "cell_type": "code",
   "execution_count": 161,
   "metadata": {},
   "outputs": [
    {
     "data": {
      "text/plain": [
       "(143, 4)"
      ]
     },
     "execution_count": 161,
     "metadata": {},
     "output_type": "execute_result"
    }
   ],
   "source": [
    "# Sort merged_data by 'Number of interactions' in descending order and keep >= 5 interactions\n",
    "merged_data = merged_data.sort_values(by='Number of interactions', ascending=False)\n",
    "merged_data = merged_data[merged_data['Number of interactions'] >= 5]\n",
    "merged_data.shape"
   ]
  },
  {
   "cell_type": "code",
   "execution_count": 162,
   "metadata": {},
   "outputs": [],
   "source": [
    "# Save to CSV\n",
    "merged_data.to_csv('./final_figures/figure_s1_final.csv', index=False)"
   ]
  },
  {
   "cell_type": "code",
   "execution_count": 163,
   "metadata": {},
   "outputs": [
    {
     "name": "stdout",
     "output_type": "stream",
     "text": [
      "Gene Symbol\n",
      "MED28     3\n",
      "LMNB2     2\n",
      "PEX26     2\n",
      "SETD1B    2\n",
      "NFIC      2\n",
      "LRRC58    2\n",
      "KMT2D     2\n",
      "FOXK1     2\n",
      "YWHAZ     2\n",
      "GIGYF1    2\n",
      "Name: count, dtype: int64\n"
     ]
    }
   ],
   "source": [
    "gene_counts = merged_data['Gene Symbol'].value_counts()\n",
    "print(gene_counts[gene_counts > 1])"
   ]
  }
 ],
 "metadata": {
  "kernelspec": {
   "display_name": "myenv",
   "language": "python",
   "name": "python3"
  },
  "language_info": {
   "codemirror_mode": {
    "name": "ipython",
    "version": 3
   },
   "file_extension": ".py",
   "mimetype": "text/x-python",
   "name": "python",
   "nbconvert_exporter": "python",
   "pygments_lexer": "ipython3",
   "version": "3.10.8"
  }
 },
 "nbformat": 4,
 "nbformat_minor": 2
}
