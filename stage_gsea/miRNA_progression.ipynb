{
 "cells": [
  {
   "cell_type": "code",
   "execution_count": 1,
   "metadata": {},
   "outputs": [],
   "source": [
    "import pandas as pd\n",
    "import matplotlib.pyplot as plt\n",
    "from matplotlib_venn import venn2\n",
    "from upsetplot import UpSet, from_contents\n",
    "import seaborn as sns\n",
    "import numpy as np"
   ]
  },
  {
   "cell_type": "code",
   "execution_count": 2,
   "metadata": {},
   "outputs": [],
   "source": [
    "# Import miRNAs from each of the classification categories\n",
    "ctl_s1 = pd.read_csv('./ctl_s1/50_ctl_s1.csv')\n",
    "s1_s2 = pd.read_csv('./s1_s2/50_s1_s2.csv')\n",
    "s2_s3 = pd.read_csv('./s2_s3/50_s2_s3.csv')\n",
    "s3_s4 = pd.read_csv('./s3_s4/50_s3_s4.csv')"
   ]
  },
  {
   "cell_type": "code",
   "execution_count": 3,
   "metadata": {},
   "outputs": [
    {
     "name": "stdout",
     "output_type": "stream",
     "text": [
      "ctl_s1 shape: (83, 3)\n",
      "s1_s2 shape: (29, 3)\n",
      "s2_s3 shape: (56, 3)\n",
      "s3_s4 shape: (52, 3)\n",
      "\n",
      "ctl_s1 columns: Index(['Feature', 'Importance', 'Classifier'], dtype='object')\n",
      "s1_s2 columns: Index(['Feature', 'Importance', 'Classifier'], dtype='object')\n",
      "s2_s3 columns: Index(['Feature', 'Importance', 'Classifier'], dtype='object')\n",
      "s3_s4 columns: Index(['Feature', 'Importance', 'Classifier'], dtype='object')\n"
     ]
    }
   ],
   "source": [
    "print(f'ctl_s1 shape: {ctl_s1.shape}')\n",
    "print(f's1_s2 shape: {s1_s2.shape}')\n",
    "print(f's2_s3 shape: {s2_s3.shape}')\n",
    "print(f's3_s4 shape: {s3_s4.shape}\\n')\n",
    "\n",
    "print(f'ctl_s1 columns: {ctl_s1.columns}')\n",
    "print(f's1_s2 columns: {s1_s2.columns}')\n",
    "print(f's2_s3 columns: {s2_s3.columns}')\n",
    "print(f's3_s4 columns: {s3_s4.columns}')"
   ]
  },
  {
   "cell_type": "code",
   "execution_count": 4,
   "metadata": {},
   "outputs": [
    {
     "name": "stdout",
     "output_type": "stream",
     "text": [
      "ctl_s1 miRNAs: {'hsa-miR-8059', 'hsa-miR-4525', 'hsa-miR-4783-3p', 'hsa-miR-3940-5p', 'hsa-miR-642b-3p', 'hsa-miR-4706', 'hsa-miR-197-5p', 'hsa-miR-1233-5p', 'hsa-miR-575', 'hsa-miR-320a', 'hsa-miR-4687-5p', 'hsa-miR-1228-5p', 'hsa-miR-887-3p', 'hsa-miR-1203', 'hsa-miR-4648', 'hsa-miR-1307-3p', 'hsa-miR-6805-5p', 'hsa-miR-6784-5p', 'hsa-miR-4532', 'hsa-miR-1238-5p', 'hsa-miR-1469', 'hsa-miR-4276', 'hsa-miR-6766-5p', 'hsa-miR-6802-5p', 'hsa-miR-6756-5p', 'hsa-miR-6746-5p', 'hsa-miR-6090', 'hsa-miR-4728-5p', 'hsa-miR-4675', 'hsa-miR-92b-5p', 'hsa-miR-4787-5p', 'hsa-miR-4730', 'hsa-miR-6131', 'hsa-miR-4732-5p', 'hsa-miR-6787-5p', 'hsa-miR-663a', 'hsa-miR-8073', 'hsa-miR-3184-5p', 'hsa-miR-4690-5p', 'hsa-miR-4758-5p', 'hsa-miR-1343-3p', 'hsa-miR-6800-5p'}\n",
      "s1_s2 miRNAs: {'hsa-miR-6769b-5p', 'hsa-miR-3155b', 'hsa-miR-4439', 'hsa-miR-3178', 'hsa-miR-4749-5p', 'hsa-miR-6869-3p', 'hsa-miR-937-5p', 'hsa-miR-6857-3p', 'hsa-miR-4647', 'hsa-miR-6895-3p', 'hsa-miR-7846-3p', 'hsa-miR-4462', 'hsa-miR-4472', 'hsa-miR-548h-5p', 'hsa-miR-139-3p'}\n",
      "s2_s3 miRNAs: {'hsa-miR-4282', 'hsa-miR-5591-5p', 'hsa-miR-449c-3p', 'hsa-miR-7854-3p', 'hsa-miR-6802-3p', 'hsa-miR-218-2-3p', 'hsa-miR-4741', 'hsa-miR-6829-3p', 'hsa-miR-7151-5p', 'hsa-miR-4524b-5p', 'hsa-miR-660-5p', 'hsa-miR-6769b-5p', 'hsa-miR-4749-5p', 'hsa-miR-412-3p', 'hsa-miR-6774-3p', 'hsa-miR-6722-3p', 'hsa-miR-5587-5p', 'hsa-miR-134-3p', 'hsa-miR-371b-5p', 'hsa-miR-1227-5p', 'hsa-miR-6847-3p', 'hsa-miR-4722-3p', 'hsa-miR-3130-3p', 'hsa-miR-1229-3p', 'hsa-miR-7703', 'hsa-miR-548h-5p', 'hsa-miR-1253', 'hsa-miR-5585-3p'}\n",
      "s3_s4 miRNAs: {'hsa-miR-6815-5p', 'hsa-miR-4474-3p', 'hsa-miR-105-3p', 'hsa-miR-6734-3p', 'hsa-miR-4727-5p', 'hsa-miR-1250-5p', 'hsa-miR-1225-3p', 'hsa-miR-6735-5p', 'hsa-miR-548ah-5p', 'hsa-miR-5582-5p', 'hsa-miR-4803', 'hsa-miR-6769b-5p', 'hsa-miR-29b-1-5p', 'hsa-miR-520d-3p', 'hsa-miR-1205', 'hsa-miR-378c', 'hsa-miR-4516', 'hsa-miR-6756-5p', 'hsa-miR-512-5p', 'hsa-miR-6715b-5p', 'hsa-miR-4511', 'hsa-miR-134-3p', 'hsa-miR-3975', 'hsa-miR-922', 'hsa-miR-548h-5p', 'hsa-miR-139-3p'}\n"
     ]
    }
   ],
   "source": [
    "ctl_s1_set = set(ctl_s1['Feature'])\n",
    "s1_s2_set = set(s1_s2['Feature'])\n",
    "s2_s3_set = set(s2_s3['Feature'])\n",
    "s3_s4_set = set(s3_s4['Feature'])\n",
    "\n",
    "print(f'ctl_s1 miRNAs: {ctl_s1_set}')\n",
    "print(f's1_s2 miRNAs: {s1_s2_set}')\n",
    "print(f's2_s3 miRNAs: {s2_s3_set}')\n",
    "print(f's3_s4 miRNAs: {s3_s4_set}')"
   ]
  },
  {
   "cell_type": "code",
   "execution_count": 5,
   "metadata": {},
   "outputs": [
    {
     "name": "stdout",
     "output_type": "stream",
     "text": [
      "ctl_s1 size: 42\n",
      "s1_s2 size: 15\n",
      "s2_s3 size: 28\n",
      "s3_s4 size: 26\n"
     ]
    }
   ],
   "source": [
    "# Print the size of each set\n",
    "print(f'ctl_s1 size: {len(ctl_s1_set)}')\n",
    "print(f's1_s2 size: {len(s1_s2_set)}')\n",
    "print(f's2_s3 size: {len(s2_s3_set)}')\n",
    "print(f's3_s4 size: {len(s3_s4_set)}')"
   ]
  },
  {
   "cell_type": "markdown",
   "metadata": {},
   "source": [
    "#### UpSet Plot for Visualization"
   ]
  },
  {
   "cell_type": "code",
   "execution_count": 7,
   "metadata": {},
   "outputs": [
    {
     "name": "stderr",
     "output_type": "stream",
     "text": [
      "/Users/emmetthintz/miniconda3/envs/myenv/lib/python3.10/site-packages/upsetplot/data.py:385: FutureWarning: Downcasting object dtype arrays on .fillna, .ffill, .bfill is deprecated and will change in a future version. Call result.infer_objects(copy=False) instead. To opt-in to the future behavior, set `pd.set_option('future.no_silent_downcasting', True)`\n",
      "  df.fillna(False, inplace=True)\n",
      "/Users/emmetthintz/miniconda3/envs/myenv/lib/python3.10/site-packages/upsetplot/plotting.py:795: FutureWarning: A value is trying to be set on a copy of a DataFrame or Series through chained assignment using an inplace method.\n",
      "The behavior will change in pandas 3.0. This inplace method will never work because the intermediate object on which we are setting values always behaves as a copy.\n",
      "\n",
      "For example, when doing 'df[col].method(value, inplace=True)', try using 'df.method({col: value}, inplace=True)' or df[col] = df[col].method(value) instead, to perform the operation inplace on the original object.\n",
      "\n",
      "\n",
      "  styles[\"linewidth\"].fillna(1, inplace=True)\n",
      "/Users/emmetthintz/miniconda3/envs/myenv/lib/python3.10/site-packages/upsetplot/plotting.py:796: FutureWarning: A value is trying to be set on a copy of a DataFrame or Series through chained assignment using an inplace method.\n",
      "The behavior will change in pandas 3.0. This inplace method will never work because the intermediate object on which we are setting values always behaves as a copy.\n",
      "\n",
      "For example, when doing 'df[col].method(value, inplace=True)', try using 'df.method({col: value}, inplace=True)' or df[col] = df[col].method(value) instead, to perform the operation inplace on the original object.\n",
      "\n",
      "\n",
      "  styles[\"facecolor\"].fillna(self._facecolor, inplace=True)\n",
      "/Users/emmetthintz/miniconda3/envs/myenv/lib/python3.10/site-packages/upsetplot/plotting.py:797: FutureWarning: A value is trying to be set on a copy of a DataFrame or Series through chained assignment using an inplace method.\n",
      "The behavior will change in pandas 3.0. This inplace method will never work because the intermediate object on which we are setting values always behaves as a copy.\n",
      "\n",
      "For example, when doing 'df[col].method(value, inplace=True)', try using 'df.method({col: value}, inplace=True)' or df[col] = df[col].method(value) instead, to perform the operation inplace on the original object.\n",
      "\n",
      "\n",
      "  styles[\"edgecolor\"].fillna(styles[\"facecolor\"], inplace=True)\n",
      "/Users/emmetthintz/miniconda3/envs/myenv/lib/python3.10/site-packages/upsetplot/plotting.py:798: FutureWarning: A value is trying to be set on a copy of a DataFrame or Series through chained assignment using an inplace method.\n",
      "The behavior will change in pandas 3.0. This inplace method will never work because the intermediate object on which we are setting values always behaves as a copy.\n",
      "\n",
      "For example, when doing 'df[col].method(value, inplace=True)', try using 'df.method({col: value}, inplace=True)' or df[col] = df[col].method(value) instead, to perform the operation inplace on the original object.\n",
      "\n",
      "\n",
      "  styles[\"linestyle\"].fillna(\"solid\", inplace=True)\n"
     ]
    },
    {
     "data": {
      "image/png": "[encoded data removed]",
      "text/plain": [
       "<Figure size 1200x700 with 4 Axes>"
      ]
     },
     "metadata": {},
     "output_type": "display_data"
    }
   ],
   "source": [
    "import matplotlib.pyplot as plt\n",
    "import numpy as np\n",
    "from upsetplot import UpSet, from_contents\n",
    "\n",
    "# Define contents for the UpSet plot in the desired order\n",
    "contents = {\n",
    "    'CTRL.S1': ctl_s1_set,\n",
    "    'S1.S2': s1_s2_set,\n",
    "    'S2.S3': s2_s3_set,\n",
    "    'S3.S4': s3_s4_set\n",
    "}\n",
    "\n",
    "# Convert the dictionary of sets to a format suitable for UpSet plot\n",
    "upset_data = from_contents(contents)\n",
    "\n",
    "# Create UpSet plot with the specified order\n",
    "upset = UpSet(\n",
    "    upset_data, \n",
    "    subset_size='count', \n",
    "    show_counts=False, \n",
    "    sort_by='degree',  # Ensure subsets are sorted by degree to show all combinations\n",
    "    sort_categories_by=None,  # Ensure categories are not auto-sorted\n",
    "    facecolor=\"gray\",\n",
    "    element_size=None,  # Adjust element size to reduce white space    \n",
    "    min_subset_size=0,  # Ensure all subsets are shown\n",
    "    max_subset_size=4,\n",
    ")\n",
    "\n",
    "# Customize and style the subsets\n",
    "upset.style_subsets(\n",
    "    present=['CTRL.S1', 'S1.S2'],\n",
    "    facecolor=\"gray\",\n",
    "    edgecolor=\"black\"\n",
    ")\n",
    "upset.style_subsets(\n",
    "    present=['S1.S2', 'S2.S3'],\n",
    "    facecolor=\"gray\",\n",
    ")\n",
    "upset.style_subsets(\n",
    "    present=['S1.S2', 'S2.S3', 'S3.S4'],\n",
    "    facecolor=\"lightcoral\",\n",
    ")\n",
    "\n",
    "# Plot UpSet plot with custom figure size and reduced white space\n",
    "fig = plt.figure(figsize=(12, 7))\n",
    "upset.plot(fig=fig)\n",
    "\n",
    "# Increase font size for all text elements\n",
    "plt.xlabel('Intersection size', fontsize=16)\n",
    "plt.ylabel('Intersection Size', fontsize=16)\n",
    "plt.xticks(fontsize=16)\n",
    "plt.yticks(fontsize=16)\n",
    "\n",
    "# Modify y-axis ticks to remove bar on the 1 y-tick and add a bar for the x-axis\n",
    "plt.gca().set_yticks([0])\n",
    "plt.gca().spines['bottom'].set_visible(True)\n",
    "\n",
    "# Increase font size for the bottom part of the UpSet plot\n",
    "for text in fig.findobj(plt.Text):\n",
    "    text.set_fontsize(16)\n",
    "\n",
    "plt.show()"
   ]
  },
  {
   "cell_type": "code",
   "execution_count": null,
   "metadata": {},
   "outputs": [
    {
     "name": "stdout",
     "output_type": "stream",
     "text": [
      "miRNAs in intersection ('CTRL_S1', 'S3_S4'): {'hsa-miR-6756-5p'}\n",
      "miRNAs in intersection ('CTRL_S1', 'S2_S3'): set()\n",
      "miRNAs in intersection ('S1_S2', 'S3_S4'): {'hsa-miR-6769b-5p', 'hsa-miR-548h-5p', 'hsa-miR-139-3p'}\n",
      "miRNAs in intersection ('S1_S2', 'S2_S3', 'S3_S4'): {'hsa-miR-6769b-5p', 'hsa-miR-548h-5p'}\n",
      "miRNAs in intersection ('CTRL_S1', 'S1_S2', 'S3_S4'): set()\n",
      "miRNAs in intersection ('CTRL_S1', 'S1_S2', 'S2_S3', 'S3_S4'): set()\n"
     ]
    }
   ],
   "source": [
    "small_intersections = [\n",
    "    ('CTRL_S1', 'S3_S4'),\n",
    "    ('CTRL_S1', 'S2_S3'),\n",
    "    ('S1_S2', 'S3_S4'),\n",
    "    ('S1_S2', 'S2_S3', 'S3_S4'),\n",
    "    ('CTRL_S1', 'S1_S2', 'S3_S4'),\n",
    "    ('CTRL_S1', 'S1_S2', 'S2_S3', 'S3_S4')\n",
    "]\n",
    "\n",
    "for intersection in small_intersections:\n",
    "    miRNAs = set.intersection(*[contents[stage] for stage in intersection])\n",
    "    print(f\"miRNAs in intersection {intersection}: {miRNAs}\")"
   ]
  }
 ],
 "metadata": {
  "kernelspec": {
   "display_name": "myenv",
   "language": "python",
   "name": "python3"
  },
  "language_info": {
   "codemirror_mode": {
    "name": "ipython",
    "version": 3
   },
   "file_extension": ".py",
   "mimetype": "text/x-python",
   "name": "python",
   "nbconvert_exporter": "python",
   "pygments_lexer": "ipython3",
   "version": "3.10.8"
  }
 },
 "nbformat": 4,
 "nbformat_minor": 2
}
