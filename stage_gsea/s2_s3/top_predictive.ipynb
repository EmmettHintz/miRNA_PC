{
 "cells": [
  {
   "cell_type": "code",
   "execution_count": 17,
   "metadata": {},
   "outputs": [],
   "source": [
    "import pandas as pd"
   ]
  },
  {
   "cell_type": "code",
   "execution_count": 18,
   "metadata": {},
   "outputs": [
    {
     "name": "stdout",
     "output_type": "stream",
     "text": [
      "features_s1_s2 shape:              Feature  Importance Classifier\n",
      "0    hsa-miR-3130-3p    0.002949        SVM\n",
      "1    hsa-miR-4722-3p    0.004882        SVM\n",
      "2    hsa-miR-6829-3p    0.000133        SVM\n",
      "3   hsa-miR-6769b-5p    0.007084        SVM\n",
      "4       hsa-miR-4282    0.001262        SVM\n",
      "5    hsa-miR-6722-3p    0.008825        SVM\n",
      "6   hsa-miR-4524b-5p    0.000146        SVM\n",
      "7    hsa-miR-7854-3p    0.003483        SVM\n",
      "8    hsa-miR-5587-5p    0.003714        SVM\n",
      "9     hsa-miR-412-3p    0.003529        SVM\n",
      "10  hsa-miR-218-2-3p    0.004536        SVM\n",
      "11   hsa-miR-449c-3p   -0.012199        SVM\n",
      "12   hsa-miR-371b-5p    0.002173        SVM\n",
      "13   hsa-miR-548h-5p    0.004222        SVM\n",
      "14   hsa-miR-5591-5p    0.002960        SVM\n",
      "15   hsa-miR-5585-3p    0.003101        SVM\n",
      "16   hsa-miR-6847-3p    0.005206        SVM\n",
      "17      hsa-miR-4741    0.003237        SVM\n",
      "18   hsa-miR-1227-5p    0.005622        SVM\n",
      "19    hsa-miR-660-5p    0.005861        SVM\n",
      "20   hsa-miR-7151-5p    0.001475        SVM\n",
      "21      hsa-miR-1253   -0.015380        SVM\n",
      "22    hsa-miR-134-3p    0.006136        SVM\n",
      "23   hsa-miR-6802-3p    0.001736        SVM\n",
      "24   hsa-miR-6774-3p    0.005947        SVM\n",
      "25      hsa-miR-7703   -0.000465        SVM\n",
      "26   hsa-miR-1229-3p    0.007533        SVM\n",
      "27   hsa-miR-4749-5p    0.002094        SVM\n",
      "28   hsa-miR-3130-3p    0.068304    XGBoost\n",
      "29   hsa-miR-4722-3p    0.031198    XGBoost\n",
      "30   hsa-miR-6829-3p    0.043709    XGBoost\n",
      "31  hsa-miR-6769b-5p    0.027437    XGBoost\n",
      "32      hsa-miR-4282    0.021324    XGBoost\n",
      "33   hsa-miR-6722-3p    0.068606    XGBoost\n",
      "34  hsa-miR-4524b-5p    0.044161    XGBoost\n",
      "35   hsa-miR-7854-3p    0.021778    XGBoost\n",
      "36   hsa-miR-5587-5p    0.034938    XGBoost\n",
      "37    hsa-miR-412-3p    0.023487    XGBoost\n",
      "38  hsa-miR-218-2-3p    0.022221    XGBoost\n",
      "39   hsa-miR-449c-3p    0.032319    XGBoost\n",
      "40   hsa-miR-371b-5p    0.028621    XGBoost\n",
      "41   hsa-miR-548h-5p    0.031057    XGBoost\n",
      "42   hsa-miR-5591-5p    0.017054    XGBoost\n",
      "43   hsa-miR-5585-3p    0.026876    XGBoost\n",
      "44   hsa-miR-6847-3p    0.043392    XGBoost\n",
      "45      hsa-miR-4741    0.027351    XGBoost\n",
      "46   hsa-miR-1227-5p    0.032279    XGBoost\n",
      "47    hsa-miR-660-5p    0.041040    XGBoost\n",
      "48   hsa-miR-7151-5p    0.026809    XGBoost\n",
      "49      hsa-miR-1253    0.041843    XGBoost\n",
      "50    hsa-miR-134-3p    0.027875    XGBoost\n",
      "51   hsa-miR-6802-3p    0.013726    XGBoost\n",
      "52   hsa-miR-6774-3p    0.052647    XGBoost\n",
      "53      hsa-miR-7703    0.037447    XGBoost\n",
      "54   hsa-miR-1229-3p    0.047424    XGBoost\n",
      "55   hsa-miR-4749-5p    0.065077    XGBoost\n"
     ]
    }
   ],
   "source": [
    "features_s1_s2 = pd.read_csv('./50_s2_s3.csv')\n",
    "# features_ctl_cancer = pd.read_csv('../GSEA/miRNA/50_ctl_c.csv')\n",
    "# features_benign_cancer = pd.read_csv('../GSEA/miRNA/50_b_c.csv')\n",
    "\n",
    "# print(f'ctl_benign shape: {features_ctl_benign.shape}')\n",
    "print(f'features_s1_s2 shape: {features_s1_s2}')\n",
    "# print(f'benign_cancer shape: {features_benign_cancer.shape}')"
   ]
  },
  {
   "cell_type": "code",
   "execution_count": 19,
   "metadata": {},
   "outputs": [
    {
     "name": "stdout",
     "output_type": "stream",
     "text": [
      "(56, 3)\n",
      "176\n"
     ]
    }
   ],
   "source": [
    "combined_features = pd.concat([features_s1_s2])\n",
    "print(combined_features.shape)\n",
    "print(90+86)"
   ]
  },
  {
   "cell_type": "code",
   "execution_count": 20,
   "metadata": {},
   "outputs": [
    {
     "data": {
      "text/html": [
       "<div>\n",
       "<style scoped>\n",
       "    .dataframe tbody tr th:only-of-type {\n",
       "        vertical-align: middle;\n",
       "    }\n",
       "\n",
       "    .dataframe tbody tr th {\n",
       "        vertical-align: top;\n",
       "    }\n",
       "\n",
       "    .dataframe thead th {\n",
       "        text-align: right;\n",
       "    }\n",
       "</style>\n",
       "<table border=\"1\" class=\"dataframe\">\n",
       "  <thead>\n",
       "    <tr style=\"text-align: right;\">\n",
       "      <th></th>\n",
       "      <th>Feature</th>\n",
       "      <th>Importance</th>\n",
       "      <th>Classifier</th>\n",
       "    </tr>\n",
       "  </thead>\n",
       "  <tbody>\n",
       "    <tr>\n",
       "      <th>0</th>\n",
       "      <td>hsa-miR-3130-3p</td>\n",
       "      <td>0.002949</td>\n",
       "      <td>SVM</td>\n",
       "    </tr>\n",
       "    <tr>\n",
       "      <th>1</th>\n",
       "      <td>hsa-miR-4722-3p</td>\n",
       "      <td>0.004882</td>\n",
       "      <td>SVM</td>\n",
       "    </tr>\n",
       "    <tr>\n",
       "      <th>2</th>\n",
       "      <td>hsa-miR-6829-3p</td>\n",
       "      <td>0.000133</td>\n",
       "      <td>SVM</td>\n",
       "    </tr>\n",
       "    <tr>\n",
       "      <th>3</th>\n",
       "      <td>hsa-miR-6769b-5p</td>\n",
       "      <td>0.007084</td>\n",
       "      <td>SVM</td>\n",
       "    </tr>\n",
       "    <tr>\n",
       "      <th>4</th>\n",
       "      <td>hsa-miR-4282</td>\n",
       "      <td>0.001262</td>\n",
       "      <td>SVM</td>\n",
       "    </tr>\n",
       "  </tbody>\n",
       "</table>\n",
       "</div>"
      ],
      "text/plain": [
       "            Feature  Importance Classifier\n",
       "0   hsa-miR-3130-3p    0.002949        SVM\n",
       "1   hsa-miR-4722-3p    0.004882        SVM\n",
       "2   hsa-miR-6829-3p    0.000133        SVM\n",
       "3  hsa-miR-6769b-5p    0.007084        SVM\n",
       "4      hsa-miR-4282    0.001262        SVM"
      ]
     },
     "execution_count": 20,
     "metadata": {},
     "output_type": "execute_result"
    }
   ],
   "source": [
    "combined_features.head()"
   ]
  },
  {
   "cell_type": "code",
   "execution_count": 21,
   "metadata": {},
   "outputs": [
    {
     "data": {
      "text/plain": [
       "(56, 3)"
      ]
     },
     "execution_count": 21,
     "metadata": {},
     "output_type": "execute_result"
    }
   ],
   "source": [
    "# remove duplicates\n",
    "combined_features = combined_features.drop_duplicates()\n",
    "combined_features.shape"
   ]
  },
  {
   "cell_type": "code",
   "execution_count": 22,
   "metadata": {},
   "outputs": [
    {
     "name": "stdout",
     "output_type": "stream",
     "text": [
      "hsa-miR-3130-3p\n",
      "hsa-miR-4722-3p\n",
      "hsa-miR-6829-3p\n",
      "hsa-miR-6769b-5p\n",
      "hsa-miR-4282\n",
      "hsa-miR-6722-3p\n",
      "hsa-miR-4524b-5p\n",
      "hsa-miR-7854-3p\n",
      "hsa-miR-5587-5p\n",
      "hsa-miR-412-3p\n",
      "hsa-miR-218-2-3p\n",
      "hsa-miR-449c-3p\n",
      "hsa-miR-371b-5p\n",
      "hsa-miR-548h-5p\n",
      "hsa-miR-5591-5p\n",
      "hsa-miR-5585-3p\n",
      "hsa-miR-6847-3p\n",
      "hsa-miR-4741\n",
      "hsa-miR-1227-5p\n",
      "hsa-miR-660-5p\n",
      "hsa-miR-7151-5p\n",
      "hsa-miR-1253\n",
      "hsa-miR-134-3p\n",
      "hsa-miR-6802-3p\n",
      "hsa-miR-6774-3p\n",
      "hsa-miR-7703\n",
      "hsa-miR-1229-3p\n",
      "hsa-miR-4749-5p\n",
      "hsa-miR-3130-3p\n",
      "hsa-miR-4722-3p\n",
      "hsa-miR-6829-3p\n",
      "hsa-miR-6769b-5p\n",
      "hsa-miR-4282\n",
      "hsa-miR-6722-3p\n",
      "hsa-miR-4524b-5p\n",
      "hsa-miR-7854-3p\n",
      "hsa-miR-5587-5p\n",
      "hsa-miR-412-3p\n",
      "hsa-miR-218-2-3p\n",
      "hsa-miR-449c-3p\n",
      "hsa-miR-371b-5p\n",
      "hsa-miR-548h-5p\n",
      "hsa-miR-5591-5p\n",
      "hsa-miR-5585-3p\n",
      "hsa-miR-6847-3p\n",
      "hsa-miR-4741\n",
      "hsa-miR-1227-5p\n",
      "hsa-miR-660-5p\n",
      "hsa-miR-7151-5p\n",
      "hsa-miR-1253\n",
      "hsa-miR-134-3p\n",
      "hsa-miR-6802-3p\n",
      "hsa-miR-6774-3p\n",
      "hsa-miR-7703\n",
      "hsa-miR-1229-3p\n",
      "hsa-miR-4749-5p\n"
     ]
    }
   ],
   "source": [
    "# print all features on new line for easy copy-paste\n",
    "print('\\n'.join(combined_features['Feature'].values))"
   ]
  },
  {
   "cell_type": "code",
   "execution_count": 23,
   "metadata": {},
   "outputs": [
    {
     "data": {
      "text/html": [
       "<div>\n",
       "<style scoped>\n",
       "    .dataframe tbody tr th:only-of-type {\n",
       "        vertical-align: middle;\n",
       "    }\n",
       "\n",
       "    .dataframe tbody tr th {\n",
       "        vertical-align: top;\n",
       "    }\n",
       "\n",
       "    .dataframe thead th {\n",
       "        text-align: right;\n",
       "    }\n",
       "</style>\n",
       "<table border=\"1\" class=\"dataframe\">\n",
       "  <thead>\n",
       "    <tr style=\"text-align: right;\">\n",
       "      <th></th>\n",
       "      <th>Feature</th>\n",
       "      <th>Importance</th>\n",
       "      <th>Classifier</th>\n",
       "    </tr>\n",
       "  </thead>\n",
       "  <tbody>\n",
       "    <tr>\n",
       "      <th>33</th>\n",
       "      <td>hsa-miR-6722-3p</td>\n",
       "      <td>0.068606</td>\n",
       "      <td>XGBoost</td>\n",
       "    </tr>\n",
       "    <tr>\n",
       "      <th>28</th>\n",
       "      <td>hsa-miR-3130-3p</td>\n",
       "      <td>0.068304</td>\n",
       "      <td>XGBoost</td>\n",
       "    </tr>\n",
       "    <tr>\n",
       "      <th>55</th>\n",
       "      <td>hsa-miR-4749-5p</td>\n",
       "      <td>0.065077</td>\n",
       "      <td>XGBoost</td>\n",
       "    </tr>\n",
       "    <tr>\n",
       "      <th>52</th>\n",
       "      <td>hsa-miR-6774-3p</td>\n",
       "      <td>0.052647</td>\n",
       "      <td>XGBoost</td>\n",
       "    </tr>\n",
       "    <tr>\n",
       "      <th>54</th>\n",
       "      <td>hsa-miR-1229-3p</td>\n",
       "      <td>0.047424</td>\n",
       "      <td>XGBoost</td>\n",
       "    </tr>\n",
       "  </tbody>\n",
       "</table>\n",
       "</div>"
      ],
      "text/plain": [
       "            Feature  Importance Classifier\n",
       "33  hsa-miR-6722-3p    0.068606    XGBoost\n",
       "28  hsa-miR-3130-3p    0.068304    XGBoost\n",
       "55  hsa-miR-4749-5p    0.065077    XGBoost\n",
       "52  hsa-miR-6774-3p    0.052647    XGBoost\n",
       "54  hsa-miR-1229-3p    0.047424    XGBoost"
      ]
     },
     "execution_count": 23,
     "metadata": {},
     "output_type": "execute_result"
    }
   ],
   "source": [
    "# order the features by importance\n",
    "combined_features.sort_values(by='Importance', ascending=False, inplace=True)\n",
    "combined_features.head()"
   ]
  },
  {
   "cell_type": "code",
   "execution_count": 24,
   "metadata": {},
   "outputs": [],
   "source": [
    "# save this to CSV\n",
    "combined_features.to_csv('miRNA_disease_ranked.csv', index=False)"
   ]
  }
 ],
 "metadata": {
  "kernelspec": {
   "display_name": "myenv",
   "language": "python",
   "name": "python3"
  },
  "language_info": {
   "codemirror_mode": {
    "name": "ipython",
    "version": 3
   },
   "file_extension": ".py",
   "mimetype": "text/x-python",
   "name": "python",
   "nbconvert_exporter": "python",
   "pygments_lexer": "ipython3",
   "version": "3.10.8"
  }
 },
 "nbformat": 4,
 "nbformat_minor": 2
}
