{
 "cells": [
  {
   "cell_type": "code",
   "execution_count": 1,
   "metadata": {},
   "outputs": [],
   "source": [
    "import pandas as pd"
   ]
  },
  {
   "cell_type": "code",
   "execution_count": 2,
   "metadata": {},
   "outputs": [
    {
     "name": "stdout",
     "output_type": "stream",
     "text": [
      "features_s1_s2 shape:              Feature  Importance Classifier\n",
      "0       hsa-miR-4462   -0.557518        SVM\n",
      "1   hsa-miR-6769b-5p   -0.104553        SVM\n",
      "2    hsa-miR-6857-3p    0.302208        SVM\n",
      "3    hsa-miR-548h-5p   -0.174843        SVM\n",
      "4    hsa-miR-7846-3p   -0.281829        SVM\n",
      "5    hsa-miR-6869-3p    0.236519        SVM\n",
      "6     hsa-miR-937-5p   -0.322316        SVM\n",
      "7    hsa-miR-6895-3p   -0.160568        SVM\n",
      "8       hsa-miR-3178    0.370109        SVM\n",
      "9       hsa-miR-4439   -0.427183        SVM\n",
      "10      hsa-miR-4472   -0.124975        SVM\n",
      "11    hsa-miR-139-3p    0.091881        SVM\n",
      "12      hsa-miR-4647    0.244500        SVM\n",
      "13   hsa-miR-4749-5p   -0.736242        SVM\n",
      "14     hsa-miR-3155b   -0.240940        SVM\n",
      "15      hsa-miR-4462    0.087025    XGBoost\n",
      "16  hsa-miR-6769b-5p    0.059531    XGBoost\n",
      "17   hsa-miR-6857-3p    0.041047    XGBoost\n",
      "18   hsa-miR-548h-5p    0.051359    XGBoost\n",
      "19   hsa-miR-7846-3p    0.048644    XGBoost\n",
      "20   hsa-miR-6869-3p    0.036106    XGBoost\n",
      "21    hsa-miR-937-5p    0.057237    XGBoost\n",
      "22   hsa-miR-6895-3p    0.051406    XGBoost\n",
      "23      hsa-miR-3178    0.067518    XGBoost\n",
      "24      hsa-miR-4439    0.069004    XGBoost\n",
      "25      hsa-miR-4472    0.068068    XGBoost\n",
      "26    hsa-miR-139-3p    0.053667    XGBoost\n",
      "27      hsa-miR-4647    0.069120    XGBoost\n",
      "28   hsa-miR-4749-5p    0.240269    XGBoost\n"
     ]
    }
   ],
   "source": [
    "features_s1_s2 = pd.read_csv('./50_s1_s2.csv')\n",
    "# features_ctl_cancer = pd.read_csv('../GSEA/miRNA/50_ctl_c.csv')\n",
    "# features_benign_cancer = pd.read_csv('../GSEA/miRNA/50_b_c.csv')\n",
    "\n",
    "# print(f'ctl_benign shape: {features_ctl_benign.shape}')\n",
    "print(f'features_s1_s2 shape: {features_s1_s2}')\n",
    "# print(f'benign_cancer shape: {features_benign_cancer.shape}')"
   ]
  },
  {
   "cell_type": "code",
   "execution_count": 3,
   "metadata": {},
   "outputs": [
    {
     "name": "stdout",
     "output_type": "stream",
     "text": [
      "(29, 3)\n",
      "176\n"
     ]
    }
   ],
   "source": [
    "combined_features = pd.concat([features_s1_s2])\n",
    "print(combined_features.shape)\n",
    "print(90+86)"
   ]
  },
  {
   "cell_type": "code",
   "execution_count": 4,
   "metadata": {},
   "outputs": [
    {
     "data": {
      "text/html": [
       "<div>\n",
       "<style scoped>\n",
       "    .dataframe tbody tr th:only-of-type {\n",
       "        vertical-align: middle;\n",
       "    }\n",
       "\n",
       "    .dataframe tbody tr th {\n",
       "        vertical-align: top;\n",
       "    }\n",
       "\n",
       "    .dataframe thead th {\n",
       "        text-align: right;\n",
       "    }\n",
       "</style>\n",
       "<table border=\"1\" class=\"dataframe\">\n",
       "  <thead>\n",
       "    <tr style=\"text-align: right;\">\n",
       "      <th></th>\n",
       "      <th>Feature</th>\n",
       "      <th>Importance</th>\n",
       "      <th>Classifier</th>\n",
       "    </tr>\n",
       "  </thead>\n",
       "  <tbody>\n",
       "    <tr>\n",
       "      <th>0</th>\n",
       "      <td>hsa-miR-4462</td>\n",
       "      <td>-0.557518</td>\n",
       "      <td>SVM</td>\n",
       "    </tr>\n",
       "    <tr>\n",
       "      <th>1</th>\n",
       "      <td>hsa-miR-6769b-5p</td>\n",
       "      <td>-0.104553</td>\n",
       "      <td>SVM</td>\n",
       "    </tr>\n",
       "    <tr>\n",
       "      <th>2</th>\n",
       "      <td>hsa-miR-6857-3p</td>\n",
       "      <td>0.302208</td>\n",
       "      <td>SVM</td>\n",
       "    </tr>\n",
       "    <tr>\n",
       "      <th>3</th>\n",
       "      <td>hsa-miR-548h-5p</td>\n",
       "      <td>-0.174843</td>\n",
       "      <td>SVM</td>\n",
       "    </tr>\n",
       "    <tr>\n",
       "      <th>4</th>\n",
       "      <td>hsa-miR-7846-3p</td>\n",
       "      <td>-0.281829</td>\n",
       "      <td>SVM</td>\n",
       "    </tr>\n",
       "  </tbody>\n",
       "</table>\n",
       "</div>"
      ],
      "text/plain": [
       "            Feature  Importance Classifier\n",
       "0      hsa-miR-4462   -0.557518        SVM\n",
       "1  hsa-miR-6769b-5p   -0.104553        SVM\n",
       "2   hsa-miR-6857-3p    0.302208        SVM\n",
       "3   hsa-miR-548h-5p   -0.174843        SVM\n",
       "4   hsa-miR-7846-3p   -0.281829        SVM"
      ]
     },
     "execution_count": 4,
     "metadata": {},
     "output_type": "execute_result"
    }
   ],
   "source": [
    "combined_features.head()"
   ]
  },
  {
   "cell_type": "code",
   "execution_count": 5,
   "metadata": {},
   "outputs": [
    {
     "data": {
      "text/plain": [
       "(29, 3)"
      ]
     },
     "execution_count": 5,
     "metadata": {},
     "output_type": "execute_result"
    }
   ],
   "source": [
    "# remove duplicates\n",
    "combined_features = combined_features.drop_duplicates()\n",
    "combined_features.shape"
   ]
  },
  {
   "cell_type": "code",
   "execution_count": 6,
   "metadata": {},
   "outputs": [
    {
     "name": "stdout",
     "output_type": "stream",
     "text": [
      "hsa-miR-4462\n",
      "hsa-miR-6769b-5p\n",
      "hsa-miR-6857-3p\n",
      "hsa-miR-548h-5p\n",
      "hsa-miR-7846-3p\n",
      "hsa-miR-6869-3p\n",
      "hsa-miR-937-5p\n",
      "hsa-miR-6895-3p\n",
      "hsa-miR-3178\n",
      "hsa-miR-4439\n",
      "hsa-miR-4472\n",
      "hsa-miR-139-3p\n",
      "hsa-miR-4647\n",
      "hsa-miR-4749-5p\n",
      "hsa-miR-3155b\n",
      "hsa-miR-4462\n",
      "hsa-miR-6769b-5p\n",
      "hsa-miR-6857-3p\n",
      "hsa-miR-548h-5p\n",
      "hsa-miR-7846-3p\n",
      "hsa-miR-6869-3p\n",
      "hsa-miR-937-5p\n",
      "hsa-miR-6895-3p\n",
      "hsa-miR-3178\n",
      "hsa-miR-4439\n",
      "hsa-miR-4472\n",
      "hsa-miR-139-3p\n",
      "hsa-miR-4647\n",
      "hsa-miR-4749-5p\n"
     ]
    }
   ],
   "source": [
    "# print all features on new line for easy copy-paste\n",
    "print('\\n'.join(combined_features['Feature'].values))"
   ]
  },
  {
   "cell_type": "code",
   "execution_count": 7,
   "metadata": {},
   "outputs": [
    {
     "data": {
      "text/html": [
       "<div>\n",
       "<style scoped>\n",
       "    .dataframe tbody tr th:only-of-type {\n",
       "        vertical-align: middle;\n",
       "    }\n",
       "\n",
       "    .dataframe tbody tr th {\n",
       "        vertical-align: top;\n",
       "    }\n",
       "\n",
       "    .dataframe thead th {\n",
       "        text-align: right;\n",
       "    }\n",
       "</style>\n",
       "<table border=\"1\" class=\"dataframe\">\n",
       "  <thead>\n",
       "    <tr style=\"text-align: right;\">\n",
       "      <th></th>\n",
       "      <th>Feature</th>\n",
       "      <th>Importance</th>\n",
       "      <th>Classifier</th>\n",
       "    </tr>\n",
       "  </thead>\n",
       "  <tbody>\n",
       "    <tr>\n",
       "      <th>8</th>\n",
       "      <td>hsa-miR-3178</td>\n",
       "      <td>0.370109</td>\n",
       "      <td>SVM</td>\n",
       "    </tr>\n",
       "    <tr>\n",
       "      <th>2</th>\n",
       "      <td>hsa-miR-6857-3p</td>\n",
       "      <td>0.302208</td>\n",
       "      <td>SVM</td>\n",
       "    </tr>\n",
       "    <tr>\n",
       "      <th>12</th>\n",
       "      <td>hsa-miR-4647</td>\n",
       "      <td>0.244500</td>\n",
       "      <td>SVM</td>\n",
       "    </tr>\n",
       "    <tr>\n",
       "      <th>28</th>\n",
       "      <td>hsa-miR-4749-5p</td>\n",
       "      <td>0.240269</td>\n",
       "      <td>XGBoost</td>\n",
       "    </tr>\n",
       "    <tr>\n",
       "      <th>5</th>\n",
       "      <td>hsa-miR-6869-3p</td>\n",
       "      <td>0.236519</td>\n",
       "      <td>SVM</td>\n",
       "    </tr>\n",
       "  </tbody>\n",
       "</table>\n",
       "</div>"
      ],
      "text/plain": [
       "            Feature  Importance Classifier\n",
       "8      hsa-miR-3178    0.370109        SVM\n",
       "2   hsa-miR-6857-3p    0.302208        SVM\n",
       "12     hsa-miR-4647    0.244500        SVM\n",
       "28  hsa-miR-4749-5p    0.240269    XGBoost\n",
       "5   hsa-miR-6869-3p    0.236519        SVM"
      ]
     },
     "execution_count": 7,
     "metadata": {},
     "output_type": "execute_result"
    }
   ],
   "source": [
    "# order the features by importance\n",
    "combined_features.sort_values(by='Importance', ascending=False, inplace=True)\n",
    "combined_features.head()"
   ]
  },
  {
   "cell_type": "code",
   "execution_count": 8,
   "metadata": {},
   "outputs": [],
   "source": [
    "# save this to CSV\n",
    "combined_features.to_csv('miRNA_disease_ranked.csv', index=False)"
   ]
  }
 ],
 "metadata": {
  "kernelspec": {
   "display_name": "myenv",
   "language": "python",
   "name": "python3"
  },
  "language_info": {
   "codemirror_mode": {
    "name": "ipython",
    "version": 3
   },
   "file_extension": ".py",
   "mimetype": "text/x-python",
   "name": "python",
   "nbconvert_exporter": "python",
   "pygments_lexer": "ipython3",
   "version": "3.10.8"
  }
 },
 "nbformat": 4,
 "nbformat_minor": 2
}
