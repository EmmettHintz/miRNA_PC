{
 "cells": [
  {
   "cell_type": "code",
   "execution_count": 22,
   "metadata": {},
   "outputs": [],
   "source": [
    "import pandas as pd"
   ]
  },
  {
   "cell_type": "code",
   "execution_count": 23,
   "metadata": {},
   "outputs": [
    {
     "name": "stdout",
     "output_type": "stream",
     "text": [
      "features_s1_s2 shape:              Feature  Importance Classifier\n",
      "0    hsa-miR-6861-5p   -0.005854        SVM\n",
      "1    hsa-miR-125a-3p   -0.042201        SVM\n",
      "2    hsa-miR-6802-5p    0.014626        SVM\n",
      "3    hsa-miR-1307-3p    0.071602        SVM\n",
      "4    hsa-miR-6729-5p   -0.013755        SVM\n",
      "..               ...         ...        ...\n",
      "87   hsa-miR-1343-3p    0.000000    XGBoost\n",
      "88     hsa-miR-4419b    0.004290    XGBoost\n",
      "89   hsa-miR-6787-5p    0.004427    XGBoost\n",
      "90   hsa-miR-4732-5p    0.003909    XGBoost\n",
      "91  hsa-miR-6769a-5p    0.000000    XGBoost\n",
      "\n",
      "[92 rows x 3 columns]\n"
     ]
    }
   ],
   "source": [
    "features_ctl_s1 = pd.read_csv('./50_ctl_s1.csv')\n",
    "# features_ctl_cancer = pd.read_csv('../GSEA/miRNA/50_ctl_c.csv')\n",
    "# features_benign_cancer = pd.read_csv('../GSEA/miRNA/50_b_c.csv')\n",
    "\n",
    "# print(f'ctl_benign shape: {features_ctl_benign.shape}')\n",
    "print(f'features_s1_s2 shape: {features_ctl_s1}')\n",
    "# print(f'benign_cancer shape: {features_benign_cancer.shape}')"
   ]
  },
  {
   "cell_type": "code",
   "execution_count": 24,
   "metadata": {},
   "outputs": [
    {
     "name": "stdout",
     "output_type": "stream",
     "text": [
      "(92, 3)\n",
      "176\n"
     ]
    }
   ],
   "source": [
    "combined_features = pd.concat([features_ctl_s1])\n",
    "print(combined_features.shape)\n",
    "print(90+86)"
   ]
  },
  {
   "cell_type": "code",
   "execution_count": 25,
   "metadata": {},
   "outputs": [
    {
     "data": {
      "text/html": [
       "<div>\n",
       "<style scoped>\n",
       "    .dataframe tbody tr th:only-of-type {\n",
       "        vertical-align: middle;\n",
       "    }\n",
       "\n",
       "    .dataframe tbody tr th {\n",
       "        vertical-align: top;\n",
       "    }\n",
       "\n",
       "    .dataframe thead th {\n",
       "        text-align: right;\n",
       "    }\n",
       "</style>\n",
       "<table border=\"1\" class=\"dataframe\">\n",
       "  <thead>\n",
       "    <tr style=\"text-align: right;\">\n",
       "      <th></th>\n",
       "      <th>Feature</th>\n",
       "      <th>Importance</th>\n",
       "      <th>Classifier</th>\n",
       "    </tr>\n",
       "  </thead>\n",
       "  <tbody>\n",
       "    <tr>\n",
       "      <th>0</th>\n",
       "      <td>hsa-miR-6861-5p</td>\n",
       "      <td>-0.005854</td>\n",
       "      <td>SVM</td>\n",
       "    </tr>\n",
       "    <tr>\n",
       "      <th>1</th>\n",
       "      <td>hsa-miR-125a-3p</td>\n",
       "      <td>-0.042201</td>\n",
       "      <td>SVM</td>\n",
       "    </tr>\n",
       "    <tr>\n",
       "      <th>2</th>\n",
       "      <td>hsa-miR-6802-5p</td>\n",
       "      <td>0.014626</td>\n",
       "      <td>SVM</td>\n",
       "    </tr>\n",
       "    <tr>\n",
       "      <th>3</th>\n",
       "      <td>hsa-miR-1307-3p</td>\n",
       "      <td>0.071602</td>\n",
       "      <td>SVM</td>\n",
       "    </tr>\n",
       "    <tr>\n",
       "      <th>4</th>\n",
       "      <td>hsa-miR-6729-5p</td>\n",
       "      <td>-0.013755</td>\n",
       "      <td>SVM</td>\n",
       "    </tr>\n",
       "  </tbody>\n",
       "</table>\n",
       "</div>"
      ],
      "text/plain": [
       "           Feature  Importance Classifier\n",
       "0  hsa-miR-6861-5p   -0.005854        SVM\n",
       "1  hsa-miR-125a-3p   -0.042201        SVM\n",
       "2  hsa-miR-6802-5p    0.014626        SVM\n",
       "3  hsa-miR-1307-3p    0.071602        SVM\n",
       "4  hsa-miR-6729-5p   -0.013755        SVM"
      ]
     },
     "execution_count": 25,
     "metadata": {},
     "output_type": "execute_result"
    }
   ],
   "source": [
    "combined_features.head()"
   ]
  },
  {
   "cell_type": "code",
   "execution_count": 26,
   "metadata": {},
   "outputs": [
    {
     "data": {
      "text/plain": [
       "(92, 3)"
      ]
     },
     "execution_count": 26,
     "metadata": {},
     "output_type": "execute_result"
    }
   ],
   "source": [
    "# remove duplicates\n",
    "combined_features = combined_features.drop_duplicates()\n",
    "combined_features.shape"
   ]
  },
  {
   "cell_type": "code",
   "execution_count": 27,
   "metadata": {},
   "outputs": [
    {
     "name": "stdout",
     "output_type": "stream",
     "text": [
      "hsa-miR-6861-5p\n",
      "hsa-miR-125a-3p\n",
      "hsa-miR-6802-5p\n",
      "hsa-miR-1307-3p\n",
      "hsa-miR-6729-5p\n",
      "hsa-miR-6800-5p\n",
      "hsa-miR-6131\n",
      "hsa-miR-320a\n",
      "hsa-miR-663a\n",
      "hsa-miR-1228-5p\n",
      "hsa-miR-642b-3p\n",
      "hsa-miR-4532\n",
      "hsa-miR-6756-5p\n",
      "hsa-miR-887-3p\n",
      "hsa-miR-6090\n",
      "hsa-miR-575\n",
      "hsa-miR-6746-5p\n",
      "hsa-miR-4690-5p\n",
      "hsa-miR-4730\n",
      "hsa-miR-6784-5p\n",
      "hsa-miR-92b-5p\n",
      "hsa-miR-4687-5p\n",
      "hsa-miR-1238-5p\n",
      "hsa-miR-5195-3p\n",
      "hsa-miR-1469\n",
      "hsa-miR-4675\n",
      "hsa-miR-4758-5p\n",
      "hsa-miR-6805-5p\n",
      "hsa-miR-3184-5p\n",
      "hsa-miR-1203\n",
      "hsa-miR-4706\n",
      "hsa-miR-197-5p\n",
      "hsa-miR-92a-2-5p\n",
      "hsa-miR-3940-5p\n",
      "hsa-miR-128-1-5p\n",
      "hsa-miR-6857-5p\n",
      "hsa-miR-1233-5p\n",
      "hsa-miR-4648\n",
      "hsa-miR-4276\n",
      "hsa-miR-4734\n",
      "hsa-miR-4783-3p\n",
      "hsa-miR-1343-3p\n",
      "hsa-miR-4419b\n",
      "hsa-miR-6787-5p\n",
      "hsa-miR-4732-5p\n",
      "hsa-miR-6769a-5p\n",
      "hsa-miR-6861-5p\n",
      "hsa-miR-125a-3p\n",
      "hsa-miR-6802-5p\n",
      "hsa-miR-1307-3p\n",
      "hsa-miR-6729-5p\n",
      "hsa-miR-6800-5p\n",
      "hsa-miR-6131\n",
      "hsa-miR-320a\n",
      "hsa-miR-663a\n",
      "hsa-miR-1228-5p\n",
      "hsa-miR-642b-3p\n",
      "hsa-miR-4532\n",
      "hsa-miR-6756-5p\n",
      "hsa-miR-887-3p\n",
      "hsa-miR-6090\n",
      "hsa-miR-575\n",
      "hsa-miR-6746-5p\n",
      "hsa-miR-4690-5p\n",
      "hsa-miR-4730\n",
      "hsa-miR-6784-5p\n",
      "hsa-miR-92b-5p\n",
      "hsa-miR-4687-5p\n",
      "hsa-miR-1238-5p\n",
      "hsa-miR-5195-3p\n",
      "hsa-miR-1469\n",
      "hsa-miR-4675\n",
      "hsa-miR-4758-5p\n",
      "hsa-miR-6805-5p\n",
      "hsa-miR-3184-5p\n",
      "hsa-miR-1203\n",
      "hsa-miR-4706\n",
      "hsa-miR-197-5p\n",
      "hsa-miR-92a-2-5p\n",
      "hsa-miR-3940-5p\n",
      "hsa-miR-128-1-5p\n",
      "hsa-miR-6857-5p\n",
      "hsa-miR-1233-5p\n",
      "hsa-miR-4648\n",
      "hsa-miR-4276\n",
      "hsa-miR-4734\n",
      "hsa-miR-4783-3p\n",
      "hsa-miR-1343-3p\n",
      "hsa-miR-4419b\n",
      "hsa-miR-6787-5p\n",
      "hsa-miR-4732-5p\n",
      "hsa-miR-6769a-5p\n"
     ]
    }
   ],
   "source": [
    "# print all features on new line for easy copy-paste\n",
    "print('\\n'.join(combined_features['Feature'].values))"
   ]
  },
  {
   "cell_type": "code",
   "execution_count": 28,
   "metadata": {},
   "outputs": [
    {
     "data": {
      "text/html": [
       "<div>\n",
       "<style scoped>\n",
       "    .dataframe tbody tr th:only-of-type {\n",
       "        vertical-align: middle;\n",
       "    }\n",
       "\n",
       "    .dataframe tbody tr th {\n",
       "        vertical-align: top;\n",
       "    }\n",
       "\n",
       "    .dataframe thead th {\n",
       "        text-align: right;\n",
       "    }\n",
       "</style>\n",
       "<table border=\"1\" class=\"dataframe\">\n",
       "  <thead>\n",
       "    <tr style=\"text-align: right;\">\n",
       "      <th></th>\n",
       "      <th>Feature</th>\n",
       "      <th>Importance</th>\n",
       "      <th>Classifier</th>\n",
       "    </tr>\n",
       "  </thead>\n",
       "  <tbody>\n",
       "    <tr>\n",
       "      <th>86</th>\n",
       "      <td>hsa-miR-4783-3p</td>\n",
       "      <td>0.477519</td>\n",
       "      <td>XGBoost</td>\n",
       "    </tr>\n",
       "    <tr>\n",
       "      <th>49</th>\n",
       "      <td>hsa-miR-1307-3p</td>\n",
       "      <td>0.185408</td>\n",
       "      <td>XGBoost</td>\n",
       "    </tr>\n",
       "    <tr>\n",
       "      <th>74</th>\n",
       "      <td>hsa-miR-3184-5p</td>\n",
       "      <td>0.134128</td>\n",
       "      <td>XGBoost</td>\n",
       "    </tr>\n",
       "    <tr>\n",
       "      <th>3</th>\n",
       "      <td>hsa-miR-1307-3p</td>\n",
       "      <td>0.071602</td>\n",
       "      <td>SVM</td>\n",
       "    </tr>\n",
       "    <tr>\n",
       "      <th>6</th>\n",
       "      <td>hsa-miR-6131</td>\n",
       "      <td>0.065447</td>\n",
       "      <td>SVM</td>\n",
       "    </tr>\n",
       "  </tbody>\n",
       "</table>\n",
       "</div>"
      ],
      "text/plain": [
       "            Feature  Importance Classifier\n",
       "86  hsa-miR-4783-3p    0.477519    XGBoost\n",
       "49  hsa-miR-1307-3p    0.185408    XGBoost\n",
       "74  hsa-miR-3184-5p    0.134128    XGBoost\n",
       "3   hsa-miR-1307-3p    0.071602        SVM\n",
       "6      hsa-miR-6131    0.065447        SVM"
      ]
     },
     "execution_count": 28,
     "metadata": {},
     "output_type": "execute_result"
    }
   ],
   "source": [
    "# order the features by importance\n",
    "combined_features.sort_values(by='Importance', ascending=False, inplace=True)\n",
    "combined_features.head()"
   ]
  },
  {
   "cell_type": "code",
   "execution_count": 29,
   "metadata": {},
   "outputs": [],
   "source": [
    "# save this to CSV\n",
    "combined_features.to_csv('miRNA_disease_ranked.csv', index=False)"
   ]
  }
 ],
 "metadata": {
  "kernelspec": {
   "display_name": "myenv",
   "language": "python",
   "name": "python3"
  },
  "language_info": {
   "codemirror_mode": {
    "name": "ipython",
    "version": 3
   },
   "file_extension": ".py",
   "mimetype": "text/x-python",
   "name": "python",
   "nbconvert_exporter": "python",
   "pygments_lexer": "ipython3",
   "version": "3.10.8"
  }
 },
 "nbformat": 4,
 "nbformat_minor": 2
}
