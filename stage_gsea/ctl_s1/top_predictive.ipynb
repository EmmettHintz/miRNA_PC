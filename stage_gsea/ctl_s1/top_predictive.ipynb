{
 "cells": [
  {
   "cell_type": "code",
   "execution_count": 44,
   "metadata": {},
   "outputs": [],
   "source": [
    "import pandas as pd"
   ]
  },
  {
   "cell_type": "code",
   "execution_count": 45,
   "metadata": {},
   "outputs": [
    {
     "name": "stdout",
     "output_type": "stream",
     "text": [
      "features_ctl_s1 shape:             Feature  Importance Classifier\n",
      "0      hsa-miR-4525    0.003321        SVM\n",
      "1      hsa-miR-8073    0.020516        SVM\n",
      "2   hsa-miR-6802-5p    0.012388        SVM\n",
      "3   hsa-miR-1307-3p    0.083000        SVM\n",
      "4   hsa-miR-6800-5p   -0.027715        SVM\n",
      "..              ...         ...        ...\n",
      "78     hsa-miR-4648    0.000000    XGBoost\n",
      "79     hsa-miR-4276    0.000000    XGBoost\n",
      "80  hsa-miR-4783-3p    0.931321    XGBoost\n",
      "81  hsa-miR-1343-3p    0.000000    XGBoost\n",
      "82  hsa-miR-6787-5p    0.000000    XGBoost\n",
      "\n",
      "[83 rows x 3 columns]\n"
     ]
    }
   ],
   "source": [
    "features_ctl_s1 = pd.read_csv('./50_ctl_s1.csv')\n",
    "# features_ctl_cancer = pd.read_csv('../GSEA/miRNA/50_ctl_c.csv')\n",
    "# features_benign_cancer = pd.read_csv('../GSEA/miRNA/50_b_c.csv')\n",
    "\n",
    "# print(f'ctl_benign shape: {features_ctl_benign.shape}')\n",
    "print(f'features_ctl_s1 shape: {features_ctl_s1}')\n",
    "# print(f'benign_cancer shape: {features_benign_cancer.shape}')"
   ]
  },
  {
   "cell_type": "code",
   "execution_count": 46,
   "metadata": {},
   "outputs": [
    {
     "name": "stdout",
     "output_type": "stream",
     "text": [
      "(83, 3)\n",
      "176\n"
     ]
    }
   ],
   "source": [
    "combined_features = pd.concat([features_ctl_s1])\n",
    "print(combined_features.shape)\n",
    "print(90+86)"
   ]
  },
  {
   "cell_type": "code",
   "execution_count": 47,
   "metadata": {},
   "outputs": [
    {
     "data": {
      "text/html": [
       "<div>\n",
       "<style scoped>\n",
       "    .dataframe tbody tr th:only-of-type {\n",
       "        vertical-align: middle;\n",
       "    }\n",
       "\n",
       "    .dataframe tbody tr th {\n",
       "        vertical-align: top;\n",
       "    }\n",
       "\n",
       "    .dataframe thead th {\n",
       "        text-align: right;\n",
       "    }\n",
       "</style>\n",
       "<table border=\"1\" class=\"dataframe\">\n",
       "  <thead>\n",
       "    <tr style=\"text-align: right;\">\n",
       "      <th></th>\n",
       "      <th>Feature</th>\n",
       "      <th>Importance</th>\n",
       "      <th>Classifier</th>\n",
       "    </tr>\n",
       "  </thead>\n",
       "  <tbody>\n",
       "    <tr>\n",
       "      <th>0</th>\n",
       "      <td>hsa-miR-4525</td>\n",
       "      <td>0.003321</td>\n",
       "      <td>SVM</td>\n",
       "    </tr>\n",
       "    <tr>\n",
       "      <th>1</th>\n",
       "      <td>hsa-miR-8073</td>\n",
       "      <td>0.020516</td>\n",
       "      <td>SVM</td>\n",
       "    </tr>\n",
       "    <tr>\n",
       "      <th>2</th>\n",
       "      <td>hsa-miR-6802-5p</td>\n",
       "      <td>0.012388</td>\n",
       "      <td>SVM</td>\n",
       "    </tr>\n",
       "    <tr>\n",
       "      <th>3</th>\n",
       "      <td>hsa-miR-1307-3p</td>\n",
       "      <td>0.083000</td>\n",
       "      <td>SVM</td>\n",
       "    </tr>\n",
       "    <tr>\n",
       "      <th>4</th>\n",
       "      <td>hsa-miR-6800-5p</td>\n",
       "      <td>-0.027715</td>\n",
       "      <td>SVM</td>\n",
       "    </tr>\n",
       "  </tbody>\n",
       "</table>\n",
       "</div>"
      ],
      "text/plain": [
       "           Feature  Importance Classifier\n",
       "0     hsa-miR-4525    0.003321        SVM\n",
       "1     hsa-miR-8073    0.020516        SVM\n",
       "2  hsa-miR-6802-5p    0.012388        SVM\n",
       "3  hsa-miR-1307-3p    0.083000        SVM\n",
       "4  hsa-miR-6800-5p   -0.027715        SVM"
      ]
     },
     "execution_count": 47,
     "metadata": {},
     "output_type": "execute_result"
    }
   ],
   "source": [
    "combined_features.head()"
   ]
  },
  {
   "cell_type": "code",
   "execution_count": 48,
   "metadata": {},
   "outputs": [
    {
     "data": {
      "text/plain": [
       "(83, 3)"
      ]
     },
     "execution_count": 48,
     "metadata": {},
     "output_type": "execute_result"
    }
   ],
   "source": [
    "# remove duplicates\n",
    "combined_features = combined_features.drop_duplicates()\n",
    "combined_features.shape"
   ]
  },
  {
   "cell_type": "code",
   "execution_count": 49,
   "metadata": {},
   "outputs": [
    {
     "name": "stdout",
     "output_type": "stream",
     "text": [
      "hsa-miR-4525\n",
      "hsa-miR-8073\n",
      "hsa-miR-6802-5p\n",
      "hsa-miR-1307-3p\n",
      "hsa-miR-6800-5p\n",
      "hsa-miR-6131\n",
      "hsa-miR-320a\n",
      "hsa-miR-6766-5p\n",
      "hsa-miR-663a\n",
      "hsa-miR-1228-5p\n",
      "hsa-miR-642b-3p\n",
      "hsa-miR-4728-5p\n",
      "hsa-miR-4532\n",
      "hsa-miR-6756-5p\n",
      "hsa-miR-887-3p\n",
      "hsa-miR-4787-5p\n",
      "hsa-miR-6090\n",
      "hsa-miR-575\n",
      "hsa-miR-6746-5p\n",
      "hsa-miR-4690-5p\n",
      "hsa-miR-4730\n",
      "hsa-miR-6784-5p\n",
      "hsa-miR-92b-5p\n",
      "hsa-miR-4687-5p\n",
      "hsa-miR-1238-5p\n",
      "hsa-miR-8059\n",
      "hsa-miR-1469\n",
      "hsa-miR-4675\n",
      "hsa-miR-4758-5p\n",
      "hsa-miR-6805-5p\n",
      "hsa-miR-3184-5p\n",
      "hsa-miR-1203\n",
      "hsa-miR-4706\n",
      "hsa-miR-197-5p\n",
      "hsa-miR-3940-5p\n",
      "hsa-miR-1233-5p\n",
      "hsa-miR-4648\n",
      "hsa-miR-4276\n",
      "hsa-miR-4783-3p\n",
      "hsa-miR-1343-3p\n",
      "hsa-miR-6787-5p\n",
      "hsa-miR-4732-5p\n",
      "hsa-miR-4525\n",
      "hsa-miR-8073\n",
      "hsa-miR-6802-5p\n",
      "hsa-miR-1307-3p\n",
      "hsa-miR-6800-5p\n",
      "hsa-miR-6131\n",
      "hsa-miR-320a\n",
      "hsa-miR-6766-5p\n",
      "hsa-miR-663a\n",
      "hsa-miR-1228-5p\n",
      "hsa-miR-642b-3p\n",
      "hsa-miR-4728-5p\n",
      "hsa-miR-4532\n",
      "hsa-miR-6756-5p\n",
      "hsa-miR-887-3p\n",
      "hsa-miR-4787-5p\n",
      "hsa-miR-6090\n",
      "hsa-miR-575\n",
      "hsa-miR-6746-5p\n",
      "hsa-miR-4690-5p\n",
      "hsa-miR-4730\n",
      "hsa-miR-6784-5p\n",
      "hsa-miR-92b-5p\n",
      "hsa-miR-4687-5p\n",
      "hsa-miR-1238-5p\n",
      "hsa-miR-8059\n",
      "hsa-miR-1469\n",
      "hsa-miR-4675\n",
      "hsa-miR-4758-5p\n",
      "hsa-miR-6805-5p\n",
      "hsa-miR-3184-5p\n",
      "hsa-miR-1203\n",
      "hsa-miR-4706\n",
      "hsa-miR-197-5p\n",
      "hsa-miR-3940-5p\n",
      "hsa-miR-1233-5p\n",
      "hsa-miR-4648\n",
      "hsa-miR-4276\n",
      "hsa-miR-4783-3p\n",
      "hsa-miR-1343-3p\n",
      "hsa-miR-6787-5p\n"
     ]
    }
   ],
   "source": [
    "# print all features on new line for easy copy-paste\n",
    "print('\\n'.join(combined_features['Feature'].values))"
   ]
  },
  {
   "cell_type": "code",
   "execution_count": 50,
   "metadata": {},
   "outputs": [
    {
     "data": {
      "text/html": [
       "<div>\n",
       "<style scoped>\n",
       "    .dataframe tbody tr th:only-of-type {\n",
       "        vertical-align: middle;\n",
       "    }\n",
       "\n",
       "    .dataframe tbody tr th {\n",
       "        vertical-align: top;\n",
       "    }\n",
       "\n",
       "    .dataframe thead th {\n",
       "        text-align: right;\n",
       "    }\n",
       "</style>\n",
       "<table border=\"1\" class=\"dataframe\">\n",
       "  <thead>\n",
       "    <tr style=\"text-align: right;\">\n",
       "      <th></th>\n",
       "      <th>Feature</th>\n",
       "      <th>Importance</th>\n",
       "      <th>Classifier</th>\n",
       "    </tr>\n",
       "  </thead>\n",
       "  <tbody>\n",
       "    <tr>\n",
       "      <th>80</th>\n",
       "      <td>hsa-miR-4783-3p</td>\n",
       "      <td>0.931321</td>\n",
       "      <td>XGBoost</td>\n",
       "    </tr>\n",
       "    <tr>\n",
       "      <th>3</th>\n",
       "      <td>hsa-miR-1307-3p</td>\n",
       "      <td>0.083000</td>\n",
       "      <td>SVM</td>\n",
       "    </tr>\n",
       "    <tr>\n",
       "      <th>5</th>\n",
       "      <td>hsa-miR-6131</td>\n",
       "      <td>0.072186</td>\n",
       "      <td>SVM</td>\n",
       "    </tr>\n",
       "    <tr>\n",
       "      <th>38</th>\n",
       "      <td>hsa-miR-4783-3p</td>\n",
       "      <td>0.069990</td>\n",
       "      <td>SVM</td>\n",
       "    </tr>\n",
       "    <tr>\n",
       "      <th>16</th>\n",
       "      <td>hsa-miR-6090</td>\n",
       "      <td>0.068079</td>\n",
       "      <td>SVM</td>\n",
       "    </tr>\n",
       "  </tbody>\n",
       "</table>\n",
       "</div>"
      ],
      "text/plain": [
       "            Feature  Importance Classifier\n",
       "80  hsa-miR-4783-3p    0.931321    XGBoost\n",
       "3   hsa-miR-1307-3p    0.083000        SVM\n",
       "5      hsa-miR-6131    0.072186        SVM\n",
       "38  hsa-miR-4783-3p    0.069990        SVM\n",
       "16     hsa-miR-6090    0.068079        SVM"
      ]
     },
     "execution_count": 50,
     "metadata": {},
     "output_type": "execute_result"
    }
   ],
   "source": [
    "# order the features by importance\n",
    "combined_features.sort_values(by='Importance', ascending=False, inplace=True)\n",
    "combined_features.head()"
   ]
  },
  {
   "cell_type": "code",
   "execution_count": 51,
   "metadata": {},
   "outputs": [],
   "source": [
    "# save this to CSV\n",
    "combined_features.to_csv('miRNA_disease_ranked.csv', index=False)"
   ]
  }
 ],
 "metadata": {
  "kernelspec": {
   "display_name": "myenv",
   "language": "python",
   "name": "python3"
  },
  "language_info": {
   "codemirror_mode": {
    "name": "ipython",
    "version": 3
   },
   "file_extension": ".py",
   "mimetype": "text/x-python",
   "name": "python",
   "nbconvert_exporter": "python",
   "pygments_lexer": "ipython3",
   "version": "3.10.8"
  }
 },
 "nbformat": 4,
 "nbformat_minor": 2
}
