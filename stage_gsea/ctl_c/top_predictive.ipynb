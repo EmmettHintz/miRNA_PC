{
 "cells": [
  {
   "cell_type": "code",
   "execution_count": 12,
   "metadata": {},
   "outputs": [],
   "source": [
    "import pandas as pd"
   ]
  },
  {
   "cell_type": "code",
   "execution_count": 13,
   "metadata": {},
   "outputs": [
    {
     "name": "stdout",
     "output_type": "stream",
     "text": [
      "ctl_cancer shape: (86, 3)\n"
     ]
    }
   ],
   "source": [
    "# features_ctl_benign = pd.read_csv('../GSEA/miRNA/50_ctl_b.csv')\n",
    "features_ctl_cancer = pd.read_csv('./50_ctl_c.csv')\n",
    "# features_benign_cancer = pd.read_csv('../GSEA/miRNA/50_b_c.csv')\n",
    "\n",
    "# print(f'ctl_benign shape: {features_ctl_benign.shape}')\n",
    "print(f'ctl_cancer shape: {features_ctl_cancer.shape}')\n",
    "# print(f'benign_cancer shape: {features_benign_cancer.shape}')"
   ]
  },
  {
   "cell_type": "code",
   "execution_count": 14,
   "metadata": {},
   "outputs": [
    {
     "name": "stdout",
     "output_type": "stream",
     "text": [
      "(86, 3)\n",
      "176\n"
     ]
    }
   ],
   "source": [
    "combined_features = pd.concat([features_ctl_cancer])\n",
    "print(combined_features.shape)\n",
    "print(90+86)"
   ]
  },
  {
   "cell_type": "code",
   "execution_count": 15,
   "metadata": {},
   "outputs": [
    {
     "data": {
      "text/html": [
       "<div>\n",
       "<style scoped>\n",
       "    .dataframe tbody tr th:only-of-type {\n",
       "        vertical-align: middle;\n",
       "    }\n",
       "\n",
       "    .dataframe tbody tr th {\n",
       "        vertical-align: top;\n",
       "    }\n",
       "\n",
       "    .dataframe thead th {\n",
       "        text-align: right;\n",
       "    }\n",
       "</style>\n",
       "<table border=\"1\" class=\"dataframe\">\n",
       "  <thead>\n",
       "    <tr style=\"text-align: right;\">\n",
       "      <th></th>\n",
       "      <th>Feature</th>\n",
       "      <th>Importance</th>\n",
       "      <th>Classifier</th>\n",
       "    </tr>\n",
       "  </thead>\n",
       "  <tbody>\n",
       "    <tr>\n",
       "      <th>0</th>\n",
       "      <td>hsa-miR-8073</td>\n",
       "      <td>0.156903</td>\n",
       "      <td>SVM</td>\n",
       "    </tr>\n",
       "    <tr>\n",
       "      <th>1</th>\n",
       "      <td>hsa-miR-6861-5p</td>\n",
       "      <td>-0.115643</td>\n",
       "      <td>SVM</td>\n",
       "    </tr>\n",
       "    <tr>\n",
       "      <th>2</th>\n",
       "      <td>hsa-miR-5100</td>\n",
       "      <td>0.029177</td>\n",
       "      <td>SVM</td>\n",
       "    </tr>\n",
       "    <tr>\n",
       "      <th>3</th>\n",
       "      <td>hsa-miR-8069</td>\n",
       "      <td>-0.163877</td>\n",
       "      <td>SVM</td>\n",
       "    </tr>\n",
       "    <tr>\n",
       "      <th>4</th>\n",
       "      <td>hsa-miR-6802-5p</td>\n",
       "      <td>-0.000026</td>\n",
       "      <td>SVM</td>\n",
       "    </tr>\n",
       "  </tbody>\n",
       "</table>\n",
       "</div>"
      ],
      "text/plain": [
       "           Feature  Importance Classifier\n",
       "0     hsa-miR-8073    0.156903        SVM\n",
       "1  hsa-miR-6861-5p   -0.115643        SVM\n",
       "2     hsa-miR-5100    0.029177        SVM\n",
       "3     hsa-miR-8069   -0.163877        SVM\n",
       "4  hsa-miR-6802-5p   -0.000026        SVM"
      ]
     },
     "execution_count": 15,
     "metadata": {},
     "output_type": "execute_result"
    }
   ],
   "source": [
    "combined_features.head()"
   ]
  },
  {
   "cell_type": "code",
   "execution_count": 16,
   "metadata": {},
   "outputs": [
    {
     "data": {
      "text/plain": [
       "(86, 3)"
      ]
     },
     "execution_count": 16,
     "metadata": {},
     "output_type": "execute_result"
    }
   ],
   "source": [
    "# remove duplicates\n",
    "combined_features = combined_features.drop_duplicates()\n",
    "combined_features.shape"
   ]
  },
  {
   "cell_type": "code",
   "execution_count": 17,
   "metadata": {},
   "outputs": [
    {
     "data": {
      "text/html": [
       "<div>\n",
       "<style scoped>\n",
       "    .dataframe tbody tr th:only-of-type {\n",
       "        vertical-align: middle;\n",
       "    }\n",
       "\n",
       "    .dataframe tbody tr th {\n",
       "        vertical-align: top;\n",
       "    }\n",
       "\n",
       "    .dataframe thead th {\n",
       "        text-align: right;\n",
       "    }\n",
       "</style>\n",
       "<table border=\"1\" class=\"dataframe\">\n",
       "  <thead>\n",
       "    <tr style=\"text-align: right;\">\n",
       "      <th></th>\n",
       "      <th>Feature</th>\n",
       "      <th>Importance</th>\n",
       "      <th>Classifier</th>\n",
       "    </tr>\n",
       "  </thead>\n",
       "  <tbody>\n",
       "    <tr>\n",
       "      <th>55</th>\n",
       "      <td>hsa-miR-663a</td>\n",
       "      <td>0.402287</td>\n",
       "      <td>XGBoost</td>\n",
       "    </tr>\n",
       "    <tr>\n",
       "      <th>44</th>\n",
       "      <td>hsa-miR-8073</td>\n",
       "      <td>0.246442</td>\n",
       "      <td>XGBoost</td>\n",
       "    </tr>\n",
       "    <tr>\n",
       "      <th>48</th>\n",
       "      <td>hsa-miR-6802-5p</td>\n",
       "      <td>0.243004</td>\n",
       "      <td>XGBoost</td>\n",
       "    </tr>\n",
       "    <tr>\n",
       "      <th>7</th>\n",
       "      <td>hsa-miR-6131</td>\n",
       "      <td>0.209003</td>\n",
       "      <td>SVM</td>\n",
       "    </tr>\n",
       "    <tr>\n",
       "      <th>35</th>\n",
       "      <td>hsa-miR-4734</td>\n",
       "      <td>0.206171</td>\n",
       "      <td>SVM</td>\n",
       "    </tr>\n",
       "  </tbody>\n",
       "</table>\n",
       "</div>"
      ],
      "text/plain": [
       "            Feature  Importance Classifier\n",
       "55     hsa-miR-663a    0.402287    XGBoost\n",
       "44     hsa-miR-8073    0.246442    XGBoost\n",
       "48  hsa-miR-6802-5p    0.243004    XGBoost\n",
       "7      hsa-miR-6131    0.209003        SVM\n",
       "35     hsa-miR-4734    0.206171        SVM"
      ]
     },
     "execution_count": 17,
     "metadata": {},
     "output_type": "execute_result"
    }
   ],
   "source": [
    "# order the features by importance\n",
    "combined_features.sort_values(by='Importance', ascending=False, inplace=True)\n",
    "combined_features.head()"
   ]
  },
  {
   "cell_type": "code",
   "execution_count": 18,
   "metadata": {},
   "outputs": [
    {
     "name": "stdout",
     "output_type": "stream",
     "text": [
      "hsa-miR-663a\n",
      "hsa-miR-8073\n",
      "hsa-miR-6802-5p\n",
      "hsa-miR-6131\n",
      "hsa-miR-4734\n",
      "hsa-miR-6746-5p\n",
      "hsa-miR-8073\n",
      "hsa-miR-4690-5p\n",
      "hsa-miR-4532\n",
      "hsa-miR-1469\n",
      "hsa-miR-4758-5p\n",
      "hsa-miR-642b-3p\n",
      "hsa-miR-4783-3p\n",
      "hsa-miR-6729-5p\n",
      "hsa-miR-1343-3p\n",
      "hsa-miR-1307-3p\n",
      "hsa-miR-663a\n",
      "hsa-miR-614\n",
      "hsa-miR-1238-5p\n",
      "hsa-miR-4706\n",
      "hsa-miR-197-5p\n",
      "hsa-miR-4734\n",
      "hsa-miR-92b-5p\n",
      "hsa-miR-5100\n",
      "hsa-miR-4690-5p\n",
      "hsa-miR-4687-5p\n",
      "hsa-miR-1260b\n",
      "hsa-miR-1233-5p\n",
      "hsa-miR-4730\n",
      "hsa-miR-4758-5p\n",
      "hsa-miR-92a-2-5p\n",
      "hsa-miR-1238-5p\n",
      "hsa-miR-1247-3p\n",
      "hsa-miR-8069\n",
      "hsa-miR-1228-5p\n",
      "hsa-miR-6805-5p\n",
      "hsa-miR-6131\n",
      "hsa-miR-6756-5p\n",
      "hsa-miR-5100\n",
      "hsa-miR-642b-3p\n",
      "hsa-miR-3917\n",
      "hsa-miR-6746-5p\n",
      "hsa-miR-8059\n",
      "hsa-miR-4419b\n",
      "hsa-miR-6729-5p\n",
      "hsa-miR-1469\n",
      "hsa-miR-1343-3p\n",
      "hsa-miR-1203\n",
      "hsa-miR-3940-5p\n",
      "hsa-miR-4706\n",
      "hsa-miR-197-5p\n",
      "hsa-miR-1307-3p\n",
      "hsa-miR-575\n",
      "hsa-miR-320a\n",
      "hsa-miR-4783-3p\n",
      "hsa-miR-6787-5p\n",
      "hsa-miR-6784-5p\n",
      "hsa-miR-6765-5p\n",
      "hsa-miR-614\n",
      "hsa-miR-6861-5p\n",
      "hsa-miR-4532\n",
      "hsa-miR-1233-5p\n",
      "hsa-miR-92b-5p\n",
      "hsa-miR-6802-5p\n",
      "hsa-miR-1247-3p\n",
      "hsa-miR-4687-5p\n",
      "hsa-miR-1260b\n",
      "hsa-miR-4419b\n",
      "hsa-miR-8059\n",
      "hsa-miR-6787-5p\n",
      "hsa-miR-3940-5p\n",
      "hsa-miR-320a\n",
      "hsa-miR-6769a-5p\n",
      "hsa-miR-575\n",
      "hsa-miR-6861-5p\n",
      "hsa-miR-4732-5p\n",
      "hsa-miR-6765-5p\n",
      "hsa-miR-6784-5p\n",
      "hsa-miR-6805-5p\n",
      "hsa-miR-8069\n",
      "hsa-miR-1203\n",
      "hsa-miR-6756-5p\n",
      "hsa-miR-92a-2-5p\n",
      "hsa-miR-1228-5p\n",
      "hsa-miR-3917\n",
      "hsa-miR-4730\n"
     ]
    }
   ],
   "source": [
    "# print all features on new line for easy copy-paste\n",
    "print('\\n'.join(combined_features['Feature'].values))"
   ]
  },
  {
   "cell_type": "code",
   "execution_count": 19,
   "metadata": {},
   "outputs": [],
   "source": [
    "# save this to CSV\n",
    "combined_features.to_csv('miRNA_disease_ranked.csv', index=False)"
   ]
  }
 ],
 "metadata": {
  "kernelspec": {
   "display_name": "myenv",
   "language": "python",
   "name": "python3"
  },
  "language_info": {
   "codemirror_mode": {
    "name": "ipython",
    "version": 3
   },
   "file_extension": ".py",
   "mimetype": "text/x-python",
   "name": "python",
   "nbconvert_exporter": "python",
   "pygments_lexer": "ipython3",
   "version": "3.10.8"
  }
 },
 "nbformat": 4,
 "nbformat_minor": 2
}
