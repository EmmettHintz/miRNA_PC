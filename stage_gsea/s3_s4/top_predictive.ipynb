{
 "cells": [
  {
   "cell_type": "code",
   "execution_count": 1,
   "metadata": {},
   "outputs": [],
   "source": [
    "import pandas as pd"
   ]
  },
  {
   "cell_type": "code",
   "execution_count": 2,
   "metadata": {},
   "outputs": [
    {
     "name": "stdout",
     "output_type": "stream",
     "text": [
      "features_s3_s4 shape:              Feature  Importance Classifier\n",
      "0       hsa-miR-1205    0.014710        SVM\n",
      "1   hsa-miR-29b-1-5p    0.027929        SVM\n",
      "2    hsa-miR-1250-5p    0.026690        SVM\n",
      "3       hsa-miR-4516    0.029116        SVM\n",
      "4   hsa-miR-6715b-5p    0.028758        SVM\n",
      "5    hsa-miR-520d-3p    0.017408        SVM\n",
      "6   hsa-miR-6769b-5p   -0.025761        SVM\n",
      "7       hsa-miR-3975    0.035176        SVM\n",
      "8    hsa-miR-548h-5p   -0.031199        SVM\n",
      "9    hsa-miR-4474-3p    0.019477        SVM\n",
      "10      hsa-miR-4511    0.025615        SVM\n",
      "11   hsa-miR-6756-5p    0.026932        SVM\n",
      "12   hsa-miR-1225-3p    0.024677        SVM\n",
      "13       hsa-miR-922    0.015371        SVM\n",
      "14   hsa-miR-6735-5p   -0.033987        SVM\n",
      "15   hsa-miR-6815-5p    0.020523        SVM\n",
      "16      hsa-miR-378c   -0.041755        SVM\n",
      "17   hsa-miR-4727-5p    0.015262        SVM\n",
      "18   hsa-miR-6734-3p    0.016781        SVM\n",
      "19    hsa-miR-512-5p    0.024845        SVM\n",
      "20    hsa-miR-105-3p    0.009332        SVM\n",
      "21      hsa-miR-4803    0.018157        SVM\n",
      "22   hsa-miR-5582-5p    0.019584        SVM\n",
      "23    hsa-miR-134-3p   -0.043620        SVM\n",
      "24    hsa-miR-139-3p    0.045384        SVM\n",
      "25  hsa-miR-548ah-5p    0.019331        SVM\n",
      "26      hsa-miR-1205    0.000000    XGBoost\n",
      "27  hsa-miR-29b-1-5p    0.041207    XGBoost\n",
      "28   hsa-miR-1250-5p    0.038798    XGBoost\n",
      "29      hsa-miR-4516    0.000000    XGBoost\n",
      "30  hsa-miR-6715b-5p    0.108662    XGBoost\n",
      "31   hsa-miR-520d-3p    0.033652    XGBoost\n",
      "32  hsa-miR-6769b-5p    0.074052    XGBoost\n",
      "33      hsa-miR-3975    0.000000    XGBoost\n",
      "34   hsa-miR-548h-5p    0.076006    XGBoost\n",
      "35   hsa-miR-4474-3p    0.083012    XGBoost\n",
      "36      hsa-miR-4511    0.122087    XGBoost\n",
      "37   hsa-miR-6756-5p    0.000000    XGBoost\n",
      "38   hsa-miR-1225-3p    0.066686    XGBoost\n",
      "39       hsa-miR-922    0.032392    XGBoost\n",
      "40   hsa-miR-6735-5p    0.000000    XGBoost\n",
      "41   hsa-miR-6815-5p    0.040082    XGBoost\n",
      "42      hsa-miR-378c    0.093427    XGBoost\n",
      "43   hsa-miR-4727-5p    0.000000    XGBoost\n",
      "44   hsa-miR-6734-3p    0.000000    XGBoost\n",
      "45    hsa-miR-512-5p    0.056085    XGBoost\n",
      "46    hsa-miR-105-3p    0.000000    XGBoost\n",
      "47      hsa-miR-4803    0.000000    XGBoost\n",
      "48   hsa-miR-5582-5p    0.086168    XGBoost\n",
      "49    hsa-miR-134-3p    0.000000    XGBoost\n",
      "50    hsa-miR-139-3p    0.047683    XGBoost\n",
      "51  hsa-miR-548ah-5p    0.000000    XGBoost\n"
     ]
    }
   ],
   "source": [
    "features_s3_s4 = pd.read_csv('./50_s3_s4.csv')\n",
    "# features_ctl_cancer = pd.read_csv('../GSEA/miRNA/50_ctl_c.csv')\n",
    "# features_benign_cancer = pd.read_csv('../GSEA/miRNA/50_b_c.csv')\n",
    "\n",
    "# print(f'ctl_benign shape: {features_ctl_benign.shape}')\n",
    "print(f'features_s3_s4 shape: {features_s3_s4}')\n",
    "# print(f'benign_cancer shape: {features_benign_cancer.shape}')"
   ]
  },
  {
   "cell_type": "code",
   "execution_count": 3,
   "metadata": {},
   "outputs": [
    {
     "name": "stdout",
     "output_type": "stream",
     "text": [
      "(52, 3)\n",
      "176\n"
     ]
    }
   ],
   "source": [
    "combined_features = pd.concat([features_s3_s4])\n",
    "print(combined_features.shape)\n",
    "print(90+86)"
   ]
  },
  {
   "cell_type": "code",
   "execution_count": 4,
   "metadata": {},
   "outputs": [
    {
     "data": {
      "text/html": [
       "<div>\n",
       "<style scoped>\n",
       "    .dataframe tbody tr th:only-of-type {\n",
       "        vertical-align: middle;\n",
       "    }\n",
       "\n",
       "    .dataframe tbody tr th {\n",
       "        vertical-align: top;\n",
       "    }\n",
       "\n",
       "    .dataframe thead th {\n",
       "        text-align: right;\n",
       "    }\n",
       "</style>\n",
       "<table border=\"1\" class=\"dataframe\">\n",
       "  <thead>\n",
       "    <tr style=\"text-align: right;\">\n",
       "      <th></th>\n",
       "      <th>Feature</th>\n",
       "      <th>Importance</th>\n",
       "      <th>Classifier</th>\n",
       "    </tr>\n",
       "  </thead>\n",
       "  <tbody>\n",
       "    <tr>\n",
       "      <th>0</th>\n",
       "      <td>hsa-miR-1205</td>\n",
       "      <td>0.014710</td>\n",
       "      <td>SVM</td>\n",
       "    </tr>\n",
       "    <tr>\n",
       "      <th>1</th>\n",
       "      <td>hsa-miR-29b-1-5p</td>\n",
       "      <td>0.027929</td>\n",
       "      <td>SVM</td>\n",
       "    </tr>\n",
       "    <tr>\n",
       "      <th>2</th>\n",
       "      <td>hsa-miR-1250-5p</td>\n",
       "      <td>0.026690</td>\n",
       "      <td>SVM</td>\n",
       "    </tr>\n",
       "    <tr>\n",
       "      <th>3</th>\n",
       "      <td>hsa-miR-4516</td>\n",
       "      <td>0.029116</td>\n",
       "      <td>SVM</td>\n",
       "    </tr>\n",
       "    <tr>\n",
       "      <th>4</th>\n",
       "      <td>hsa-miR-6715b-5p</td>\n",
       "      <td>0.028758</td>\n",
       "      <td>SVM</td>\n",
       "    </tr>\n",
       "  </tbody>\n",
       "</table>\n",
       "</div>"
      ],
      "text/plain": [
       "            Feature  Importance Classifier\n",
       "0      hsa-miR-1205    0.014710        SVM\n",
       "1  hsa-miR-29b-1-5p    0.027929        SVM\n",
       "2   hsa-miR-1250-5p    0.026690        SVM\n",
       "3      hsa-miR-4516    0.029116        SVM\n",
       "4  hsa-miR-6715b-5p    0.028758        SVM"
      ]
     },
     "execution_count": 4,
     "metadata": {},
     "output_type": "execute_result"
    }
   ],
   "source": [
    "combined_features.head()"
   ]
  },
  {
   "cell_type": "code",
   "execution_count": 5,
   "metadata": {},
   "outputs": [
    {
     "data": {
      "text/plain": [
       "(52, 3)"
      ]
     },
     "execution_count": 5,
     "metadata": {},
     "output_type": "execute_result"
    }
   ],
   "source": [
    "# remove duplicates\n",
    "combined_features = combined_features.drop_duplicates()\n",
    "combined_features.shape"
   ]
  },
  {
   "cell_type": "code",
   "execution_count": 6,
   "metadata": {},
   "outputs": [
    {
     "name": "stdout",
     "output_type": "stream",
     "text": [
      "hsa-miR-1205\n",
      "hsa-miR-29b-1-5p\n",
      "hsa-miR-1250-5p\n",
      "hsa-miR-4516\n",
      "hsa-miR-6715b-5p\n",
      "hsa-miR-520d-3p\n",
      "hsa-miR-6769b-5p\n",
      "hsa-miR-3975\n",
      "hsa-miR-548h-5p\n",
      "hsa-miR-4474-3p\n",
      "hsa-miR-4511\n",
      "hsa-miR-6756-5p\n",
      "hsa-miR-1225-3p\n",
      "hsa-miR-922\n",
      "hsa-miR-6735-5p\n",
      "hsa-miR-6815-5p\n",
      "hsa-miR-378c\n",
      "hsa-miR-4727-5p\n",
      "hsa-miR-6734-3p\n",
      "hsa-miR-512-5p\n",
      "hsa-miR-105-3p\n",
      "hsa-miR-4803\n",
      "hsa-miR-5582-5p\n",
      "hsa-miR-134-3p\n",
      "hsa-miR-139-3p\n",
      "hsa-miR-548ah-5p\n",
      "hsa-miR-1205\n",
      "hsa-miR-29b-1-5p\n",
      "hsa-miR-1250-5p\n",
      "hsa-miR-4516\n",
      "hsa-miR-6715b-5p\n",
      "hsa-miR-520d-3p\n",
      "hsa-miR-6769b-5p\n",
      "hsa-miR-3975\n",
      "hsa-miR-548h-5p\n",
      "hsa-miR-4474-3p\n",
      "hsa-miR-4511\n",
      "hsa-miR-6756-5p\n",
      "hsa-miR-1225-3p\n",
      "hsa-miR-922\n",
      "hsa-miR-6735-5p\n",
      "hsa-miR-6815-5p\n",
      "hsa-miR-378c\n",
      "hsa-miR-4727-5p\n",
      "hsa-miR-6734-3p\n",
      "hsa-miR-512-5p\n",
      "hsa-miR-105-3p\n",
      "hsa-miR-4803\n",
      "hsa-miR-5582-5p\n",
      "hsa-miR-134-3p\n",
      "hsa-miR-139-3p\n",
      "hsa-miR-548ah-5p\n"
     ]
    }
   ],
   "source": [
    "# print all features on new line for easy copy-paste\n",
    "print('\\n'.join(combined_features['Feature'].values))"
   ]
  },
  {
   "cell_type": "code",
   "execution_count": 7,
   "metadata": {},
   "outputs": [
    {
     "data": {
      "text/html": [
       "<div>\n",
       "<style scoped>\n",
       "    .dataframe tbody tr th:only-of-type {\n",
       "        vertical-align: middle;\n",
       "    }\n",
       "\n",
       "    .dataframe tbody tr th {\n",
       "        vertical-align: top;\n",
       "    }\n",
       "\n",
       "    .dataframe thead th {\n",
       "        text-align: right;\n",
       "    }\n",
       "</style>\n",
       "<table border=\"1\" class=\"dataframe\">\n",
       "  <thead>\n",
       "    <tr style=\"text-align: right;\">\n",
       "      <th></th>\n",
       "      <th>Feature</th>\n",
       "      <th>Importance</th>\n",
       "      <th>Classifier</th>\n",
       "    </tr>\n",
       "  </thead>\n",
       "  <tbody>\n",
       "    <tr>\n",
       "      <th>36</th>\n",
       "      <td>hsa-miR-4511</td>\n",
       "      <td>0.122087</td>\n",
       "      <td>XGBoost</td>\n",
       "    </tr>\n",
       "    <tr>\n",
       "      <th>30</th>\n",
       "      <td>hsa-miR-6715b-5p</td>\n",
       "      <td>0.108662</td>\n",
       "      <td>XGBoost</td>\n",
       "    </tr>\n",
       "    <tr>\n",
       "      <th>42</th>\n",
       "      <td>hsa-miR-378c</td>\n",
       "      <td>0.093427</td>\n",
       "      <td>XGBoost</td>\n",
       "    </tr>\n",
       "    <tr>\n",
       "      <th>48</th>\n",
       "      <td>hsa-miR-5582-5p</td>\n",
       "      <td>0.086168</td>\n",
       "      <td>XGBoost</td>\n",
       "    </tr>\n",
       "    <tr>\n",
       "      <th>35</th>\n",
       "      <td>hsa-miR-4474-3p</td>\n",
       "      <td>0.083012</td>\n",
       "      <td>XGBoost</td>\n",
       "    </tr>\n",
       "  </tbody>\n",
       "</table>\n",
       "</div>"
      ],
      "text/plain": [
       "             Feature  Importance Classifier\n",
       "36      hsa-miR-4511    0.122087    XGBoost\n",
       "30  hsa-miR-6715b-5p    0.108662    XGBoost\n",
       "42      hsa-miR-378c    0.093427    XGBoost\n",
       "48   hsa-miR-5582-5p    0.086168    XGBoost\n",
       "35   hsa-miR-4474-3p    0.083012    XGBoost"
      ]
     },
     "execution_count": 7,
     "metadata": {},
     "output_type": "execute_result"
    }
   ],
   "source": [
    "# order the features by importance\n",
    "combined_features.sort_values(by='Importance', ascending=False, inplace=True)\n",
    "combined_features.head()"
   ]
  },
  {
   "cell_type": "code",
   "execution_count": 8,
   "metadata": {},
   "outputs": [],
   "source": [
    "# save this to CSV\n",
    "combined_features.to_csv('miRNA_disease_ranked.csv', index=False)"
   ]
  }
 ],
 "metadata": {
  "kernelspec": {
   "display_name": "myenv",
   "language": "python",
   "name": "python3"
  },
  "language_info": {
   "codemirror_mode": {
    "name": "ipython",
    "version": 3
   },
   "file_extension": ".py",
   "mimetype": "text/x-python",
   "name": "python",
   "nbconvert_exporter": "python",
   "pygments_lexer": "ipython3",
   "version": "3.10.8"
  }
 },
 "nbformat": 4,
 "nbformat_minor": 2
}
